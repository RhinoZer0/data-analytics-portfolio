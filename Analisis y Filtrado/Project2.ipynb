{
 "cells": [
  {
   "cell_type": "markdown",
   "metadata": {
    "id": "UCjlyTyyJm9R"
   },
   "source": [
    "\n",
    "\n",
    "Todavía desempeñándote como miembro del equipo analítico, en el primer proyecto hemos sentado las bases para la segunda fase. ¡Hemos llegado! Ahora aplicarás técnicas avanzadas para extraer datos significativos, atendiendo a las crecientes necesidades del cliente."
   ]
  },
  {
   "cell_type": "markdown",
   "metadata": {
    "id": "4ZzATQthJm9Y"
   },
   "source": [
    "Como sabes, las empresas recopilan y almacenan datos de una forma particular. Store 1 quiere almacenar toda la información de sus clientes en una tabla.\n",
    "\n",
    "\n",
    "| user_id | user_name | user_age | purchase_category | spending_per_category |\n",
    "| --- | --- | --- | --- | --- |\n",
    "| '32415' | 'mike', 'reed' | 32 | 'electronics', 'sport', 'books' | 894, 213, 173 |\n",
    "| '31980' | 'kate', 'morgan' | 24 | 'clothes', 'shoes' | 439, 390 |\n",
    "\n",
    "En términos técnicos, una tabla es simplemente una lista anidada que contiene una sublista para cada usuario o usuaria.\n",
    "\n",
    "Store 1 ha creado una tabla de este tipo para sus usuarios. Está almacenada en la variable \"users\". Cada sublista contiene el ID del usuario, nombre y apellido, edad, categorías favoritas y el importe gastado en cada categoría."
   ]
  },
  {
   "cell_type": "markdown",
   "metadata": {
    "id": "EMQlsEYlxGET"
   },
   "source": [
    "-\t**user_id:** el identificador único para cada usuario.\n",
    "-\t**user_name:** el nombre de usuario.\n",
    "-\t**user_age:** la edad del usuario.\n",
    "-\t**fav_categories:** las categorías de artículos comprados por el usuario, como 'ELECTRONICS', 'SPORT', 'BOOKS', etc.\n",
    "-\t**total_spendings:** la lista de enteros que indican la cantidad gastada en cada una de sus categorías favoritas.\n"
   ]
  },
  {
   "cell_type": "code",
   "execution_count": 12,
   "metadata": {
    "id": "LfBCH4crxLOt"
   },
   "outputs": [],
   "source": [
    "users = [\n",
    "    ['32415', ' mike_reed ', 32.0, ['ELECTRONICS', 'SPORT', 'BOOKS'], [894, 213, 173]],\n",
    "    ['31980', 'kate morgan', 24.0, ['CLOTHES', 'BOOKS'], [439, 390]],\n",
    "    ['32156', ' john doe ', 37.0, ['ELECTRONICS', 'HOME', 'FOOD'], [459, 120, 99]],\n",
    "    ['32761', 'SAMANTHA SMITH', 29.0, ['CLOTHES', 'ELECTRONICS', 'BEAUTY'], [299, 679, 85]],\n",
    "    ['32984', 'David White', 41.0, ['BOOKS', 'HOME', 'SPORT'], [234, 329, 243]],\n",
    "    ['33001', 'emily brown', 26.0, ['BEAUTY', 'HOME', 'FOOD'], [213, 659, 79]],\n",
    "    ['33767', ' Maria Garcia', 33.0, ['CLOTHES', 'FOOD', 'BEAUTY'], [499, 189, 63]],\n",
    "    ['33912', 'JOSE MARTINEZ', 22.0, ['SPORT', 'ELECTRONICS', 'HOME'], [259, 549, 109]],\n",
    "    ['34009', 'lisa wilson ', 35.0, ['HOME', 'BOOKS', 'CLOTHES'], [329, 189, 329]],\n",
    "    ['34278', 'James Lee', 28.0, ['BEAUTY', 'CLOTHES', 'ELECTRONICS'], [189, 299, 579]],\n",
    "]\n"
   ]
  },
  {
   "cell_type": "markdown",
   "metadata": {
    "id": "vgnoxECvlWvr"
   },
   "source": [
    "# Paso 1\n",
    "\n",
    "En la última tarea de la primera parte de este proyecto escribiste código para:\n",
    "\n",
    "1. Eliminar todos los espacios iniciales y finales de los nombres, así como cualquier guion bajo.\n",
    "2. Convertir todas las edades en números enteros.\n",
    "3. Separar todos los nombres y apellidos en una sublista.\n",
    "\n",
    "Hagámoslo ahora una función para que podamos usarla para fijar a cualquier cliente. Nombra a tu función `clean_user`. Debe recibir una lista con toda la información del cliente (user_info), así como dos enteros. Uno de ellos señala el índice del nombre del cliente y el otro es el índice de la edad del cliente en la lista. Debe devolver la lista limpia después de aplicar todos los cambios anteriores. Pruébala llamándola, pasándole la lista `test_user[]` y luego muéstrala en pantalla.\n"
   ]
  },
  {
   "cell_type": "code",
   "execution_count": 13,
   "metadata": {
    "colab": {
     "base_uri": "https://localhost:8080/"
    },
    "id": "RN6LIlHelWvr",
    "outputId": "632ceadd-0f9a-46cf-91c1-b4bea53623d0"
   },
   "outputs": [
    {
     "name": "stdout",
     "output_type": "stream",
     "text": [
      "['32415', ['mike', 'reed'], 32, ['ELECTRONICS', 'SPORT', 'BOOKS'], [894, 213, 173]]\n"
     ]
    }
   ],
   "source": [
    "# define tu función aquí\n",
    "def clean_user(user_info,name_idx,age_idx):                    #describo la función con el nombre indicado y 3 parámetros\n",
    "    # Paso 1: elimina del nombre espacios iniciales y finales, así como guiones\n",
    "    user_name_1 = user_info[name_idx].strip().replace('_',' ') #uso métodos apilados para primero eliminar espacios en blanco al\n",
    "                                                               #al inicio y al final del string, después para reemplazar guiones bajos \n",
    "                                                               #por un espacio\n",
    "    # Paso 2: convierte la edad en entero\n",
    "    user_age_1 = int(user_info[age_idx])                       #convierto la variable user_age_1 a entero\n",
    "\n",
    "    # Paso 3: separa el nombre y el apellido en una sublista\n",
    "    user_name_1 = user_name_1.split()                          #uso .split() para separar el nombre y apellido, crear una lista nueva\n",
    "                                                               #de dos elementos y guardarla en la variable original user_name_1\n",
    "    \n",
    "    # Prepara la lista con la información completa del usuario\n",
    "    # Reemplaza el nombre y la edad originales con los datos limpios\n",
    "    user_info[name_idx] = user_name_1                          #guardo el nombre modificado en la lista original que recibió la función\n",
    "                                                               #indicando el mismo índice que también se recibió en la función\n",
    "    user_info[age_idx] = user_age_1                            #aplico el proceso de la línea anterior ahora para la edad\n",
    "\n",
    "    return user_info                                           #devuelvo como resultado la misma lista recibida por la función, \n",
    "                                                               #pero con los elementos modificados\n",
    "\n",
    "# Prueba la función\n",
    "test_user = ['32415', ' mike_reed ', 32.0, ['ELECTRONICS', 'SPORT', 'BOOKS'], [894, 213, 173]]\n",
    "name_index = 1\n",
    "age_index = 2\n",
    "\n",
    "print(clean_user(test_user,name_index,age_index)) # llamo a la función clean_user y le doy como argumentos test_user, name_index y age_index"
   ]
  },
  {
   "cell_type": "markdown",
   "metadata": {
    "id": "zF6ADQNLJm9W"
   },
   "source": [
    "# Paso 2\n",
    "\n",
    "Observa que todas las categorías favoritas están almacenadas en mayúsculas. Llena una nueva lista llamada `fav_categories_low` con las mismas categorías, pero en minúsculas, iterando sobre los valores en la lista `fav_categories`, modificándolos y luego añade los nuevos valores a la lista `fav_categories_low`. Como siempre, muestra el resultado final.\n"
   ]
  },
  {
   "cell_type": "code",
   "execution_count": 14,
   "metadata": {
    "colab": {
     "base_uri": "https://localhost:8080/"
    },
    "id": "Ltoq2LXjJm9W",
    "outputId": "5a05c845-8d3c-4890-8070-38ccb63dd5b4"
   },
   "outputs": [
    {
     "name": "stdout",
     "output_type": "stream",
     "text": [
      "['electronics', 'sport', 'books']\n"
     ]
    }
   ],
   "source": [
    "fav_categories = ['ELECTRONICS', 'SPORT', 'BOOKS']\n",
    "fav_categories_low = []\n",
    "\n",
    "# escribe tu código aquí\n",
    "for categorie in fav_categories:\n",
    "    fav_categories_low.append(categorie.lower())\n",
    "\n",
    "\n",
    "print(fav_categories_low)"
   ]
  },
  {
   "cell_type": "markdown",
   "metadata": {
    "id": "xhKqJwaqdrRu"
   },
   "source": [
    "# Paso 3\n",
    "\n",
    "Ahora hagamos lo mismo, pero para cada uno de los usuarios de la empresa. Llena una lista nueva llamada `users_categories_low` con los mismos usuarios, pero con sus categorías en minúsculas, iterando sobre los valores en la lista `users`, luego itera sobre los valores en `user_categories`, modificándolos, y después agrega los nuevos valores de usuarios a la lista `users_categories_low`. Como siempre, muestra el resultado final.\n"
   ]
  },
  {
   "cell_type": "code",
   "execution_count": 15,
   "metadata": {
    "colab": {
     "base_uri": "https://localhost:8080/"
    },
    "id": "uBfnDzZfdrR1",
    "outputId": "6e0b3a3b-c94e-4402-a9d1-dc88fe07256e"
   },
   "outputs": [
    {
     "name": "stdout",
     "output_type": "stream",
     "text": [
      "[['32415', ' mike_reed ', 32.0, ['electronics', 'sport', 'books'], [894, 213, 173]], ['31980', 'kate morgan', 24.0, ['clothes', 'books'], [439, 390]], ['32156', ' john doe ', 37.0, ['electronics', 'home', 'food'], [459, 120, 99]], ['32761', 'SAMANTHA SMITH', 29.0, ['clothes', 'electronics', 'beauty'], [299, 679, 85]], ['32984', 'David White', 41.0, ['books', 'home', 'sport'], [234, 329, 243]], ['33001', 'emily brown', 26.0, ['beauty', 'home', 'food'], [213, 659, 79]], ['33767', ' Maria Garcia', 33.0, ['clothes', 'food', 'beauty'], [499, 189, 63]], ['33912', 'JOSE MARTINEZ', 22.0, ['sport', 'electronics', 'home'], [259, 549, 109]], ['34009', 'lisa wilson ', 35.0, ['home', 'books', 'clothes'], [329, 189, 329]], ['34278', 'James Lee', 28.0, ['beauty', 'clothes', 'electronics'], [189, 299, 579]]]\n"
     ]
    }
   ],
   "source": [
    "users = [\n",
    "    ['32415', ' mike_reed ', 32.0, ['ELECTRONICS', 'SPORT', 'BOOKS'], [894, 213, 173]],\n",
    "    ['31980', 'kate morgan', 24.0, ['CLOTHES', 'BOOKS'], [439, 390]],\n",
    "    ['32156', ' john doe ', 37.0, ['ELECTRONICS', 'HOME', 'FOOD'], [459, 120, 99]],\n",
    "    ['32761', 'SAMANTHA SMITH', 29.0, ['CLOTHES', 'ELECTRONICS', 'BEAUTY'], [299, 679, 85]],\n",
    "    ['32984', 'David White', 41.0, ['BOOKS', 'HOME', 'SPORT'], [234, 329, 243]],\n",
    "    ['33001', 'emily brown', 26.0, ['BEAUTY', 'HOME', 'FOOD'], [213, 659, 79]],\n",
    "    ['33767', ' Maria Garcia', 33.0, ['CLOTHES', 'FOOD', 'BEAUTY'], [499, 189, 63]],\n",
    "    ['33912', 'JOSE MARTINEZ', 22.0, ['SPORT', 'ELECTRONICS', 'HOME'], [259, 549, 109]],\n",
    "    ['34009', 'lisa wilson ', 35.0, ['HOME', 'BOOKS', 'CLOTHES'], [329, 189, 329]],\n",
    "    ['34278', 'James Lee', 28.0, ['BEAUTY', 'CLOTHES', 'ELECTRONICS'], [189, 299, 579]],\n",
    "]\n",
    "\n",
    "#este es parte del código original del ejercicio. Con esta secuencia NO se modifica la lista original users\n",
    "#users_categories_low = []\n",
    "#for user in users:                             #itera en la lista original users\n",
    "#    categories_low = []                        #lista temporal que se limpia en cada iteración del bucle anterior\n",
    "#    for category in user[3]:                   #itera en la sublista de categorías del usuario actual del bucle anterior\n",
    "#        lowered_category = category.lower()    #convierte a minúsculas la categoría actual del bucle\n",
    "#        categories_low.append(lowered_category)#añade la categoría en minúsculas al final de la lista temporal categories_low    \n",
    "#    users_categories_low.append([user[0],user[1],user[2],categories_low,user[4]])#añade una lista compuesta de elementos de la\n",
    "                                                                                  #lista original users y la nueva lista con\n",
    "                                                                                  #las categorías en minúsculas\n",
    "\n",
    "#este bloque lo escribí después de leer las pistas. Con esta secuencia SÍ se modifica la lista original\n",
    "users_categories_low2 = []\n",
    "for user in users:                               #itera en la lista original users                     \n",
    "    categories_low2 = []                         #lista temporal que se limpia en cada iteración del bucle anterior\n",
    "    for category in user[3]:                     #itera en la sublista de categorías del usuario actual del bucle anterior\n",
    "        lowered_category = category.lower()      #convierte a minúsculas la categoría actual del bucle\n",
    "        categories_low2.append(lowered_category) #añade la categoría en minúsculas al final de la lista temporal categories_low2    \n",
    "    user.pop(3)                                  #elimina el elemento lista de categorías del usuario actual del primer bucle\n",
    "    user.insert(3,categories_low2)               #inserta la nueva lista de categorías creada en el segundo bucle, en la lista\n",
    "                                                 #original users en la posición de la lista borrada en la línea anterior\n",
    "    users_categories_low2.append(user)           #añade el usuario actual de users ya modificado, al final de la nueva lista \n",
    "                                                 #users_categories_low2\n",
    "\n",
    "#print(users_categories_low)\n",
    "#print(users)\n",
    "print(users_categories_low2)"
   ]
  },
  {
   "cell_type": "markdown",
   "metadata": {
    "id": "uisdgp0or8rS"
   },
   "source": [
    "# Paso 4\n",
    "\n",
    "Ahora, completemos el código de nuestra función `clean_user` para limpiar la categoría:\n",
    "1. Añade otro parámetro con el índice de categorías.\n",
    "2. Pon todos los nombres en minúsculas antes de aplicar \"strip\" y \"replace\".\n",
    "\n",
    "Después, crea un bucle y aplica tu función a toda la lista de usuarios, agregando tus resultados a la lista `users_clean`. Después muéstralo"
   ]
  },
  {
   "cell_type": "code",
   "execution_count": 16,
   "metadata": {
    "colab": {
     "base_uri": "https://localhost:8080/"
    },
    "id": "ioGD_Cs5r8ra",
    "outputId": "fddb59df-a686-4270-9a01-1803d53a0da9"
   },
   "outputs": [
    {
     "name": "stdout",
     "output_type": "stream",
     "text": [
      "[['32415', ['mike', 'reed'], 32, ['electronics', 'sport', 'books'], [894, 213, 173]], ['31980', ['kate', 'morgan'], 24, ['clothes', 'books'], [439, 390]], ['32156', ['john', 'doe'], 37, ['electronics', 'home', 'food'], [459, 120, 99]], ['32761', ['samantha', 'smith'], 29, ['clothes', 'electronics', 'beauty'], [299, 679, 85]], ['32984', ['david', 'white'], 41, ['books', 'home', 'sport'], [234, 329, 243]], ['33001', ['emily', 'brown'], 26, ['beauty', 'home', 'food'], [213, 659, 79]], ['33767', ['maria', 'garcia'], 33, ['clothes', 'food', 'beauty'], [499, 189, 63]], ['33912', ['jose', 'martinez'], 22, ['sport', 'electronics', 'home'], [259, 549, 109]], ['34009', ['lisa', 'wilson'], 35, ['home', 'books', 'clothes'], [329, 189, 329]], ['34278', ['james', 'lee'], 28, ['beauty', 'clothes', 'electronics'], [189, 299, 579]]]\n"
     ]
    }
   ],
   "source": [
    "def clean_user(user_info, name_index, age_index, cat_index):\n",
    "\n",
    "  # Paso 1: pon todo en minúsculas y elimina del nombre espacios iniciales y finales, así como guiones\n",
    "    user_name_1 = user_info[name_index].lower().strip().replace('_',' ')   #uso métodos apilados para modificar el nombre \n",
    "\n",
    "  # Paso 2: convierte la edad en entero\n",
    "    user_age_1 = int(user_info[age_index])      #convierto la edad a entero\n",
    "\n",
    "  # Paso 3: separa el nombre y el apellido en una sublista\n",
    "    user_name_1 = user_name_1.split()          \n",
    "    user_info[name_index] = user_name_1         #guardo la nueva sublista con nombre y apellido modificados en la lista recibida user_info\n",
    "    user_info[age_index] = user_age_1           #guardo la nueva edad en la lista recibida user_info\n",
    "    \n",
    "    categories_low = []\n",
    "    for category in user_info[3]:                #itera en la sublista de categorías del usuario actual user_info\n",
    "        lowered_category = category.lower()      #convierte a minúsculas la categoría actual del bucle\n",
    "        categories_low.append(lowered_category)  #añade la categoría en minúsculas al final de la lista temporal categories_low    \n",
    "    user_info.pop(3)                             #elimina el elemento lista de categorías del usuario actual user_info    \n",
    "    user_info.insert(3,categories_low)           #inserta la nueva lista de categorías en el lugar de la lista de categorías que se eliminó\n",
    "  \n",
    "    return user_info                             #devuelve la lista user_info\n",
    "\n",
    "\n",
    "users = [\n",
    "    ['32415', ' mike_reed ', 32.0, ['ELECTRONICS', 'SPORT', 'BOOKS'], [894, 213, 173]],\n",
    "    ['31980', 'kate morgan', 24.0, ['CLOTHES', 'BOOKS'], [439, 390]],\n",
    "    ['32156', ' john doe ', 37.0, ['ELECTRONICS', 'HOME', 'FOOD'], [459, 120, 99]],\n",
    "    ['32761', 'SAMANTHA SMITH', 29.0, ['CLOTHES', 'ELECTRONICS', 'BEAUTY'], [299, 679, 85]],\n",
    "    ['32984', 'David White', 41.0, ['BOOKS', 'HOME', 'SPORT'], [234, 329, 243]],\n",
    "    ['33001', 'emily brown', 26.0, ['BEAUTY', 'HOME', 'FOOD'], [213, 659, 79]],\n",
    "    ['33767', ' Maria Garcia', 33.0, ['CLOTHES', 'FOOD', 'BEAUTY'], [499, 189, 63]],\n",
    "    ['33912', 'JOSE MARTINEZ', 22.0, ['SPORT', 'ELECTRONICS', 'HOME'], [259, 549, 109]],\n",
    "    ['34009', 'lisa wilson ', 35.0, ['HOME', 'BOOKS', 'CLOTHES'], [329, 189, 329]],\n",
    "    ['34278', 'James Lee', 28.0, ['BEAUTY', 'CLOTHES', 'ELECTRONICS'], [189, 299, 579]],\n",
    "]\n",
    "\n",
    "name_index = 1\n",
    "age_index = 2\n",
    "cat_index = 3\n",
    "users_cleaned = []\n",
    "\n",
    "for user in users:                                                 #itera en las filas de la lista users\n",
    "    user_cleaned = clean_user(user,name_index,age_index,cat_index) #llama a la función clean_user y le envía como parámetros la fila      \n",
    "                                                                   #actual de users y los índices de sus elementos, el resultado se guarda\n",
    "                                                                   #en la variable user_cleaned\n",
    "    users_cleaned.append(user_cleaned)                             #la lista devuelta por la función se añade al final de la\n",
    "                                                                   #nueva lista users_cleaned\n",
    "\n",
    "print(users_cleaned)                                                 "
   ]
  },
  {
   "cell_type": "markdown",
   "metadata": {
    "id": "eONfrv9nJm9Y"
   },
   "source": [
    "# Paso 5\n",
    "\n",
    "La empresa desea conocer sus ingresos totales y te pide que proporciones este valor.\n",
    "Para calcular los ingresos de la empresa, sigue estos pasos:\n",
    "\n",
    "1. Utiliza `for` para iterar sobre la lista `users`.\n",
    "2. Extrae la lista de gastos de cada usuario y suma los valores.\n",
    "3. Actualiza el valor de los ingresos con el total de cada usuario.\n",
    "\n",
    "Así obtendrás los ingresos totales de la empresa que mostrarás en la pantalla al final.\n"
   ]
  },
  {
   "cell_type": "code",
   "execution_count": 17,
   "metadata": {
    "colab": {
     "base_uri": "https://localhost:8080/"
    },
    "id": "ijzboKgoJm9Y",
    "outputId": "9aad5fe8-55ec-475b-9b40-afc590ae05e6"
   },
   "outputs": [
    {
     "name": "stdout",
     "output_type": "stream",
     "text": [
      "9189\n"
     ]
    }
   ],
   "source": [
    "users = [['32415', ['mike', 'reed'], 32, ['electronics', 'sport', 'books'], [894, 213, 173]],\n",
    "         ['31980', ['kate', 'morgan'], 24, ['clothes', 'books'], [439, 390]],\n",
    "         ['32156', ['john', 'doe'], 37, ['electronics', 'home', 'food'], [459, 120, 99]],\n",
    "         ['32761', ['samantha', 'smith'], 29, ['clothes', 'electronics', 'beauty'], [299, 679, 85]],\n",
    "         ['32984', ['david', 'white'], 41, ['books', 'home', 'sport'], [234, 329, 243]],\n",
    "         ['33001', ['emily', 'brown'], 26, ['beauty', 'home', 'food'], [213, 659, 79]],\n",
    "         ['33767', ['maria', 'garcia'], 33, ['clothes', 'food', 'beauty'], [499, 189, 63]],\n",
    "         ['33912', ['jose', 'martinez'], 22, ['sport', 'electronics', 'home'], [259, 549, 109]],\n",
    "         ['34009', ['lisa', 'wilson'], 35, ['home', 'books', 'clothes'], [329, 189, 329]],\n",
    "         ['34278', ['james', 'lee'], 28, ['beauty', 'clothes', 'electronics'], [189, 299, 579]]]\n",
    "\n",
    "revenue = 0\n",
    "\n",
    "for user in users:                 #itera las filas de la lista users\n",
    "    revenue  += sum(user[4])       #extrae la sublista de gastos de users, hace la suma de sus elemenetos y los suma a revenue\n",
    "                                   #en cada iteración\n",
    "    #print(revenue)\n",
    "\n",
    "print(revenue)"
   ]
  },
  {
   "cell_type": "markdown",
   "metadata": {
    "id": "R1wNYes8Jm9X"
   },
   "source": [
    "# Paso 6\n",
    "\n",
    "La empresa quiere ofrecer descuentos a sus clientes leales. Los clientes que realizan compras por un importe total mayor a $1500 se consideran leales y recibirán un descuento.\n",
    "\n",
    "Nuestro objetivo es crear un bucle `while` que compruebe el importe total gastado y se detenga al alcanzarlo. Para simular nuevas compras, la variable `new_purchase` genera un número entre 30 y 80 en cada iteración del bucle. Esto representa la cantidad de dinero gastada en una nueva compra y es lo que debes agregar al total.\n",
    "\n",
    "Una vez que se alcance el importe objetivo y se termine el bucle `while`, se mostrará la cantidad final.\n"
   ]
  },
  {
   "cell_type": "code",
   "execution_count": 18,
   "metadata": {
    "colab": {
     "base_uri": "https://localhost:8080/"
    },
    "id": "eVBfoyx7Jm9X",
    "outputId": "27091cb5-f5f4-4b74-f92a-c2d822354a40"
   },
   "outputs": [
    {
     "name": "stdout",
     "output_type": "stream",
     "text": [
      "1523\n"
     ]
    }
   ],
   "source": [
    "from random import randint\n",
    "\n",
    "total_amount_spent = 1280\n",
    "target_amount = 1500\n",
    "\n",
    "while total_amount_spent < target_amount:# escribe tu código aquí\n",
    "    new_purchase = randint(30, 80) # generamos un número aleatorio de 30 a 80\n",
    "    total_amount_spent += new_purchase # escribe tu código aquí\n",
    "\n",
    "print(total_amount_spent)"
   ]
  },
  {
   "cell_type": "markdown",
   "metadata": {
    "id": "IoyNnalCJm9Z"
   },
   "source": [
    "# Paso 7\n",
    "\n",
    "Recorre la lista de usuarios que te hemos proporcionado y muestra los nombres de los clientes menores de 30 años.\n"
   ]
  },
  {
   "cell_type": "code",
   "execution_count": 19,
   "metadata": {
    "colab": {
     "base_uri": "https://localhost:8080/"
    },
    "id": "pn5WkcpJJm9Z",
    "outputId": "e95fe449-868e-4a89-f9e6-6e3c7b62bd80"
   },
   "outputs": [
    {
     "name": "stdout",
     "output_type": "stream",
     "text": [
      "kate\n",
      "samantha\n",
      "emily\n",
      "jose\n",
      "james\n"
     ]
    }
   ],
   "source": [
    "users = [['32415', ['mike', 'reed'], 32, ['electronics', 'sport', 'books'], [894, 213, 173]],\n",
    "         ['31980', ['kate', 'morgan'], 24, ['clothes', 'books'], [439, 390]],\n",
    "         ['32156', ['john', 'doe'], 37, ['electronics', 'home', 'food'], [459, 120, 99]],\n",
    "         ['32761', ['samantha', 'smith'], 29, ['clothes', 'electronics', 'beauty'], [299, 679, 85]],\n",
    "         ['32984', ['david', 'white'], 41, ['books', 'home', 'sport'], [234, 329, 243]],\n",
    "         ['33001', ['emily', 'brown'], 26, ['beauty', 'home', 'food'], [213, 659, 79]],\n",
    "         ['33767', ['maria', 'garcia'], 33, ['clothes', 'food', 'beauty'], [499, 189, 63]],\n",
    "         ['33912', ['jose', 'martinez'], 22, ['sport', 'electronics', 'home'], [259, 549, 109]],\n",
    "         ['34009', ['lisa', 'wilson'], 35, ['home', 'books', 'clothes'], [329, 189, 329]],\n",
    "         ['34278', ['james', 'lee'], 28, ['beauty', 'clothes', 'electronics'], [189, 299, 579]]]\n",
    "\n",
    "\n",
    "# escribe tu código aquí\n",
    "for user in users:          #itera en la filas de la lista users\n",
    "    if user[2] < 30:        #comprueba si la edad es menor a 30\n",
    "        print(user[1][0])   #imprime el elemento 0 (nombre) de la sublista nombre-apellido"
   ]
  },
  {
   "cell_type": "markdown",
   "metadata": {
    "id": "0ok38JMoJm9Z"
   },
   "source": [
    "# Paso 8\n",
    "\n",
    "Mostremos en pantalla los nombres de los usuarios menores de 30 años que acumulan un gasto total superior a 1000 dólares.\n"
   ]
  },
  {
   "cell_type": "code",
   "execution_count": 20,
   "metadata": {
    "colab": {
     "base_uri": "https://localhost:8080/"
    },
    "id": "4oAW1QDFJm9Z",
    "outputId": "c514027b-62cc-42bd-a8bb-d29975abd663"
   },
   "outputs": [
    {
     "name": "stdout",
     "output_type": "stream",
     "text": [
      "samantha\n",
      "james\n"
     ]
    }
   ],
   "source": [
    "users = [['32415', ['mike', 'reed'], 32, ['electronics', 'sport', 'books'], [894, 213, 173]],\n",
    "         ['31980', ['kate', 'morgan'], 24, ['clothes', 'books'], [439, 390]],\n",
    "         ['32156', ['john', 'doe'], 37, ['electronics', 'home', 'food'], [459, 120, 99]],\n",
    "         ['32761', ['samantha', 'smith'], 29, ['clothes', 'electronics', 'beauty'], [299, 679, 85]],\n",
    "         ['32984', ['david', 'white'], 41, ['books', 'home', 'sport'], [234, 329, 243]],\n",
    "         ['33001', ['emily', 'brown'], 26, ['beauty', 'home', 'food'], [213, 659, 79]],\n",
    "         ['33767', ['maria', 'garcia'], 33, ['clothes', 'food', 'beauty'], [499, 189, 63]],\n",
    "         ['33912', ['jose', 'martinez'], 22, ['sport', 'electronics', 'home'], [259, 549, 109]],\n",
    "         ['34009', ['lisa', 'wilson'], 35, ['home', 'books', 'clothes'], [329, 189, 329]],\n",
    "         ['34278', ['james', 'lee'], 28, ['beauty', 'clothes', 'electronics'], [189, 299, 579]]]\n",
    "\n",
    "# escribe tu código aquí\n",
    "for user in users:                    #itera en la filas de la lista users\n",
    "    if user[2] < 30:                  #comprueba si la edad es menor a 30\n",
    "        total_spent = sum(user[4])    #calcula la suma total de los gastos\n",
    "        if total_spent > 1000:        #comprueba si la suma de gastos es mayor a 1000\n",
    "            print(user[1][0])         #entonces imprime el elemento 0 (nombre) de la sublista nombre-apellido"
   ]
  },
  {
   "cell_type": "markdown",
   "metadata": {
    "id": "H2jI5ljVJm9d"
   },
   "source": [
    "# Paso 9\n",
    "\n",
    "Ahora vamos a mostrar el nombre y la edad de todos los usuarios y todas las usuarias que han comprado ropa (\"clothes\"). Imprime el nombre y la edad en la misma declaración print.\n"
   ]
  },
  {
   "cell_type": "code",
   "execution_count": 21,
   "metadata": {
    "colab": {
     "base_uri": "https://localhost:8080/"
    },
    "id": "oSLk86udJm9d",
    "outputId": "5c323307-6591-4af9-c2d2-529a329367d6"
   },
   "outputs": [
    {
     "name": "stdout",
     "output_type": "stream",
     "text": [
      "kate 24\n",
      "samantha 29\n",
      "maria 33\n",
      "lisa 35\n",
      "james 28\n"
     ]
    }
   ],
   "source": [
    "users = [['32415', ['mike', 'reed'], 32, ['electronics', 'sport', 'books'], [894, 213, 173]],\n",
    "         ['31980', ['kate', 'morgan'], 24, ['clothes', 'books'], [439, 390]],\n",
    "         ['32156', ['john', 'doe'], 37, ['electronics', 'home', 'food'], [459, 120, 99]],\n",
    "         ['32761', ['samantha', 'smith'], 29, ['clothes', 'electronics', 'beauty'], [299, 679, 85]],\n",
    "         ['32984', ['david', 'white'], 41, ['books', 'home', 'sport'], [234, 329, 243]],\n",
    "         ['33001', ['emily', 'brown'], 26, ['beauty', 'home', 'food'], [213, 659, 79]],\n",
    "         ['33767', ['maria', 'garcia'], 33, ['clothes', 'food', 'beauty'], [499, 189, 63]],\n",
    "         ['33912', ['jose', 'martinez'], 22, ['sport', 'electronics', 'home'], [259, 549, 109]],\n",
    "         ['34009', ['lisa', 'wilson'], 35, ['home', 'books', 'clothes'], [329, 189, 329]],\n",
    "         ['34278', ['james', 'lee'], 28, ['beauty', 'clothes', 'electronics'], [189, 299, 579]]]\n",
    "\n",
    "# escribe tu código aquí\n",
    "for user in users:                    #itera en la filas de la lista users\n",
    "    for categorie in user[3]:         #itera en la sublista categorias (user[3])\n",
    "        if categorie == 'clothes':    #comprueba si la categoría es 'clothes'\n",
    "            print(user[1][0],user[2]) #entonces imprime el elemento 0 (nombre) de la sublista nombre-apellido y la edad"
   ]
  },
  {
   "cell_type": "markdown",
   "metadata": {
    "id": "88QES-0NJzCJ"
   },
   "source": [
    "# Paso 10\n",
    "\n",
    "La dirección requiere de una función que proporcione información sobre los clientes, incluyendo sus nombres, edades y gasto total, filtrada por categorías específicas. Con base en fragmentos de código anteriores, crearemos una función llamada `get_client_by_cat` con las siguientes especificaciones:\n",
    "\n",
    "1. **Parámetros:**\n",
    "   - **users:** una lista con los datos de los usuarios.\n",
    "   - **id_index:** el índice donde está almacenado el ID del cliente en la lista de usuarios.\n",
    "   - **name_index:** el índice donde está almacenado el nombre del cliente en la lista de usuarios.\n",
    "   - **age_index:** el índice donde la edad del cliente está almacenada en la lista de usuarios.\n",
    "   - **category_index:** el índice donde las categorías de compras del cliente están listadas.\n",
    "   - **amounts_index:** el índice donde las cantidades gastadas en cada categoría están almacenadas.\n",
    "   - **filter_category:** un string que representa el nombre de la categoría para filtrar clientes.\n",
    "\n",
    "2. **Salida:**\n",
    "   - La función devuelve una lista de sublistas. Cada sublista contiene:\n",
    "     - El número ID del cliente.\n",
    "     - Una sublista con el nombre y apellido del cliente.\n",
    "     - La edad del cliente.\n",
    "     - Un entero que representa la cantidad total gastada por el cliente.\n",
    "\n",
    "Por ejemplo, si llamas a la función con los siguientes parámetros:\n",
    "\n",
    "\n",
    "```python\n",
    "get_client_by_cat([\n",
    "    ['32415', ['mike', 'reed'], 32, ['electronics', 'sport', 'books'], [894, 213, 173]]\n",
    "], 0, 1, 2, 3, 4, 'books')\n",
    "```\n",
    "\n",
    "La salida será:\n",
    "\n",
    "```python\n",
    "[['32415', ['mike', 'reed'], 32, 1280]]\n",
    "```\n",
    "\n",
    "Esta salida muestra que el cliente con el ID '32415', llamado Mike Reed, de 32 años, gastó un total de 1280 en la categoría 'books' y otras compras.\n",
    "\n",
    "Después de hacer tu función, llámala pasándole nuestra lista de usuarios, los índices adecuados y la categoría 'home' y muestra en pantalla la lista que resulta.\n",
    "\n"
   ]
  },
  {
   "cell_type": "code",
   "execution_count": 22,
   "metadata": {
    "colab": {
     "base_uri": "https://localhost:8080/"
    },
    "id": "-Iqf7AcXJzCP",
    "outputId": "ab62869b-a028-4096-9553-e0a5b5a8c92e"
   },
   "outputs": [
    {
     "name": "stdout",
     "output_type": "stream",
     "text": [
      "[['32156', ['john', 'doe'], 37, 678], ['32984', ['david', 'white'], 41, 806], ['33001', ['emily', 'brown'], 26, 951], ['33912', ['jose', 'martinez'], 22, 917], ['34009', ['lisa', 'wilson'], 35, 847]]\n"
     ]
    }
   ],
   "source": [
    "def get_client_by_cat(users,id_index,name_index,age_index,category_index,amounts_index,filter_category):\n",
    "    filtered_user=[]                                                   #creo una lista vacía\n",
    "    for categorie in users[3]:                                         #itera en la sublista de categorías (users[3])\n",
    "        total_spent=0                                                  #creo una variable para guardar la suma de gastos\n",
    "        if categorie == filter_category:                               #comrpuebo si la categoria en la iteración actual corresponde al parámetro recibido filter_category\n",
    "            total_spent = sum(users[4])                                #sólo si hay coincidencia en alguna de las iteraciones, calculo la suma de los gastos\n",
    "            filtered_user = [users[0],users[1],users[2],total_spent]   #sólo si hay coincidencia en alguna de las iteraciones, lleno la lista vacía con los nuevos elementos\n",
    "            return filtered_user                                       #devuelvo la lista con los nuevos elementos\n",
    "        \n",
    "        \n",
    "\n",
    "# La lista de usuarios\n",
    "users = [\n",
    "    ['32415', ['mike', 'reed'], 32, ['electronics', 'sport', 'books'], [894, 213, 173]],\n",
    "    ['31980', ['kate', 'morgan'], 24, ['clothes', 'books'], [439, 390]],\n",
    "    ['32156', ['john', 'doe'], 37, ['electronics', 'home', 'food'], [459, 120, 99]],\n",
    "    ['32761', ['samantha', 'smith'], 29, ['clothes', 'electronics', 'beauty'], [299, 679, 85]],\n",
    "    ['32984', ['david', 'white'], 41, ['books', 'home', 'sport'], [234, 329, 243]],\n",
    "    ['33001', ['emily', 'brown'], 26, ['beauty', 'home', 'food'], [213, 659, 79]],\n",
    "    ['33767', ['maria', 'garcia'], 33, ['clothes', 'food', 'beauty'], [499, 189, 63]],\n",
    "    ['33912', ['jose', 'martinez'], 22, ['sport', 'electronics', 'home'], [259, 549, 109]],\n",
    "    ['34009', ['lisa', 'wilson'], 35, ['home', 'books', 'clothes'], [329, 189, 329]],\n",
    "    ['34278', ['james', 'lee'], 28, ['beauty', 'clothes', 'electronics'], [189, 299, 579]]\n",
    "]\n",
    "\n",
    "# Llama a la función con la categoría 'home'\n",
    "id_index=0\n",
    "name_index=1\n",
    "age_index=2\n",
    "category_index=3\n",
    "amounts_index=4\n",
    "filter_category='home'\n",
    "new_list=[]\n",
    "\n",
    "for user in users:           #itero en las filas de la lista users\n",
    "    result = get_client_by_cat(user,id_index,name_index,age_index,category_index,amounts_index,filter_category) #llamo a la función con los parámetros declarados antes\n",
    "    if result != None:       #si el resultado que devuelve la función es diferente de None (SÍ hubo coincidencia de categorías en la fila iterada contra el filtro configurado)\n",
    "        new_list.append(result) #entonces agrega la lista devuelta por la función a new_list que guardará todas las filas que coincidieron\n",
    "        \n",
    "# Muestra en pantalla la lista que resulta\n",
    "print(new_list)\n"
   ]
  }
 ],
 "metadata": {
  "ExecuteTimeLog": [
   {
    "duration": 13,
    "start_time": "2024-08-21T20:55:37.406Z"
   },
   {
    "duration": 7,
    "start_time": "2024-08-21T20:55:46.278Z"
   },
   {
    "duration": 9,
    "start_time": "2024-08-21T20:56:34.100Z"
   },
   {
    "duration": 6,
    "start_time": "2024-08-21T20:56:39.128Z"
   },
   {
    "duration": 7,
    "start_time": "2024-08-21T20:56:52.544Z"
   },
   {
    "duration": 8,
    "start_time": "2024-08-21T20:57:06.695Z"
   },
   {
    "duration": 7,
    "start_time": "2024-08-21T20:58:28.143Z"
   },
   {
    "duration": 7,
    "start_time": "2024-08-21T20:58:37.972Z"
   },
   {
    "duration": 7,
    "start_time": "2024-08-21T20:58:46.442Z"
   },
   {
    "duration": 7,
    "start_time": "2024-08-21T20:58:59.649Z"
   },
   {
    "duration": 8,
    "start_time": "2024-08-21T21:05:47.659Z"
   },
   {
    "duration": 358,
    "start_time": "2024-08-21T21:07:36.678Z"
   },
   {
    "duration": 23,
    "start_time": "2024-08-21T21:08:41.140Z"
   },
   {
    "duration": 5,
    "start_time": "2024-08-21T21:09:41.484Z"
   },
   {
    "duration": 5,
    "start_time": "2024-08-21T21:10:27.930Z"
   },
   {
    "duration": 5,
    "start_time": "2024-08-21T21:11:07.882Z"
   },
   {
    "duration": 5,
    "start_time": "2024-08-21T21:11:17.487Z"
   },
   {
    "duration": 24,
    "start_time": "2024-08-21T21:11:46.142Z"
   },
   {
    "duration": 6,
    "start_time": "2024-08-21T21:13:19.314Z"
   },
   {
    "duration": 6,
    "start_time": "2024-08-21T21:21:26.896Z"
   },
   {
    "duration": 32,
    "start_time": "2024-08-21T21:21:36.599Z"
   },
   {
    "duration": 27,
    "start_time": "2024-08-21T21:21:50.724Z"
   },
   {
    "duration": 6,
    "start_time": "2024-08-21T21:22:09.491Z"
   },
   {
    "duration": 29,
    "start_time": "2024-08-21T21:22:59.476Z"
   },
   {
    "duration": 7,
    "start_time": "2024-08-21T21:23:20.081Z"
   },
   {
    "duration": 9,
    "start_time": "2024-08-21T21:23:31.172Z"
   },
   {
    "duration": 5,
    "start_time": "2024-08-21T22:23:56.084Z"
   },
   {
    "duration": 5,
    "start_time": "2024-08-21T22:24:01.581Z"
   },
   {
    "duration": 9,
    "start_time": "2024-08-21T22:28:32.495Z"
   },
   {
    "duration": 10,
    "start_time": "2024-08-21T22:28:53.241Z"
   },
   {
    "duration": 11,
    "start_time": "2024-08-21T22:32:55.527Z"
   },
   {
    "duration": 44,
    "start_time": "2024-08-21T22:34:32.640Z"
   },
   {
    "duration": 15,
    "start_time": "2024-08-21T22:34:58.671Z"
   },
   {
    "duration": 13,
    "start_time": "2024-08-21T22:35:19.208Z"
   },
   {
    "duration": 59,
    "start_time": "2024-08-21T22:39:20.345Z"
   },
   {
    "duration": 49,
    "start_time": "2024-08-21T22:40:19.753Z"
   },
   {
    "duration": 60,
    "start_time": "2024-08-21T22:41:17.122Z"
   },
   {
    "duration": 14,
    "start_time": "2024-08-21T22:41:33.426Z"
   },
   {
    "duration": 21,
    "start_time": "2024-08-21T22:42:43.193Z"
   },
   {
    "duration": 13,
    "start_time": "2024-08-21T22:43:12.548Z"
   },
   {
    "duration": 19,
    "start_time": "2024-08-21T22:44:34.914Z"
   },
   {
    "duration": 15,
    "start_time": "2024-08-21T22:44:37.683Z"
   },
   {
    "duration": 12,
    "start_time": "2024-08-21T22:45:07.476Z"
   },
   {
    "duration": 15,
    "start_time": "2024-08-21T22:45:16.777Z"
   },
   {
    "duration": 12,
    "start_time": "2024-08-21T22:45:48.155Z"
   },
   {
    "duration": 12,
    "start_time": "2024-08-21T22:46:05.709Z"
   },
   {
    "duration": 13,
    "start_time": "2024-08-21T22:46:17.294Z"
   },
   {
    "duration": 20,
    "start_time": "2024-08-21T22:55:50.473Z"
   },
   {
    "duration": 19,
    "start_time": "2024-08-21T22:57:52.501Z"
   },
   {
    "duration": 22,
    "start_time": "2024-08-21T22:58:49.107Z"
   },
   {
    "duration": 25,
    "start_time": "2024-08-21T22:59:37.699Z"
   },
   {
    "duration": 16,
    "start_time": "2024-08-21T23:00:07.891Z"
   },
   {
    "duration": 15,
    "start_time": "2024-08-21T23:01:26.374Z"
   },
   {
    "duration": 15,
    "start_time": "2024-08-21T23:01:42.971Z"
   },
   {
    "duration": 11,
    "start_time": "2024-08-21T23:10:53.622Z"
   },
   {
    "duration": 11,
    "start_time": "2024-08-21T23:11:13.784Z"
   },
   {
    "duration": 11,
    "start_time": "2024-08-21T23:11:27.495Z"
   },
   {
    "duration": 12,
    "start_time": "2024-08-21T23:11:50.710Z"
   },
   {
    "duration": 11,
    "start_time": "2024-08-21T23:11:59.939Z"
   },
   {
    "duration": 11,
    "start_time": "2024-08-21T23:12:42.613Z"
   },
   {
    "duration": 52,
    "start_time": "2024-08-21T23:13:16.263Z"
   },
   {
    "duration": 53,
    "start_time": "2024-08-21T23:14:07.472Z"
   },
   {
    "duration": 61,
    "start_time": "2024-08-21T23:15:10.214Z"
   },
   {
    "duration": 357,
    "start_time": "2024-08-21T23:16:05.669Z"
   },
   {
    "duration": 12,
    "start_time": "2024-08-21T23:18:00.484Z"
   },
   {
    "duration": 11,
    "start_time": "2024-08-21T23:18:12.702Z"
   },
   {
    "duration": 13,
    "start_time": "2024-08-21T23:18:23.661Z"
   },
   {
    "duration": 13,
    "start_time": "2024-08-21T23:18:31.596Z"
   },
   {
    "duration": 77,
    "start_time": "2024-08-21T23:25:17.165Z"
   },
   {
    "duration": 15,
    "start_time": "2024-08-21T23:25:25.362Z"
   },
   {
    "duration": 15,
    "start_time": "2024-08-21T23:26:47.945Z"
   },
   {
    "duration": 16,
    "start_time": "2024-08-21T23:27:24.382Z"
   },
   {
    "duration": 14,
    "start_time": "2024-08-21T23:27:44.676Z"
   },
   {
    "duration": 15,
    "start_time": "2024-08-21T23:28:21.225Z"
   },
   {
    "duration": 17,
    "start_time": "2024-08-21T23:28:42.738Z"
   },
   {
    "duration": 59,
    "start_time": "2024-08-21T23:31:16.004Z"
   },
   {
    "duration": 17,
    "start_time": "2024-08-21T23:31:26.499Z"
   },
   {
    "duration": 17,
    "start_time": "2024-08-21T23:31:39.410Z"
   },
   {
    "duration": 13,
    "start_time": "2024-08-21T23:32:42.624Z"
   },
   {
    "duration": 15,
    "start_time": "2024-08-21T23:32:55.722Z"
   },
   {
    "duration": 20,
    "start_time": "2024-08-21T23:38:47.911Z"
   },
   {
    "duration": 14,
    "start_time": "2024-08-21T23:39:01.233Z"
   },
   {
    "duration": 18,
    "start_time": "2024-08-21T23:39:36.248Z"
   },
   {
    "duration": 15,
    "start_time": "2024-08-21T23:39:53.686Z"
   },
   {
    "duration": 14,
    "start_time": "2024-08-21T23:43:08.610Z"
   },
   {
    "duration": 93,
    "start_time": "2024-08-21T23:45:16.166Z"
   },
   {
    "duration": 20,
    "start_time": "2024-08-21T23:45:29.442Z"
   },
   {
    "duration": 18,
    "start_time": "2024-08-21T23:45:37.661Z"
   },
   {
    "duration": 18,
    "start_time": "2024-08-21T23:45:44.513Z"
   },
   {
    "duration": 19,
    "start_time": "2024-08-21T23:46:56.045Z"
   },
   {
    "duration": 15,
    "start_time": "2024-08-21T23:47:10.251Z"
   },
   {
    "duration": 21,
    "start_time": "2024-08-21T23:47:55.012Z"
   },
   {
    "duration": 14,
    "start_time": "2024-08-21T23:48:21.048Z"
   },
   {
    "duration": 22,
    "start_time": "2024-08-21T23:49:22.088Z"
   },
   {
    "duration": 17,
    "start_time": "2024-08-21T23:52:15.616Z"
   },
   {
    "duration": 22,
    "start_time": "2024-08-21T23:52:29.305Z"
   },
   {
    "duration": 30,
    "start_time": "2024-08-21T23:53:18.328Z"
   },
   {
    "duration": 19,
    "start_time": "2024-08-21T23:54:33.844Z"
   },
   {
    "duration": 18,
    "start_time": "2024-08-21T23:58:21.476Z"
   },
   {
    "duration": 12,
    "start_time": "2024-08-22T00:00:54.685Z"
   },
   {
    "duration": 58,
    "start_time": "2024-08-22T00:01:02.983Z"
   },
   {
    "duration": 14,
    "start_time": "2024-08-22T00:01:14.387Z"
   },
   {
    "duration": 35,
    "start_time": "2024-08-22T00:05:09.703Z"
   },
   {
    "duration": 7,
    "start_time": "2024-08-22T00:05:15.717Z"
   },
   {
    "duration": 29,
    "start_time": "2024-08-22T00:06:42.982Z"
   },
   {
    "duration": 14,
    "start_time": "2024-08-22T00:06:59.337Z"
   },
   {
    "duration": 27,
    "start_time": "2024-08-22T00:10:11.066Z"
   },
   {
    "duration": 15,
    "start_time": "2024-08-22T00:14:14.014Z"
   },
   {
    "duration": 14,
    "start_time": "2024-08-22T00:14:17.933Z"
   },
   {
    "duration": 12,
    "start_time": "2024-08-22T00:15:20.138Z"
   },
   {
    "duration": 13,
    "start_time": "2024-08-22T00:37:13.133Z"
   },
   {
    "duration": 60,
    "start_time": "2024-08-22T00:37:22.024Z"
   },
   {
    "duration": 60,
    "start_time": "2024-08-22T00:38:04.140Z"
   },
   {
    "duration": 15,
    "start_time": "2024-08-22T00:38:24.277Z"
   },
   {
    "duration": 13,
    "start_time": "2024-08-22T00:41:23.659Z"
   },
   {
    "duration": 18,
    "start_time": "2024-08-22T00:41:37.919Z"
   },
   {
    "duration": 14,
    "start_time": "2024-08-22T00:45:12.253Z"
   },
   {
    "duration": 16,
    "start_time": "2024-08-22T00:48:19.068Z"
   },
   {
    "duration": 21,
    "start_time": "2024-08-22T00:48:23.333Z"
   },
   {
    "duration": 18,
    "start_time": "2024-08-22T00:48:31.109Z"
   },
   {
    "duration": 13,
    "start_time": "2024-08-22T00:50:04.562Z"
   },
   {
    "duration": 14,
    "start_time": "2024-08-22T00:50:21.622Z"
   },
   {
    "duration": 15,
    "start_time": "2024-08-22T00:50:53.882Z"
   },
   {
    "duration": 18,
    "start_time": "2024-08-22T00:51:46.605Z"
   },
   {
    "duration": 15,
    "start_time": "2024-08-22T00:53:09.022Z"
   },
   {
    "duration": 15,
    "start_time": "2024-08-22T00:53:27.408Z"
   },
   {
    "duration": 18,
    "start_time": "2024-08-22T00:54:32.229Z"
   },
   {
    "duration": 14,
    "start_time": "2024-08-22T00:54:49.018Z"
   },
   {
    "duration": 18,
    "start_time": "2024-08-22T01:02:26.609Z"
   }
  ],
  "colab": {
   "provenance": []
  },
  "kernelspec": {
   "display_name": "Python 3 (ipykernel)",
   "language": "python",
   "name": "python3"
  },
  "language_info": {
   "codemirror_mode": {
    "name": "ipython",
    "version": 3
   },
   "file_extension": ".py",
   "mimetype": "text/x-python",
   "name": "python",
   "nbconvert_exporter": "python",
   "pygments_lexer": "ipython3",
   "version": "3.12.4"
  },
  "toc": {
   "base_numbering": 1,
   "nav_menu": {},
   "number_sections": true,
   "sideBar": true,
   "skip_h1_title": true,
   "title_cell": "Table of Contents",
   "title_sidebar": "Contents",
   "toc_cell": false,
   "toc_position": {},
   "toc_section_display": true,
   "toc_window_display": false
  }
 },
 "nbformat": 4,
 "nbformat_minor": 4
}
