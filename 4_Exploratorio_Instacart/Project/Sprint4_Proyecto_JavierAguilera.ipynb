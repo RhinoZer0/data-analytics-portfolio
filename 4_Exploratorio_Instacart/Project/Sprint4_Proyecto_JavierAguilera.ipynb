{
 "cells": [
  {
   "cell_type": "markdown",
   "id": "3Xg_RQfnafXz",
   "metadata": {
    "id": "3Xg_RQfnafXz"
   },
   "source": [
    "# ¡Llena ese carrito!"
   ]
  },
  {
   "cell_type": "markdown",
   "id": "mhIvmmkW414q",
   "metadata": {
    "id": "mhIvmmkW414q"
   },
   "source": [
    "# Introducción\n",
    "\n",
    "Instacart es una plataforma de entregas de comestibles donde la clientela puede registrar un pedido y hacer que se lo entreguen, similar a Uber Eats y Door Dash.\n",
    "El conjunto de datos que te hemos proporcionado tiene modificaciones del original. Redujimos el tamaño del conjunto para que tus cálculos se hicieran más rápido e introdujimos valores ausentes y duplicados. Tuvimos cuidado de conservar las distribuciones de los datos originales cuando hicimos los cambios.\n",
    "\n",
    "Debes completar tres pasos. Para cada uno de ellos, escribe una breve introducción que refleje con claridad cómo pretendes resolver cada paso, y escribe párrafos explicatorios que justifiquen tus decisiones al tiempo que avanzas en tu solución.  También escribe una conclusión que resuma tus hallazgos y elecciones.\n"
   ]
  },
  {
   "cell_type": "markdown",
   "id": "3MbyzpOQZ5Or",
   "metadata": {
    "id": "3MbyzpOQZ5Or"
   },
   "source": [
    "## Diccionario de datos\n",
    "\n",
    "Hay cinco tablas en el conjunto de datos, y tendrás que usarlas todas para hacer el preprocesamiento de datos y el análisis exploratorio de datos. A continuación se muestra un diccionario de datos que enumera las columnas de cada tabla y describe los datos que contienen.\n",
    "\n",
    "- `instacart_orders.csv`: cada fila corresponde a un pedido en la aplicación Instacart.\n",
    "    - `'order_id'`: número de ID que identifica de manera única cada pedido.\n",
    "    - `'user_id'`: número de ID que identifica de manera única la cuenta de cada cliente.\n",
    "    - `'order_number'`: el número de veces que este cliente ha hecho un pedido.\n",
    "    - `'order_dow'`: día de la semana en que se hizo el pedido (0 si es domingo).\n",
    "    - `'order_hour_of_day'`: hora del día en que se hizo el pedido.\n",
    "    - `'days_since_prior_order'`: número de días transcurridos desde que este cliente hizo su pedido anterior.\n",
    "- `products.csv`: cada fila corresponde a un producto único que pueden comprar los clientes.\n",
    "    - `'product_id'`: número ID que identifica de manera única cada producto.\n",
    "    - `'product_name'`: nombre del producto.\n",
    "    - `'aisle_id'`: número ID que identifica de manera única cada categoría de pasillo de víveres.\n",
    "    - `'department_id'`: número ID que identifica de manera única cada departamento de víveres.\n",
    "- `order_products.csv`: cada fila corresponde a un artículo pedido en un pedido.\n",
    "    - `'order_id'`: número de ID que identifica de manera única cada pedido.\n",
    "    - `'product_id'`: número ID que identifica de manera única cada producto.\n",
    "    - `'add_to_cart_order'`: el orden secuencial en el que se añadió cada artículo en el carrito.\n",
    "    - `'reordered'`: 0 si el cliente nunca ha pedido este producto antes, 1 si lo ha pedido.\n",
    "- `aisles.csv`\n",
    "    - `'aisle_id'`: número ID que identifica de manera única cada categoría de pasillo de víveres.\n",
    "    - `'aisle'`: nombre del pasillo.\n",
    "- `departments.csv`\n",
    "    - `'department_id'`: número ID que identifica de manera única cada departamento de víveres.\n",
    "    - `'department'`: nombre del departamento."
   ]
  },
  {
   "cell_type": "markdown",
   "id": "n3Ha_cNSZ8lK",
   "metadata": {
    "id": "n3Ha_cNSZ8lK"
   },
   "source": [
    "# Paso 1. Descripción de los datos\n",
    "\n",
    "Lee los archivos de datos (`/datasets/instacart_orders.csv`, `/datasets/products.csv`, `/datasets/aisles.csv`, `/datasets/departments.csv` y `/datasets/order_products.csv`) con `pd.read_csv()` usando los parámetros adecuados para leer los datos correctamente. Verifica la información para cada DataFrame creado.\n"
   ]
  },
  {
   "cell_type": "markdown",
   "id": "OmlQPLlyaAfR",
   "metadata": {
    "id": "OmlQPLlyaAfR"
   },
   "source": [
    "## Plan de solución\n",
    "\n",
    "Escribe aquí tu plan de solución para el Paso 1. Descripción de los datos."
   ]
  },
  {
   "cell_type": "markdown",
   "id": "362ea90f-27a9-4aed-a610-a31d6ff692d5",
   "metadata": {},
   "source": [
    "Para el paso uno haré lo siguiente:\n",
    "+ Revisar los archivos csv para verificar el formato que tienen sus valores.\n",
    "+ Importar las librerías adecuadas para todo el proyecto.\n",
    "+ Leer y guardar cada archivo en un dataframe por separado e imprimir información básica para analizar sus elementos."
   ]
  },
  {
   "cell_type": "code",
   "execution_count": 2,
   "id": "fbf1adab",
   "metadata": {
    "id": "fbf1adab"
   },
   "outputs": [],
   "source": [
    "# importar librerías\n",
    "import pandas as pd\n",
    "import numpy as np\n",
    "import matplotlib.pyplot as plt"
   ]
  },
  {
   "cell_type": "markdown",
   "id": "db55e1c3-f5fa-4262-93f3-cf83e89f16c3",
   "metadata": {
    "id": "ad36396d"
   },
   "source": [
    "Leer y guardar los archivos de datos en los DataFrames y luego imprimir información de cada uno"
   ]
  },
  {
   "cell_type": "code",
   "execution_count": 3,
   "id": "aa230510-162c-4a48-9091-35fc0c8d8430",
   "metadata": {},
   "outputs": [
    {
     "name": "stdout",
     "output_type": "stream",
     "text": [
      "<class 'pandas.core.frame.DataFrame'>\n",
      "RangeIndex: 478967 entries, 0 to 478966\n",
      "Data columns (total 6 columns):\n",
      " #   Column                  Non-Null Count   Dtype  \n",
      "---  ------                  --------------   -----  \n",
      " 0   order_id                478967 non-null  int64  \n",
      " 1   user_id                 478967 non-null  int64  \n",
      " 2   order_number            478967 non-null  int64  \n",
      " 3   order_dow               478967 non-null  int64  \n",
      " 4   order_hour_of_day       478967 non-null  int64  \n",
      " 5   days_since_prior_order  450148 non-null  float64\n",
      "dtypes: float64(1), int64(5)\n",
      "memory usage: 21.9 MB\n",
      "None\n",
      "    order_id  user_id  order_number  order_dow  order_hour_of_day  \\\n",
      "0    1515936   183418            11          6                 13   \n",
      "1    1690866   163593             5          5                 12   \n",
      "2    1454967    39980             4          5                 19   \n",
      "3    1768857    82516            56          0                 20   \n",
      "4    3007858   196724             2          4                 12   \n",
      "5    1843871    20084             5          0                 11   \n",
      "6    2511640   148233            40          3                  8   \n",
      "7    2521283    97711             2          0                 18   \n",
      "8    2266494    34954            40          5                 15   \n",
      "9     446014    15356             2          4                  8   \n",
      "10   1162566    43738            33          4                 11   \n",
      "11    102585   191558            18          6                 16   \n",
      "12   2276302   190167            21          1                 12   \n",
      "13    782916    36310            34          5                  9   \n",
      "14   2843219    74699             4          6                 11   \n",
      "\n",
      "    days_since_prior_order  \n",
      "0                     30.0  \n",
      "1                      9.0  \n",
      "2                      2.0  \n",
      "3                     10.0  \n",
      "4                     17.0  \n",
      "5                     15.0  \n",
      "6                      2.0  \n",
      "7                     22.0  \n",
      "8                      4.0  \n",
      "9                     10.0  \n",
      "10                     2.0  \n",
      "11                     8.0  \n",
      "12                     2.0  \n",
      "13                     3.0  \n",
      "14                    30.0  \n"
     ]
    }
   ],
   "source": [
    "#Leer el archivo instacart_orders y convertirlo en un dataframe\n",
    "df_instacart_orders = pd.read_csv('instacart_orders.csv', sep= ';')\n",
    "#Imprimir información del dataframe\n",
    "print(df_instacart_orders.info())\n",
    "print(df_instacart_orders.head(15))"
   ]
  },
  {
   "cell_type": "code",
   "execution_count": 4,
   "id": "51f40662-a55a-4451-b2eb-f1305b16eb87",
   "metadata": {},
   "outputs": [
    {
     "name": "stdout",
     "output_type": "stream",
     "text": [
      "<class 'pandas.core.frame.DataFrame'>\n",
      "RangeIndex: 49694 entries, 0 to 49693\n",
      "Data columns (total 4 columns):\n",
      " #   Column         Non-Null Count  Dtype \n",
      "---  ------         --------------  ----- \n",
      " 0   product_id     49694 non-null  int64 \n",
      " 1   product_name   48436 non-null  object\n",
      " 2   aisle_id       49694 non-null  int64 \n",
      " 3   department_id  49694 non-null  int64 \n",
      "dtypes: int64(3), object(1)\n",
      "memory usage: 1.5+ MB\n",
      "None\n",
      "       product_id                                       product_name  \\\n",
      "2782         2783                               Traditional Crostini   \n",
      "8022         8023                                       Pinata Apple   \n",
      "39105       39106                         Variety Pack Summer Styles   \n",
      "19672       19673                         AA Alkaline Batteries Pack   \n",
      "31862       31863                        Citrus Power Liquid Cleaner   \n",
      "555           556                                                NaN   \n",
      "49228       49229                       Mushroom Rice Burger Patties   \n",
      "48161       48162                 Probiotic Dairy Culture Strawberry   \n",
      "14225       14226                                     Cucumber Vodka   \n",
      "44976       44977                            Pumpkin Spice Black Tea   \n",
      "22536       22537                            Hearty Nine Grain Bread   \n",
      "43976       43977  Everyday Heavy Duty Spoons Dishwasher Safe Pla...   \n",
      "30188       30189     Fast-Max Maximum Strength Cold & Sinus Caplets   \n",
      "28120       28121                                 Fruit Bowl Gourmet   \n",
      "22035       22036                              Pure 100% Maple Syrup   \n",
      "\n",
      "       aisle_id  department_id  \n",
      "2782         78             19  \n",
      "8022         24              4  \n",
      "39105        27              5  \n",
      "19672        87             17  \n",
      "31862       114             17  \n",
      "555         100             21  \n",
      "49228        42              1  \n",
      "48161        70             11  \n",
      "14225       124              5  \n",
      "44976        94              7  \n",
      "22536       112              3  \n",
      "43976       111             17  \n",
      "30188        11             11  \n",
      "28120        45             19  \n",
      "22035        29             13  \n"
     ]
    }
   ],
   "source": [
    "#Leer el archivo products y convertirlo en un dataframe\n",
    "df_products = pd.read_csv('products.csv', sep= ';')\n",
    "#Imprimir información del dataframe\n",
    "print(df_products.info())\n",
    "print(df_products.sample(15))"
   ]
  },
  {
   "cell_type": "code",
   "execution_count": 5,
   "id": "e1954b51-6f83-4d46-86a5-242ef444d4bd",
   "metadata": {},
   "outputs": [
    {
     "name": "stdout",
     "output_type": "stream",
     "text": [
      "<class 'pandas.core.frame.DataFrame'>\n",
      "RangeIndex: 4545007 entries, 0 to 4545006\n",
      "Data columns (total 4 columns):\n",
      " #   Column             Non-Null Count    Dtype  \n",
      "---  ------             --------------    -----  \n",
      " 0   order_id           4545007 non-null  int64  \n",
      " 1   product_id         4545007 non-null  int64  \n",
      " 2   add_to_cart_order  4544171 non-null  float64\n",
      " 3   reordered          4545007 non-null  int64  \n",
      "dtypes: float64(1), int64(3)\n",
      "memory usage: 138.7 MB\n",
      "None\n",
      "         order_id  product_id  add_to_cart_order  reordered\n",
      "1805127   3374087       42701               20.0          1\n",
      "3858269   2306280       13005               12.0          1\n",
      "2061687    254054        5025               29.0          0\n",
      "852353    1951392        2966                5.0          1\n",
      "480018    1132152       28571               29.0          0\n",
      "2887438   2654390       28985                1.0          1\n",
      "487112    2526683       12738                7.0          1\n",
      "1903722   2833691       22877               17.0          0\n",
      "1928408   2900930       15392                3.0          0\n",
      "1051450    915506       47368                3.0          0\n",
      "1454690   1008422       27086                5.0          1\n",
      "249943    2370364       45210                8.0          1\n",
      "1464312    651869       47885                1.0          1\n",
      "1294087   2390015       17946               12.0          1\n",
      "2317957   1096115       21938                3.0          1\n",
      "2846621   2250212        4367                2.0          0\n",
      "3518619   1227224        7781                7.0          1\n",
      "4184290   3147650       38015                2.0          0\n",
      "2560190     45286        3124               15.0          0\n",
      "3413765   2375426       39928               14.0          0\n"
     ]
    }
   ],
   "source": [
    "#Leer el archivo order_products y convertirlo en un dataframe\n",
    "df_order_products = pd.read_csv('order_products.csv', sep= ';')\n",
    "#Imprimir información del dataframe\n",
    "print(df_order_products.info(show_counts=True))\n",
    "print(df_order_products.sample(20))"
   ]
  },
  {
   "cell_type": "code",
   "execution_count": 6,
   "id": "ed47d4e4-c713-4481-9d77-fbb9afa68e6d",
   "metadata": {},
   "outputs": [
    {
     "name": "stdout",
     "output_type": "stream",
     "text": [
      "<class 'pandas.core.frame.DataFrame'>\n",
      "RangeIndex: 134 entries, 0 to 133\n",
      "Data columns (total 2 columns):\n",
      " #   Column    Non-Null Count  Dtype \n",
      "---  ------    --------------  ----- \n",
      " 0   aisle_id  134 non-null    int64 \n",
      " 1   aisle     134 non-null    object\n",
      "dtypes: int64(1), object(1)\n",
      "memory usage: 2.2+ KB\n",
      "None\n",
      "     aisle_id                       aisle\n",
      "52         53                       cream\n",
      "55         56               diapers wipes\n",
      "69         70                   digestion\n",
      "1           2           specialty cheeses\n",
      "110       111  plates bowls cups flatware\n",
      "37         38                frozen meals\n",
      "9          10            kitchen supplies\n",
      "111       112                       bread\n",
      "124       125         trail mix snack mix\n",
      "76         77                 soft drinks\n",
      "51         52            frozen breakfast\n",
      "101       102         baby bath body care\n",
      "103       104           spices seasonings\n",
      "8           9                 pasta sauce\n",
      "102       103          ice cream toppings\n",
      "94         95         canned meat seafood\n",
      "120       121                      cereal\n",
      "45         46                    mint gum\n",
      "115       116              frozen produce\n",
      "48         49            packaged poultry\n"
     ]
    }
   ],
   "source": [
    "#Leer el archivo aisles y convertirlo en un dataframe\n",
    "df_aisles = pd.read_csv('aisles.csv', sep= ';')\n",
    "#Imprimir información del dataframe\n",
    "print(df_aisles.info())\n",
    "print(df_aisles.sample(20))"
   ]
  },
  {
   "cell_type": "code",
   "execution_count": 7,
   "id": "5fd0608a-45c3-4cf4-ae20-713b014808bf",
   "metadata": {},
   "outputs": [
    {
     "name": "stdout",
     "output_type": "stream",
     "text": [
      "<class 'pandas.core.frame.DataFrame'>\n",
      "RangeIndex: 21 entries, 0 to 20\n",
      "Data columns (total 2 columns):\n",
      " #   Column         Non-Null Count  Dtype \n",
      "---  ------         --------------  ----- \n",
      " 0   department_id  21 non-null     int64 \n",
      " 1   department     21 non-null     object\n",
      "dtypes: int64(1), object(1)\n",
      "memory usage: 468.0+ bytes\n",
      "None\n",
      "    department_id       department\n",
      "0               1           frozen\n",
      "1               2            other\n",
      "2               3           bakery\n",
      "3               4          produce\n",
      "4               5          alcohol\n",
      "5               6    international\n",
      "6               7        beverages\n",
      "7               8             pets\n",
      "8               9  dry goods pasta\n",
      "9              10             bulk\n",
      "10             11    personal care\n",
      "11             12     meat seafood\n",
      "12             13           pantry\n",
      "13             14        breakfast\n",
      "14             15     canned goods\n",
      "15             16       dairy eggs\n",
      "16             17        household\n",
      "17             18           babies\n",
      "18             19           snacks\n",
      "19             20             deli\n",
      "20             21          missing\n"
     ]
    }
   ],
   "source": [
    "#Leer el archivo departments y convertirlo en un dataframe\n",
    "df_departments = pd.read_csv('departments.csv', sep= ';')\n",
    "#Imprimir información del dataframe\n",
    "print(df_departments.info())\n",
    "print(df_departments)"
   ]
  },
  {
   "cell_type": "markdown",
   "id": "t75BD19oaR5f",
   "metadata": {
    "id": "t75BD19oaR5f"
   },
   "source": [
    "## Conclusiones\n",
    "\n",
    "Escribe aquí tus conclusiones intermedias sobre el Paso 1. Descripción de los datos.\n"
   ]
  },
  {
   "attachments": {},
   "cell_type": "markdown",
   "id": "9ac11622-e56e-41ae-ac9f-3070d19de22e",
   "metadata": {},
   "source": [
    "+ Todos los archivos tienen nombres adecuados para sus columnas, en minúsculas y con formato snake_case.\n",
    "+ Todos los archivos tienen sus valores separados por ';', por lo que fue necesario colocar ese parámetro en el método read_csv.\n",
    "+ Existen valores ausentes o nulos en los archivos - columnas\n",
    "    + instacart_orders - days_since_prior_order\n",
    "    + \r\n",
    "products - product_na\n",
    "    + \r\n",
    "order_products - add_to_cart_or\n",
    "+ Algunas columnas tienen formato de punto flotante que parece no ser necesario y se pueden convertir a entero, hay que verificarlo.\n",
    "+ La descripción de los productos en el archivo products tiene formato capital, cada palabra inicia con mayúscula y podría contener productos duplicados, hay que transformar esos datos a minúsculas y verificar.der"
   ]
  },
  {
   "cell_type": "markdown",
   "id": "8RJHqxVmaVsF",
   "metadata": {
    "id": "8RJHqxVmaVsF"
   },
   "source": [
    "# Paso 2. Preprocesamiento de los datos\n",
    "\n",
    "Preprocesa los datos de la siguiente manera:\n",
    "\n",
    "- Verifica y corrige los tipos de datos (por ejemplo, asegúrate de que las columnas de ID sean números enteros).\n",
    "- Identifica y completa los valores ausentes.\n",
    "- Identifica y elimina los valores duplicados.\n",
    "\n",
    "Asegúrate de explicar qué tipos de valores ausentes y duplicados encontraste, cómo los completaste o eliminaste y por qué usaste esos métodos. ¿Por qué crees que estos valores ausentes y duplicados pueden haber estado presentes en el conjunto de datos?"
   ]
  },
  {
   "cell_type": "markdown",
   "id": "p6poABZQaZYb",
   "metadata": {
    "id": "p6poABZQaZYb"
   },
   "source": [
    "## Plan de solución\n",
    "\n",
    "Escribe aquí tu plan para el Paso 2. Preprocesamiento de los datos."
   ]
  },
  {
   "cell_type": "markdown",
   "id": "07357848-dc64-4156-9cc3-01ff4365226d",
   "metadata": {
    "id": "07357848-dc64-4156-9cc3-01ff4365226d"
   },
   "source": [
    "## Encuentra y elimina los valores duplicados (y describe cómo tomaste tus decisiones)."
   ]
  },
  {
   "cell_type": "markdown",
   "id": "f179f0a9",
   "metadata": {
    "id": "f179f0a9"
   },
   "source": [
    "### `instacart_orders` data frame"
   ]
  },
  {
   "cell_type": "code",
   "execution_count": 8,
   "id": "b99297a5-405a-463d-8535-9adc3da4ad74",
   "metadata": {
    "id": "b99297a5-405a-463d-8535-9adc3da4ad74"
   },
   "outputs": [
    {
     "name": "stdout",
     "output_type": "stream",
     "text": [
      "15\n",
      "        order_id  user_id  order_number  order_dow  order_hour_of_day  \\\n",
      "371905    391768    57671            19          3                  2   \n",
      "321100    408114    68324             4          3                  2   \n",
      "394347    467134    63189            21          3                  2   \n",
      "145574    794638    50898            24          3                  2   \n",
      "311713   1021560    53767             3          3                  2   \n",
      "273805   1112182   202304            84          3                  2   \n",
      "411408   1286742   183220            48          3                  2   \n",
      "266232   1782114   106752             1          3                  2   \n",
      "230807   1918001   188546            14          3                  2   \n",
      "323900   1919531   191501            32          3                  2   \n",
      "441599   2125197    14050            48          3                  2   \n",
      "223105   2160484   107525            16          3                  2   \n",
      "345917   2232988    82565             1          3                  2   \n",
      "415163   2282673    86751            49          3                  2   \n",
      "284038   2845099    31189            11          3                  2   \n",
      "\n",
      "        days_since_prior_order  \n",
      "371905                    10.0  \n",
      "321100                    18.0  \n",
      "394347                     2.0  \n",
      "145574                     2.0  \n",
      "311713                     9.0  \n",
      "273805                     6.0  \n",
      "411408                     4.0  \n",
      "266232                     NaN  \n",
      "230807                    16.0  \n",
      "323900                     7.0  \n",
      "441599                     3.0  \n",
      "223105                    30.0  \n",
      "345917                     NaN  \n",
      "415163                     2.0  \n",
      "284038                     7.0  \n",
      "        order_id  user_id  order_number  order_dow  order_hour_of_day  \\\n",
      "242618   1021560    53767             3          3                  2   \n",
      "311713   1021560    53767             3          3                  2   \n",
      "\n",
      "        days_since_prior_order  \n",
      "242618                     9.0  \n",
      "311713                     9.0  \n"
     ]
    }
   ],
   "source": [
    "# Revisa si hay pedidos duplicados\n",
    "# Imprimo el número de filas duplicadas\n",
    "print(df_instacart_orders.duplicated().sum())\n",
    "#Creo un nuevo dataframe para guardar sólo las filas duplicadas. Este dataframe debería tener tantas filas\n",
    "#el número calculado en el paso anterior\n",
    "df_duplicates = df_instacart_orders[df_instacart_orders.duplicated()]\n",
    "#Imprimo el nuevo dataframe en orden ascendente para la columna order_id\n",
    "print(df_duplicates.sort_values('order_id'))\n",
    "#Imprimo una de las filas del dataframe original filtrando por un order_id específico, para comprobar que su\n",
    "#duplicado es idéntico en todas las columnas\n",
    "print(df_instacart_orders[df_instacart_orders['order_id']==1021560])"
   ]
  },
  {
   "cell_type": "code",
   "execution_count": 9,
   "id": "b2b919f5-0848-469d-b891-047c4370a54f",
   "metadata": {},
   "outputs": [
    {
     "data": {
      "text/plain": [
       "0"
      ]
     },
     "execution_count": 9,
     "metadata": {},
     "output_type": "execute_result"
    }
   ],
   "source": [
    "#Elimino las filas duplicadas que se encontraron y reinicio el índice\n",
    "df_instacart_orders = df_instacart_orders.drop_duplicates().reset_index()\n",
    "#Compruebo que ya no existen filas duplicadas\n",
    "df_instacart_orders.duplicated().sum()"
   ]
  },
  {
   "cell_type": "markdown",
   "id": "PEkwUX_gvt5A",
   "metadata": {
    "id": "PEkwUX_gvt5A"
   },
   "source": [
    "¿Tienes líneas duplicadas? Si sí, ¿qué tienen en común?"
   ]
  },
  {
   "cell_type": "markdown",
   "id": "16a1ee60-02fd-43b9-baad-165854c1bc47",
   "metadata": {},
   "source": [
    "+ Había 15 filas duplicadas. La función .duplicated() identifica únicamente las filas que son completamente iguales en todos sus valores, por lo que, todas las filas duplicadas que se encontraron eran iguales en los valores para todas sus columnas."
   ]
  },
  {
   "cell_type": "code",
   "execution_count": 10,
   "id": "0d44de5d",
   "metadata": {
    "id": "0d44de5d"
   },
   "outputs": [
    {
     "name": "stdout",
     "output_type": "stream",
     "text": [
      "[ 0  1  2  3  4  5  6  7  8  9 10 11 12 13 14 15 16 17 18 19 20 21 22 23]\n",
      "4838      2766110\n",
      "5156      2190225\n",
      "15506      553049\n",
      "18420      382357\n",
      "24691      690242\n",
      "           ...   \n",
      "456998    3384021\n",
      "458801     910166\n",
      "459620    1680532\n",
      "468309     222962\n",
      "477511    2592344\n",
      "Name: order_id, Length: 106, dtype: int64 \n",
      "\n",
      "Pedidos los miércoles a las 2 am: 106\n",
      "Pedidos totales los miércoles: 60897\n",
      "La relación es de: 0.17406440382941687 %\n"
     ]
    }
   ],
   "source": [
    "# Basándote en tus hallazgos,\n",
    "# Verifica todos los pedidos que se hicieron el miércoles a las 2:00 a.m.\n",
    "\n",
    "#Compruebo primero qué valores se usan para registrar las horas del día. \n",
    "print(df_instacart_orders['order_hour_of_day'].sort_values().unique())\n",
    "\n",
    "#Creo un filtro usando el valor 3 para order_dow y 2 para order_hour_of_day y otro filtro sólo para los días miércoles\n",
    "filter_day_hour = df_instacart_orders[(df_instacart_orders['order_dow'] == 3) & (df_instacart_orders['order_hour_of_day'] == 2)]['order_id']\n",
    "filter_day = df_instacart_orders[df_instacart_orders['order_dow'] == 3]['order_id']\n",
    "#Imprimo las órdenes que cumplen con el filtro de día y hora\n",
    "print(filter_day_hour,'\\n')\n",
    "#Uso el mismo filtro para contar el número de órdenes\n",
    "print(f'Pedidos los miércoles a las 2 am: {filter_day_hour.count()}')\n",
    "#Uso el filtro de día para contar el número de órdenes de los miércoles\n",
    "print(f'Pedidos totales los miércoles: {filter_day.count()}')\n",
    "#Calculo la relación entre el número total de pedidos los miércoles contra los miércoles a las 2 am\n",
    "print(f'La relación es de: {filter_day_hour.count()/filter_day.count()*100} %')"
   ]
  },
  {
   "cell_type": "markdown",
   "id": "vu2OWyoqwOx5",
   "metadata": {
    "id": "vu2OWyoqwOx5"
   },
   "source": [
    "¿Qué sugiere este resultado?"
   ]
  },
  {
   "cell_type": "markdown",
   "id": "6d1f3b36-8275-4660-a05e-2692a535ed6f",
   "metadata": {},
   "source": [
    "Los pedidos hechos los miércoles a las 2 am representan sólo el 0.17% de los pedidos totales hechos todos los miércoles. "
   ]
  },
  {
   "cell_type": "markdown",
   "id": "5e8905ae",
   "metadata": {
    "id": "5e8905ae"
   },
   "source": [
    "Describe brevemente tus hallazgos y lo que hiciste con ellos"
   ]
  },
  {
   "cell_type": "markdown",
   "id": "f036de8f-98e3-4d1a-bb5d-7aafa8a02a46",
   "metadata": {},
   "source": [
    "+ A partir del resultado específico podríamos determinar si es factible mantener el servicio durante horas específicas de la madrugada."
   ]
  },
  {
   "cell_type": "markdown",
   "id": "45e6bc46",
   "metadata": {
    "id": "45e6bc46"
   },
   "source": [
    "### `products` data frame"
   ]
  },
  {
   "cell_type": "code",
   "execution_count": 11,
   "id": "5f526b5b-8175-46fa-a0fd-441767d50e64",
   "metadata": {
    "id": "5f526b5b-8175-46fa-a0fd-441767d50e64"
   },
   "outputs": [
    {
     "name": "stdout",
     "output_type": "stream",
     "text": [
      "0\n"
     ]
    }
   ],
   "source": [
    "# Verifica si hay filas totalmente duplicadas\n",
    "# Imprimo el número de filas duplicadas\n",
    "print(df_products.duplicated().sum())"
   ]
  },
  {
   "cell_type": "code",
   "execution_count": 12,
   "id": "88daa4f4",
   "metadata": {
    "id": "88daa4f4"
   },
   "outputs": [
    {
     "name": "stdout",
     "output_type": "stream",
     "text": [
      "0\n"
     ]
    }
   ],
   "source": [
    "# Verifica si hay IDs duplicadas de productos\n",
    "print(df_products['product_id'].duplicated().sum())"
   ]
  },
  {
   "cell_type": "code",
   "execution_count": 13,
   "id": "c773f0bf",
   "metadata": {
    "id": "c773f0bf"
   },
   "outputs": [
    {
     "name": "stdout",
     "output_type": "stream",
     "text": [
      "1361\n",
      "       product_id                                     product_name  aisle_id  \\\n",
      "71             72                                              NaN       100   \n",
      "109           110                                              NaN       100   \n",
      "296           297                                              NaN       100   \n",
      "416           417                                              NaN       100   \n",
      "436           437                                              NaN       100   \n",
      "...           ...                                              ...       ...   \n",
      "49689       49690                    HIGH PERFORMANCE ENERGY DRINK        64   \n",
      "49690       49691                    ORIGINAL PANCAKE & WAFFLE MIX       130   \n",
      "49691       49692  ORGANIC INSTANT OATMEAL LIGHT MAPLE BROWN SUGAR       130   \n",
      "49692       49693                           SPRING WATER BODY WASH       127   \n",
      "49693       49694                          BURRITO- STEAK & CHEESE        38   \n",
      "\n",
      "       department_id  \n",
      "71                21  \n",
      "109               21  \n",
      "296               21  \n",
      "416               21  \n",
      "436               21  \n",
      "...              ...  \n",
      "49689              7  \n",
      "49690             14  \n",
      "49691             14  \n",
      "49692             11  \n",
      "49693              1  \n",
      "\n",
      "[1361 rows x 4 columns]\n"
     ]
    }
   ],
   "source": [
    "# Revisa si hay nombres duplicados de productos (convierte los nombres a letras mayúsculas para compararlos mejor)\n",
    "#Cuento el número de nombres de productos duplicados\n",
    "print(df_products['product_name'].str.upper().duplicated().sum())\n",
    "#Creo un dataframe nuevo con la información de los duplicados y lo imprimo\n",
    "df_products_duplicated=df_products[df_products['product_name'].str.upper().duplicated()]\n",
    "print(df_products_duplicated)"
   ]
  },
  {
   "cell_type": "code",
   "execution_count": 14,
   "id": "01efd02e",
   "metadata": {
    "id": "01efd02e"
   },
   "outputs": [
    {
     "name": "stdout",
     "output_type": "stream",
     "text": [
      "       product_id product_name  aisle_id  department_id\n",
      "71             72          NaN       100             21\n",
      "109           110          NaN       100             21\n",
      "296           297          NaN       100             21\n",
      "416           417          NaN       100             21\n",
      "436           437          NaN       100             21\n",
      "...           ...          ...       ...            ...\n",
      "49552       49553          NaN       100             21\n",
      "49574       49575          NaN       100             21\n",
      "49640       49641          NaN       100             21\n",
      "49663       49664          NaN       100             21\n",
      "49668       49669          NaN       100             21\n",
      "\n",
      "[1257 rows x 4 columns]\n"
     ]
    }
   ],
   "source": [
    "# Revisa si hay nombres duplicados de productos no faltantes\n",
    "df_NaN_duplicates = df_products_duplicated[df_products_duplicated['product_name'].isna()]\n",
    "print(df_NaN_duplicates)"
   ]
  },
  {
   "cell_type": "markdown",
   "id": "9da8d293",
   "metadata": {
    "id": "9da8d293"
   },
   "source": [
    "Describe brevemente tus hallazgos y lo que hiciste con ellos."
   ]
  },
  {
   "cell_type": "markdown",
   "id": "74940b6b-db55-49c1-9033-762f4167b007",
   "metadata": {},
   "source": [
    "+ No hay filas duplicadas en la tabla.\n",
    "+ No existen id's de productos que estén duplicados.\n",
    "+ Al transformar el nombre de los productos y buscar duplicados, encontré 1361 elementos, los cuales incluyen valores 'NaN', es decir, el nombre del producto no está registrado.\n",
    "+ De los 1361 productos duplicados, 1257 corresponden a 'NaN'. Hay que decidir cómo tratar estos productos."
   ]
  },
  {
   "cell_type": "markdown",
   "id": "60f30db1",
   "metadata": {
    "id": "60f30db1"
   },
   "source": [
    "### `departments` data frame"
   ]
  },
  {
   "cell_type": "code",
   "execution_count": 15,
   "id": "fb410ad4-0fbf-4b80-bb09-23fdea79afe3",
   "metadata": {
    "id": "fb410ad4-0fbf-4b80-bb09-23fdea79afe3"
   },
   "outputs": [
    {
     "name": "stdout",
     "output_type": "stream",
     "text": [
      "0\n",
      "    department_id       department\n",
      "0               1           frozen\n",
      "1               2            other\n",
      "2               3           bakery\n",
      "3               4          produce\n",
      "4               5          alcohol\n",
      "5               6    international\n",
      "6               7        beverages\n",
      "7               8             pets\n",
      "8               9  dry goods pasta\n",
      "9              10             bulk\n",
      "10             11    personal care\n",
      "11             12     meat seafood\n",
      "12             13           pantry\n",
      "13             14        breakfast\n",
      "14             15     canned goods\n",
      "15             16       dairy eggs\n",
      "16             17        household\n",
      "17             18           babies\n",
      "18             19           snacks\n",
      "19             20             deli\n",
      "20             21          missing\n"
     ]
    }
   ],
   "source": [
    "# Revisa si hay filas totalmente duplicadas\n",
    "print(df_departments.duplicated().sum())\n",
    "print(df_departments)"
   ]
  },
  {
   "cell_type": "code",
   "execution_count": 16,
   "id": "332b12bb",
   "metadata": {
    "id": "332b12bb"
   },
   "outputs": [
    {
     "data": {
      "text/plain": [
       "0"
      ]
     },
     "execution_count": 16,
     "metadata": {},
     "output_type": "execute_result"
    }
   ],
   "source": [
    "# Revisa si hay IDs duplicadas de productos\n",
    "df_departments['department'].duplicated().sum()"
   ]
  },
  {
   "cell_type": "markdown",
   "id": "bd30d78e",
   "metadata": {
    "id": "bd30d78e"
   },
   "source": [
    "Describe brevemente tus hallazgos y lo que hiciste con ellos."
   ]
  },
  {
   "cell_type": "markdown",
   "id": "bd9761b1-f685-4657-82f0-8ce89885778a",
   "metadata": {},
   "source": [
    "+ Este dataframe sólo tiene 20 filas, por lo que se puede visualizar completo.\n",
    "+ No existen filas completas, IDs o nombres de departamentos duplicados.\n",
    "+ Existen dos departamentos que llaman mi atención, 'other' y 'missing'. ¿Podrían integrarse todos los elementos que coinciden con 'missing' y ponerlos en 'other'?"
   ]
  },
  {
   "cell_type": "markdown",
   "id": "889349c1",
   "metadata": {
    "id": "889349c1"
   },
   "source": [
    "### `aisles` data frame"
   ]
  },
  {
   "cell_type": "code",
   "execution_count": 17,
   "id": "9da89fb9-4679-40f5-ad0d-c34df753a3f8",
   "metadata": {
    "id": "9da89fb9-4679-40f5-ad0d-c34df753a3f8"
   },
   "outputs": [
    {
     "data": {
      "text/plain": [
       "0"
      ]
     },
     "execution_count": 17,
     "metadata": {},
     "output_type": "execute_result"
    }
   ],
   "source": [
    "# Revisa si hay filas totalmente duplicadas\n",
    "df_aisles.duplicated().sum()"
   ]
  },
  {
   "cell_type": "code",
   "execution_count": 18,
   "id": "da7c2822",
   "metadata": {
    "id": "da7c2822"
   },
   "outputs": [
    {
     "name": "stdout",
     "output_type": "stream",
     "text": [
      "     aisle_id                          aisle\n",
      "100       101         air fresheners candles\n",
      "65         66                    asian foods\n",
      "81         82               baby accessories\n",
      "101       102            baby bath body care\n",
      "91         92              baby food formula\n",
      "..        ...                            ...\n",
      "59         60              trash bags liners\n",
      "46         47           vitamins supplements\n",
      "114       115  water seltzer sparkling water\n",
      "61         62                    white wines\n",
      "119       120                         yogurt\n",
      "\n",
      "[134 rows x 2 columns]\n",
      "0\n",
      "0\n"
     ]
    }
   ],
   "source": [
    "# Revisa si hay IDs duplicadas de productos\n",
    "df_aisles.sort_values('aisle',inplace=True)\n",
    "print(df_aisles)\n",
    "print(df_aisles['aisle_id'].duplicated().sum())\n",
    "print(df_aisles['aisle'].duplicated().sum())"
   ]
  },
  {
   "cell_type": "markdown",
   "id": "ac63826f",
   "metadata": {
    "id": "ac63826f"
   },
   "source": [
    "Describe brevemente tus hallazgos y lo que hiciste con ellos."
   ]
  },
  {
   "cell_type": "markdown",
   "id": "8203b91e-0c6a-48b0-b6bb-035020ad5eb7",
   "metadata": {},
   "source": [
    "+ En este dataframe no hay filas, IDs o nombres de isla duplicados"
   ]
  },
  {
   "cell_type": "markdown",
   "id": "274cd06a",
   "metadata": {
    "id": "274cd06a"
   },
   "source": [
    "### `order_products` data frame"
   ]
  },
  {
   "cell_type": "code",
   "execution_count": 19,
   "id": "52326689-84a8-4b8f-a881-7c68780f62c9",
   "metadata": {
    "id": "52326689-84a8-4b8f-a881-7c68780f62c9"
   },
   "outputs": [
    {
     "name": "stdout",
     "output_type": "stream",
     "text": [
      "<class 'pandas.core.frame.DataFrame'>\n",
      "RangeIndex: 4545007 entries, 0 to 4545006\n",
      "Data columns (total 4 columns):\n",
      " #   Column             Dtype  \n",
      "---  ------             -----  \n",
      " 0   order_id           int64  \n",
      " 1   product_id         int64  \n",
      " 2   add_to_cart_order  float64\n",
      " 3   reordered          int64  \n",
      "dtypes: float64(1), int64(3)\n",
      "memory usage: 138.7 MB\n",
      "         order_id  product_id  add_to_cart_order  reordered\n",
      "2955520    222736       18441                7.0          0\n",
      "1107281    422641       36866                4.0          1\n",
      "1978666    449517       14491               13.0          0\n",
      "4171905    669805       15937                2.0          1\n",
      "2590181    857377       24852                1.0          1\n",
      "1539214    905803        4605               18.0          1\n",
      "488055    1066579        8670               23.0          0\n",
      "4253089   1070123       25659                2.0          1\n",
      "1034634   1151756       49520                6.0          1\n",
      "1743358   1747641       21333                2.0          0\n",
      "3535156   1887598        4372               17.0          1\n",
      "3060357   2045480        4600                7.0          0\n",
      "3425330   2441717       25043               43.0          0\n",
      "760980    2654672       17948                8.0          1\n",
      "1026582   2715428       48428               10.0          1\n",
      "1567459   2792388       45190                1.0          1\n",
      "4301606   2823720       44632                9.0          1\n",
      "2773691   3137497       23094               12.0          1\n",
      "2720723   3194887       28601               14.0          1\n",
      "4456942   3368049       20738                2.0          0\n"
     ]
    },
    {
     "data": {
      "text/plain": [
       "0"
      ]
     },
     "execution_count": 19,
     "metadata": {},
     "output_type": "execute_result"
    }
   ],
   "source": [
    "# Revisa si hay filas totalmente duplicadas\n",
    "df_order_products.info()\n",
    "print(df_order_products.sample(20).sort_values(by='order_id'))\n",
    "df_order_products.duplicated().sum()"
   ]
  },
  {
   "cell_type": "code",
   "execution_count": 20,
   "id": "7b861391",
   "metadata": {
    "id": "7b861391"
   },
   "outputs": [
    {
     "name": "stdout",
     "output_type": "stream",
     "text": [
      "order_id             4.0\n",
      "product_id           1.0\n",
      "add_to_cart_order    1.0\n",
      "reordered            0.0\n",
      "dtype: float64\n",
      "order_id             3421077.0\n",
      "product_id             49694.0\n",
      "add_to_cart_order         64.0\n",
      "reordered                  1.0\n",
      "dtype: float64\n",
      "[      4       9      11 ... 3421053 3421071 3421077]\n",
      "         order_id  product_id  add_to_cart_order  reordered\n",
      "367       2867619       48094                9.0          0\n",
      "824        844425       39408               10.0          1\n",
      "1124      3319857       37067               19.0          0\n",
      "1258      1038788       12471               14.0          0\n",
      "1303      2825714       44632               16.0          1\n",
      "...           ...         ...                ...        ...\n",
      "4545002    577211       15290               12.0          1\n",
      "4545003   1219554       21914                9.0          0\n",
      "4545004    692640       47766                4.0          1\n",
      "4545005    319435         691                8.0          1\n",
      "4545006   1398151       28733                9.0          0\n",
      "\n",
      "[4094961 rows x 4 columns]\n",
      "         order_id  product_id  add_to_cart_order  reordered\n",
      "2834230         4       26434                2.0          1\n",
      "1295279         4       39758                3.0          1\n",
      "1169276         4       27761                4.0          1\n",
      "1420535         4       10054                5.0          1\n",
      "3977678         4       21351                6.0          1\n",
      "1172585         4       22598                7.0          1\n",
      "2043091         4       34862                8.0          1\n",
      "4107072         4       40285                9.0          1\n",
      "2507695         4       17616               10.0          1\n",
      "3189411         4       25146               11.0          1\n",
      "1299531         4       32645               12.0          1\n",
      "2502556         4       41276               13.0          1\n"
     ]
    }
   ],
   "source": [
    "# Vuelve a verificar si hay cualquier otro duplicado engañoso\n",
    "# print(df_order_products.min())\n",
    "# print(df_order_products.max())\n",
    "#Creo un nuevo dataframe con los duplicados que encuentre en la columna order_id\n",
    "df_duplicated_orders=df_order_products[df_order_products['order_id'].duplicated()]\n",
    "#Imprimo los valores mínimos y máximos de todas las columnas del nuevo dataframe\n",
    "print(df_duplicated_orders.min())\n",
    "print(df_duplicated_orders.max())\n",
    "#Imprimo una lista ordenada con los valores únicos de order_id\n",
    "print(df_duplicated_orders['order_id'].sort_values().unique())\n",
    "print(df_duplicated_orders)\n",
    "#Creo un dataframe nuevo que contenga únicamente elementos correspondientes a un número de orden determinado\n",
    "df_temp=df_duplicated_orders[df_duplicated_orders['order_id']==4]#Este 4 corresponde al número de orden que quiero filtrar\n",
    "df_temp=df_temp.sort_values(by='add_to_cart_order')\n",
    "print(df_temp)"
   ]
  },
  {
   "cell_type": "markdown",
   "id": "0b890492",
   "metadata": {
    "id": "0b890492"
   },
   "source": [
    "Describe brevemente tus hallazgos y lo que hiciste con ellos."
   ]
  },
  {
   "cell_type": "markdown",
   "id": "b351125b-0ab0-4bee-9792-50bf3d1e94fb",
   "metadata": {},
   "source": [
    "+ Este dataframe duplica el order_id para cada producto que se haya agregado en esa orden.\n",
    "+ El primer número de orden registrado es el 4. ¿Qué pasó con los anteriores?\n",
    "+ Al ordenar por número de orden, noté que hay más ordenes faltantes, debería ser una numeración consecutiva. ¿Por qué faltan números de orden?"
   ]
  },
  {
   "cell_type": "markdown",
   "id": "1e46de76",
   "metadata": {
    "id": "1e46de76"
   },
   "source": [
    "## Encuentra y elimina los valores ausentes\n",
    "\n",
    "Al trabajar con valores duplicados, pudimos observar que también nos falta investigar valores ausentes:\n",
    "\n",
    "* La columna `'product_name'` de la tabla products.\n",
    "* La columna `'days_since_prior_order'` de la tabla orders.\n",
    "* La columna `'add_to_cart_order'` de la tabla order_productos."
   ]
  },
  {
   "cell_type": "markdown",
   "id": "c0aebd78",
   "metadata": {
    "id": "c0aebd78"
   },
   "source": [
    "### `products` data frame"
   ]
  },
  {
   "cell_type": "code",
   "execution_count": 21,
   "id": "fe4a8b0f",
   "metadata": {
    "id": "fe4a8b0f"
   },
   "outputs": [
    {
     "name": "stdout",
     "output_type": "stream",
     "text": [
      "48436\n",
      "48332\n",
      "1258\n",
      "       product_id product_name  aisle_id  department_id\n",
      "37             38          NaN       100             21\n",
      "71             72          NaN       100             21\n",
      "109           110          NaN       100             21\n",
      "296           297          NaN       100             21\n",
      "416           417          NaN       100             21\n",
      "...           ...          ...       ...            ...\n",
      "49552       49553          NaN       100             21\n",
      "49574       49575          NaN       100             21\n",
      "49640       49641          NaN       100             21\n",
      "49663       49664          NaN       100             21\n",
      "49668       49669          NaN       100             21\n",
      "\n",
      "[1258 rows x 4 columns]\n"
     ]
    }
   ],
   "source": [
    "# Encuentra los valores ausentes en la columna 'product_name'\n",
    "#Busco e imprimo el número de productos únicos en el dataframe original\n",
    "df_unique=df_products['product_name'].nunique()\n",
    "print(df_unique)\n",
    "print(df_products['product_name'].str.upper().nunique())\n",
    "#Cuento el número de valores ausentes de la columna product_name\n",
    "print(df_products['product_name'].isna().sum())\n",
    "#Creo un nuevo dataframe con las filas que no tienen product_name\n",
    "df_NaN_products=df_products[df_products['product_name'].isna()]\n",
    "print(df_NaN_products)\n",
    "# print(df_products)"
   ]
  },
  {
   "cell_type": "markdown",
   "id": "-A6x1AbJhjkp",
   "metadata": {
    "id": "-A6x1AbJhjkp"
   },
   "source": [
    "Describe brevemente cuáles son tus hallazgos."
   ]
  },
  {
   "cell_type": "markdown",
   "id": "31503d5f-c858-4873-be3e-d8b0e7dd0204",
   "metadata": {},
   "source": [
    "+ Hay 48436 productos registrados, 1258 sin nombre, y suman en total los 49694 registros del dataframe original.\n",
    "+ Hay 104 elementos duplicados en los nombres de productos."
   ]
  },
  {
   "cell_type": "code",
   "execution_count": 22,
   "id": "e96167bc",
   "metadata": {
    "id": "e96167bc"
   },
   "outputs": [
    {
     "name": "stdout",
     "output_type": "stream",
     "text": [
      "[100]\n",
      "100\n",
      "100\n"
     ]
    }
   ],
   "source": [
    "#  ¿Todos los nombres de productos ausentes están relacionados con el pasillo con ID 100?\n",
    "print(df_NaN_products['aisle_id'].unique())\n",
    "print(df_NaN_products['aisle_id'].min())\n",
    "print(df_NaN_products['aisle_id'].max())"
   ]
  },
  {
   "cell_type": "markdown",
   "id": "WRpIfXRphpSL",
   "metadata": {
    "id": "WRpIfXRphpSL"
   },
   "source": [
    "Describe brevemente cuáles son tus hallazgos."
   ]
  },
  {
   "cell_type": "markdown",
   "id": "d2b63d0f-d3c8-4e3d-80e2-5a062d87c6aa",
   "metadata": {},
   "source": [
    "+ Sí,todos los productos a los que les falta nombre están relacionados con el ID 100"
   ]
  },
  {
   "cell_type": "code",
   "execution_count": 23,
   "id": "8fd0a541",
   "metadata": {
    "id": "8fd0a541"
   },
   "outputs": [
    {
     "name": "stdout",
     "output_type": "stream",
     "text": [
      "[21]\n",
      "21\n",
      "21\n"
     ]
    }
   ],
   "source": [
    "# ¿Todos los nombres de productos ausentes están relacionados con el departamento con ID 21?\n",
    "print(df_NaN_products['department_id'].unique())\n",
    "print(df_NaN_products['department_id'].min())\n",
    "print(df_NaN_products['department_id'].max())"
   ]
  },
  {
   "cell_type": "markdown",
   "id": "qDpdYn1Fht_I",
   "metadata": {
    "id": "qDpdYn1Fht_I"
   },
   "source": [
    "Describe brevemente cuáles son tus hallazgos."
   ]
  },
  {
   "cell_type": "markdown",
   "id": "075f81ed-0c7d-42d8-8d97-541a3a27bae3",
   "metadata": {},
   "source": [
    "+ Sí, todos los productos a los que les falta nombre están relacionados con el ID 21"
   ]
  },
  {
   "cell_type": "code",
   "execution_count": 24,
   "id": "325c3464",
   "metadata": {
    "id": "325c3464"
   },
   "outputs": [
    {
     "name": "stdout",
     "output_type": "stream",
     "text": [
      "    aisle_id    aisle\n",
      "99       100  missing\n",
      "    department_id department\n",
      "20             21    missing\n"
     ]
    }
   ],
   "source": [
    "# Usa las tablas department y aisle para revisar los datos del pasillo con ID 100 y el departamento con ID 21.\n",
    "print(df_aisles[df_aisles['aisle_id']==100])\n",
    "print(df_departments[df_departments['department_id']==21])"
   ]
  },
  {
   "cell_type": "markdown",
   "id": "nqhSTUPhhvEJ",
   "metadata": {
    "id": "nqhSTUPhhvEJ"
   },
   "source": [
    "Describe brevemente cuáles son tus hallazgos."
   ]
  },
  {
   "cell_type": "markdown",
   "id": "eaaddfc9-9636-4d46-b062-f5864284e9d4",
   "metadata": {},
   "source": [
    "+ El ID 100 no tiene un nombre\n",
    "+ El ID 21 no tiene un nombre\n",
    "+ Los productos que no tienen nombre están catalogados con aisle_id \"missing\" y department_id \"missing\". Esto me sugiere que esos productos ya no están disponibles. "
   ]
  },
  {
   "cell_type": "code",
   "execution_count": 25,
   "id": "6b295120",
   "metadata": {
    "id": "6b295120"
   },
   "outputs": [
    {
     "name": "stdout",
     "output_type": "stream",
     "text": [
      "product_id       0\n",
      "product_name     0\n",
      "aisle_id         0\n",
      "department_id    0\n",
      "dtype: int64\n",
      "0\n",
      "Empty DataFrame\n",
      "Columns: [product_id, product_name, aisle_id, department_id]\n",
      "Index: []\n"
     ]
    }
   ],
   "source": [
    "# Completa los nombres de productos ausentes con 'Unknown'\n",
    "df_products['product_name']=df_products['product_name'].fillna('unknown')\n",
    "#Imprimo la suma de valores ausentes por columna del dataframe original\n",
    "print(df_products.isna().sum())\n",
    "#Imprimo la suma de valores ausentes sólo de la columna product_name del dataframe original\n",
    "print(df_products['product_name'].isna().sum())\n",
    "#Creo un nuevo dataframe que contenga sólo los valores ausentes de la columna product_name y lo imprimo\n",
    "df_NaN_products=df_products[df_products['product_name'].isna()]\n",
    "print(df_NaN_products)"
   ]
  },
  {
   "cell_type": "markdown",
   "id": "fc70e5ad",
   "metadata": {
    "id": "fc70e5ad"
   },
   "source": [
    "Describe brevemente tus hallazgos y lo que hiciste con ellos."
   ]
  },
  {
   "cell_type": "markdown",
   "id": "39578d53-c927-455b-afd1-265d0b45416f",
   "metadata": {},
   "source": [
    "+ Cambié los valores ausentes por 'unknown' para poder utilizar todos los registros del dataframe como parte del análisis."
   ]
  },
  {
   "cell_type": "markdown",
   "id": "7eb45c86",
   "metadata": {
    "id": "7eb45c86"
   },
   "source": [
    "### `orders` data frame"
   ]
  },
  {
   "cell_type": "code",
   "execution_count": 26,
   "id": "93e41d96",
   "metadata": {
    "id": "93e41d96"
   },
   "outputs": [
    {
     "data": {
      "text/plain": [
       "index                         0\n",
       "order_id                      0\n",
       "user_id                       0\n",
       "order_number                  0\n",
       "order_dow                     0\n",
       "order_hour_of_day             0\n",
       "days_since_prior_order    28817\n",
       "dtype: int64"
      ]
     },
     "execution_count": 26,
     "metadata": {},
     "output_type": "execute_result"
    }
   ],
   "source": [
    "# Encuentra los valores ausentes\n",
    "df_instacart_orders.isna().sum()"
   ]
  },
  {
   "cell_type": "code",
   "execution_count": 27,
   "id": "166e5a86",
   "metadata": {
    "id": "166e5a86"
   },
   "outputs": [
    {
     "name": "stdout",
     "output_type": "stream",
     "text": [
      "         index  order_id  user_id  order_number  order_dow  order_hour_of_day  \\\n",
      "28          28    133707   182261             1          3                 10   \n",
      "96          96    787445    25685             1          6                 18   \n",
      "100        100    294410   111449             1          0                 19   \n",
      "103        103   2869915   123958             1          4                 16   \n",
      "104        104   2521921    42286             1          3                 18   \n",
      "...        ...       ...      ...           ...        ...                ...   \n",
      "478880  478895   2589657   205028             1          0                 16   \n",
      "478881  478896   2222353   141211             1          2                 13   \n",
      "478907  478922   2272807   204154             1          1                 15   \n",
      "478911  478926   2499542    68810             1          4                 19   \n",
      "478930  478945   1387033    22496             1          5                 14   \n",
      "\n",
      "        days_since_prior_order  \n",
      "28                         NaN  \n",
      "96                         NaN  \n",
      "100                        NaN  \n",
      "103                        NaN  \n",
      "104                        NaN  \n",
      "...                        ...  \n",
      "478880                     NaN  \n",
      "478881                     NaN  \n",
      "478907                     NaN  \n",
      "478911                     NaN  \n",
      "478930                     NaN  \n",
      "\n",
      "[28817 rows x 7 columns]\n",
      "1\n",
      "1\n"
     ]
    }
   ],
   "source": [
    "# ¿Hay algún valor ausente que no sea el primer pedido del cliente?\n",
    "#Creo un nuevo dataframe que guarde todas las filas cuyo valor en la columna days_since_prior_order sea nulo/ausente\n",
    "df_NaN_orders = df_instacart_orders[df_instacart_orders['days_since_prior_order'].isna()]\n",
    "print(df_NaN_orders)\n",
    "#Imprimo los valores mínimo y máximo de la columna order_number para comprobar si hay números de orden distintos de 1\n",
    "print(df_NaN_orders['order_number'].min())\n",
    "print(df_NaN_orders['order_number'].max())"
   ]
  },
  {
   "cell_type": "markdown",
   "id": "4e23d089",
   "metadata": {
    "id": "4e23d089"
   },
   "source": [
    "Describe brevemente tus hallazgos y lo que hiciste con ellos."
   ]
  },
  {
   "cell_type": "markdown",
   "id": "be15f6e5-f705-4704-9e57-0e9236106f04",
   "metadata": {},
   "source": [
    "+ Los valores ausentes para days_since_prior_order corresponden a todas las órdenes número 1 de todos los clientes. Esto me sugiere que el sistema no registra los días transcurridos desde la última orden puesto que es un cliente/orden nuevo."
   ]
  },
  {
   "cell_type": "markdown",
   "id": "69dc9ca4",
   "metadata": {
    "id": "69dc9ca4"
   },
   "source": [
    "### `order_products` data frame"
   ]
  },
  {
   "cell_type": "code",
   "execution_count": 28,
   "id": "b8240253",
   "metadata": {
    "id": "b8240253"
   },
   "outputs": [
    {
     "data": {
      "text/plain": [
       "order_id               0\n",
       "product_id             0\n",
       "add_to_cart_order    836\n",
       "reordered              0\n",
       "dtype: int64"
      ]
     },
     "execution_count": 28,
     "metadata": {},
     "output_type": "execute_result"
    }
   ],
   "source": [
    "# Encuentra los valores ausentes\n",
    "df_order_products.isna().sum()"
   ]
  },
  {
   "cell_type": "code",
   "execution_count": 29,
   "id": "9a78e5ee",
   "metadata": {
    "id": "9a78e5ee"
   },
   "outputs": [
    {
     "name": "stdout",
     "output_type": "stream",
     "text": [
      "1.0\n",
      "64.0\n",
      "[ 1.  2.  3.  4.  5.  6.  7.  8.  9. 10. 11. 12. 13. 14. 15. 16. 17. 18.\n",
      " 19. 20. 21. 22. 23. 24. 25. 26. 27. 28. 29. 30. 31. 32. 33. 34. 35. 36.\n",
      " 37. 38. 39. 40. 41. 42. 43. 44. 45. 46. 47. 48. 49. 50. 51. 52. 53. 54.\n",
      " 55. 56. 57. 58. 59. 60. 61. 62. 63. 64. nan]\n",
      "         order_id  product_id  add_to_cart_order  reordered\n",
      "2437093      9310       25753                NaN          0\n",
      "3195573     61355       39972                NaN          0\n",
      "3941595     61355       17807                NaN          0\n",
      "2968806     61355       29660                NaN          0\n",
      "3965219     61355       49325                NaN          0\n",
      "...           ...         ...                ...        ...\n",
      "3760909   3383594          63                NaN          0\n",
      "3784932   3383594       49144                NaN          1\n",
      "2772397   3383594       46710                NaN          0\n",
      "1537276   3383594       15076                NaN          0\n",
      "1038616   3383594       15424                NaN          1\n",
      "\n",
      "[836 rows x 4 columns]\n"
     ]
    }
   ],
   "source": [
    "# ¿Cuáles son los valores mínimos y máximos en esta columna?\n",
    "print(df_order_products['add_to_cart_order'].min())\n",
    "print(df_order_products['add_to_cart_order'].max())\n",
    "print(df_order_products['add_to_cart_order'].sort_values().unique())\n",
    "df_NaN_cart=df_order_products[df_order_products['add_to_cart_order'].isna()]\n",
    "print(df_NaN_cart.sort_values(by='order_id'))"
   ]
  },
  {
   "cell_type": "markdown",
   "id": "-Z2Ja215jW78",
   "metadata": {
    "id": "-Z2Ja215jW78"
   },
   "source": [
    "Describe brevemente cuáles son tus hallazgos."
   ]
  },
  {
   "cell_type": "markdown",
   "id": "ef62bdc8-cbaf-43cd-90cf-89caf7632210",
   "metadata": {},
   "source": [
    "+ El número mínimo de orden en que se añadió algo al carrito es 1\n",
    "+ El número máximo de orden en que se añadió algo al carrito es 64.\n",
    "+ Comprobé que no faltan elementos intermedios, pero esto no comprueba que para una sola orden no hace falta algún elemento intermedio."
   ]
  },
  {
   "cell_type": "code",
   "execution_count": 30,
   "id": "ab9d0c2b",
   "metadata": {
    "id": "ab9d0c2b"
   },
   "outputs": [
    {
     "name": "stdout",
     "output_type": "stream",
     "text": [
      "         order_id  product_id  add_to_cart_order  reordered\n",
      "2437093      9310       25753                NaN          0\n",
      "3195573     61355       39972                NaN          0\n",
      "3941595     61355       17807                NaN          0\n",
      "2968806     61355       29660                NaN          0\n",
      "3965219     61355       49325                NaN          0\n",
      "...           ...         ...                ...        ...\n",
      "3760909   3383594          63                NaN          0\n",
      "3784932   3383594       49144                NaN          1\n",
      "2772397   3383594       46710                NaN          0\n",
      "1537276   3383594       15076                NaN          0\n",
      "1038616   3383594       15424                NaN          1\n",
      "\n",
      "[836 rows x 4 columns]\n"
     ]
    }
   ],
   "source": [
    "# Guarda todas las IDs de pedidos que tengan un valor ausente en 'add_to_cart_order'\n",
    "df_NaN_cart=df_order_products[df_order_products['add_to_cart_order'].isna()]\n",
    "print(df_NaN_cart.sort_values(by='order_id'))"
   ]
  },
  {
   "cell_type": "code",
   "execution_count": 31,
   "id": "54c31695",
   "metadata": {
    "id": "54c31695"
   },
   "outputs": [
    {
     "name": "stdout",
     "output_type": "stream",
     "text": [
      "[   9310   61355  102236  129627  165801  171934  180546  264710  293169\n",
      "  388234  404157  678116  733526  747668  813364  844733  854647  871281\n",
      "  888470  903110  936852 1021563 1038146 1169835 1183255 1220886 1302315\n",
      " 1308785 1386261 1477139 1529171 1564093 1598369 1625713 1633337 1648217\n",
      " 1673227 1677118 1713430 1717990 1730767 1800005 1832957 1888628 1916118\n",
      " 1959075 1961723 1968313 2094761 2136777 2170451 2256933 2409109 2449164\n",
      " 2470674 2479011 2621907 2625444 2652650 2721963 2729254 2849370 2926893\n",
      " 2979697 2997021 2999801 3125735 3308010 3347453 3383594]\n",
      "         order_id  product_id  add_to_cart_order  reordered\n",
      "1359666   1598369       19453                NaN          0\n",
      "          product_id  add_to_cart_order  reordered\n",
      "order_id                                          \n",
      "9310               1                  0          1\n",
      "61355             63                  0         63\n",
      "102236            31                  0         31\n",
      "129627             5                  0          5\n",
      "165801             6                  0          6\n",
      "...              ...                ...        ...\n",
      "2999801            6                  0          6\n",
      "3125735           22                  0         22\n",
      "3308010           51                  0         51\n",
      "3347453            7                  0          7\n",
      "3383594            5                  0          5\n",
      "\n",
      "[70 rows x 3 columns]\n",
      "product_id           1\n",
      "add_to_cart_order    0\n",
      "reordered            1\n",
      "dtype: int64\n"
     ]
    }
   ],
   "source": [
    "# ¿Todos los pedidos con valores ausentes tienen más de 64 productos?\n",
    "print(df_NaN_cart['order_id'].sort_values().unique())\n",
    "print(df_NaN_cart[df_NaN_cart['order_id']==1598369])\n",
    "# Agrupa todos los pedidos con datos ausentes por su ID de pedido.\n",
    "df_groupby_order=df_NaN_cart.groupby(by='order_id')\n",
    "\n",
    "# Cuenta el número de 'product_id' en cada pedido y revisa el valor mínimo del conteo.\n",
    "print(df_groupby_order.count())\n",
    "print(df_groupby_order.count().min())"
   ]
  },
  {
   "cell_type": "markdown",
   "id": "p9V6pddtjglj",
   "metadata": {
    "id": "p9V6pddtjglj"
   },
   "source": [
    "Describe brevemente cuáles son tus hallazgos."
   ]
  },
  {
   "cell_type": "markdown",
   "id": "67d0f201-3b0a-4a0b-9432-c0bb6c4b07d1",
   "metadata": {},
   "source": [
    "+ No todos los pedidos con valores ausentes tienen más de 64 productos en la lista."
   ]
  },
  {
   "cell_type": "code",
   "execution_count": 32,
   "id": "7a987d08",
   "metadata": {
    "id": "7a987d08"
   },
   "outputs": [
    {
     "name": "stdout",
     "output_type": "stream",
     "text": [
      "int32\n"
     ]
    },
    {
     "data": {
      "text/plain": [
       "order_id             0\n",
       "product_id           0\n",
       "add_to_cart_order    0\n",
       "reordered            0\n",
       "dtype: int64"
      ]
     },
     "execution_count": 32,
     "metadata": {},
     "output_type": "execute_result"
    }
   ],
   "source": [
    "# Remplaza los valores ausentes en la columna 'add_to_cart? con 999 y convierte la columna al tipo entero.\n",
    "df_order_products['add_to_cart_order']=df_order_products['add_to_cart_order'].fillna(999).astype('int')\n",
    "print(df_order_products['add_to_cart_order'].dtypes)\n",
    "df_order_products.isna().sum()"
   ]
  },
  {
   "cell_type": "markdown",
   "id": "fea4bcc7",
   "metadata": {
    "id": "fea4bcc7"
   },
   "source": [
    "Describe brevemente tus hallazgos y lo que hiciste con ellos."
   ]
  },
  {
   "cell_type": "markdown",
   "id": "55088c7a-a0e6-4436-9aa7-b34ab6dfd0ed",
   "metadata": {},
   "source": [
    "+ No comprendo de qué sirve asignarle un número tan grande a los ausentes en esa columna. "
   ]
  },
  {
   "cell_type": "markdown",
   "id": "RnplPFY1gSrb",
   "metadata": {
    "id": "RnplPFY1gSrb"
   },
   "source": [
    "## Conclusiones\n",
    "\n",
    "Escribe aquí tus conclusiones intermedias sobre el Paso 2. Preprocesamiento de los datos\n"
   ]
  },
  {
   "cell_type": "markdown",
   "id": "eb420665-86a7-4f27-9f14-a9f8b63e4cda",
   "metadata": {},
   "source": [
    "+ Los datos en general proporcionan buena información sin hacer muchas transformaciones.\n",
    "+ Algunos valores ausentes pueden deberse a condiciones programadas en el sistema, como el caso de usuarios/órdenes nuevas.\n",
    "+ Había algunas órdenes y productos duplicados en los registros. Las órdenes duplicadas se pueden eliminar, los productos duplicados no porque a pesar de duplicar su nombre, tienen un ID de producto diferente y por tanto pudieron haber sido seleccionados en alguna orden. Eliminar estos productos podría traer problemas al análisis.\n"
   ]
  },
  {
   "cell_type": "markdown",
   "id": "UjrOIwTcz3ri",
   "metadata": {
    "id": "UjrOIwTcz3ri"
   },
   "source": [
    "# Paso 3. Análisis de los datos\n",
    "\n",
    "Una vez los datos estén procesados y listos, haz el siguiente análisis:"
   ]
  },
  {
   "cell_type": "markdown",
   "id": "turkish-kidney",
   "metadata": {
    "id": "turkish-kidney"
   },
   "source": [
    "# [A] Fácil (deben completarse todos para aprobar)\n",
    "\n",
    "1. Verifica que los valores en las columnas `'order_hour_of_day'` y `'order_dow'` en la tabla orders sean razonables (es decir, `'order_hour_of_day'` oscile entre 0 y 23 y `'order_dow'` oscile entre 0 y 6).\n",
    "2. Crea un gráfico que muestre el número de personas que hacen pedidos dependiendo de la hora del día.\n",
    "3. Crea un gráfico que muestre qué día de la semana la gente hace sus compras.\n",
    "4. Crea un gráfico que muestre el tiempo que la gente espera hasta hacer su siguiente pedido, y comenta sobre los valores mínimos y máximos."
   ]
  },
  {
   "cell_type": "markdown",
   "id": "short-capability",
   "metadata": {
    "id": "short-capability"
   },
   "source": [
    "### [A1] Verifica que los valores sean sensibles"
   ]
  },
  {
   "cell_type": "code",
   "execution_count": 33,
   "id": "growing-fruit",
   "metadata": {
    "id": "growing-fruit"
   },
   "outputs": [
    {
     "name": "stdout",
     "output_type": "stream",
     "text": [
      "[0 1 2 3 4 5 6]\n",
      "int64\n"
     ]
    }
   ],
   "source": [
    "print(df_instacart_orders['order_dow'].sort_values().unique())\n",
    "print(df_instacart_orders['order_dow'].dtypes)"
   ]
  },
  {
   "cell_type": "code",
   "execution_count": 34,
   "id": "accessory-malaysia",
   "metadata": {
    "id": "accessory-malaysia"
   },
   "outputs": [
    {
     "name": "stdout",
     "output_type": "stream",
     "text": [
      "[ 0  1  2  3  4  5  6  7  8  9 10 11 12 13 14 15 16 17 18 19 20 21 22 23]\n",
      "int64\n"
     ]
    }
   ],
   "source": [
    "print(df_instacart_orders['order_hour_of_day'].sort_values().unique())\n",
    "print(df_instacart_orders['order_hour_of_day'].dtypes)"
   ]
  },
  {
   "cell_type": "markdown",
   "id": "hmR2GNQ6lCsX",
   "metadata": {
    "id": "hmR2GNQ6lCsX"
   },
   "source": [
    "Escribe aquí tus conclusiones"
   ]
  },
  {
   "cell_type": "markdown",
   "id": "8212d891-8c83-4e19-9cb9-aab9addbd625",
   "metadata": {},
   "source": [
    "+ Los valores en esas columnas están dentro de los rangos especificados"
   ]
  },
  {
   "cell_type": "markdown",
   "id": "a6743a70",
   "metadata": {
    "id": "a6743a70"
   },
   "source": [
    "### [A2] Para cada hora del día, ¿cuántas personas hacen órdenes?"
   ]
  },
  {
   "cell_type": "code",
   "execution_count": 35,
   "id": "a36cca27",
   "metadata": {
    "id": "a36cca27"
   },
   "outputs": [
    {
     "data": {
      "image/png": "[encoded data removed]",
      "text/plain": [
       "<Figure size 640x480 with 1 Axes>"
      ]
     },
     "metadata": {},
     "output_type": "display_data"
    },
    {
     "name": "stdout",
     "output_type": "stream",
     "text": [
      "order_hour_of_day\n",
      "4       765\n",
      "3       770\n",
      "2       989\n",
      "5      1371\n",
      "1      1763\n",
      "0      3180\n",
      "6      4215\n",
      "23     5611\n",
      "22     8512\n",
      "21    11019\n",
      "7     13043\n",
      "20    14624\n",
      "19    19547\n",
      "8     25024\n",
      "18    25510\n",
      "17    31930\n",
      "9     35896\n",
      "12    38034\n",
      "16    38112\n",
      "13    39007\n",
      "14    39631\n",
      "15    39789\n",
      "11    40032\n",
      "10    40578\n",
      "Name: order_id, dtype: int64\n",
      "<class 'pandas.core.frame.DataFrame'>\n",
      "RangeIndex: 478952 entries, 0 to 478951\n",
      "Data columns (total 7 columns):\n",
      " #   Column                  Non-Null Count   Dtype  \n",
      "---  ------                  --------------   -----  \n",
      " 0   index                   478952 non-null  int64  \n",
      " 1   order_id                478952 non-null  int64  \n",
      " 2   user_id                 478952 non-null  int64  \n",
      " 3   order_number            478952 non-null  int64  \n",
      " 4   order_dow               478952 non-null  int64  \n",
      " 5   order_hour_of_day       478952 non-null  int64  \n",
      " 6   days_since_prior_order  450135 non-null  float64\n",
      "dtypes: float64(1), int64(6)\n",
      "memory usage: 25.6 MB\n",
      "None\n",
      "13053\n",
      "2.7253252935576007\n",
      "80610\n",
      "16.830496584208856\n"
     ]
    }
   ],
   "source": [
    "#Creo un histograma que muestre el número de órdenes por cada hora del día y lo imprimo\n",
    "orders_per_hour = df_instacart_orders['order_hour_of_day'].plot(kind='hist',\n",
    "                                              bins=24,\n",
    "                                              title='Orders per hour',\n",
    "                                              xlabel='Hours',\n",
    "                                              ylabel='Number of orders',\n",
    "                                              xlim=[0,23])\n",
    "plt.show(orders_per_hour)\n",
    "#Agrupo todas las órdenes por hora del día y cuento el número de órdenes, después ordeno esta lista de menor a mayor\n",
    "print(df_instacart_orders.groupby(by='order_hour_of_day')['order_id'].count().sort_values())\n",
    "#Obtengo información del dataframe original\n",
    "print(df_instacart_orders.info())\n",
    "#Filtro del dataframe original todas las órdenes que se hacen desde media noche hasta las 6 am\n",
    "morning_orders=df_instacart_orders[df_instacart_orders['order_hour_of_day']<=6]\n",
    "print(morning_orders['order_id'].count())\n",
    "#Calculo la relación entre todas estas órdenes y el número total de órdenes registradas\n",
    "morning_orders_ratio=morning_orders['order_id'].count()/df_instacart_orders['order_id'].count()*100\n",
    "print(morning_orders_ratio)\n",
    "#Filtro del dataframe original todas las órdenes que se hacen a las 10 y 11 am\n",
    "top_orders=df_instacart_orders[(df_instacart_orders['order_hour_of_day']==10) | (df_instacart_orders['order_hour_of_day']==11)]\n",
    "print(top_orders['order_id'].count())\n",
    "#Calculo la relación entre todas estas órdenes y el número total de órdenes registradas\n",
    "top_orders_ratio=top_orders['order_id'].count()/df_instacart_orders['order_id'].count()*100\n",
    "print(top_orders_ratio)"
   ]
  },
  {
   "cell_type": "markdown",
   "id": "11270eed",
   "metadata": {
    "id": "11270eed"
   },
   "source": [
    "Escribe aquí tus conclusiones"
   ]
  },
  {
   "cell_type": "markdown",
   "id": "1708c6e6-c811-4a5b-923c-4d2da7990880",
   "metadata": {},
   "source": [
    "+ El mayor número de órdenes se dan entre 8 am y 6 pm.\n",
    "+ Las 10 y 11 am muestran el tope de órdenes registradas.\n",
    "+ Hay menos de 5000 órdenes registradas cada hora, de la media noche a las 6 am.\n",
    "+ El número de órdenes entre media noche y 6 am representa sólo el 2.72% del total de órdenes registradas.\n",
    "+ El número de órdenes a las 10 y 11 am representa en conjunto el 16.83% del total de órdenes registradas."
   ]
  },
  {
   "cell_type": "markdown",
   "id": "documented-command",
   "metadata": {
    "id": "documented-command"
   },
   "source": [
    "### [A3] ¿Qué día de la semana compran víveres las personas?"
   ]
  },
  {
   "cell_type": "code",
   "execution_count": 36,
   "id": "chief-digit",
   "metadata": {
    "id": "chief-digit"
   },
   "outputs": [
    {
     "data": {
      "image/png": "[encoded data removed]",
      "text/plain": [
       "<Figure size 640x480 with 1 Axes>"
      ]
     },
     "metadata": {},
     "output_type": "display_data"
    },
    {
     "name": "stdout",
     "output_type": "stream",
     "text": [
      "order_dow\n",
      "4    59810\n",
      "3    60897\n",
      "6    62649\n",
      "5    63488\n",
      "2    65833\n",
      "1    82185\n",
      "0    84090\n",
      "Name: order_id, dtype: int64\n"
     ]
    }
   ],
   "source": [
    "#Creo un histograma que muestre el número de órdenes por día y lo imprimo\n",
    "orders_per_day = df_instacart_orders['order_dow'].plot(kind='hist',\n",
    "                                              bins=7,\n",
    "                                              title='Orders per day',\n",
    "                                              xlabel='Days (0 is sunday)',\n",
    "                                              ylabel='Number of orders',\n",
    "                                              xlim=[0,6])\n",
    "plt.show(orders_per_day)\n",
    "#Agrupo todas las órdenes por día y cuento el número de órdenes, después ordeno esta lista de menor a mayor\n",
    "print(df_instacart_orders.groupby(by='order_dow')['order_id'].count().sort_values())"
   ]
  },
  {
   "cell_type": "markdown",
   "id": "dominant-lightning",
   "metadata": {
    "id": "dominant-lightning"
   },
   "source": [
    "Escribe aquí tus conclusiones"
   ]
  },
  {
   "cell_type": "markdown",
   "id": "cb341dff-ca4c-421b-82a1-cc4637721f9d",
   "metadata": {},
   "source": [
    "+ El domingo y lunes son los días que registran más órdenes\n",
    "+ De martes a sábado, el número de órdenes se muestra más estable, entre 60 y 65 mil órdenes por día."
   ]
  },
  {
   "cell_type": "markdown",
   "id": "cutting-concert",
   "metadata": {
    "id": "cutting-concert"
   },
   "source": [
    "### [A4] ¿Cuánto tiempo esperan las personas hasta hacer otro pedido? Comenta sobre los valores mínimos y máximos."
   ]
  },
  {
   "cell_type": "code",
   "execution_count": 37,
   "id": "c231f523",
   "metadata": {
    "id": "c231f523"
   },
   "outputs": [
    {
     "name": "stdout",
     "output_type": "stream",
     "text": [
      "0.0\n",
      "30.0\n"
     ]
    },
    {
     "data": {
      "image/png": "[encoded data removed]",
      "text/plain": [
       "<Figure size 640x480 with 1 Axes>"
      ]
     },
     "metadata": {},
     "output_type": "display_data"
    }
   ],
   "source": [
    "#Creo un histograma que muestre el número de órdenes por día y lo imprimo\n",
    "print(df_instacart_orders['days_since_prior_order'].min())\n",
    "print(df_instacart_orders['days_since_prior_order'].max())\n",
    "days_to_order = df_instacart_orders['days_since_prior_order'].plot(kind='hist',\n",
    "                                              bins=30,\n",
    "                                              title='Days since prior order',\n",
    "                                              xlabel='Number of days',\n",
    "                                              ylabel='Number of orders',\n",
    "                                              xlim=[0,30])\n",
    "plt.show(days_to_order)"
   ]
  },
  {
   "cell_type": "markdown",
   "id": "discrete-vertex",
   "metadata": {
    "id": "discrete-vertex"
   },
   "source": [
    "Escribe aquí tus conclusiones"
   ]
  },
  {
   "cell_type": "markdown",
   "id": "7cb3858c-895a-4c3a-be62-2edb829fe879",
   "metadata": {},
   "source": [
    "+ El tiempo mínimo de espera para hacer un pedido nuevo es de 0 días.\n",
    "+ El tiempo mínimo de espera para hacer un pedido nuevo es de 30 días.\n",
    "+ Los tiempos de espera más usuales son 7 y 30 días."
   ]
  },
  {
   "cell_type": "markdown",
   "id": "tight-staff",
   "metadata": {
    "id": "tight-staff"
   },
   "source": [
    "# [B] Intermedio (deben completarse todos para aprobar)\n",
    "\n",
    "1. ¿Existe alguna diferencia entre las distribuciones `'order_hour_of_day'` de los miércoles y los sábados? Traza gráficos de barra de `'order_hour_of_day'` para ambos días en la misma figura y describe las diferencias que observes.\n",
    "2. Grafica la distribución para el número de órdenes que hacen los clientes (es decir, cuántos clientes hicieron solo 1 pedido, cuántos hicieron 2, cuántos 3, y así sucesivamente...).\n",
    "3. ¿Cuáles son los 20 principales productos que se piden con más frecuencia (muestra su identificación y nombre)?"
   ]
  },
  {
   "cell_type": "markdown",
   "id": "packed-classic",
   "metadata": {
    "id": "packed-classic"
   },
   "source": [
    "### [B1] Diferencia entre miércoles y sábados para  `'order_hour_of_day'`. Traza gráficos de barra para los dos días y describe las diferencias que veas."
   ]
  },
  {
   "cell_type": "code",
   "execution_count": 38,
   "id": "d89b8403",
   "metadata": {
    "id": "d89b8403"
   },
   "outputs": [
    {
     "data": {
      "image/png": "[encoded data removed]",
      "text/plain": [
       "<Figure size 640x480 with 1 Axes>"
      ]
     },
     "metadata": {},
     "output_type": "display_data"
    },
    {
     "name": "stdout",
     "output_type": "stream",
     "text": [
      "order_hour_of_day\n",
      "0      373\n",
      "1      215\n",
      "2      106\n",
      "3      101\n",
      "4      108\n",
      "5      170\n",
      "6      643\n",
      "7     1732\n",
      "8     3125\n",
      "9     4490\n",
      "10    5026\n",
      "11    5004\n",
      "12    4688\n",
      "13    4674\n",
      "14    4774\n",
      "15    5163\n",
      "16    4976\n",
      "17    4175\n",
      "18    3463\n",
      "19    2652\n",
      "20    1917\n",
      "21    1450\n",
      "22    1154\n",
      "23     718\n",
      "Name: order_hour_of_day, dtype: int64\n",
      "order_hour_of_day\n",
      "0      464\n",
      "1      254\n",
      "2      177\n",
      "3      125\n",
      "4      118\n",
      "5      161\n",
      "6      451\n",
      "7     1619\n",
      "8     3246\n",
      "9     4311\n",
      "10    4919\n",
      "11    5116\n",
      "12    5132\n",
      "13    5323\n",
      "14    5375\n",
      "15    5188\n",
      "16    5029\n",
      "17    4295\n",
      "18    3338\n",
      "19    2610\n",
      "20    1847\n",
      "21    1473\n",
      "22    1185\n",
      "23     893\n",
      "Name: order_hour_of_day, dtype: int64\n"
     ]
    }
   ],
   "source": [
    "#Creo un histograma que muestre el número de órdenes por cada hora del día los miércoles y lo imprimo\n",
    "df_instacart_orders[df_instacart_orders['order_dow']==3]['order_hour_of_day'].plot(kind='hist',\n",
    "                                              bins=24,\n",
    "                                              title='Orders per hour on wenesday',\n",
    "                                              xlabel='Hours',\n",
    "                                              ylabel='Number of orders',\n",
    "                                              xlim=[0,23])\n",
    "#plt.show()\n",
    "#Creo un histograma que muestre el número de órdenes por cada hora del día los sábados y lo imprimo\n",
    "df_instacart_orders[df_instacart_orders['order_dow']==6]['order_hour_of_day'].plot(kind='hist',\n",
    "                                              bins=24,\n",
    "                                              title='Orders per hour on saturday',\n",
    "                                              xlabel='Hours',\n",
    "                                              ylabel='Number of orders',\n",
    "                                              xlim=[0,23],\n",
    "                                              alpha=0.6)\n",
    "#Imprimo ambos histogramas en la misma gráfica\n",
    "plt.legend(['Wednesday','Saturday'])\n",
    "plt.show()\n",
    "\n",
    "#Imprimo el número de órdenes para el miércoles y sábado, agrupados por horas del día\n",
    "print(df_instacart_orders[df_instacart_orders['order_dow']==3].groupby(by='order_hour_of_day')['order_hour_of_day'].count())#['order_hour_of_day'].sort_values())\n",
    "print(df_instacart_orders[df_instacart_orders['order_dow']==6].groupby(by='order_hour_of_day')['order_hour_of_day'].count())#['order_hour_of_day'].sort_values())"
   ]
  },
  {
   "cell_type": "markdown",
   "id": "charitable-congo",
   "metadata": {
    "id": "charitable-congo"
   },
   "source": [
    "Escribe aquí tus conclusiones"
   ]
  },
  {
   "cell_type": "markdown",
   "id": "bf70c63e-6f20-445e-95df-529c7ffbbbfe",
   "metadata": {},
   "source": [
    "+  Sí hay diferencia en las distribuciones de órdenes de los miércoles contra los sábados aunque sólo en las horas pico entre 10 am y 1 pm. "
   ]
  },
  {
   "cell_type": "markdown",
   "id": "e3891143",
   "metadata": {
    "id": "e3891143"
   },
   "source": [
    "### [B2] ¿Cuál es la distribución para el número de pedidos por cliente?"
   ]
  },
  {
   "cell_type": "code",
   "execution_count": 39,
   "id": "d8c26c23",
   "metadata": {
    "id": "d8c26c23"
   },
   "outputs": [
    {
     "name": "stdout",
     "output_type": "stream",
     "text": [
      "1\n",
      "100\n"
     ]
    },
    {
     "data": {
      "image/png": "[encoded data removed]",
      "text/plain": [
       "<Figure size 640x480 with 1 Axes>"
      ]
     },
     "metadata": {},
     "output_type": "display_data"
    }
   ],
   "source": [
    "#Imprimo el mínimo número de órdenes registradas\n",
    "print(df_instacart_orders['order_number'].min())\n",
    "#Imprimo el máximo número de órdenes registradas\n",
    "print(df_instacart_orders['order_number'].max())\n",
    "#print(df_instacart_orders.groupby(by='order_number').count().sort_values(by='order_id',ascending=False))\n",
    "#Creo un histograma que muestre en cada barra el número de órdenes hechas.\n",
    "df_orders_per_client = df_instacart_orders['order_number'].plot(kind='hist',\n",
    "                                                                bins=25,\n",
    "                                                                title='Number of orders per client',\n",
    "                                                                xlabel='Ordered X times',\n",
    "                                                                ylabel='Number of clients')\n",
    "plt.show()"
   ]
  },
  {
   "cell_type": "markdown",
   "id": "d2eff7d5",
   "metadata": {
    "id": "d2eff7d5"
   },
   "source": [
    "Escribe aquí tus conclusiones"
   ]
  },
  {
   "cell_type": "markdown",
   "id": "2c8a88ec-46be-4ef3-b167-4a2b598c2bd8",
   "metadata": {},
   "source": [
    "+ La mayoría de los pedidos son de una o dos veces únicamente.\n",
    "+ El número mínimo de órdenes registradas por cliente es de 1. ¿Podría un cliente registrarse, no pedir nada y que su order_number sea 0?\n",
    "+ El número máximo de órdenes registradas por cliente es de 100. ¿Está el sistema limitado a no registrar más órdenes para un solo cliente?"
   ]
  },
  {
   "cell_type": "markdown",
   "id": "54a0319c",
   "metadata": {
    "id": "54a0319c"
   },
   "source": [
    "### [B3] ¿Cuáles son los 20 productos más populares (muestra su ID y nombre)?"
   ]
  },
  {
   "cell_type": "code",
   "execution_count": 40,
   "id": "a14a09df-3990-4b60-b9f0-9a17709837ce",
   "metadata": {},
   "outputs": [
    {
     "name": "stdout",
     "output_type": "stream",
     "text": [
      "       product_id  order_id  add_to_cart_order  reordered\n",
      "22808       24852     66050              66050      66050\n",
      "12025       13176     53297              53297      53297\n",
      "19370       21137     37039              37039      37039\n",
      "20077       21903     33971              33971      33971\n",
      "43271       47209     29773              29773      29773\n",
      "43788       47766     24689              24689      24689\n",
      "43663       47626     21495              21495      21495\n",
      "15364       16797     20018              20018      20018\n",
      "24047       26209     19690              19690      19690\n",
      "25556       27845     19600              19600      19600\n",
      "25666       27966     19197              19197      19197\n",
      "21025       22935     15898              15898      15898\n",
      "22908       24964     15292              15292      15292\n",
      "41244       45007     14584              14584      14584\n",
      "35996       39275     13879              13879      13879\n",
      "45561       49683     13675              13675      13675\n",
      "25889       28204     12544              12544      12544\n",
      "5375         5876     12232              12232      12232\n",
      "7543         8277     11993              11993      11993\n",
      "37301       40706     11781              11781      11781\n",
      "5375      5876\n",
      "7543      8277\n",
      "12025    13176\n",
      "15364    16797\n",
      "19370    21137\n",
      "20077    21903\n",
      "21025    22935\n",
      "22808    24852\n",
      "22908    24964\n",
      "24047    26209\n",
      "25556    27845\n",
      "25666    27966\n",
      "25889    28204\n",
      "35996    39275\n",
      "37301    40706\n",
      "41244    45007\n",
      "43271    47209\n",
      "43663    47626\n",
      "43788    47766\n",
      "45561    49683\n",
      "Name: product_id, dtype: int64\n",
      "    product_id              product_name  aisle_id  department_id\n",
      "0         5876             Organic Lemon        24              4\n",
      "1         8277  Apple Honeycrisp Organic        24              4\n",
      "2        13176    Bag of Organic Bananas        24              4\n",
      "3        16797              Strawberries        24              4\n",
      "4        21137      Organic Strawberries        24              4\n",
      "5        21903      Organic Baby Spinach       123              4\n",
      "6        22935      Organic Yellow Onion        83              4\n",
      "7        24852                    Banana        24              4\n",
      "8        24964            Organic Garlic        83              4\n",
      "9        26209                     Limes        24              4\n",
      "10       27845        Organic Whole Milk        84             16\n",
      "11       27966       Organic Raspberries       123              4\n",
      "12       28204        Organic Fuji Apple        24              4\n",
      "13       39275       Organic Blueberries       123              4\n",
      "14       40706    Organic Grape Tomatoes       123              4\n",
      "15       45007          Organic Zucchini        83              4\n",
      "16       47209      Organic Hass Avocado        24              4\n",
      "17       47626               Large Lemon        24              4\n",
      "18       47766           Organic Avocado        24              4\n",
      "19       49683            Cucumber Kirby        83              4\n"
     ]
    }
   ],
   "source": [
    "#Agrupo por product_id y cuento el número de registros de cada uno, muestro en orden descendente los 20 elementos con más apariciones.\n",
    "product_ids1 = df_order_products.groupby(by='product_id',as_index=False).count().sort_values(by='order_id',ascending=False).head(20)\n",
    "#product_ids2 = df_order_products.groupby(by='product_id').count().sort_values(by='order_id',ascending=False).head(20)\n",
    "print(product_ids1)\n",
    "\n",
    "#Utilizo el resultado anterior para crear un Series con los 20 product_id con más apariciones, los muestro en orde descendente\n",
    "top_products=product_ids1['product_id']\n",
    "print(top_products.sort_values())\n",
    "\n",
    "#Busco los productos del paso anterior en el dataframe que contiene los nombres de los productos y hago un merge interno\n",
    "#Con esto muestro los nombres de los 20 productos más populares\n",
    "top_products_names = df_products.merge(top_products)\n",
    "print(top_products_names)\n",
    "# print(product_ids2)\n",
    "# df=df_order_products[df_order_products['order_id'].count()>=11781]\n",
    "# print(df)"
   ]
  },
  {
   "cell_type": "markdown",
   "id": "7df00f47",
   "metadata": {
    "id": "7df00f47"
   },
   "source": [
    "Escribe aquí tus conclusiones"
   ]
  },
  {
   "cell_type": "markdown",
   "id": "b0c5d0fa-2b49-40ed-8de7-fd8b42f038aa",
   "metadata": {},
   "source": [
    "+ Los productos más populares son los del departamento 4 y en las islas de frutas y vegetales frescos, y frutas y vegetales empacados."
   ]
  },
  {
   "cell_type": "markdown",
   "id": "gross-theme",
   "metadata": {
    "id": "gross-theme"
   },
   "source": [
    "# [C] Difícil (deben completarse todos para aprobar)\n",
    "\n",
    "1. ¿Cuántos artículos suelen comprar las personas en un pedido? ¿Cómo es la distribución?\n",
    "2. ¿Cuáles son los 20 principales artículos que vuelven a pedirse con mayor frecuencia (muestra sus nombres e IDs de los productos)?\n",
    "3. Para cada producto, ¿cuál es la tasa de repetición del pedido (número de repeticiones de pedido/total de pedidos?\n",
    "4. Para cada cliente, ¿qué proporción de los productos que pidió ya los había pedido? Calcula la tasa de repetición de pedido para cada usuario en lugar de para cada producto.\n",
    "5. ¿Cuáles son los 20 principales artículos que la gente pone primero en sus carritos (muestra las IDs de los productos, sus nombres, y el número de veces en que fueron el primer artículo en añadirse al carrito)?"
   ]
  },
  {
   "cell_type": "markdown",
   "id": "romantic-deposit",
   "metadata": {
    "id": "romantic-deposit"
   },
   "source": [
    "### [C1] ¿Cuántos artículos compran normalmente las personas en un pedido? ¿Cómo es la distribución?"
   ]
  },
  {
   "cell_type": "code",
   "execution_count": 41,
   "id": "2908bfbf-e4df-4988-ab6e-c0be85ded3e9",
   "metadata": {},
   "outputs": [
    {
     "name": "stdout",
     "output_type": "stream",
     "text": [
      "         order_id  product_id  add_to_cart_order  reordered\n",
      "2043091         4       34862                  8          1\n",
      "1420535         4       10054                  5          1\n",
      "1299531         4       32645                 12          1\n",
      "311805          4       46842                  1          0\n",
      "4107072         4       40285                  9          1\n",
      "3189411         4       25146                 11          1\n",
      "2834230         4       26434                  2          1\n",
      "3977678         4       21351                  6          1\n",
      "1295279         4       39758                  3          1\n",
      "2507695         4       17616                 10          1\n",
      "1169276         4       27761                  4          1\n",
      "2502556         4       41276                 13          1\n",
      "1172585         4       22598                  7          1\n",
      "3310901         9       31506                  8          1\n",
      "2585632         9       34203                  6          1\n",
      "order_id\n",
      "4          13\n",
      "9          15\n",
      "11          5\n",
      "19          3\n",
      "20          8\n",
      "           ..\n",
      "3421034    17\n",
      "3421053     9\n",
      "3421071     5\n",
      "3421077     4\n",
      "3421079     1\n",
      "Name: count, Length: 450046, dtype: int64\n",
      "count\n",
      "5      31923\n",
      "6      31698\n",
      "4      31054\n",
      "7      30822\n",
      "3      29046\n",
      "       ...  \n",
      "87         1\n",
      "85         1\n",
      "80         1\n",
      "72         1\n",
      "127        1\n",
      "Name: count, Length: 90, dtype: int64\n",
      "1\n",
      "31923\n",
      "count       90.000000\n",
      "mean      5000.511111\n",
      "std       9282.034169\n",
      "min          1.000000\n",
      "25%          5.250000\n",
      "50%        138.000000\n",
      "75%       4276.000000\n",
      "max      31923.000000\n",
      "Name: count, dtype: float64\n"
     ]
    },
    {
     "data": {
      "image/png": "[encoded data removed]",
      "text/plain": [
       "<Figure size 2000x500 with 1 Axes>"
      ]
     },
     "metadata": {},
     "output_type": "display_data"
    },
    {
     "name": "stdout",
     "output_type": "stream",
     "text": [
      "\n"
     ]
    }
   ],
   "source": [
    "#Imprimo las primeras 15 filas del dataframe, ordenados por order_id. \n",
    "print(df_order_products.sort_values(by='order_id').head(15))\n",
    "#Cuento el número de veces que se repite el número de cada orden en la columna 'order_id' y lo guardo en counts. Se genera una tabla que indica cada valor (order_id) de la columna y cuántas veces se repite\n",
    "counts=df_order_products['order_id'].value_counts()\n",
    "#Imprimo la tabla de conteo ordenada por order_id\n",
    "print(counts.sort_index())\n",
    "#De la tabla anterior, vuelvo a contar el número de veces que aparece cada valor, es decir, cuántas veces se han hecho pedidos de X cantidad de productos. Imprimo la nueva tabla.\n",
    "counts2=counts.value_counts()\n",
    "print(counts2)\n",
    "#Imprimo los valores mínimos y máximos de la nueva tabla para comparar\n",
    "print(counts2.min())\n",
    "print(counts2.max())\n",
    "print(counts2.describe())\n",
    "\n",
    "#Creo una gráfica de barras que utiliza como entrada la tabla de conteos. Grafica en X el número de productos en un pedido, y en Y cuántos pedidos se han hecho con esa cantidad de productos\n",
    "counts2.plot(kind='bar',title='Número de productos por pedido',figsize=(20,5))\n",
    "plt.xlabel('X productos por pedido')\n",
    "plt.ylabel('Número de pedidos hechos con X cantidad de productos')\n",
    "plt.show()\n",
    "print()\n",
    "# order4=(df_order_products['order_id']==61355).sum()\n",
    "# print(order4)\n",
    "\n",
    "\n",
    "\n"
   ]
  },
  {
   "cell_type": "markdown",
   "id": "designed-mortality",
   "metadata": {
    "id": "designed-mortality"
   },
   "source": [
    "Escribe aquí tus conclusiones"
   ]
  },
  {
   "cell_type": "markdown",
   "id": "d13f3df7-a81b-4c5b-bc03-f610834222f2",
   "metadata": {},
   "source": [
    "+ El dataframe muestra una distribución asimétrica positiva.\n",
    "+ El máximo número de pedidos registrados con la misma cantidad de productos es de 31923. Se han realizado 31923 pedidos de 5 productos.\n",
    "+ La media de los datos se muestra en 5000, muy distante del máximo de 31923. La media se ve afectada por la mayoría de pedidos en los que se agregan más de 40 productos."
   ]
  },
  {
   "cell_type": "markdown",
   "id": "5e6b5537",
   "metadata": {
    "id": "5e6b5537"
   },
   "source": [
    "### [C2] ¿Cuáles son los 20 principales artículos que vuelven a pedirse con mayor frecuencia (muestra sus nombres e IDs de los productos)?"
   ]
  },
  {
   "cell_type": "code",
   "execution_count": 42,
   "id": "9374e55a",
   "metadata": {
    "id": "9374e55a"
   },
   "outputs": [
    {
     "name": "stdout",
     "output_type": "stream",
     "text": [
      "         order_id  product_id  add_to_cart_order  reordered\n",
      "0         2141543       11440                 17          0\n",
      "1          567889        1560                  1          1\n",
      "2         2261212       26683                  1          1\n",
      "3          491251        8670                 35          1\n",
      "4         2571142        1940                  5          1\n",
      "...           ...         ...                ...        ...\n",
      "4545002    577211       15290                 12          1\n",
      "4545003   1219554       21914                  9          0\n",
      "4545004    692640       47766                  4          1\n",
      "4545005    319435         691                  8          1\n",
      "4545006   1398151       28733                  9          0\n",
      "\n",
      "[4545007 rows x 4 columns]\n",
      "         order_id  product_id  add_to_cart_order  reordered\n",
      "1          567889        1560                  1          1\n",
      "2         2261212       26683                  1          1\n",
      "3          491251        8670                 35          1\n",
      "4         2571142        1940                  5          1\n",
      "5         2456893       21616                  4          1\n",
      "...           ...         ...                ...        ...\n",
      "4544999   1622300       24852                  1          1\n",
      "4545000   1125324       40600                  6          1\n",
      "4545002    577211       15290                 12          1\n",
      "4545004    692640       47766                  4          1\n",
      "4545005    319435         691                  8          1\n",
      "\n",
      "[2683838 rows x 4 columns]\n",
      "product_id\n",
      "24852    55763\n",
      "13176    44450\n",
      "21137    28639\n",
      "21903    26233\n",
      "47209    23629\n",
      "         ...  \n",
      "40133        1\n",
      "12061        1\n",
      "45095        1\n",
      "46185        1\n",
      "47673        1\n",
      "Name: count, Length: 36228, dtype: int64\n",
      "       product_id              product_name  count  aisle_id\n",
      "18104       24852                    Banana  55763        24\n",
      "9528        13176    Bag of Organic Bananas  44450        24\n",
      "15368       21137      Organic Strawberries  28639        24\n",
      "15936       21903      Organic Baby Spinach  26233       123\n",
      "34407       47209      Organic Hass Avocado  23629        24\n",
      "34828       47766           Organic Avocado  18743        24\n",
      "20285       27845        Organic Whole Milk  16251        84\n",
      "34725       47626               Large Lemon  15044        24\n",
      "20375       27966       Organic Raspberries  14748       123\n",
      "12193       16797              Strawberries  13945        24\n",
      "19088       26209                     Limes  13327        24\n",
      "16700       22935      Organic Yellow Onion  11145        83\n",
      "18186       24964            Organic Garlic  10411        83\n",
      "32792       45007          Organic Zucchini  10076        83\n",
      "36219       49683            Cucumber Kirby   9538        83\n",
      "20543       28204        Organic Fuji Apple   8989        24\n",
      "5978         8277  Apple Honeycrisp Organic   8836        24\n",
      "28607       39275       Organic Blueberries   8799       123\n",
      "4267         5876             Organic Lemon   8412        24\n",
      "35905       49235       Organic Half & Half   8389        53\n"
     ]
    }
   ],
   "source": [
    "#Imprimo una muestra del dataframe original\n",
    "print(df_order_products)\n",
    "#Filtro los productos que hay sido ordenados nuevamente y los guardo en el dataframe reordered\n",
    "reordered=df_order_products[df_order_products['reordered']==1]\n",
    "print(reordered)\n",
    "#Cuento el número de veces que aparece cada producto en el dataframe anterior\n",
    "reordered_counts=reordered['product_id'].value_counts()\n",
    "print(reordered_counts)\n",
    "#Busco por product_id todos estos productos en el dataframe products que contiene sus nombres\n",
    "top20=df_products.merge(reordered_counts,on='product_id')\n",
    "\n",
    "#Creo un nuevo dataframe que contenga sólo las columnas product_id, product_name y count (el número de veces que ese producto se ha ordenado\n",
    "top20clean=top20[['product_id','product_name','count','aisle_id']]\n",
    "\n",
    "#Ordeno el nuevo dataframe en orden descendente e imprimo sólo los primeros 20 elementos\n",
    "print(top20clean.sort_values(by='count',ascending=False).head(20))\n"
   ]
  },
  {
   "cell_type": "markdown",
   "id": "80e70c74",
   "metadata": {
    "id": "80e70c74"
   },
   "source": [
    "Escribe aquí tus conclusiones"
   ]
  },
  {
   "cell_type": "markdown",
   "id": "e0c1dcf3-7906-47eb-a1f8-3d8c9ee7ac0a",
   "metadata": {},
   "source": [
    "+ El top 20 de productos que se ordenan nuevamente pertenecen a los grupos de frutas y vegetales orgánicos a granel y empacados."
   ]
  },
  {
   "cell_type": "markdown",
   "id": "9d312b14",
   "metadata": {
    "id": "9d312b14"
   },
   "source": [
    "### [C3] Para cada producto, ¿cuál es la proporción de las veces que se pide y que se vuelve a pedir?"
   ]
  },
  {
   "cell_type": "code",
   "execution_count": 43,
   "id": "8ae9f4b1",
   "metadata": {
    "id": "8ae9f4b1"
   },
   "outputs": [
    {
     "name": "stdout",
     "output_type": "stream",
     "text": [
      "         order_id  product_id  add_to_cart_order  reordered\n",
      "2796628   2829150           1                  2          0\n",
      "3930343    780389           1                  7          0\n",
      "3448919     56396           1                  6          0\n",
      "2140558   2009498           1                  5          0\n",
      "3093016   2370459           1                  8          0\n",
      "...           ...         ...                ...        ...\n",
      "989672     694132       49694                  2          0\n",
      "922157    3175081       49694                  3          0\n",
      "724125    3034802       49694                 10          0\n",
      "1285776   2077154       49694                 12          0\n",
      "413778    1071064       49694                  4          0\n",
      "\n",
      "[1861169 rows x 4 columns]\n",
      "         order_id  product_id  add_to_cart_order  reordered\n",
      "3177186    300155           1                 10          1\n",
      "2930019   2396469           1                  3          1\n",
      "596047    1612189           1                  5          1\n",
      "914874    3258661           1                  8          1\n",
      "2936337   3331423           1                  4          1\n",
      "...           ...         ...                ...        ...\n",
      "1585076   3200658       49693                 10          1\n",
      "1391931    967575       49693                 10          1\n",
      "547362     191729       49694                 11          1\n",
      "279094     289487       49694                  3          1\n",
      "407602    2059001       49694                  2          1\n",
      "\n",
      "[2683838 rows x 4 columns]\n",
      "            count\n",
      "product_id       \n",
      "1             122\n",
      "2              11\n",
      "3              11\n",
      "4              24\n",
      "7               1\n",
      "...           ...\n",
      "49690           1\n",
      "49691          41\n",
      "49692           7\n",
      "49693          14\n",
      "49694           6\n",
      "\n",
      "[43764 rows x 1 columns]\n",
      "            count\n",
      "product_id       \n",
      "1             158\n",
      "3              31\n",
      "4              25\n",
      "7               1\n",
      "8               6\n",
      "...           ...\n",
      "49690           4\n",
      "49691          31\n",
      "49692           5\n",
      "49693          11\n",
      "49694           3\n",
      "\n",
      "[36228 rows x 1 columns]\n",
      "            first order  reordered      ratio %\n",
      "product_id                                     \n",
      "10236                 1         20  2000.000000\n",
      "5470                  1         18  1800.000000\n",
      "20783                 1         17  1700.000000\n",
      "8867                  1         17  1700.000000\n",
      "27041                 1         15  1500.000000\n",
      "...                 ...        ...          ...\n",
      "47385                47          1     2.127660\n",
      "37120               107          2     1.869159\n",
      "14688                54          1     1.851852\n",
      "28741                54          1     1.851852\n",
      "44626                90          1     1.111111\n",
      "\n",
      "[34419 rows x 3 columns]\n",
      "       product_id     product_name  aisle_id  department_id\n",
      "44625       44626  Ground Allspice       104             13\n"
     ]
    }
   ],
   "source": [
    "#Creo un nuevo dataframe que guarde sólo los productos que no han sido reordenados\n",
    "df_products_first_order=df_order_products[df_order_products['reordered']==0]\n",
    "print(df_products_first_order.sort_values(by='product_id'))\n",
    "\n",
    "#Creo un nuevo dataframe que guarde sólo los productos que ya se han ordenado más de una vez\n",
    "df_products_reordered=df_order_products[df_order_products['reordered']==1]\n",
    "print(df_products_reordered.sort_values(by='product_id'))\n",
    "\n",
    "#Cuento el número de veces que cada producto que no ha sido reordenado aparece en el dataframe y lo convierto a un nuevo dataframe\n",
    "first_order_counts=df_products_first_order['product_id'].value_counts().to_frame()\n",
    "print(first_order_counts.sort_index())\n",
    "\n",
    "#Cuento el número de veces que cada producto que ya ha sido reordenado aparece en el dataframe\n",
    "reordered_counts=df_products_reordered['product_id'].value_counts().to_frame()\n",
    "print(reordered_counts.sort_index())\n",
    "\n",
    "#Hago un merge interno de ambos dataframes para comparar los conteos, entre las veces que cada producto se ha ordenado por primera vez contra las veces que se ha reordenado\n",
    "merge=first_order_counts.merge(reordered_counts, on='product_id')\n",
    "#Modifico los nombres de las columnas para el dataframe nuevo\n",
    "merge.rename(columns={'count_x':'first order','count_y':'reordered'},inplace=True)\n",
    "#Calculo la proporción y la añado a una columna nueva\n",
    "merge['ratio %']=merge['reordered']/merge['first order']*100\n",
    "print(merge.sort_values(by='ratio %',ascending=False))\n",
    "\n",
    "# print(df_order_products.sort_values(by='order_id').head(30))\n",
    "# print(df_instacart_orders.sort_values(by='order_id').head(30))\n",
    "print(df_products.loc[df_products['product_id']==44626])"
   ]
  },
  {
   "cell_type": "markdown",
   "id": "I10dEIAyldcO",
   "metadata": {
    "id": "I10dEIAyldcO"
   },
   "source": [
    "Escribe aquí tus conclusiones"
   ]
  },
  {
   "cell_type": "markdown",
   "id": "76348e9f-66fc-4528-a179-07f824903b6d",
   "metadata": {},
   "source": [
    "+ La mayor proporción que encontré fue de 2000%, que corresponde a un producto que se ordenó por un solo cliente y posteriormente se ordenó por el mismo cliente 20 veces más.\n",
    "+ El producto que se vuelve a ordenar con frecuencia es arena para gatos. Por ser un producto consumible es que se reordena.\n",
    "+ Mayores proporciones me indican que el producto es bueno y por ese motivo se vuelve a pedir.\n",
    "+ El producto con menor proporción tiene un 1.11%.\n",
    "+ El producto con menor proporción corresponde a especias molidas.\n",
    "+ Las menores proporciones me indican que el producto es nuevo en el catálogo, no es bueno, o que su duración es muy alta y por eso la recurrencia en el pedido es baja."
   ]
  },
  {
   "cell_type": "markdown",
   "id": "subject-boxing",
   "metadata": {
    "id": "subject-boxing"
   },
   "source": [
    "### [C4] Para cada cliente, ¿qué proporción de sus productos ya los había pedido?"
   ]
  },
  {
   "cell_type": "code",
   "execution_count": 44,
   "id": "8892e4b4",
   "metadata": {
    "id": "8892e4b4"
   },
   "outputs": [
    {
     "name": "stdout",
     "output_type": "stream",
     "text": [
      "\n",
      "          index  order_id  user_id  product_id  reordered\n",
      "3012979  317143    738281        2       33276          0\n",
      "2249012  237015   2168274        2       45066          0\n",
      "2249013  237015   2168274        2       47766          0\n",
      "2249014  237015   2168274        2       35917          0\n",
      "2249015  237015   2168274        2       48110          0\n",
      "2249016  237015   2168274        2       27344          0\n",
      "2249017  237015   2168274        2       27966          0\n",
      "2249018  237015   2168274        2       12000          0\n",
      "2249019  237015   2168274        2       22474          0\n",
      "3012984  317143    738281        2        9681          0\n",
      "3012983  317143    738281        2       49451          0\n",
      "3012981  317143    738281        2       36735          0\n",
      "2249020  237015   2168274        2       20574          0\n",
      "3012980  317143    738281        2       21150          0\n",
      "2249011  237015   2168274        2       16589          0\n",
      "2249010  237015   2168274        2       32792          0\n",
      "3012977  317143    738281        2       24852          0\n",
      "2249021  237015   2168274        2       13176          0\n",
      "2249022  237015   2168274        2       30489          0\n",
      "3012989  317143    738281        2       47209          0\n",
      "3012988  317143    738281        2       22829          0\n",
      "3012987  317143    738281        2       45613          0\n",
      "3012985  317143    738281        2       32139          0\n",
      "3012986  317143    738281        2       34688          0\n",
      "3012978  317143    738281        2       37646          0\n",
      "3203939  337248   2030307        4       42329          0\n",
      "3203940  337248   2030307        4        7160          0\n",
      "2096454  220959    157374        5       16168          0\n",
      "2096456  220959    157374        5       27344          0\n",
      "2096457  220959    157374        5        3376          0\n",
      "\n",
      "          index  order_id  user_id  product_id  reordered\n",
      "3012982  317143    738281        2       32792          1\n",
      "2096464  220959    157374        5       21413          1\n",
      "2096453  220959    157374        5       11777          1\n",
      "2096460  220959    157374        5        8518          1\n",
      "2096461  220959    157374        5       26604          1\n",
      "...         ...       ...      ...         ...        ...\n",
      "4521483  476422   2977660   206209       14197          1\n",
      "4521481  476422   2977660   206209        9405          1\n",
      "4521482  476422   2977660   206209       24852          1\n",
      "2963005  311845    688306   206209       23892          1\n",
      "2963001  311845    688306   206209       23594          1\n",
      "\n",
      "[2683838 rows x 5 columns]\n",
      "        user_id  index  order_id  product_id  reordered\n",
      "0             2     25        25          25         25\n",
      "1             4      2         2           2          2\n",
      "2             5      4         4           4          4\n",
      "3             6      4         4           4          4\n",
      "4             7      1         1           1          1\n",
      "...         ...    ...       ...         ...        ...\n",
      "141519   206203     21        21          21         21\n",
      "141520   206206      6         6           6          6\n",
      "141521   206207      5         5           5          5\n",
      "141522   206208     38        38          38         38\n",
      "141523   206209     17        17          17         17\n",
      "\n",
      "[141524 rows x 5 columns]\n",
      "        user_id  index  order_id  product_id  reordered\n",
      "0             2      1         1           1          1\n",
      "1             5      8         8           8          8\n",
      "2             7     13        13          13         13\n",
      "3            11      3         3           3          3\n",
      "4            12      3         3           3          3\n",
      "...         ...    ...       ...         ...        ...\n",
      "132986   206203      6         6           6          6\n",
      "132987   206206     15        15          15         15\n",
      "132988   206207     41        41          41         41\n",
      "132989   206208     87        87          87         87\n",
      "132990   206209      8         8           8          8\n",
      "\n",
      "[132991 rows x 5 columns]\n",
      "        user_id  index_x  order_id_x  product_id_x  reordered_x  index_y  \\\n",
      "0             2       25          25            25           25        1   \n",
      "1             5        4           4             4            4        8   \n",
      "2             7        1           1             1            1       13   \n",
      "3            11       12          12            12           12        3   \n",
      "4            12        9           9             9            9        3   \n",
      "...         ...      ...         ...           ...          ...      ...   \n",
      "124884   206203       21          21            21           21        6   \n",
      "124885   206206        6           6             6            6       15   \n",
      "124886   206207        5           5             5            5       41   \n",
      "124887   206208       38          38            38           38       87   \n",
      "124888   206209       17          17            17           17        8   \n",
      "\n",
      "        order_id_y  product_id_y  reordered_y  \n",
      "0                1             1            1  \n",
      "1                8             8            8  \n",
      "2               13            13           13  \n",
      "3                3             3            3  \n",
      "4                3             3            3  \n",
      "...            ...           ...          ...  \n",
      "124884           6             6            6  \n",
      "124885          15            15           15  \n",
      "124886          41            41           41  \n",
      "124887          87            87           87  \n",
      "124888           8             8            8  \n",
      "\n",
      "[124889 rows x 9 columns]\n",
      "64321         1.515152\n",
      "122158        1.538462\n",
      "94094         1.754386\n",
      "34800         1.785714\n",
      "11789         1.851852\n",
      "              ...     \n",
      "68529      8800.000000\n",
      "2636       9100.000000\n",
      "3397      10600.000000\n",
      "119215    11500.000000\n",
      "86998     13600.000000\n",
      "Name: order_ratio, Length: 124889, dtype: float64\n"
     ]
    }
   ],
   "source": [
    "#Combino los dataframes de instacart_orders y order_products en un nuevo dataframe para tener todas las columnas que necesito\n",
    "merge=df_instacart_orders.merge(df_order_products,on='order_id')\n",
    "print()\n",
    "#Elimino columnas innecesarias de mi nuevo dataframe\n",
    "merge=merge.drop(labels=['order_number','order_dow','order_hour_of_day','days_since_prior_order','add_to_cart_order'],axis='columns')\n",
    "# print(merge)\n",
    "#Creo un nuevo dataframe para guardar todas las órdenes que se han hecho una sola vez y lo imprimo ordenado por user_id\n",
    "merge_first_order=merge[merge['reordered']==0]\n",
    "print(merge_first_order.sort_values(by='user_id').head(30))\n",
    "print()\n",
    "#Creo un nuevo dataframe para guardar todas las órdenes que se han repetido y lo imprimo ordenado por user_id\n",
    "merge_reordered=merge[merge['reordered']==1]\n",
    "print(merge_reordered.sort_values(by='user_id'))\n",
    "#Creo un nuevo dataframe en el que agrupo por user_id todas las órdenes hechas una sola vez\n",
    "first_order_groupby=merge_first_order.groupby(by='user_id',as_index=False).count()\n",
    "print(first_order_groupby)\n",
    "#Creo un nuevo dataframe en el que agrupo por user_id todas las órdenes hechas nuevamente\n",
    "reordered_groupby=merge_reordered.groupby(by='user_id',as_index=False).count()\n",
    "print(reordered_groupby)\n",
    "#Combino los dos dataframes que acabo de crear por user_id para mantener sólo los usuarios que han hecho tanto pedidos recurrentes como pedidos de primera vez\n",
    "ratio_merge=first_order_groupby.merge(reordered_groupby, on='user_id')\n",
    "print(ratio_merge)\n",
    "#Creo una columna nueva en el dataframe anterior que calcule la proporción entre el número de productos de primera vez y el número de productos que se han reordenado\n",
    "ratio_merge['order_ratio']=ratio_merge['reordered_y']/ratio_merge['reordered_x']*100\n",
    "#Imprimo la columna de proporciones ordenada de menor a mayor\n",
    "print(ratio_merge['order_ratio'].sort_values())"
   ]
  },
  {
   "cell_type": "markdown",
   "id": "BgJSvXDsleXz",
   "metadata": {
    "id": "BgJSvXDsleXz"
   },
   "source": [
    "Escribe aquí tus conclusiones"
   ]
  },
  {
   "cell_type": "markdown",
   "id": "6e59ba86-f919-4d25-a3d0-46778f777625",
   "metadata": {},
   "source": [
    "+ Calculé la proporción entre el número de productos que se han pedido una sola vez, contra el número de productos que se han pedido varias veces.\n",
    "+ La proporción más baja que encontré fue de 1.51%, es decir, que se han pedido de nuevo sólo el 1.51% de veces que los productos que se han pedido por primera vez, para ese cliente.\n",
    "+ La proporción más alta fue de 13600%, indica que en proporción, se han pedido 136 veces más productos recurrentemente que los que se han pedido por primera vez, para un solo usuario."
   ]
  },
  {
   "cell_type": "markdown",
   "id": "92d35137",
   "metadata": {
    "id": "92d35137"
   },
   "source": [
    "### [C5] ¿Cuáles son los 20 principales artículos que las personas ponen primero en sus carritos?"
   ]
  },
  {
   "cell_type": "code",
   "execution_count": 45,
   "id": "08e41ec2",
   "metadata": {
    "id": "08e41ec2"
   },
   "outputs": [
    {
     "name": "stdout",
     "output_type": "stream",
     "text": [
      "     order_id  product_id  add_to_cart_order  reordered\n",
      "1      567889        1560                  1          1\n",
      "2     2261212       26683                  1          1\n",
      "14    1961225       37553                  1          1\n",
      "16     639939       10017                  1          1\n",
      "23     750040        8518                  1          0\n",
      "33    2291457       27104                  1          1\n",
      "43    3075384       28799                  1          1\n",
      "45    1787676       47672                  1          1\n",
      "54    3266094       12763                  1          1\n",
      "56    1594605       34217                  1          1\n",
      "70     450917       21436                  1          1\n",
      "90     505943       13176                  1          1\n",
      "93     286653       23115                  1          0\n",
      "108   2699857       45007                  1          1\n",
      "109   3176371       24852                  1          1\n",
      "121   1861131       47766                  1          1\n",
      "132    558229        8061                  1          1\n",
      "135   2952692       49247                  1          1\n",
      "137   2834075       47877                  1          1\n",
      "138   2645555         389                  1          0\n",
      "       product_id  order_id  add_to_cart_order  reordered\n",
      "13414       24852     15562              15562      15562\n",
      "7127        13176     11026              11026      11026\n",
      "15028       27845      4363               4363       4363\n",
      "11384       21137      3946               3946       3946\n",
      "25439       47209      3390               3390       3390\n",
      "11786       21903      3336               3336       3336\n",
      "25732       47766      3044               3044       3044\n",
      "10622       19660      2336               2336       2336\n",
      "9050        16797      2308               2308       2308\n",
      "15102       27966      2024               2024       2024\n",
      "24024       44632      1914               1914       1914\n",
      "26519       49235      1797               1797       1797\n",
      "25658       47626      1737               1737       1737\n",
      "115           196      1733               1733       1733\n",
      "20853       38689      1397               1397       1397\n",
      "14158       26209      1370               1370       1370\n",
      "6660        12341      1340               1340       1340\n",
      "3153         5785      1310               1310       1310\n",
      "14639       27086      1309               1309       1309\n",
      "23335       43352      1246               1246       1246\n",
      "    product_id                 product_name  aisle_id  department_id  order_id\n",
      "8        24852                       Banana        24              4     15562\n",
      "3        13176       Bag of Organic Bananas        24              4     11026\n",
      "11       27845           Organic Whole Milk        84             16      4363\n",
      "6        21137         Organic Strawberries        24              4      3946\n",
      "16       47209         Organic Hass Avocado        24              4      3390\n",
      "7        21903         Organic Baby Spinach       123              4      3336\n",
      "18       47766              Organic Avocado        24              4      3044\n",
      "5        19660                 Spring Water       115              7      2336\n",
      "4        16797                 Strawberries        24              4      2308\n",
      "12       27966          Organic Raspberries       123              4      2024\n",
      "15       44632   Sparkling Water Grapefruit       115              7      1914\n",
      "19       49235          Organic Half & Half        53             16      1797\n",
      "17       47626                  Large Lemon        24              4      1737\n",
      "0          196                         Soda        77              7      1733\n",
      "13       38689     Organic Reduced Fat Milk        84             16      1397\n",
      "9        26209                        Limes        24              4      1370\n",
      "2        12341                Hass Avocados        32              4      1340\n",
      "1         5785  Organic Reduced Fat 2% Milk        84             16      1310\n",
      "10       27086                  Half & Half        53             16      1309\n",
      "14       43352                  Raspberries        32              4      1246\n"
     ]
    }
   ],
   "source": [
    "#Creo un nuevo dataframe que contiene sólo los productos que se añaden en primer lugar a las órdenes e imprimo 20 registros\n",
    "first_products=df_order_products[df_order_products['add_to_cart_order']==1]\n",
    "print(first_products.head(20))\n",
    "#Agrupo el dataframe anterior por product_id y cuento el número de veces que aparecen\n",
    "top_products=first_products.groupby(by='product_id',as_index=False).count()\n",
    "#Imprimo 20 registros del dataframe ordenados de manera descendente\n",
    "top_products=top_products.sort_values(by='order_id',ascending=False).head(20)\n",
    "print(top_products)\n",
    "#Combino el dataframe products con mi dataframe anterior para conseguir los nombres de los productos\n",
    "product_names=df_products.merge(top_products,on='product_id')\n",
    "#Imprimo el dataframe antrior ordenado por el número de veces que apareción en mi lista, y elimino columnas que no necesito\n",
    "print(product_names.sort_values(by='order_id',ascending=False).drop(labels=['add_to_cart_order','reordered'],axis='columns'))"
   ]
  },
  {
   "cell_type": "markdown",
   "id": "28ce9872",
   "metadata": {
    "id": "28ce9872"
   },
   "source": [
    "Escribe aquí tus conclusiones"
   ]
  },
  {
   "cell_type": "markdown",
   "id": "02f7da2f-7540-4c2d-99c6-c619f7b778ec",
   "metadata": {},
   "source": [
    "+ El producto que más se añade en primer lugar son las galletas sandwich de chocolate.\n",
    "+ No parece haber relación entre el top 20 de productos. Pertenecen a departamentos e islas variadas."
   ]
  },
  {
   "cell_type": "markdown",
   "id": "uITbFCEoDosC",
   "metadata": {
    "id": "uITbFCEoDosC"
   },
   "source": [
    "### Conclusion general del proyecto:"
   ]
  },
  {
   "cell_type": "markdown",
   "id": "c0f88353-75b0-4b32-b10f-d72e4395bf0b",
   "metadata": {
    "id": "Nk-4GS7mDwqY"
   },
   "source": [
    "+ No fue necesario hacer modificaciones en los nombres de columnas para los archivos csv, aunque sí hubo que especificar que el delimitador es ';' y no ','.\n",
    "+ Identifiqué y procesé los valores ausentes de todos los archivos, no se eliminó ningún registro.\n",
    "+ Había columnas cuyos valores eran de tipo punto flotante, sin embargo, durante el desarrollo del proyecto este hecho no afectó a los cálculos.\n",
    "+ Econtré productos que no tenían un nombre registrado, en total 1258.\n",
    "+ Los productos que no tienen nombre pertenecían a la isla 100 y departamento 21, cuya descripción es \"missing\". Puede que sean productos que ya no están disponibles en el catálogo de la tienda.\n",
    "+ En el archivo de registro de órdenes fatan números de orden, deberían ser consecutivos.\n",
    "+ Las órdenes con más productos contienen 64 productos.\n",
    "+ Había órdenes duplicadas que fueron eliminadas del análisis.\n",
    "+ Encontré que la hora pico de órdenes es a las 10 y 11 am.\n",
    "+ La mayor cantidad de órdenes se registran los domingos.\n",
    "+ El número máximo de órdenes registradas por cliente es de 100 órdenes.\n",
    "+ Los productos más populares son frutas y vegetales frescos y empacados. Estos pertenecen también al top 20 de los productos que más se vuelven a pedir.\n",
    "+ La media de productos agregados a una orden es de 5 productos.\n",
    "+ El top 20 de productos que más se añaden como primera opción a las órdenes no parecen tener una relación entre ellos, pertenecen a islas y departamentos muy diversos."
   ]
  }
 ],
 "metadata": {
  "colab": {
   "provenance": []
  },
  "kernelspec": {
   "display_name": "Python 3 (ipykernel)",
   "language": "python",
   "name": "python3"
  },
  "language_info": {
   "codemirror_mode": {
    "name": "ipython",
    "version": 3
   },
   "file_extension": ".py",
   "mimetype": "text/x-python",
   "name": "python",
   "nbconvert_exporter": "python",
   "pygments_lexer": "ipython3",
   "version": "3.12.4"
  },
  "toc": {
   "base_numbering": 1,
   "nav_menu": {},
   "number_sections": true,
   "sideBar": true,
   "skip_h1_title": true,
   "title_cell": "Table of Contents",
   "title_sidebar": "Contents",
   "toc_cell": false,
   "toc_position": {},
   "toc_section_display": true,
   "toc_window_display": false
  },
  "vscode": {
   "interpreter": {
    "hash": "01a7be9ec63e704a62cefc5fe7a4756944464ee731be31632bdf42a4cb4688cf"
   }
  }
 },
 "nbformat": 4,
 "nbformat_minor": 5
}
