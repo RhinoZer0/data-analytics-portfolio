{
 "cells": [
  {
   "cell_type": "markdown",
   "id": "bc211774",
   "metadata": {},
   "source": [
    "<b>¡Hola Javier!</b>\n",
    "\n",
    "Mi nombre es Leonardo Lucianna, soy code reviewer en Tripleten y tengo el agrado de revisar tu proyecto.\n",
    "\n",
    "A continuación, encontrarás mis comentarios en celdas pintadas de tres colores (verde, amarillo y rojo), a manera de semáforo. Por favor, <b>no las borres ni muevas de posición</b> mientras dure el proceso de revisión.\n",
    "\n",
    "<div class=\"alert alert-block alert-success\">\n",
    "<b>Éxito</b> <a class=\"tocSkip\"></a>\n",
    "En celdas verdes encontrarás comentarios en relación a tus aciertos y fortalezas.\n",
    "</div>\n",
    "<div class=\"alert alert-block alert-warning\">\n",
    "<b>Atención</b> <a class=\"tocSkip\"></a>\n",
    "Utilizaré el color amarillo para llamar tu atención, expresar algo importante o compartirte alguna idea de valor.\n",
    "</div>\n",
    "<div class=\"alert alert-block alert-danger\">\n",
    "<b>A resolver</b> <a class=\"tocSkip\"></a>\n",
    "En rojo emitiré aquellos puntos que deberás atender para aprobar la revisión.\n",
    "</div>\n",
    "<div class=\"alert alert-block alert-info\">\n",
    "<b>Comentario estudiante</b><a class=\"tocSkip\"></a>\n",
    "Es factible que, a lo largo del proceso de revisión, quieras dejarme comentarios. Si es el caso, por favor realízalo dentro de celdas azules como esta.\n",
    "</div>\n",
    "\n",
    "Respecto del proceso de revisión, tu proyecto será aceptado una vez que los comentarios en rojo hayan sido atendidos.\n",
    "¡Empecemos!\n",
    "\n",
    "---"
   ]
  },
  {
   "cell_type": "markdown",
   "id": "2b1e92d1",
   "metadata": {},
   "source": [
    "<div class=\"alert alert-block alert-warning\">\n",
    "<b>Revisión 1 - Comentario general </b> <a class=\"tocSkip\"></a>\n",
    "\n",
    "Javier, tu proyecto es muy bueno, vas muy bien hasta entonces. Haces muy buen uso de la librería pandas para validar la calidad de los datos, como así el procesamiento y los análisis planteados.\n",
    "    \n",
    "También demuestras buena capacidad analítica con tus conclusiones que vas llevando.\n",
    "    \n",
    "Te he marcado algunos cambios y sugerencias para que sigas incorporando habilidades en el manejo de datos y puedas aprobar este proyecto.\n",
    "\n",
    "Luego de estos cambios haré una segunda revisión.\n",
    "    \n",
    "Éxitos.\n",
    "</div>\n"
   ]
  },
  {
   "cell_type": "markdown",
   "id": "3Xg_RQfnafXz",
   "metadata": {
    "id": "3Xg_RQfnafXz"
   },
   "source": [
    "# ¡Llena ese carrito!"
   ]
  },
  {
   "cell_type": "markdown",
   "id": "mhIvmmkW414q",
   "metadata": {
    "id": "mhIvmmkW414q"
   },
   "source": [
    "# Introducción\n",
    "\n",
    "Instacart es una plataforma de entregas de comestibles donde la clientela puede registrar un pedido y hacer que se lo entreguen, similar a Uber Eats y Door Dash.\n",
    "El conjunto de datos que te hemos proporcionado tiene modificaciones del original. Redujimos el tamaño del conjunto para que tus cálculos se hicieran más rápido e introdujimos valores ausentes y duplicados. Tuvimos cuidado de conservar las distribuciones de los datos originales cuando hicimos los cambios.\n",
    "\n",
    "Debes completar tres pasos. Para cada uno de ellos, escribe una breve introducción que refleje con claridad cómo pretendes resolver cada paso, y escribe párrafos explicatorios que justifiquen tus decisiones al tiempo que avanzas en tu solución.  También escribe una conclusión que resuma tus hallazgos y elecciones.\n"
   ]
  },
  {
   "cell_type": "markdown",
   "id": "3MbyzpOQZ5Or",
   "metadata": {
    "id": "3MbyzpOQZ5Or"
   },
   "source": [
    "## Diccionario de datos\n",
    "\n",
    "Hay cinco tablas en el conjunto de datos, y tendrás que usarlas todas para hacer el preprocesamiento de datos y el análisis exploratorio de datos. A continuación se muestra un diccionario de datos que enumera las columnas de cada tabla y describe los datos que contienen.\n",
    "\n",
    "- `instacart_orders.csv`: cada fila corresponde a un pedido en la aplicación Instacart.\n",
    "    - `'order_id'`: número de ID que identifica de manera única cada pedido.\n",
    "    - `'user_id'`: número de ID que identifica de manera única la cuenta de cada cliente.\n",
    "    - `'order_number'`: el número de veces que este cliente ha hecho un pedido.\n",
    "    - `'order_dow'`: día de la semana en que se hizo el pedido (0 si es domingo).\n",
    "    - `'order_hour_of_day'`: hora del día en que se hizo el pedido.\n",
    "    - `'days_since_prior_order'`: número de días transcurridos desde que este cliente hizo su pedido anterior.\n",
    "- `products.csv`: cada fila corresponde a un producto único que pueden comprar los clientes.\n",
    "    - `'product_id'`: número ID que identifica de manera única cada producto.\n",
    "    - `'product_name'`: nombre del producto.\n",
    "    - `'aisle_id'`: número ID que identifica de manera única cada categoría de pasillo de víveres.\n",
    "    - `'department_id'`: número ID que identifica de manera única cada departamento de víveres.\n",
    "- `order_products.csv`: cada fila corresponde a un artículo pedido en un pedido.\n",
    "    - `'order_id'`: número de ID que identifica de manera única cada pedido.\n",
    "    - `'product_id'`: número ID que identifica de manera única cada producto.\n",
    "    - `'add_to_cart_order'`: el orden secuencial en el que se añadió cada artículo en el carrito.\n",
    "    - `'reordered'`: 0 si el cliente nunca ha pedido este producto antes, 1 si lo ha pedido.\n",
    "- `aisles.csv`\n",
    "    - `'aisle_id'`: número ID que identifica de manera única cada categoría de pasillo de víveres.\n",
    "    - `'aisle'`: nombre del pasillo.\n",
    "- `departments.csv`\n",
    "    - `'department_id'`: número ID que identifica de manera única cada departamento de víveres.\n",
    "    - `'department'`: nombre del departamento."
   ]
  },
  {
   "cell_type": "markdown",
   "id": "n3Ha_cNSZ8lK",
   "metadata": {
    "id": "n3Ha_cNSZ8lK"
   },
   "source": [
    "# Paso 1. Descripción de los datos\n",
    "\n",
    "Lee los archivos de datos (`/datasets/instacart_orders.csv`, `/datasets/products.csv`, `/datasets/aisles.csv`, `/datasets/departments.csv` y `/datasets/order_products.csv`) con `pd.read_csv()` usando los parámetros adecuados para leer los datos correctamente. Verifica la información para cada DataFrame creado.\n"
   ]
  },
  {
   "cell_type": "markdown",
   "id": "OmlQPLlyaAfR",
   "metadata": {
    "id": "OmlQPLlyaAfR"
   },
   "source": [
    "## Plan de solución\n",
    "\n",
    "Escribe aquí tu plan de solución para el Paso 1. Descripción de los datos."
   ]
  },
  {
   "cell_type": "markdown",
   "id": "362ea90f-27a9-4aed-a610-a31d6ff692d5",
   "metadata": {},
   "source": [
    "Para el paso uno haré lo siguiente:\n",
    "+ Revisar los archivos csv para verificar el formato que tienen sus valores.\n",
    "+ Importar las librerías adecuadas para todo el proyecto.\n",
    "+ Leer y guardar cada archivo en un dataframe por separado e imprimir información básica para analizar sus elementos."
   ]
  },
  {
   "cell_type": "code",
   "execution_count": 39,
   "id": "fbf1adab",
   "metadata": {
    "id": "fbf1adab"
   },
   "outputs": [],
   "source": [
    "# importar librerías\n",
    "import pandas as pd\n",
    "import numpy as np\n",
    "import matplotlib.pyplot as plt"
   ]
  },
  {
   "cell_type": "markdown",
   "id": "db55e1c3-f5fa-4262-93f3-cf83e89f16c3",
   "metadata": {
    "id": "ad36396d"
   },
   "source": [
    "Leer y guardar los archivos de datos en los DataFrames y luego imprimir información de cada uno"
   ]
  },
  {
   "cell_type": "code",
   "execution_count": 40,
   "id": "aa230510-162c-4a48-9091-35fc0c8d8430",
   "metadata": {},
   "outputs": [
    {
     "name": "stdout",
     "output_type": "stream",
     "text": [
      "<class 'pandas.core.frame.DataFrame'>\n",
      "RangeIndex: 478967 entries, 0 to 478966\n",
      "Data columns (total 6 columns):\n",
      " #   Column                  Non-Null Count   Dtype  \n",
      "---  ------                  --------------   -----  \n",
      " 0   order_id                478967 non-null  int64  \n",
      " 1   user_id                 478967 non-null  int64  \n",
      " 2   order_number            478967 non-null  int64  \n",
      " 3   order_dow               478967 non-null  int64  \n",
      " 4   order_hour_of_day       478967 non-null  int64  \n",
      " 5   days_since_prior_order  450148 non-null  float64\n",
      "dtypes: float64(1), int64(5)\n",
      "memory usage: 21.9 MB\n",
      "None\n",
      "    order_id  user_id  order_number  order_dow  order_hour_of_day  \\\n",
      "0    1515936   183418            11          6                 13   \n",
      "1    1690866   163593             5          5                 12   \n",
      "2    1454967    39980             4          5                 19   \n",
      "3    1768857    82516            56          0                 20   \n",
      "4    3007858   196724             2          4                 12   \n",
      "5    1843871    20084             5          0                 11   \n",
      "6    2511640   148233            40          3                  8   \n",
      "7    2521283    97711             2          0                 18   \n",
      "8    2266494    34954            40          5                 15   \n",
      "9     446014    15356             2          4                  8   \n",
      "10   1162566    43738            33          4                 11   \n",
      "11    102585   191558            18          6                 16   \n",
      "12   2276302   190167            21          1                 12   \n",
      "13    782916    36310            34          5                  9   \n",
      "14   2843219    74699             4          6                 11   \n",
      "\n",
      "    days_since_prior_order  \n",
      "0                     30.0  \n",
      "1                      9.0  \n",
      "2                      2.0  \n",
      "3                     10.0  \n",
      "4                     17.0  \n",
      "5                     15.0  \n",
      "6                      2.0  \n",
      "7                     22.0  \n",
      "8                      4.0  \n",
      "9                     10.0  \n",
      "10                     2.0  \n",
      "11                     8.0  \n",
      "12                     2.0  \n",
      "13                     3.0  \n",
      "14                    30.0  \n"
     ]
    }
   ],
   "source": [
    "#Leer el archivo instacart_orders y convertirlo en un dataframe\n",
    "df_instacart_orders = pd.read_csv('instacart_orders.csv', sep= ';')\n",
    "#Imprimir información del dataframe\n",
    "print(df_instacart_orders.info())\n",
    "print(df_instacart_orders.head(15))"
   ]
  },
  {
   "cell_type": "code",
   "execution_count": 41,
   "id": "51f40662-a55a-4451-b2eb-f1305b16eb87",
   "metadata": {},
   "outputs": [
    {
     "name": "stdout",
     "output_type": "stream",
     "text": [
      "<class 'pandas.core.frame.DataFrame'>\n",
      "RangeIndex: 49694 entries, 0 to 49693\n",
      "Data columns (total 4 columns):\n",
      " #   Column         Non-Null Count  Dtype \n",
      "---  ------         --------------  ----- \n",
      " 0   product_id     49694 non-null  int64 \n",
      " 1   product_name   48436 non-null  object\n",
      " 2   aisle_id       49694 non-null  int64 \n",
      " 3   department_id  49694 non-null  int64 \n",
      "dtypes: int64(3), object(1)\n",
      "memory usage: 1.5+ MB\n",
      "None\n",
      "       product_id                                       product_name  \\\n",
      "3354         3355                            Goldfish 9ct Wg Cheddar   \n",
      "26595       26596  Full Protection + Whitening Toothpaste for Sen...   \n",
      "30348       30349                  Indian Major Grey's Mango Chutney   \n",
      "17734       17735                   All Natural Hickory Liquid Smoke   \n",
      "22844       22845                                 Medicated Lib Balm   \n",
      "37719       37720                                    Quilted Napkins   \n",
      "45330       45331                FreezerWare Small Containers & Lids   \n",
      "26745       26746                              Organic Lacinato Kale   \n",
      "28401       28402        Lean Gourmet Buffalo Style Chicken Snackers   \n",
      "35568       35569         Premium Pate Wet Cat Food - Chicken Entree   \n",
      "42337       42338                              Zucchini Chips- Pesto   \n",
      "35932       35933                       Blackberry Crumble Ice Cream   \n",
      "1436         1437               Skinny Girl Microwave Butter Popcorn   \n",
      "14901       14902        Berry Lemonade with Chia Chewy Granola Bars   \n",
      "37011       37012                 Chocolate Peppermint Stick Soymilk   \n",
      "\n",
      "       aisle_id  department_id  \n",
      "3354          2             16  \n",
      "26595        20             11  \n",
      "30348        88             13  \n",
      "17734         5             13  \n",
      "22844        73             11  \n",
      "37719        54             17  \n",
      "45330        85             17  \n",
      "26745        83              4  \n",
      "28401        38              1  \n",
      "35568        41              8  \n",
      "42337        50             19  \n",
      "35932        37              1  \n",
      "1436         23             19  \n",
      "14901         3             19  \n",
      "37011        90              7  \n"
     ]
    }
   ],
   "source": [
    "#Leer el archivo products y convertirlo en un dataframe\n",
    "df_products = pd.read_csv('products.csv', sep= ';')\n",
    "#Imprimir información del dataframe\n",
    "print(df_products.info())\n",
    "print(df_products.sample(15))"
   ]
  },
  {
   "cell_type": "code",
   "execution_count": 42,
   "id": "e1954b51-6f83-4d46-86a5-242ef444d4bd",
   "metadata": {},
   "outputs": [
    {
     "name": "stdout",
     "output_type": "stream",
     "text": [
      "<class 'pandas.core.frame.DataFrame'>\n",
      "RangeIndex: 4545007 entries, 0 to 4545006\n",
      "Data columns (total 4 columns):\n",
      " #   Column             Non-Null Count    Dtype  \n",
      "---  ------             --------------    -----  \n",
      " 0   order_id           4545007 non-null  int64  \n",
      " 1   product_id         4545007 non-null  int64  \n",
      " 2   add_to_cart_order  4544171 non-null  float64\n",
      " 3   reordered          4545007 non-null  int64  \n",
      "dtypes: float64(1), int64(3)\n",
      "memory usage: 138.7 MB\n",
      "None\n",
      "         order_id  product_id  add_to_cart_order  reordered\n",
      "2672781    835282       26300               10.0          0\n",
      "4147650    314661       31915                1.0          1\n",
      "4277032    616518       38293                7.0          1\n",
      "1119589   3312281       12756                6.0          0\n",
      "2547661   2665679       21267                8.0          1\n",
      "4249097   1541908       28156               15.0          1\n",
      "1878648   3322808       28204               21.0          1\n",
      "3222494   1488634       43662                3.0          1\n",
      "4375594   3099598       14858                4.0          1\n",
      "371434     346446       25804                2.0          1\n",
      "580052    2653681       47738               12.0          0\n",
      "2839299   1286838       40846                7.0          0\n",
      "2657884    686938       26940               14.0          0\n",
      "4428125   2049138       27730                4.0          0\n",
      "2067198   2920821         502                2.0          0\n",
      "4456104   2539150        2825                3.0          0\n",
      "2022268    289494       49355                9.0          1\n",
      "3012288   1714352       38928                5.0          0\n",
      "3530817    280651        3039                1.0          0\n",
      "4457193   3184984       28842               13.0          1\n"
     ]
    }
   ],
   "source": [
    "#Leer el archivo order_products y convertirlo en un dataframe\n",
    "df_order_products = pd.read_csv('order_products.csv', sep= ';')\n",
    "#Imprimir información del dataframe\n",
    "print(df_order_products.info(show_counts=True))\n",
    "print(df_order_products.sample(20))"
   ]
  },
  {
   "cell_type": "code",
   "execution_count": 43,
   "id": "ed47d4e4-c713-4481-9d77-fbb9afa68e6d",
   "metadata": {},
   "outputs": [
    {
     "name": "stdout",
     "output_type": "stream",
     "text": [
      "<class 'pandas.core.frame.DataFrame'>\n",
      "RangeIndex: 134 entries, 0 to 133\n",
      "Data columns (total 2 columns):\n",
      " #   Column    Non-Null Count  Dtype \n",
      "---  ------    --------------  ----- \n",
      " 0   aisle_id  134 non-null    int64 \n",
      " 1   aisle     134 non-null    object\n",
      "dtypes: int64(1), object(1)\n",
      "memory usage: 2.2+ KB\n",
      "None\n",
      "     aisle_id                          aisle\n",
      "88         89        salad dressing toppings\n",
      "102       103             ice cream toppings\n",
      "130       131                      dry pasta\n",
      "14         15               packaged seafood\n",
      "75         76                   indian foods\n",
      "101       102            baby bath body care\n",
      "84         85                   food storage\n",
      "18         19                  oils vinegars\n",
      "131       132                         beauty\n",
      "41         42        frozen vegan vegetarian\n",
      "117       118                      first aid\n",
      "43         44                   eye ear care\n",
      "81         82               baby accessories\n",
      "114       115  water seltzer sparkling water\n",
      "107       108           other creams cheeses\n",
      "12         13                 prepared meals\n",
      "122       123     packaged vegetables fruits\n",
      "19         20                   oral hygiene\n",
      "76         77                    soft drinks\n",
      "127       128           tortillas flat bread\n"
     ]
    }
   ],
   "source": [
    "#Leer el archivo aisles y convertirlo en un dataframe\n",
    "df_aisles = pd.read_csv('aisles.csv', sep= ';')\n",
    "#Imprimir información del dataframe\n",
    "print(df_aisles.info())\n",
    "print(df_aisles.sample(20))"
   ]
  },
  {
   "cell_type": "code",
   "execution_count": 44,
   "id": "5fd0608a-45c3-4cf4-ae20-713b014808bf",
   "metadata": {},
   "outputs": [
    {
     "name": "stdout",
     "output_type": "stream",
     "text": [
      "<class 'pandas.core.frame.DataFrame'>\n",
      "RangeIndex: 21 entries, 0 to 20\n",
      "Data columns (total 2 columns):\n",
      " #   Column         Non-Null Count  Dtype \n",
      "---  ------         --------------  ----- \n",
      " 0   department_id  21 non-null     int64 \n",
      " 1   department     21 non-null     object\n",
      "dtypes: int64(1), object(1)\n",
      "memory usage: 468.0+ bytes\n",
      "None\n",
      "    department_id       department\n",
      "0               1           frozen\n",
      "1               2            other\n",
      "2               3           bakery\n",
      "3               4          produce\n",
      "4               5          alcohol\n",
      "5               6    international\n",
      "6               7        beverages\n",
      "7               8             pets\n",
      "8               9  dry goods pasta\n",
      "9              10             bulk\n",
      "10             11    personal care\n",
      "11             12     meat seafood\n",
      "12             13           pantry\n",
      "13             14        breakfast\n",
      "14             15     canned goods\n",
      "15             16       dairy eggs\n",
      "16             17        household\n",
      "17             18           babies\n",
      "18             19           snacks\n",
      "19             20             deli\n",
      "20             21          missing\n"
     ]
    }
   ],
   "source": [
    "#Leer el archivo departments y convertirlo en un dataframe\n",
    "df_departments = pd.read_csv('departments.csv', sep= ';')\n",
    "#Imprimir información del dataframe\n",
    "print(df_departments.info())\n",
    "print(df_departments)"
   ]
  },
  {
   "cell_type": "markdown",
   "id": "t75BD19oaR5f",
   "metadata": {
    "id": "t75BD19oaR5f"
   },
   "source": [
    "## Conclusiones\n",
    "\n",
    "Escribe aquí tus conclusiones intermedias sobre el Paso 1. Descripción de los datos.\n"
   ]
  },
  {
   "cell_type": "markdown",
   "id": "9ac11622-e56e-41ae-ac9f-3070d19de22e",
   "metadata": {},
   "source": [
    "+ Todos los archivos tienen nombres adecuados para sus columnas, en minúsculas y con formato snake_case.\n",
    "+ Todos los archivos tienen sus valores separados por ';', por lo que fue necesario colocar ese parámetro en el método read_csv.\n",
    "+ Existen valores ausentes o nulos en los archivos - columnas\n",
    "    + instacart_orders - days_since_prior_order\n",
    "    + \n",
    "products - product_na\n",
    "    + \n",
    "order_products - add_to_cart_or\n",
    "+ Algunas columnas tienen formato de punto flotante que parece no ser necesario y se pueden convertir a entero, hay que verificarlo.\n",
    "+ La descripción de los productos en el archivo products tiene formato capital, cada palabra inicia con mayúscula y podría contener productos duplicados, hay que transformar esos datos a minúsculas y verificar.der"
   ]
  },
  {
   "cell_type": "markdown",
   "id": "3f282a10",
   "metadata": {},
   "source": [
    "<div class=\"alert alert-block alert-success\">\n",
    "<b>Comentario del revisor </b> <a class=\"tocSkip\"></a>\n",
    "\n",
    "Excelente! Muy cuidadoso y prolijo para hacer el análisis preliminar. Has tenido en cuenta el separador en los csv, y tus conclusiones demuestran la atención a los resultados.\n",
    "</div>"
   ]
  },
  {
   "cell_type": "markdown",
   "id": "8RJHqxVmaVsF",
   "metadata": {
    "id": "8RJHqxVmaVsF"
   },
   "source": [
    "# Paso 2. Preprocesamiento de los datos\n",
    "\n",
    "Preprocesa los datos de la siguiente manera:\n",
    "\n",
    "- Verifica y corrige los tipos de datos (por ejemplo, asegúrate de que las columnas de ID sean números enteros).\n",
    "- Identifica y completa los valores ausentes.\n",
    "- Identifica y elimina los valores duplicados.\n",
    "\n",
    "Asegúrate de explicar qué tipos de valores ausentes y duplicados encontraste, cómo los completaste o eliminaste y por qué usaste esos métodos. ¿Por qué crees que estos valores ausentes y duplicados pueden haber estado presentes en el conjunto de datos?"
   ]
  },
  {
   "cell_type": "markdown",
   "id": "p6poABZQaZYb",
   "metadata": {
    "id": "p6poABZQaZYb"
   },
   "source": [
    "## Plan de solución\n",
    "\n",
    "Escribe aquí tu plan para el Paso 2. Preprocesamiento de los datos."
   ]
  },
  {
   "cell_type": "markdown",
   "id": "07357848-dc64-4156-9cc3-01ff4365226d",
   "metadata": {
    "id": "07357848-dc64-4156-9cc3-01ff4365226d"
   },
   "source": [
    "## Encuentra y elimina los valores duplicados (y describe cómo tomaste tus decisiones)."
   ]
  },
  {
   "cell_type": "markdown",
   "id": "f179f0a9",
   "metadata": {
    "id": "f179f0a9"
   },
   "source": [
    "### `instacart_orders` data frame"
   ]
  },
  {
   "cell_type": "code",
   "execution_count": 45,
   "id": "b99297a5-405a-463d-8535-9adc3da4ad74",
   "metadata": {
    "id": "b99297a5-405a-463d-8535-9adc3da4ad74"
   },
   "outputs": [
    {
     "name": "stdout",
     "output_type": "stream",
     "text": [
      "15\n",
      "        order_id  user_id  order_number  order_dow  order_hour_of_day  \\\n",
      "371905    391768    57671            19          3                  2   \n",
      "321100    408114    68324             4          3                  2   \n",
      "394347    467134    63189            21          3                  2   \n",
      "145574    794638    50898            24          3                  2   \n",
      "311713   1021560    53767             3          3                  2   \n",
      "273805   1112182   202304            84          3                  2   \n",
      "411408   1286742   183220            48          3                  2   \n",
      "266232   1782114   106752             1          3                  2   \n",
      "230807   1918001   188546            14          3                  2   \n",
      "323900   1919531   191501            32          3                  2   \n",
      "441599   2125197    14050            48          3                  2   \n",
      "223105   2160484   107525            16          3                  2   \n",
      "345917   2232988    82565             1          3                  2   \n",
      "415163   2282673    86751            49          3                  2   \n",
      "284038   2845099    31189            11          3                  2   \n",
      "\n",
      "        days_since_prior_order  \n",
      "371905                    10.0  \n",
      "321100                    18.0  \n",
      "394347                     2.0  \n",
      "145574                     2.0  \n",
      "311713                     9.0  \n",
      "273805                     6.0  \n",
      "411408                     4.0  \n",
      "266232                     NaN  \n",
      "230807                    16.0  \n",
      "323900                     7.0  \n",
      "441599                     3.0  \n",
      "223105                    30.0  \n",
      "345917                     NaN  \n",
      "415163                     2.0  \n",
      "284038                     7.0  \n",
      "        order_id  user_id  order_number  order_dow  order_hour_of_day  \\\n",
      "242618   1021560    53767             3          3                  2   \n",
      "311713   1021560    53767             3          3                  2   \n",
      "\n",
      "        days_since_prior_order  \n",
      "242618                     9.0  \n",
      "311713                     9.0  \n"
     ]
    }
   ],
   "source": [
    "# Revisa si hay pedidos duplicados\n",
    "# Imprimo el número de filas duplicadas\n",
    "print(df_instacart_orders.duplicated().sum())\n",
    "#Creo un nuevo dataframe para guardar sólo las filas duplicadas. Este dataframe debería tener tantas filas\n",
    "#el número calculado en el paso anterior\n",
    "df_duplicates = df_instacart_orders[df_instacart_orders.duplicated()]\n",
    "#Imprimo el nuevo dataframe en orden ascendente para la columna order_id\n",
    "print(df_duplicates.sort_values('order_id'))\n",
    "#Imprimo una de las filas del dataframe original filtrando por un order_id específico, para comprobar que su\n",
    "#duplicado es idéntico en todas las columnas\n",
    "print(df_instacart_orders[df_instacart_orders['order_id']==1021560])"
   ]
  },
  {
   "cell_type": "code",
   "execution_count": 46,
   "id": "b2b919f5-0848-469d-b891-047c4370a54f",
   "metadata": {},
   "outputs": [
    {
     "data": {
      "text/plain": [
       "0"
      ]
     },
     "execution_count": 46,
     "metadata": {},
     "output_type": "execute_result"
    }
   ],
   "source": [
    "#Elimino las filas duplicadas que se encontraron y reinicio el índice\n",
    "df_instacart_orders = df_instacart_orders.drop_duplicates().reset_index(drop=True)\n",
    "#Compruebo que ya no existen filas duplicadas\n",
    "df_instacart_orders.duplicated(keep=False).sum()"
   ]
  },
  {
   "cell_type": "markdown",
   "id": "PEkwUX_gvt5A",
   "metadata": {
    "id": "PEkwUX_gvt5A"
   },
   "source": [
    "¿Tienes líneas duplicadas? Si sí, ¿qué tienen en común?"
   ]
  },
  {
   "cell_type": "markdown",
   "id": "16a1ee60-02fd-43b9-baad-165854c1bc47",
   "metadata": {},
   "source": [
    "+ Había 15 filas duplicadas. La función .duplicated() identifica únicamente las filas que son completamente iguales en todos sus valores, por lo que, todas las filas duplicadas que se encontraron eran iguales en los valores para todas sus columnas.\n",
    "+ Todas las órdenes duplicadas son del miércoles a las 2 am."
   ]
  },
  {
   "cell_type": "markdown",
   "id": "be26ed5b",
   "metadata": {},
   "source": [
    "<div class=\"alert alert-block alert-success\">\n",
    "<b>Comentario del revisor </b> <a class=\"tocSkip\"></a>\n",
    "\n",
    "Excelente! Has detectado y eliminado duplicados, mejorando la calidad de los datos.\n",
    "\n",
    "</div>\n",
    "\n",
    "<div class=\"alert alert-block alert-warning\">\n",
    "<b>Comentario del revisor </b> <a class=\"tocSkip\"></a>\n",
    "\n",
    "Notas algo especial en los duplicados en las fecha y hora?\n",
    "\n",
    "</div>\n",
    "\n",
    "<div class=\"alert alert-block alert-info\">\n",
    "<b>Comentario estudiante</b><a class=\"tocSkip\"></a>\n",
    "Sí, todos los duplicados son del miércoles a las 2 am.\n",
    "</div>\n",
    "\n",
    "<div class=\"alert alert-block alert-warning\">\n",
    "<b>Comentario del revisor </b> <a class=\"tocSkip\"></a>\n",
    "\n",
    "Al hacer uso de `.reset_index()` se genera una nueva columna `index`, esta columna nueva es opcional, se podría evitar usando `reset_index(drop=True)`.\n",
    "\n",
    "</div>\n",
    "<div class=\"alert alert-block alert-info\">\n",
    "<b>Comentario estudiante</b><a class=\"tocSkip\"></a>\n",
    "Tienes razón, no me sirve de nada tener esa nueva columna. Agregué el parámetro drop=True\n",
    "</div>\n",
    "\n",
    "<div class=\"alert alert-block alert-warning\">\n",
    "<b>Comentario del revisor </b> <a class=\"tocSkip\"></a>\n",
    "\n",
    "El resultado de `duplicated()` marca como duplicado todas repeticiones, pero no la fila original. Si se quieren incorporar todas se puede usar `duplicated(keep=False)`\n",
    "    \n",
    "https://pandas.pydata.org/docs/reference/api/pandas.DataFrame.duplicated.html\n",
    "\n",
    "</div>\n",
    "<div class=\"alert alert-block alert-info\">\n",
    "<b>Comentario estudiante</b><a class=\"tocSkip\"></a>\n",
    "Si uso el parámetro keep=False me da como resultado 30, que me hace sentido si cuento 1 + 1 duplicado, 2 + 2 duplicado... 15 + 15 duplicado. En este caso yo sólo quería saber cuántas filas había duplicadas, y eran 15.\n",
    "</div>\n",
    "\n",
    "<div class=\"alert alert-block alert-warning\">\n",
    "<b>Comentario del revisor </b> <a class=\"tocSkip\"></a>\n",
    "\n",
    "Otra validación de duplicados podría ser sólo usando el `order_id` que debería ser único.\n",
    "\n",
    "</div>\n",
    "<div class=\"alert alert-block alert-info\">\n",
    "<b>Comentario estudiante</b><a class=\"tocSkip\"></a>\n",
    "Es verdad, no pensé en esa posibilidad.\n",
    "</div>"
   ]
  },
  {
   "cell_type": "code",
   "execution_count": 47,
   "id": "0d44de5d",
   "metadata": {
    "id": "0d44de5d"
   },
   "outputs": [
    {
     "name": "stdout",
     "output_type": "stream",
     "text": [
      "[ 0  1  2  3  4  5  6  7  8  9 10 11 12 13 14 15 16 17 18 19 20 21 22 23]\n",
      "        order_id  user_id  order_number  order_dow  order_hour_of_day  \\\n",
      "29129     353088    46038             4          3                  2   \n",
      "18420     382357   120200            19          3                  2   \n",
      "119251    408114    68324             4          3                  2   \n",
      "15506     553049    58599            13          3                  2   \n",
      "74991     592699   175625             2          3                  2   \n",
      "24691     690242    77357             2          3                  2   \n",
      "99462     794638    50898            24          3                  2   \n",
      "109466    851025   168387            54          3                  2   \n",
      "113422   1353704   178429             3          3                  2   \n",
      "25376    1378085    75705            21          3                  2   \n",
      "62357    1399416    93151            34          3                  2   \n",
      "48024    1453300    69262            27          3                  2   \n",
      "96232    1542137   136709            43          3                  2   \n",
      "82460    1554296    39743            10          3                  2   \n",
      "31404    1725788   147843            10          3                  2   \n",
      "68987    1761462   140562            36          3                  2   \n",
      "30371    1918001   188546            14          3                  2   \n",
      "70443    2027608    15574             8          3                  2   \n",
      "107581   2061573   113852            11          3                  2   \n",
      "5156     2190225   138285            18          3                  2   \n",
      "108281   2218116    35918             9          3                  2   \n",
      "94257    2429224   132282            29          3                  2   \n",
      "120815   2438538   124608            12          3                  2   \n",
      "4838     2766110   162084            41          3                  2   \n",
      "77051    2800415   196070             3          3                  2   \n",
      "26301    2846262   176827             2          3                  2   \n",
      "52245    2851380   118608            33          3                  2   \n",
      "109947   2908154    87380             2          3                  2   \n",
      "136476   3155527   131042             8          3                  2   \n",
      "97378    3226444   149996             3          3                  2   \n",
      "\n",
      "        days_since_prior_order  \n",
      "29129                     11.0  \n",
      "18420                     11.0  \n",
      "119251                    18.0  \n",
      "15506                      7.0  \n",
      "74991                     30.0  \n",
      "24691                      9.0  \n",
      "99462                      2.0  \n",
      "109466                    15.0  \n",
      "113422                    30.0  \n",
      "25376                      5.0  \n",
      "62357                      2.0  \n",
      "48024                      7.0  \n",
      "96232                      4.0  \n",
      "82460                      6.0  \n",
      "31404                     30.0  \n",
      "68987                      7.0  \n",
      "30371                     16.0  \n",
      "70443                     17.0  \n",
      "107581                    23.0  \n",
      "5156                      11.0  \n",
      "108281                     8.0  \n",
      "94257                     25.0  \n",
      "120815                     3.0  \n",
      "4838                      16.0  \n",
      "77051                     12.0  \n",
      "26301                     30.0  \n",
      "52245                     30.0  \n",
      "109947                    12.0  \n",
      "136476                    30.0  \n",
      "97378                     23.0   \n",
      "\n",
      "Pedidos los miércoles a las 2 am: order_id                  106\n",
      "user_id                   106\n",
      "order_number              106\n",
      "order_dow                 106\n",
      "order_hour_of_day         106\n",
      "days_since_prior_order    101\n",
      "dtype: int64\n",
      "Pedidos totales los miércoles: 60897\n",
      "La relación es de: order_id                  0.174064\n",
      "user_id                   0.174064\n",
      "order_number              0.174064\n",
      "order_dow                 0.174064\n",
      "order_hour_of_day         0.174064\n",
      "days_since_prior_order    0.165854\n",
      "dtype: float64 %\n"
     ]
    }
   ],
   "source": [
    "# Basándote en tus hallazgos,\n",
    "# Verifica todos los pedidos que se hicieron el miércoles a las 2:00 a.m.\n",
    "\n",
    "#Compruebo primero qué valores se usan para registrar las horas del día. \n",
    "print(df_instacart_orders['order_hour_of_day'].sort_values().unique())\n",
    "\n",
    "#Creo un filtro usando el valor 3 para order_dow y 2 para order_hour_of_day y otro filtro sólo para los días miércoles\n",
    "filter_day_hour = df_instacart_orders[(df_instacart_orders['order_dow'] == 3) & (df_instacart_orders['order_hour_of_day'] == 2)]#['order_id']\n",
    "filter_day = df_instacart_orders[df_instacart_orders['order_dow'] == 3]['order_id']\n",
    "#Imprimo las órdenes que cumplen con el filtro de día y hora\n",
    "print(filter_day_hour.head(30).sort_values(by='order_id'),'\\n')\n",
    "#Uso el mismo filtro para contar el número de órdenes\n",
    "print(f'Pedidos los miércoles a las 2 am: {filter_day_hour.count()}')\n",
    "#Uso el filtro de día para contar el número de órdenes de los miércoles\n",
    "print(f'Pedidos totales los miércoles: {filter_day.count()}')\n",
    "#Calculo la relación entre el número total de pedidos los miércoles contra los miércoles a las 2 am\n",
    "print(f'La relación es de: {filter_day_hour.count()/filter_day.count()*100} %')"
   ]
  },
  {
   "cell_type": "markdown",
   "id": "vu2OWyoqwOx5",
   "metadata": {
    "id": "vu2OWyoqwOx5"
   },
   "source": [
    "¿Qué sugiere este resultado?"
   ]
  },
  {
   "cell_type": "markdown",
   "id": "6d1f3b36-8275-4660-a05e-2692a535ed6f",
   "metadata": {},
   "source": [
    "Los pedidos hechos los miércoles a las 2 am representan sólo el 0.17% de los pedidos totales hechos todos los miércoles. "
   ]
  },
  {
   "cell_type": "markdown",
   "id": "5e8905ae",
   "metadata": {
    "id": "5e8905ae"
   },
   "source": [
    "Describe brevemente tus hallazgos y lo que hiciste con ellos"
   ]
  },
  {
   "cell_type": "markdown",
   "id": "f036de8f-98e3-4d1a-bb5d-7aafa8a02a46",
   "metadata": {},
   "source": [
    "+ A partir del resultado específico podríamos determinar si es factible mantener el servicio durante horas específicas de la madrugada."
   ]
  },
  {
   "cell_type": "markdown",
   "id": "6a040980",
   "metadata": {},
   "source": [
    "<div class=\"alert alert-block alert-success\">\n",
    "<b>Comentario del revisor </b> <a class=\"tocSkip\"></a>\n",
    "\n",
    "Has realizado un buen trabajo de filtrado y conteo de casos para describir qué pasa en esa hora específica.\n",
    "\n",
    "</div>\n",
    "\n",
    "<div class=\"alert alert-block alert-warning\">\n",
    "<b>Comentario del revisor </b> <a class=\"tocSkip\"></a>\n",
    "\n",
    "Este análisis debe estar asociado a los faltantes del paso anterior: ¿Hay algo extraño en este horario? ¿O no se encuentran otras inconsistencias?\n",
    "\n",
    "</div>\n",
    "<div class=\"alert alert-block alert-info\">\n",
    "<b>Comentario estudiante</b><a class=\"tocSkip\"></a>\n",
    "En el paso anterior eliminé los duplicados en el dataframe original, y es sobre ese en el que estoy ahora filtrando el día y la hora. \n",
    "</div>"
   ]
  },
  {
   "cell_type": "markdown",
   "id": "45e6bc46",
   "metadata": {
    "id": "45e6bc46"
   },
   "source": [
    "### `products` data frame"
   ]
  },
  {
   "cell_type": "code",
   "execution_count": 48,
   "id": "5f526b5b-8175-46fa-a0fd-441767d50e64",
   "metadata": {
    "id": "5f526b5b-8175-46fa-a0fd-441767d50e64"
   },
   "outputs": [
    {
     "name": "stdout",
     "output_type": "stream",
     "text": [
      "0\n"
     ]
    }
   ],
   "source": [
    "# Verifica si hay filas totalmente duplicadas\n",
    "# Imprimo el número de filas duplicadas\n",
    "print(df_products.duplicated().sum())"
   ]
  },
  {
   "cell_type": "code",
   "execution_count": 49,
   "id": "88daa4f4",
   "metadata": {
    "id": "88daa4f4"
   },
   "outputs": [
    {
     "name": "stdout",
     "output_type": "stream",
     "text": [
      "0\n"
     ]
    }
   ],
   "source": [
    "# Verifica si hay IDs duplicadas de productos\n",
    "print(df_products['product_id'].duplicated().sum())"
   ]
  },
  {
   "cell_type": "code",
   "execution_count": 50,
   "id": "c773f0bf",
   "metadata": {
    "id": "c773f0bf"
   },
   "outputs": [
    {
     "name": "stdout",
     "output_type": "stream",
     "text": [
      "1361\n",
      "       product_id                                     product_name  aisle_id  \\\n",
      "71             72                                              NaN       100   \n",
      "109           110                                              NaN       100   \n",
      "296           297                                              NaN       100   \n",
      "416           417                                              NaN       100   \n",
      "436           437                                              NaN       100   \n",
      "...           ...                                              ...       ...   \n",
      "49689       49690                    HIGH PERFORMANCE ENERGY DRINK        64   \n",
      "49690       49691                    ORIGINAL PANCAKE & WAFFLE MIX       130   \n",
      "49691       49692  ORGANIC INSTANT OATMEAL LIGHT MAPLE BROWN SUGAR       130   \n",
      "49692       49693                           SPRING WATER BODY WASH       127   \n",
      "49693       49694                          BURRITO- STEAK & CHEESE        38   \n",
      "\n",
      "       department_id  \n",
      "71                21  \n",
      "109               21  \n",
      "296               21  \n",
      "416               21  \n",
      "436               21  \n",
      "...              ...  \n",
      "49689              7  \n",
      "49690             14  \n",
      "49691             14  \n",
      "49692             11  \n",
      "49693              1  \n",
      "\n",
      "[1361 rows x 4 columns]\n"
     ]
    }
   ],
   "source": [
    "# Revisa si hay nombres duplicados de productos (convierte los nombres a letras mayúsculas para compararlos mejor)\n",
    "#Cuento el número de nombres de productos duplicados\n",
    "print(df_products['product_name'].str.upper().duplicated().sum())\n",
    "#Creo un dataframe nuevo con la información de los duplicados y lo imprimo\n",
    "df_products_duplicated=df_products[df_products['product_name'].str.upper().duplicated()]\n",
    "print(df_products_duplicated)"
   ]
  },
  {
   "cell_type": "code",
   "execution_count": 51,
   "id": "01efd02e",
   "metadata": {
    "id": "01efd02e"
   },
   "outputs": [
    {
     "name": "stdout",
     "output_type": "stream",
     "text": [
      "       product_id                                       product_name  \\\n",
      "0               1                         CHOCOLATE SANDWICH COOKIES   \n",
      "1               2                                   ALL-SEASONS SALT   \n",
      "2               3               ROBUST GOLDEN UNSWEETENED OOLONG TEA   \n",
      "3               4  SMART ONES CLASSIC FAVORITES MINI RIGATONI WIT...   \n",
      "4               5                          GREEN CHILE ANYTIME SAUCE   \n",
      "...           ...                                                ...   \n",
      "49689       49690                      HIGH PERFORMANCE ENERGY DRINK   \n",
      "49690       49691                      ORIGINAL PANCAKE & WAFFLE MIX   \n",
      "49691       49692    ORGANIC INSTANT OATMEAL LIGHT MAPLE BROWN SUGAR   \n",
      "49692       49693                             SPRING WATER BODY WASH   \n",
      "49693       49694                            BURRITO- STEAK & CHEESE   \n",
      "\n",
      "       aisle_id  department_id  \n",
      "0            61             19  \n",
      "1           104             13  \n",
      "2            94              7  \n",
      "3            38              1  \n",
      "4             5             13  \n",
      "...         ...            ...  \n",
      "49689        64              7  \n",
      "49690       130             14  \n",
      "49691       130             14  \n",
      "49692       127             11  \n",
      "49693        38              1  \n",
      "\n",
      "[48436 rows x 4 columns]\n",
      "104\n",
      "       product_id                                     product_name  aisle_id  \\\n",
      "2058         2059                                  BIOTIN 1000 MCG        47   \n",
      "5455         5456                 GREEN TEA WITH GINSENG AND HONEY        96   \n",
      "5558         5559                           CREAM OF MUSHROOM SOUP        69   \n",
      "7558         7559                        CINNAMON ROLLS WITH ICING       105   \n",
      "9037         9038                           AMERICAN CHEESE SLICES        21   \n",
      "...           ...                                              ...       ...   \n",
      "49689       49690                    HIGH PERFORMANCE ENERGY DRINK        64   \n",
      "49690       49691                    ORIGINAL PANCAKE & WAFFLE MIX       130   \n",
      "49691       49692  ORGANIC INSTANT OATMEAL LIGHT MAPLE BROWN SUGAR       130   \n",
      "49692       49693                           SPRING WATER BODY WASH       127   \n",
      "49693       49694                          BURRITO- STEAK & CHEESE        38   \n",
      "\n",
      "       department_id  \n",
      "2058              11  \n",
      "5455              20  \n",
      "5558              15  \n",
      "7558              13  \n",
      "9037              16  \n",
      "...              ...  \n",
      "49689              7  \n",
      "49690             14  \n",
      "49691             14  \n",
      "49692             11  \n",
      "49693              1  \n",
      "\n",
      "[104 rows x 4 columns]\n",
      "      product_id     product_name  aisle_id  department_id\n",
      "41            42  BIOTIN 1000 MCG        47             11\n",
      "2058        2059  BIOTIN 1000 MCG        47             11\n"
     ]
    },
    {
     "name": "stderr",
     "output_type": "stream",
     "text": [
      "C:\\Users\\Javi\\AppData\\Local\\Temp\\ipykernel_23776\\3172105299.py:5: SettingWithCopyWarning: \n",
      "A value is trying to be set on a copy of a slice from a DataFrame.\n",
      "Try using .loc[row_indexer,col_indexer] = value instead\n",
      "\n",
      "See the caveats in the documentation: https://pandas.pydata.org/pandas-docs/stable/user_guide/indexing.html#returning-a-view-versus-a-copy\n",
      "  df_notna_products['product_name'] = df_notna_products['product_name'].str.upper()\n"
     ]
    }
   ],
   "source": [
    "# Revisa si hay nombres duplicados de productos no faltantes\n",
    "#Creo un dataframe nuevo con todos los productos que sí tienen un nombre en product_name. Encontré la función notna() en la documentación de pandas.\n",
    "df_notna_products = df_products[df_products['product_name'].notna()]\n",
    "#Convierto el nombre de los productos a mayúsculas en el dataframe anterior\n",
    "df_notna_products['product_name'] = df_notna_products['product_name'].str.upper()\n",
    "print(df_notna_products)\n",
    "#Cuento el número de elementos duplicados entre los productos que sí tienen nombre\n",
    "print(df_notna_products['product_name'].duplicated().sum())\n",
    "#Creo un dataframe nuevo para guardar todos los elementos duplicados, el número de elementos/filas debería ser igual que el número anterior\n",
    "df_notna_duplicates=df_notna_products[df_notna_products['product_name'].duplicated()]\n",
    "print(df_notna_duplicates)\n",
    "#Compruebo uno de los nombres duplicados que encontré\n",
    "print(df_notna_products[df_notna_products['product_name']=='BIOTIN 1000 MCG'])"
   ]
  },
  {
   "cell_type": "markdown",
   "id": "30ff8ecf",
   "metadata": {},
   "source": [
    "<div class=\"alert alert-block alert-danger\">\n",
    "<b>Comentario del revisor </b> <a class=\"tocSkip\"></a>\n",
    "\n",
    "Aquí finalmente has seleccionado los productos que tienen faltantes. Deberían ser los que no tienen faltantes. \n",
    "\n",
    "</div>\n",
    "<div class=\"alert alert-block alert-info\">\n",
    "<b>Comentario estudiante</b><a class=\"tocSkip\"></a>\n",
    "Lo corregí y cambié mis conclusiones\n",
    "</div>"
   ]
  },
  {
   "cell_type": "markdown",
   "id": "9da8d293",
   "metadata": {
    "id": "9da8d293"
   },
   "source": [
    "Describe brevemente tus hallazgos y lo que hiciste con ellos."
   ]
  },
  {
   "cell_type": "markdown",
   "id": "74940b6b-db55-49c1-9033-762f4167b007",
   "metadata": {},
   "source": [
    "+ Existen 104 productos cuyo nombre está duplicado, sin embargo, tienen product_id únicos. No deberían ser borrados por este hecho para no afectar los análisis.\n",
    "+ A los productos que no tienen nombre, debo primero saber si son parte de alguna orden antes de decidir si pudiera borrarlos o simplemente cambiar el valor NaN por otra cosa."
   ]
  },
  {
   "cell_type": "markdown",
   "id": "81cdb234",
   "metadata": {},
   "source": [
    "<div class=\"alert alert-block alert-success\">\n",
    "<b>Comentario del revisor </b> <a class=\"tocSkip\"></a>\n",
    "\n",
    "Muy bien! Has realizado otra buena validación de duplicados, asegurando calidad en los datos.\n",
    "\n",
    "</div>\n",
    "\n",
    "<div class=\"alert alert-block alert-warning\">\n",
    "<b>Comentario del revisor </b> <a class=\"tocSkip\"></a>\n",
    "\n",
    "Se podrían imputar los faltantes con algún valor? Alguna cadena genérica para indicar que no se conoce el nombre?\n",
    "\n",
    "Si existen productos con mismo nombre, significan necesariamente que son el mismo producto? Cómo se ven en estos datos?\n",
    "\n",
    "</div>"
   ]
  },
  {
   "cell_type": "markdown",
   "id": "60f30db1",
   "metadata": {
    "id": "60f30db1"
   },
   "source": [
    "### `departments` data frame"
   ]
  },
  {
   "cell_type": "code",
   "execution_count": 52,
   "id": "fb410ad4-0fbf-4b80-bb09-23fdea79afe3",
   "metadata": {
    "id": "fb410ad4-0fbf-4b80-bb09-23fdea79afe3"
   },
   "outputs": [
    {
     "name": "stdout",
     "output_type": "stream",
     "text": [
      "0\n",
      "    department_id       department\n",
      "0               1           frozen\n",
      "1               2            other\n",
      "2               3           bakery\n",
      "3               4          produce\n",
      "4               5          alcohol\n",
      "5               6    international\n",
      "6               7        beverages\n",
      "7               8             pets\n",
      "8               9  dry goods pasta\n",
      "9              10             bulk\n",
      "10             11    personal care\n",
      "11             12     meat seafood\n",
      "12             13           pantry\n",
      "13             14        breakfast\n",
      "14             15     canned goods\n",
      "15             16       dairy eggs\n",
      "16             17        household\n",
      "17             18           babies\n",
      "18             19           snacks\n",
      "19             20             deli\n",
      "20             21          missing\n"
     ]
    }
   ],
   "source": [
    "# Revisa si hay filas totalmente duplicadas\n",
    "print(df_departments.duplicated().sum())\n",
    "print(df_departments)"
   ]
  },
  {
   "cell_type": "code",
   "execution_count": 53,
   "id": "332b12bb",
   "metadata": {
    "id": "332b12bb"
   },
   "outputs": [
    {
     "data": {
      "text/plain": [
       "0"
      ]
     },
     "execution_count": 53,
     "metadata": {},
     "output_type": "execute_result"
    }
   ],
   "source": [
    "# Revisa si hay IDs duplicadas de productos\n",
    "df_departments['department'].duplicated().sum()"
   ]
  },
  {
   "cell_type": "markdown",
   "id": "bd30d78e",
   "metadata": {
    "id": "bd30d78e"
   },
   "source": [
    "Describe brevemente tus hallazgos y lo que hiciste con ellos."
   ]
  },
  {
   "cell_type": "markdown",
   "id": "bd9761b1-f685-4657-82f0-8ce89885778a",
   "metadata": {},
   "source": [
    "+ Este dataframe sólo tiene 20 filas, por lo que se puede visualizar completo.\n",
    "+ No existen filas completas, IDs o nombres de departamentos duplicados.\n",
    "+ Existen dos departamentos que llaman mi atención, 'other' y 'missing'. ¿Podrían integrarse todos los elementos que coinciden con 'missing' y ponerlos en 'other'?"
   ]
  },
  {
   "cell_type": "markdown",
   "id": "c272393e",
   "metadata": {},
   "source": [
    "<div class=\"alert alert-block alert-success\">\n",
    "<b>Comentario del revisor </b> <a class=\"tocSkip\"></a>\n",
    "\n",
    "Excelente análisis y conclusiones.\n",
    "\n",
    "</div>"
   ]
  },
  {
   "cell_type": "markdown",
   "id": "889349c1",
   "metadata": {
    "id": "889349c1"
   },
   "source": [
    "### `aisles` data frame"
   ]
  },
  {
   "cell_type": "code",
   "execution_count": 54,
   "id": "9da89fb9-4679-40f5-ad0d-c34df753a3f8",
   "metadata": {
    "id": "9da89fb9-4679-40f5-ad0d-c34df753a3f8"
   },
   "outputs": [
    {
     "data": {
      "text/plain": [
       "0"
      ]
     },
     "execution_count": 54,
     "metadata": {},
     "output_type": "execute_result"
    }
   ],
   "source": [
    "# Revisa si hay filas totalmente duplicadas\n",
    "df_aisles.duplicated().sum()"
   ]
  },
  {
   "cell_type": "code",
   "execution_count": 55,
   "id": "da7c2822",
   "metadata": {
    "id": "da7c2822"
   },
   "outputs": [
    {
     "name": "stdout",
     "output_type": "stream",
     "text": [
      "     aisle_id                          aisle\n",
      "100       101         air fresheners candles\n",
      "65         66                    asian foods\n",
      "81         82               baby accessories\n",
      "101       102            baby bath body care\n",
      "91         92              baby food formula\n",
      "..        ...                            ...\n",
      "59         60              trash bags liners\n",
      "46         47           vitamins supplements\n",
      "114       115  water seltzer sparkling water\n",
      "61         62                    white wines\n",
      "119       120                         yogurt\n",
      "\n",
      "[134 rows x 2 columns]\n",
      "0\n",
      "0\n"
     ]
    }
   ],
   "source": [
    "# Revisa si hay IDs duplicadas de productos\n",
    "df_aisles.sort_values('aisle',inplace=True)\n",
    "print(df_aisles)\n",
    "print(df_aisles['aisle_id'].duplicated().sum())\n",
    "print(df_aisles['aisle'].duplicated().sum())"
   ]
  },
  {
   "cell_type": "markdown",
   "id": "ac63826f",
   "metadata": {
    "id": "ac63826f"
   },
   "source": [
    "Describe brevemente tus hallazgos y lo que hiciste con ellos."
   ]
  },
  {
   "cell_type": "markdown",
   "id": "8203b91e-0c6a-48b0-b6bb-035020ad5eb7",
   "metadata": {},
   "source": [
    "+ En este dataframe no hay filas, IDs o nombres de isla duplicados"
   ]
  },
  {
   "cell_type": "markdown",
   "id": "6f10bf63",
   "metadata": {},
   "source": [
    "<div class=\"alert alert-block alert-success\">\n",
    "<b>Comentario del revisor </b> <a class=\"tocSkip\"></a>\n",
    "\n",
    "Perfecto!\n",
    "\n",
    "</div>"
   ]
  },
  {
   "cell_type": "markdown",
   "id": "274cd06a",
   "metadata": {
    "id": "274cd06a"
   },
   "source": [
    "### `order_products` data frame"
   ]
  },
  {
   "cell_type": "code",
   "execution_count": 56,
   "id": "52326689-84a8-4b8f-a881-7c68780f62c9",
   "metadata": {
    "id": "52326689-84a8-4b8f-a881-7c68780f62c9"
   },
   "outputs": [
    {
     "name": "stdout",
     "output_type": "stream",
     "text": [
      "<class 'pandas.core.frame.DataFrame'>\n",
      "RangeIndex: 4545007 entries, 0 to 4545006\n",
      "Data columns (total 4 columns):\n",
      " #   Column             Dtype  \n",
      "---  ------             -----  \n",
      " 0   order_id           int64  \n",
      " 1   product_id         int64  \n",
      " 2   add_to_cart_order  float64\n",
      " 3   reordered          int64  \n",
      "dtypes: float64(1), int64(3)\n",
      "memory usage: 138.7 MB\n",
      "         order_id  product_id  add_to_cart_order  reordered\n",
      "980166     289263       22825                4.0          1\n",
      "2266970    310554        7644               10.0          1\n",
      "879895     634151        9186               13.0          1\n",
      "1571620    811233       42777               21.0          0\n",
      "2830875    954470       24852                7.0          0\n",
      "210835    1501877       32968               24.0          1\n",
      "936638    1641147       38772               20.0          1\n",
      "4243739   1676242       30720                5.0          1\n",
      "3311447   1788515       44987                5.0          0\n",
      "1579960   1800827       44910                5.0          1\n",
      "95543     1871093       10749                2.0          0\n",
      "2023903   1957889       39928               26.0          1\n",
      "2897304   2022759       20023               18.0          0\n",
      "3471304   2159542       38383               24.0          1\n",
      "3588207   2195785        5212               12.0          1\n",
      "137647    2304195       24964                7.0          1\n",
      "261156    2431949       33000                1.0          1\n",
      "1170128   2630632       10767                2.0          0\n",
      "1993323   2845405       40080                1.0          0\n",
      "360414    3394758       10827                9.0          0\n"
     ]
    },
    {
     "data": {
      "text/plain": [
       "0"
      ]
     },
     "execution_count": 56,
     "metadata": {},
     "output_type": "execute_result"
    }
   ],
   "source": [
    "# Revisa si hay filas totalmente duplicadas\n",
    "df_order_products.info()\n",
    "print(df_order_products.sample(20).sort_values(by='order_id'))\n",
    "df_order_products.duplicated().sum()"
   ]
  },
  {
   "cell_type": "code",
   "execution_count": 57,
   "id": "7b861391",
   "metadata": {
    "id": "7b861391"
   },
   "outputs": [
    {
     "name": "stdout",
     "output_type": "stream",
     "text": [
      "         order_id  product_id  add_to_cart_order  reordered\n",
      "0         2141543       11440               17.0          0\n",
      "1          567889        1560                1.0          1\n",
      "2         2261212       26683                1.0          1\n",
      "3          491251        8670               35.0          1\n",
      "4         2571142        1940                5.0          1\n",
      "...           ...         ...                ...        ...\n",
      "4545002    577211       15290               12.0          1\n",
      "4545003   1219554       21914                9.0          0\n",
      "4545004    692640       47766                4.0          1\n",
      "4545005    319435         691                8.0          1\n",
      "4545006   1398151       28733                9.0          0\n",
      "\n",
      "[4523160 rows x 4 columns]\n",
      "\n",
      "Empty DataFrame\n",
      "Columns: [order_id, product_id, add_to_cart_order, reordered]\n",
      "Index: []\n",
      "\n",
      "order_id             4.0\n",
      "product_id           1.0\n",
      "add_to_cart_order    1.0\n",
      "reordered            0.0\n",
      "dtype: float64\n",
      "order_id             3421077.0\n",
      "product_id             49694.0\n",
      "add_to_cart_order         64.0\n",
      "reordered                  1.0\n",
      "dtype: float64\n",
      "[      4       9      11 ... 3421053 3421071 3421077]\n",
      "         order_id  product_id  add_to_cart_order  reordered\n",
      "0         2141543       11440               17.0          0\n",
      "1          567889        1560                1.0          1\n",
      "2         2261212       26683                1.0          1\n",
      "3          491251        8670               35.0          1\n",
      "4         2571142        1940                5.0          1\n",
      "...           ...         ...                ...        ...\n",
      "4545002    577211       15290               12.0          1\n",
      "4545003   1219554       21914                9.0          0\n",
      "4545004    692640       47766                4.0          1\n",
      "4545005    319435         691                8.0          1\n",
      "4545006   1398151       28733                9.0          0\n",
      "\n",
      "[4523160 rows x 4 columns]\n",
      "         order_id  product_id  add_to_cart_order  reordered\n",
      "311805          4       46842                1.0          0\n",
      "2834230         4       26434                2.0          1\n",
      "1295279         4       39758                3.0          1\n",
      "1169276         4       27761                4.0          1\n",
      "1420535         4       10054                5.0          1\n",
      "3977678         4       21351                6.0          1\n",
      "1172585         4       22598                7.0          1\n",
      "2043091         4       34862                8.0          1\n",
      "4107072         4       40285                9.0          1\n",
      "2507695         4       17616               10.0          1\n",
      "3189411         4       25146               11.0          1\n",
      "1299531         4       32645               12.0          1\n",
      "2502556         4       41276               13.0          1\n"
     ]
    }
   ],
   "source": [
    "# Vuelve a verificar si hay cualquier otro duplicado engañoso\n",
    "# print(df_order_products.min())\n",
    "# print(df_order_products.max())\n",
    "#Creo un nuevo dataframe con los duplicados que encuentre en la columna order_id\n",
    "df_duplicated_orders=df_order_products[df_order_products['order_id'].duplicated(keep=False)]\n",
    "print(df_duplicated_orders)\n",
    "print()\n",
    "#Creo un nuevo dataframe con los duplicados que encuentre en las columna order_id y product_id a la vez\n",
    "df_duplicated_orders_subset=df_order_products[df_order_products.duplicated(keep=False,subset=(['order_id','product_id']))]\n",
    "print(df_duplicated_orders_subset)\n",
    "print()\n",
    "#Imprimo los valores mínimos y máximos de todas las columnas del nuevo dataframe\n",
    "print(df_duplicated_orders.min())\n",
    "print(df_duplicated_orders.max())\n",
    "#Imprimo una lista ordenada con los valores únicos de order_id\n",
    "print(df_duplicated_orders['order_id'].sort_values().unique())\n",
    "print(df_duplicated_orders)\n",
    "#Creo un dataframe nuevo que contenga únicamente elementos correspondientes a un número de orden determinado\n",
    "df_temp=df_duplicated_orders[df_duplicated_orders['order_id']==4]#Este 4 corresponde al número de orden que quiero filtrar\n",
    "df_temp=df_temp.sort_values(by='add_to_cart_order')\n",
    "print(df_temp)"
   ]
  },
  {
   "cell_type": "markdown",
   "id": "0b890492",
   "metadata": {
    "id": "0b890492"
   },
   "source": [
    "Describe brevemente tus hallazgos y lo que hiciste con ellos."
   ]
  },
  {
   "cell_type": "markdown",
   "id": "b351125b-0ab0-4bee-9792-50bf3d1e94fb",
   "metadata": {},
   "source": [
    "+ Este dataframe duplica el order_id para cada producto que se haya agregado en esa orden.\n",
    "+ El primer número de orden registrado es el 4. ¿Qué pasó con los anteriores?\n",
    "+ Al ordenar por número de orden, noté que hay más ordenes faltantes, debería ser una numeración consecutiva. ¿Por qué faltan números de orden?"
   ]
  },
  {
   "cell_type": "markdown",
   "id": "d54fb08a",
   "metadata": {},
   "source": [
    "<div class=\"alert alert-block alert-success\">\n",
    "<b>Comentario del revisor </b> <a class=\"tocSkip\"></a>\n",
    "\n",
    "El análisis de duplicados está bien hecho. Y las observaciones son muy buenas.\n",
    "\n",
    "</div>\n",
    "\n",
    "\n",
    "<div class=\"alert alert-block alert-danger\">\n",
    "<b>Comentario del revisor </b> <a class=\"tocSkip\"></a>\n",
    "\n",
    "El motivo por el que no ves el primer elemento en la orden 4, es por que debes agregar el parámetro `keep=False` en el método duplicate.\n",
    "\n",
    "</div>\n",
    "<div class=\"alert alert-block alert-info\">\n",
    "<b>Comentario estudiante</b><a class=\"tocSkip\"></a>\n",
    "En este punto me refería al resultado de imprimir print(df_duplicated_orders['order_id'].sort_values().unique()) que me muestra\n",
    "    [      4       9      11 ... 3421053 3421071 3421077]\n",
    "Y mi pregunta es por qué falta el número de orden 1,2,3...5,6,7,8 etc.\n",
    "Agregué también el parámetro keep como me indicas, no había notado que al imprimir df_temp=df_temp.sort_values(by='add_to_cart_order') hacía falta la primera orden en add_to_cart_order. Gracias.\n",
    "</div>\n",
    "\n",
    "<div class=\"alert alert-block alert-warning\">\n",
    "<b>Comentario del revisor </b> <a class=\"tocSkip\"></a>\n",
    "\n",
    "Está muy bien la observación de que un orden_id puede duplicarse, dependiendo de la cantidad de productos que el o la cliente haya comprado. Es común representar el uso de tablas `order_product` para indicar esta relación entre la entidades ordenes y productos. Ahora, un identificador único podría ser el par (order_id, product_id), existen duplicados usando como clave esas columnas? (pista: puedes usar el parámetro `subset`). Si existen duplicados podría deberse o a un error, o que el sistema permita agregar más de dos veces el mismo producto al carrito, esto dependerá de la APP y el modelado de datos. Puedes intentar validar estas cuestiones.\n",
    "    \n",
    "    \n",
    "https://pandas.pydata.org/docs/reference/api/pandas.DataFrame.duplicated.html\n",
    "\n",
    "</div>\n",
    "\n",
    "<div class=\"alert alert-block alert-info\">\n",
    "<b>Comentario estudiante</b><a class=\"tocSkip\"></a>\n",
    "Comprobé con el método subset y no encontré productos duplicados dentro del mismo order_id. Es posible que usen otra columna para indicar cuántos productos iguales se agregaron y no tener que repetir ese product_id. Gracias.\n",
    "</div>"
   ]
  },
  {
   "cell_type": "markdown",
   "id": "1e46de76",
   "metadata": {
    "id": "1e46de76"
   },
   "source": [
    "## Encuentra y elimina los valores ausentes\n",
    "\n",
    "Al trabajar con valores duplicados, pudimos observar que también nos falta investigar valores ausentes:\n",
    "\n",
    "* La columna `'product_name'` de la tabla products.\n",
    "* La columna `'days_since_prior_order'` de la tabla orders.\n",
    "* La columna `'add_to_cart_order'` de la tabla order_productos."
   ]
  },
  {
   "cell_type": "markdown",
   "id": "c0aebd78",
   "metadata": {
    "id": "c0aebd78"
   },
   "source": [
    "### `products` data frame"
   ]
  },
  {
   "cell_type": "code",
   "execution_count": 58,
   "id": "fe4a8b0f",
   "metadata": {
    "id": "fe4a8b0f"
   },
   "outputs": [
    {
     "name": "stdout",
     "output_type": "stream",
     "text": [
      "48436\n",
      "48332\n",
      "1258\n",
      "       product_id product_name  aisle_id  department_id\n",
      "37             38          NaN       100             21\n",
      "71             72          NaN       100             21\n",
      "109           110          NaN       100             21\n",
      "296           297          NaN       100             21\n",
      "416           417          NaN       100             21\n",
      "...           ...          ...       ...            ...\n",
      "49552       49553          NaN       100             21\n",
      "49574       49575          NaN       100             21\n",
      "49640       49641          NaN       100             21\n",
      "49663       49664          NaN       100             21\n",
      "49668       49669          NaN       100             21\n",
      "\n",
      "[1258 rows x 4 columns]\n"
     ]
    }
   ],
   "source": [
    "# Encuentra los valores ausentes en la columna 'product_name'\n",
    "#Busco e imprimo el número de productos únicos en el dataframe original\n",
    "df_unique=df_products['product_name'].nunique()\n",
    "print(df_unique)\n",
    "print(df_products['product_name'].str.upper().nunique())\n",
    "#Cuento el número de valores ausentes de la columna product_name\n",
    "print(df_products['product_name'].isna().sum())\n",
    "#Creo un nuevo dataframe con las filas que no tienen product_name\n",
    "df_NaN_products=df_products[df_products['product_name'].isna()]\n",
    "print(df_NaN_products)\n",
    "# print(df_products)"
   ]
  },
  {
   "cell_type": "markdown",
   "id": "-A6x1AbJhjkp",
   "metadata": {
    "id": "-A6x1AbJhjkp"
   },
   "source": [
    "Describe brevemente cuáles son tus hallazgos."
   ]
  },
  {
   "cell_type": "markdown",
   "id": "31503d5f-c858-4873-be3e-d8b0e7dd0204",
   "metadata": {},
   "source": [
    "+ Hay 48436 productos registrados, 1258 sin nombre, y suman en total los 49694 registros del dataframe original.\n",
    "+ Hay 104 elementos duplicados en los nombres de productos."
   ]
  },
  {
   "cell_type": "code",
   "execution_count": 59,
   "id": "e96167bc",
   "metadata": {
    "id": "e96167bc"
   },
   "outputs": [
    {
     "name": "stdout",
     "output_type": "stream",
     "text": [
      "[100]\n",
      "100\n",
      "100\n"
     ]
    }
   ],
   "source": [
    "#  ¿Todos los nombres de productos ausentes están relacionados con el pasillo con ID 100?\n",
    "print(df_NaN_products['aisle_id'].unique())\n",
    "print(df_NaN_products['aisle_id'].min())\n",
    "print(df_NaN_products['aisle_id'].max())"
   ]
  },
  {
   "cell_type": "markdown",
   "id": "WRpIfXRphpSL",
   "metadata": {
    "id": "WRpIfXRphpSL"
   },
   "source": [
    "Describe brevemente cuáles son tus hallazgos."
   ]
  },
  {
   "cell_type": "markdown",
   "id": "d2b63d0f-d3c8-4e3d-80e2-5a062d87c6aa",
   "metadata": {},
   "source": [
    "+ Sí,todos los productos a los que les falta nombre están relacionados con el ID 100"
   ]
  },
  {
   "cell_type": "code",
   "execution_count": 60,
   "id": "8fd0a541",
   "metadata": {
    "id": "8fd0a541"
   },
   "outputs": [
    {
     "name": "stdout",
     "output_type": "stream",
     "text": [
      "[21]\n",
      "21\n",
      "21\n"
     ]
    }
   ],
   "source": [
    "# ¿Todos los nombres de productos ausentes están relacionados con el departamento con ID 21?\n",
    "print(df_NaN_products['department_id'].unique())\n",
    "print(df_NaN_products['department_id'].min())\n",
    "print(df_NaN_products['department_id'].max())"
   ]
  },
  {
   "cell_type": "markdown",
   "id": "qDpdYn1Fht_I",
   "metadata": {
    "id": "qDpdYn1Fht_I"
   },
   "source": [
    "Describe brevemente cuáles son tus hallazgos."
   ]
  },
  {
   "cell_type": "markdown",
   "id": "075f81ed-0c7d-42d8-8d97-541a3a27bae3",
   "metadata": {},
   "source": [
    "+ Sí, todos los productos a los que les falta nombre están relacionados con el ID 21"
   ]
  },
  {
   "cell_type": "markdown",
   "id": "b53e48c6",
   "metadata": {},
   "source": [
    "<div class=\"alert alert-block alert-success\">\n",
    "<b>Comentario del revisor </b> <a class=\"tocSkip\"></a>\n",
    "\n",
    "Excelente!\n",
    "\n",
    "</div>"
   ]
  },
  {
   "cell_type": "code",
   "execution_count": 61,
   "id": "325c3464",
   "metadata": {
    "id": "325c3464"
   },
   "outputs": [
    {
     "name": "stdout",
     "output_type": "stream",
     "text": [
      "    aisle_id    aisle\n",
      "99       100  missing\n",
      "    department_id department\n",
      "20             21    missing\n"
     ]
    }
   ],
   "source": [
    "# Usa las tablas department y aisle para revisar los datos del pasillo con ID 100 y el departamento con ID 21.\n",
    "print(df_aisles[df_aisles['aisle_id']==100])\n",
    "print(df_departments[df_departments['department_id']==21])"
   ]
  },
  {
   "cell_type": "markdown",
   "id": "nqhSTUPhhvEJ",
   "metadata": {
    "id": "nqhSTUPhhvEJ"
   },
   "source": [
    "Describe brevemente cuáles son tus hallazgos."
   ]
  },
  {
   "cell_type": "markdown",
   "id": "eaaddfc9-9636-4d46-b062-f5864284e9d4",
   "metadata": {},
   "source": [
    "+ El ID 100 no tiene un nombre\n",
    "+ El ID 21 no tiene un nombre\n",
    "+ Los productos que no tienen nombre están catalogados con aisle_id \"missing\" y department_id \"missing\". Esto me sugiere que esos productos ya no están disponibles. "
   ]
  },
  {
   "cell_type": "markdown",
   "id": "512cfdbb",
   "metadata": {},
   "source": [
    "<div class=\"alert alert-block alert-success\">\n",
    "<b>Comentario del revisor </b> <a class=\"tocSkip\"></a>\n",
    "\n",
    "Muy bien! Es una buena hipótesis, por ejemplo si por algún motivo fueron dado de baja en los datos y hayan perdido la referencia a sus valores originales.\n",
    "\n",
    "</div>"
   ]
  },
  {
   "cell_type": "code",
   "execution_count": 62,
   "id": "6b295120",
   "metadata": {
    "id": "6b295120"
   },
   "outputs": [
    {
     "name": "stdout",
     "output_type": "stream",
     "text": [
      "product_id       0\n",
      "product_name     0\n",
      "aisle_id         0\n",
      "department_id    0\n",
      "dtype: int64\n",
      "0\n",
      "Empty DataFrame\n",
      "Columns: [product_id, product_name, aisle_id, department_id]\n",
      "Index: []\n"
     ]
    }
   ],
   "source": [
    "# Completa los nombres de productos ausentes con 'Unknown'\n",
    "df_products['product_name']=df_products['product_name'].fillna('unknown')\n",
    "#Imprimo la suma de valores ausentes por columna del dataframe original\n",
    "print(df_products.isna().sum())\n",
    "#Imprimo la suma de valores ausentes sólo de la columna product_name del dataframe original\n",
    "print(df_products['product_name'].isna().sum())\n",
    "#Creo un nuevo dataframe que contenga sólo los valores ausentes de la columna product_name y lo imprimo\n",
    "df_NaN_products=df_products[df_products['product_name'].isna()]\n",
    "print(df_NaN_products)"
   ]
  },
  {
   "cell_type": "markdown",
   "id": "fc70e5ad",
   "metadata": {
    "id": "fc70e5ad"
   },
   "source": [
    "Describe brevemente tus hallazgos y lo que hiciste con ellos."
   ]
  },
  {
   "cell_type": "markdown",
   "id": "39578d53-c927-455b-afd1-265d0b45416f",
   "metadata": {},
   "source": [
    "+ Cambié los valores ausentes por 'unknown' para poder utilizar todos los registros del dataframe como parte del análisis."
   ]
  },
  {
   "cell_type": "markdown",
   "id": "70d0c89a",
   "metadata": {},
   "source": [
    "<div class=\"alert alert-block alert-success\">\n",
    "<b>Comentario del revisor </b> <a class=\"tocSkip\"></a>\n",
    "\n",
    "Excelente\n",
    "\n",
    "</div>"
   ]
  },
  {
   "cell_type": "markdown",
   "id": "7eb45c86",
   "metadata": {
    "id": "7eb45c86"
   },
   "source": [
    "### `orders` data frame"
   ]
  },
  {
   "cell_type": "code",
   "execution_count": 63,
   "id": "93e41d96",
   "metadata": {
    "id": "93e41d96"
   },
   "outputs": [
    {
     "data": {
      "text/plain": [
       "order_id                      0\n",
       "user_id                       0\n",
       "order_number                  0\n",
       "order_dow                     0\n",
       "order_hour_of_day             0\n",
       "days_since_prior_order    28817\n",
       "dtype: int64"
      ]
     },
     "execution_count": 63,
     "metadata": {},
     "output_type": "execute_result"
    }
   ],
   "source": [
    "# Encuentra los valores ausentes\n",
    "df_instacart_orders.isna().sum()"
   ]
  },
  {
   "cell_type": "code",
   "execution_count": 64,
   "id": "166e5a86",
   "metadata": {
    "id": "166e5a86"
   },
   "outputs": [
    {
     "name": "stdout",
     "output_type": "stream",
     "text": [
      "        order_id  user_id  order_number  order_dow  order_hour_of_day  \\\n",
      "28        133707   182261             1          3                 10   \n",
      "96        787445    25685             1          6                 18   \n",
      "100       294410   111449             1          0                 19   \n",
      "103      2869915   123958             1          4                 16   \n",
      "104      2521921    42286             1          3                 18   \n",
      "...          ...      ...           ...        ...                ...   \n",
      "478880   2589657   205028             1          0                 16   \n",
      "478881   2222353   141211             1          2                 13   \n",
      "478907   2272807   204154             1          1                 15   \n",
      "478911   2499542    68810             1          4                 19   \n",
      "478930   1387033    22496             1          5                 14   \n",
      "\n",
      "        days_since_prior_order  \n",
      "28                         NaN  \n",
      "96                         NaN  \n",
      "100                        NaN  \n",
      "103                        NaN  \n",
      "104                        NaN  \n",
      "...                        ...  \n",
      "478880                     NaN  \n",
      "478881                     NaN  \n",
      "478907                     NaN  \n",
      "478911                     NaN  \n",
      "478930                     NaN  \n",
      "\n",
      "[28817 rows x 6 columns]\n",
      "1\n",
      "1\n",
      "[1]\n"
     ]
    }
   ],
   "source": [
    "# ¿Hay algún valor ausente que no sea el primer pedido del cliente?\n",
    "#Creo un nuevo dataframe que guarde todas las filas cuyo valor en la columna days_since_prior_order sea nulo/ausente\n",
    "df_NaN_orders = df_instacart_orders[df_instacart_orders['days_since_prior_order'].isna()]\n",
    "print(df_NaN_orders)\n",
    "#Imprimo los valores mínimo y máximo de la columna order_number para comprobar si hay números de orden distintos de 1\n",
    "print(df_NaN_orders['order_number'].min())\n",
    "print(df_NaN_orders['order_number'].max())\n",
    "print(df_NaN_orders['order_number'].unique())"
   ]
  },
  {
   "cell_type": "markdown",
   "id": "4e23d089",
   "metadata": {
    "id": "4e23d089"
   },
   "source": [
    "Describe brevemente tus hallazgos y lo que hiciste con ellos."
   ]
  },
  {
   "cell_type": "markdown",
   "id": "be15f6e5-f705-4704-9e57-0e9236106f04",
   "metadata": {},
   "source": [
    "+ Los valores ausentes para days_since_prior_order corresponden a todas las órdenes número 1 de todos los clientes. Esto me sugiere que el sistema no registra los días transcurridos desde la última orden puesto que es un cliente/orden nuevo."
   ]
  },
  {
   "cell_type": "markdown",
   "id": "ebc7b38e",
   "metadata": {},
   "source": [
    "<div class=\"alert alert-block alert-success\">\n",
    "<b>Comentario del revisor </b> <a class=\"tocSkip\"></a>\n",
    "\n",
    "Muy buena observación! En este caso, el missing, no se debe a un error, sino que tiene un significado, como lo comentas, es el valor para los clientes en su primera compra. Es común encontrar este tipo de missing en los datos, la tarea del analista de datos es investigar si estos se deben a este tipo, o son fuente de un error en los datos.\n",
    "\n",
    "</div>"
   ]
  },
  {
   "cell_type": "markdown",
   "id": "69dc9ca4",
   "metadata": {
    "id": "69dc9ca4"
   },
   "source": [
    "### `order_products` data frame"
   ]
  },
  {
   "cell_type": "code",
   "execution_count": 65,
   "id": "b8240253",
   "metadata": {
    "id": "b8240253"
   },
   "outputs": [
    {
     "data": {
      "text/plain": [
       "order_id               0\n",
       "product_id             0\n",
       "add_to_cart_order    836\n",
       "reordered              0\n",
       "dtype: int64"
      ]
     },
     "execution_count": 65,
     "metadata": {},
     "output_type": "execute_result"
    }
   ],
   "source": [
    "# Encuentra los valores ausentes\n",
    "df_order_products.isna().sum()"
   ]
  },
  {
   "cell_type": "code",
   "execution_count": 66,
   "id": "9a78e5ee",
   "metadata": {
    "id": "9a78e5ee"
   },
   "outputs": [
    {
     "name": "stdout",
     "output_type": "stream",
     "text": [
      "1.0\n",
      "64.0\n",
      "[ 1.  2.  3.  4.  5.  6.  7.  8.  9. 10. 11. 12. 13. 14. 15. 16. 17. 18.\n",
      " 19. 20. 21. 22. 23. 24. 25. 26. 27. 28. 29. 30. 31. 32. 33. 34. 35. 36.\n",
      " 37. 38. 39. 40. 41. 42. 43. 44. 45. 46. 47. 48. 49. 50. 51. 52. 53. 54.\n",
      " 55. 56. 57. 58. 59. 60. 61. 62. 63. 64. nan]\n"
     ]
    }
   ],
   "source": [
    "# ¿Cuáles son los valores mínimos y máximos en esta columna?\n",
    "print(df_order_products['add_to_cart_order'].min())\n",
    "print(df_order_products['add_to_cart_order'].max())\n",
    "print(df_order_products['add_to_cart_order'].sort_values().unique())"
   ]
  },
  {
   "cell_type": "markdown",
   "id": "-Z2Ja215jW78",
   "metadata": {
    "id": "-Z2Ja215jW78"
   },
   "source": [
    "Describe brevemente cuáles son tus hallazgos."
   ]
  },
  {
   "cell_type": "markdown",
   "id": "ef62bdc8-cbaf-43cd-90cf-89caf7632210",
   "metadata": {},
   "source": [
    "+ El número mínimo de orden en que se añadió algo al carrito es 1\n",
    "+ El número máximo de orden en que se añadió algo al carrito es 64.\n",
    "+ Comprobé que no faltan elementos intermedios, pero esto no comprueba que para una sola orden no hace falta algún elemento intermedio."
   ]
  },
  {
   "cell_type": "code",
   "execution_count": 67,
   "id": "ab9d0c2b",
   "metadata": {
    "id": "ab9d0c2b"
   },
   "outputs": [
    {
     "name": "stdout",
     "output_type": "stream",
     "text": [
      "         order_id  product_id  add_to_cart_order  reordered\n",
      "2437093      9310       25753                NaN          0\n",
      "3195573     61355       39972                NaN          0\n",
      "3941595     61355       17807                NaN          0\n",
      "2968806     61355       29660                NaN          0\n",
      "3965219     61355       49325                NaN          0\n",
      "...           ...         ...                ...        ...\n",
      "3760909   3383594          63                NaN          0\n",
      "3784932   3383594       49144                NaN          1\n",
      "2772397   3383594       46710                NaN          0\n",
      "1537276   3383594       15076                NaN          0\n",
      "1038616   3383594       15424                NaN          1\n",
      "\n",
      "[836 rows x 4 columns]\n",
      "737        2449164\n",
      "9926       1968313\n",
      "14394      2926893\n",
      "16418      1717990\n",
      "30114      1959075\n",
      "            ...   \n",
      "4505662    1800005\n",
      "4511400    1633337\n",
      "4517562     404157\n",
      "4534112    1673227\n",
      "4535739    1832957\n",
      "Name: order_id, Length: 836, dtype: int64\n"
     ]
    }
   ],
   "source": [
    "# Guarda todas las IDs de pedidos que tengan un valor ausente en 'add_to_cart_order'\n",
    "df_NaN_cart=df_order_products[df_order_products['add_to_cart_order'].isna()]\n",
    "print(df_NaN_cart.sort_values(by='order_id'))\n",
    "order_ids_nan=df_NaN_cart['order_id']\n",
    "print(order_ids_nan)"
   ]
  },
  {
   "cell_type": "code",
   "execution_count": 68,
   "id": "54c31695",
   "metadata": {
    "id": "54c31695"
   },
   "outputs": [
    {
     "name": "stdout",
     "output_type": "stream",
     "text": [
      "         order_id  product_id  add_to_cart_order  reordered\n",
      "3890724    129627       13852                NaN          0\n",
      "2481755    129627       20280                NaN          0\n",
      "3558313    129627       22627                NaN          0\n",
      "69773      129627       31372                NaN          0\n",
      "1526358    129627       48697                NaN          0\n",
      "         order_id  product_id  add_to_cart_order  reordered\n",
      "3992514    129627        2295                1.0          1\n",
      "3179377    129627       47766                2.0          1\n",
      "1570680    129627       21903                3.0          0\n",
      "1984147    129627       24852                4.0          1\n",
      "2638955    129627       15290                5.0          1\n",
      "2456695    129627       39561                6.0          1\n",
      "1471354    129627       26209                7.0          1\n",
      "3434205    129627       47626                8.0          1\n",
      "433759     129627       21137                9.0          1\n",
      "883589     129627        7781               10.0          1\n",
      "3783662    129627       44359               11.0          0\n",
      "3903926    129627       46906               12.0          1\n",
      "2271715    129627        4920               13.0          0\n",
      "739395     129627       30391               14.0          0\n",
      "2143220    129627       10343               15.0          1\n",
      "740347     129627       46979               16.0          1\n",
      "2689298    129627       43352               17.0          1\n",
      "2088574    129627       40706               18.0          0\n",
      "2510359    129627       49416               19.0          1\n",
      "881360     129627       17807               20.0          1\n",
      "4433764    129627       17461               21.0          1\n",
      "1606750    129627        2966               22.0          1\n",
      "3390964    129627       18814               23.0          1\n",
      "2207914    129627       24631               24.0          1\n",
      "333897     129627       31766               25.0          0\n",
      "3313408    129627       22825               26.0          1\n",
      "4479720    129627       38159               27.0          1\n",
      "3654001    129627       39928               28.0          1\n",
      "2594960    129627        2611               29.0          1\n",
      "4458044    129627       30016               30.0          1\n",
      "280784     129627       48784               31.0          0\n",
      "1406532    129627        2452               32.0          0\n",
      "1187771    129627        8929               33.0          1\n",
      "897898     129627         162               34.0          1\n",
      "1296124    129627       45066               35.0          1\n",
      "2835592    129627       22220               36.0          1\n",
      "3349025    129627       28204               37.0          0\n",
      "3972862    129627       13431               38.0          0\n",
      "84673      129627       26751               39.0          0\n",
      "3151842    129627        8518               40.0          1\n",
      "24054      129627       22935               41.0          1\n",
      "2244746    129627       49175               42.0          1\n",
      "2610888    129627         890               43.0          0\n",
      "2735557    129627       33788               44.0          1\n",
      "4289479    129627       27156               45.0          1\n",
      "2140559    129627       32864               46.0          0\n",
      "4317694    129627       43961               47.0          0\n",
      "1443772    129627       41658               48.0          0\n",
      "336622     129627       29987               49.0          0\n",
      "1504436    129627       39013               50.0          1\n",
      "726018     129627       21938               51.0          0\n",
      "1500136    129627       10749               52.0          1\n",
      "3063255    129627       24561               53.0          1\n",
      "3056770    129627       40545               54.0          1\n",
      "386679     129627       12797               55.0          1\n",
      "4301083    129627       45081               56.0          0\n",
      "1357382    129627       27695               57.0          1\n",
      "3254615    129627        2537               58.0          1\n",
      "4104018    129627       33731               59.0          1\n",
      "2642936    129627       30839               60.0          1\n",
      "3673655    129627       30066               61.0          1\n",
      "4186764    129627       29363               62.0          1\n",
      "2354784    129627       12023               63.0          0\n",
      "1515946    129627       49075               64.0          0\n",
      "3890724    129627       13852                NaN          0\n",
      "2481755    129627       20280                NaN          0\n",
      "3558313    129627       22627                NaN          0\n",
      "69773      129627       31372                NaN          0\n",
      "1526358    129627       48697                NaN          0\n",
      "64.0\n",
      "          product_id  add_to_cart_order  reordered\n",
      "order_id                                          \n",
      "9310              65                 64         65\n",
      "61355            127                 64        127\n",
      "102236            95                 64         95\n",
      "129627            69                 64         69\n",
      "165801            70                 64         70\n",
      "...              ...                ...        ...\n",
      "2999801           70                 64         70\n",
      "3125735           86                 64         86\n",
      "3308010          115                 64        115\n",
      "3347453           71                 64         71\n",
      "3383594           69                 64         69\n",
      "\n",
      "[70 rows x 3 columns]\n",
      "product_id           65\n",
      "add_to_cart_order    64\n",
      "reordered            65\n",
      "dtype: int64\n"
     ]
    }
   ],
   "source": [
    "# ¿Todos los pedidos con valores ausentes tienen más de 64 productos?\n",
    "#Creo una máscara para buscar los order_id que identifiqué con add_to_cart_order vacío en el df_order_products\n",
    "mask=df_order_products['order_id'].isin(df_NaN_cart['order_id'])\n",
    "# print(mask)\n",
    "#Aplico la máscara a df_order_products para quedarme sólo con los order_id que contienen algún vacío en add_to_cart_order, y los ordeno\n",
    "filtered=df_order_products[mask].sort_values(by=['order_id','add_to_cart_order','product_id'])\n",
    "\n",
    "#Uso estos prints para comprobar si las órdenes que contenían un vacío en add_to_cart_order, tienen más de 64 elementos\n",
    "print(filtered[(filtered['order_id']==129627) & (filtered['add_to_cart_order'].isna())])\n",
    "print(filtered[filtered['order_id']==129627].to_string())\n",
    "\n",
    "#Aquí compruebo que el valor más grande en add_to_cart_order es 64\n",
    "print(filtered['add_to_cart_order'].max())\n",
    "\n",
    "# Agrupa todos los pedidos con datos ausentes por su ID de pedido.\n",
    "df_groupby_order=filtered.groupby(by='order_id')\n",
    "\n",
    "# Cuenta el número de 'product_id' en cada pedido y revisa el valor mínimo del conteo.\n",
    "print(df_groupby_order.count())\n",
    "print(df_groupby_order.count().min())"
   ]
  },
  {
   "cell_type": "markdown",
   "id": "p9V6pddtjglj",
   "metadata": {
    "id": "p9V6pddtjglj"
   },
   "source": [
    "Describe brevemente cuáles son tus hallazgos."
   ]
  },
  {
   "cell_type": "markdown",
   "id": "67d0f201-3b0a-4a0b-9432-c0bb6c4b07d1",
   "metadata": {},
   "source": [
    "+ Encontré que el valor más grande en add_to_cart_order es 64, sin embargo, hay órdenes que tienen más de 64 productos.\n",
    "+ Parece que se coloca NaN en add_to_cart_order a todos los productos de la misma orden que se agregan después de alcanzar 64 productos. No puedo comprobar si tiene que ver con el orden, es decir, que justo después del producto 64, se empiece a llenar con NaN; o que en cualquier momento de estar agregando productos a la orden, suceda que se coloca NaN, y al \"recuperarse\" continúa con el consecutivo del último número que se agregó. "
   ]
  },
  {
   "cell_type": "markdown",
   "id": "a755e0b0",
   "metadata": {},
   "source": [
    "<div class=\"alert alert-block alert-success\">\n",
    "<b>Comentario del revisor </b> <a class=\"tocSkip\"></a>\n",
    "\n",
    "El primer paso de encontrar los ids de las órdenes con valores ausentes está muy bien.\n",
    "\n",
    "</div>\n",
    "\n",
    "<div class=\"alert alert-block alert-danger\">\n",
    "<b>Comentario del revisor </b> <a class=\"tocSkip\"></a>\n",
    "\n",
    "El problema está que para validar si estas órdenes tienen más de 64 productos, no debería usarse `df_NaN_cart` ya que está descartando los productos de la orden que no tiene faltantes en `add_to_cart_order`.\n",
    "    \n",
    "Para hacer esta investigación, almacena los ids de las órdenes, filtra a `df_order_products` quedandote con las filas que cumplan los ids de órdenes de los faltantes, y luego recién ahí hacer el group by. Deberías contar los `product_id` ya que estos no tienen faltantes.\n",
    "\n",
    "</div>\n",
    "<div class=\"alert alert-block alert-info\">\n",
    "<b>Comentario estudiante</b><a class=\"tocSkip\"></a>\n",
    "Hice las correcciones necesarias y cambié mis conclusiones, no había comprendido la pregunta inicial\n",
    "</div>"
   ]
  },
  {
   "cell_type": "code",
   "execution_count": 69,
   "id": "7a987d08",
   "metadata": {
    "id": "7a987d08"
   },
   "outputs": [
    {
     "name": "stdout",
     "output_type": "stream",
     "text": [
      "int32\n"
     ]
    },
    {
     "data": {
      "text/plain": [
       "order_id             0\n",
       "product_id           0\n",
       "add_to_cart_order    0\n",
       "reordered            0\n",
       "dtype: int64"
      ]
     },
     "execution_count": 69,
     "metadata": {},
     "output_type": "execute_result"
    }
   ],
   "source": [
    "# Remplaza los valores ausentes en la columna 'add_to_cart? con 999 y convierte la columna al tipo entero.\n",
    "df_order_products['add_to_cart_order']=df_order_products['add_to_cart_order'].fillna(999).astype('int')\n",
    "print(df_order_products['add_to_cart_order'].dtypes)\n",
    "df_order_products.isna().sum()"
   ]
  },
  {
   "cell_type": "markdown",
   "id": "fea4bcc7",
   "metadata": {
    "id": "fea4bcc7"
   },
   "source": [
    "Describe brevemente tus hallazgos y lo que hiciste con ellos."
   ]
  },
  {
   "cell_type": "markdown",
   "id": "55088c7a-a0e6-4436-9aa7-b34ab6dfd0ed",
   "metadata": {},
   "source": [
    "+ No comprendo de qué sirve asignarle un número tan grande a los ausentes en esa columna. "
   ]
  },
  {
   "cell_type": "markdown",
   "id": "a88dc07b",
   "metadata": {},
   "source": [
    "<div class=\"alert alert-block alert-success\">\n",
    "<b>Comentario del revisor </b> <a class=\"tocSkip\"></a>\n",
    "\n",
    "Muy bien!\n",
    "\n",
    "Respondiendo a tu pregunta, esto depende de lo que se quiera hacer después con los datos. En este caso, deberías validar y llegar a la conclusión de que cuando se supera a los 64 productos, el sistema no fue diseñado para almacenar un número mayor y, por lo tanto, lo deja como faltante. Por ende, un valor grande, permite primero indicar que ese producto está en una posición mayor a la 64, y segundo que al ser un valor tan distinto, es un valor imputado que no se puede reconstruir. Podría ser conveniente esta conversión, para aplicar algunos modelos de machine learning que verás en los siguientes sprints.\n",
    "\n",
    "</div>"
   ]
  },
  {
   "cell_type": "markdown",
   "id": "RnplPFY1gSrb",
   "metadata": {
    "id": "RnplPFY1gSrb"
   },
   "source": [
    "## Conclusiones\n",
    "\n",
    "Escribe aquí tus conclusiones intermedias sobre el Paso 2. Preprocesamiento de los datos\n"
   ]
  },
  {
   "cell_type": "markdown",
   "id": "eb420665-86a7-4f27-9f14-a9f8b63e4cda",
   "metadata": {},
   "source": [
    "+ Los datos en general proporcionan buena información sin hacer muchas transformaciones.\n",
    "+ Algunos valores ausentes pueden deberse a condiciones programadas en el sistema, como el caso de usuarios/órdenes nuevas.\n",
    "+ Había algunas órdenes y productos duplicados en los registros. Las órdenes duplicadas se pueden eliminar, los productos duplicados no porque a pesar de duplicar su nombre, tienen un ID de producto diferente y por tanto pudieron haber sido agregados a alguna orden. Eliminar estos productos podría traer problemas al análisis.\n"
   ]
  },
  {
   "cell_type": "markdown",
   "id": "UjrOIwTcz3ri",
   "metadata": {
    "id": "UjrOIwTcz3ri"
   },
   "source": [
    "# Paso 3. Análisis de los datos\n",
    "\n",
    "Una vez los datos estén procesados y listos, haz el siguiente análisis:"
   ]
  },
  {
   "cell_type": "markdown",
   "id": "turkish-kidney",
   "metadata": {
    "id": "turkish-kidney"
   },
   "source": [
    "# [A] Fácil (deben completarse todos para aprobar)\n",
    "\n",
    "1. Verifica que los valores en las columnas `'order_hour_of_day'` y `'order_dow'` en la tabla orders sean razonables (es decir, `'order_hour_of_day'` oscile entre 0 y 23 y `'order_dow'` oscile entre 0 y 6).\n",
    "2. Crea un gráfico que muestre el número de personas que hacen pedidos dependiendo de la hora del día.\n",
    "3. Crea un gráfico que muestre qué día de la semana la gente hace sus compras.\n",
    "4. Crea un gráfico que muestre el tiempo que la gente espera hasta hacer su siguiente pedido, y comenta sobre los valores mínimos y máximos."
   ]
  },
  {
   "cell_type": "markdown",
   "id": "short-capability",
   "metadata": {
    "id": "short-capability"
   },
   "source": [
    "### [A1] Verifica que los valores sean sensibles"
   ]
  },
  {
   "cell_type": "code",
   "execution_count": 70,
   "id": "growing-fruit",
   "metadata": {
    "id": "growing-fruit"
   },
   "outputs": [
    {
     "name": "stdout",
     "output_type": "stream",
     "text": [
      "[0 1 2 3 4 5 6]\n",
      "int64\n"
     ]
    }
   ],
   "source": [
    "print(df_instacart_orders['order_dow'].sort_values().unique())\n",
    "print(df_instacart_orders['order_dow'].dtypes)"
   ]
  },
  {
   "cell_type": "code",
   "execution_count": 71,
   "id": "accessory-malaysia",
   "metadata": {
    "id": "accessory-malaysia"
   },
   "outputs": [
    {
     "name": "stdout",
     "output_type": "stream",
     "text": [
      "[ 0  1  2  3  4  5  6  7  8  9 10 11 12 13 14 15 16 17 18 19 20 21 22 23]\n",
      "int64\n"
     ]
    }
   ],
   "source": [
    "print(df_instacart_orders['order_hour_of_day'].sort_values().unique())\n",
    "print(df_instacart_orders['order_hour_of_day'].dtypes)"
   ]
  },
  {
   "cell_type": "markdown",
   "id": "hmR2GNQ6lCsX",
   "metadata": {
    "id": "hmR2GNQ6lCsX"
   },
   "source": [
    "Escribe aquí tus conclusiones"
   ]
  },
  {
   "cell_type": "markdown",
   "id": "8212d891-8c83-4e19-9cb9-aab9addbd625",
   "metadata": {},
   "source": [
    "+ Los valores en esas columnas están dentro de los rangos especificados"
   ]
  },
  {
   "cell_type": "markdown",
   "id": "a6743a70",
   "metadata": {
    "id": "a6743a70"
   },
   "source": [
    "### [A2] Para cada hora del día, ¿cuántas personas hacen órdenes?"
   ]
  },
  {
   "cell_type": "code",
   "execution_count": 72,
   "id": "a36cca27",
   "metadata": {
    "id": "a36cca27"
   },
   "outputs": [
    {
     "data": {
      "image/png": "[encoded data removed]",
      "text/plain": [
       "<Figure size 640x480 with 1 Axes>"
      ]
     },
     "metadata": {},
     "output_type": "display_data"
    },
    {
     "name": "stdout",
     "output_type": "stream",
     "text": [
      "order_hour_of_day\n",
      "4       765\n",
      "3       770\n",
      "2       989\n",
      "5      1371\n",
      "1      1763\n",
      "0      3180\n",
      "6      4215\n",
      "23     5611\n",
      "22     8512\n",
      "21    11019\n",
      "7     13043\n",
      "20    14624\n",
      "19    19547\n",
      "8     25024\n",
      "18    25510\n",
      "17    31930\n",
      "9     35896\n",
      "12    38034\n",
      "16    38112\n",
      "13    39007\n",
      "14    39631\n",
      "15    39789\n",
      "11    40032\n",
      "10    40578\n",
      "Name: order_id, dtype: int64\n",
      "<class 'pandas.core.frame.DataFrame'>\n",
      "RangeIndex: 478952 entries, 0 to 478951\n",
      "Data columns (total 6 columns):\n",
      " #   Column                  Non-Null Count   Dtype  \n",
      "---  ------                  --------------   -----  \n",
      " 0   order_id                478952 non-null  int64  \n",
      " 1   user_id                 478952 non-null  int64  \n",
      " 2   order_number            478952 non-null  int64  \n",
      " 3   order_dow               478952 non-null  int64  \n",
      " 4   order_hour_of_day       478952 non-null  int64  \n",
      " 5   days_since_prior_order  450135 non-null  float64\n",
      "dtypes: float64(1), int64(5)\n",
      "memory usage: 21.9 MB\n",
      "None\n",
      "13053\n",
      "2.7253252935576007\n",
      "80610\n",
      "16.830496584208856\n"
     ]
    }
   ],
   "source": [
    "#Creo un histograma que muestre el número de órdenes por cada hora del día y lo imprimo\n",
    "orders_per_hour = df_instacart_orders['order_hour_of_day'].plot(kind='hist',\n",
    "                                              bins=24,\n",
    "                                              title='Orders per hour',\n",
    "                                              xlabel='Hours',\n",
    "                                              ylabel='Number of orders',\n",
    "                                              xlim=[0,23])\n",
    "plt.show(orders_per_hour)\n",
    "#Agrupo todas las órdenes por hora del día y cuento el número de órdenes, después ordeno esta lista de menor a mayor\n",
    "print(df_instacart_orders.groupby(by='order_hour_of_day')['order_id'].count().sort_values())\n",
    "#Obtengo información del dataframe original\n",
    "print(df_instacart_orders.info())\n",
    "#Filtro del dataframe original todas las órdenes que se hacen desde media noche hasta las 6 am\n",
    "morning_orders=df_instacart_orders[df_instacart_orders['order_hour_of_day']<=6]\n",
    "print(morning_orders['order_id'].count())\n",
    "#Calculo la relación entre todas estas órdenes y el número total de órdenes registradas\n",
    "morning_orders_ratio=morning_orders['order_id'].count()/df_instacart_orders['order_id'].count()*100\n",
    "print(morning_orders_ratio)\n",
    "#Filtro del dataframe original todas las órdenes que se hacen a las 10 y 11 am\n",
    "top_orders=df_instacart_orders[(df_instacart_orders['order_hour_of_day']==10) | (df_instacart_orders['order_hour_of_day']==11)]\n",
    "print(top_orders['order_id'].count())\n",
    "#Calculo la relación entre todas estas órdenes y el número total de órdenes registradas\n",
    "top_orders_ratio=top_orders['order_id'].count()/df_instacart_orders['order_id'].count()*100\n",
    "print(top_orders_ratio)"
   ]
  },
  {
   "cell_type": "markdown",
   "id": "11270eed",
   "metadata": {
    "id": "11270eed"
   },
   "source": [
    "Escribe aquí tus conclusiones"
   ]
  },
  {
   "cell_type": "markdown",
   "id": "1708c6e6-c811-4a5b-923c-4d2da7990880",
   "metadata": {},
   "source": [
    "+ El mayor número de órdenes se dan entre 8 am y 6 pm.\n",
    "+ Las 10 y 11 am muestran el tope de órdenes registradas.\n",
    "+ Hay menos de 5000 órdenes registradas cada hora, de la media noche a las 6 am.\n",
    "+ El número de órdenes entre media noche y 6 am representa sólo el 2.72% del total de órdenes registradas.\n",
    "+ El número de órdenes a las 10 y 11 am representa en conjunto el 16.83% del total de órdenes registradas."
   ]
  },
  {
   "cell_type": "markdown",
   "id": "7b0af18c",
   "metadata": {},
   "source": [
    "<div class=\"alert alert-block alert-success\">\n",
    "<b>Comentario del revisor </b> <a class=\"tocSkip\"></a>\n",
    "\n",
    "Excelente!\n",
    "\n",
    "</div>"
   ]
  },
  {
   "cell_type": "markdown",
   "id": "documented-command",
   "metadata": {
    "id": "documented-command"
   },
   "source": [
    "### [A3] ¿Qué día de la semana compran víveres las personas?"
   ]
  },
  {
   "cell_type": "code",
   "execution_count": 73,
   "id": "chief-digit",
   "metadata": {
    "id": "chief-digit"
   },
   "outputs": [
    {
     "name": "stdout",
     "output_type": "stream",
     "text": [
      "        order_id  user_id  order_number  order_dow  order_hour_of_day  \\\n",
      "0        1515936   183418            11          6                 13   \n",
      "1        1690866   163593             5          5                 12   \n",
      "2        1454967    39980             4          5                 19   \n",
      "3        1768857    82516            56          0                 20   \n",
      "4        3007858   196724             2          4                 12   \n",
      "...          ...      ...           ...        ...                ...   \n",
      "478947   3210681     5617             5          1                 14   \n",
      "478948   3270802   112087             2          3                 13   \n",
      "478949    885349    82944            16          2                 11   \n",
      "478950    216274     4391             3          3                  8   \n",
      "478951   2071924     1730            18          1                 14   \n",
      "\n",
      "        days_since_prior_order  \n",
      "0                         30.0  \n",
      "1                          9.0  \n",
      "2                          2.0  \n",
      "3                         10.0  \n",
      "4                         17.0  \n",
      "...                        ...  \n",
      "478947                     7.0  \n",
      "478948                     6.0  \n",
      "478949                     6.0  \n",
      "478950                     8.0  \n",
      "478951                    15.0  \n",
      "\n",
      "[478952 rows x 6 columns]\n"
     ]
    },
    {
     "data": {
      "image/png": "[encoded data removed]",
      "text/plain": [
       "<Figure size 640x480 with 1 Axes>"
      ]
     },
     "metadata": {},
     "output_type": "display_data"
    },
    {
     "name": "stdout",
     "output_type": "stream",
     "text": [
      "   order_dow  order_id  user_id  order_number  order_hour_of_day  \\\n",
      "0          0     84090    84090         84090              84090   \n",
      "1          1     82185    82185         82185              82185   \n",
      "2          2     65833    65833         65833              65833   \n",
      "3          3     60897    60897         60897              60897   \n",
      "4          4     59810    59810         59810              59810   \n",
      "5          5     63488    63488         63488              63488   \n",
      "6          6     62649    62649         62649              62649   \n",
      "\n",
      "   days_since_prior_order  \n",
      "0                   78749  \n",
      "1                   77269  \n",
      "2                   61925  \n",
      "3                   57271  \n",
      "4                   56395  \n",
      "5                   59907  \n",
      "6                   58619  \n"
     ]
    },
    {
     "data": {
      "image/png": "[encoded data removed]",
      "text/plain": [
       "<Figure size 640x480 with 1 Axes>"
      ]
     },
     "metadata": {},
     "output_type": "display_data"
    },
    {
     "name": "stdout",
     "output_type": "stream",
     "text": [
      "order_dow\n",
      "4    59810\n",
      "3    60897\n",
      "6    62649\n",
      "5    63488\n",
      "2    65833\n",
      "1    82185\n",
      "0    84090\n",
      "Name: order_id, dtype: int64\n"
     ]
    }
   ],
   "source": [
    "#Creo un histograma que muestre el número de órdenes por día y lo imprimo\n",
    "print(df_instacart_orders)\n",
    "orders_per_day = df_instacart_orders['order_dow'].plot(kind='hist',\n",
    "                                              bins=7,\n",
    "                                              title='Orders per day',\n",
    "                                              xlabel='Days (0 is sunday)',\n",
    "                                              ylabel='Number of orders',\n",
    "                                              xlim=[0,6])\n",
    "plt.show(orders_per_day)\n",
    "groupby=df_instacart_orders.groupby(by='order_dow',as_index=False).count()\n",
    "print(groupby)\n",
    "groupby['order_id'].plot(kind='bar',                                              \n",
    "                                              x='order_dow',\n",
    "                                              title='Orders per day',\n",
    "                                              xlabel='Days (0 is sunday)',\n",
    "                                              ylabel='Number of orders',\n",
    "                                              xlim=[0,6])\n",
    "plt.show()\n",
    "#Agrupo todas las órdenes por día y cuento el número de órdenes, después ordeno esta lista de menor a mayor\n",
    "print(df_instacart_orders.groupby(by='order_dow')['order_id'].count().sort_values())"
   ]
  },
  {
   "cell_type": "markdown",
   "id": "dominant-lightning",
   "metadata": {
    "id": "dominant-lightning"
   },
   "source": [
    "Escribe aquí tus conclusiones"
   ]
  },
  {
   "cell_type": "markdown",
   "id": "cb341dff-ca4c-421b-82a1-cc4637721f9d",
   "metadata": {},
   "source": [
    "+ El domingo y lunes son los días que registran más órdenes\n",
    "+ De martes a sábado, el número de órdenes se muestra más estable, entre 60 y 65 mil órdenes por día."
   ]
  },
  {
   "cell_type": "markdown",
   "id": "3d06ea01",
   "metadata": {},
   "source": [
    "<div class=\"alert alert-block alert-success\">\n",
    "<b>Comentario del revisor </b> <a class=\"tocSkip\"></a>\n",
    "\n",
    "Excelente los gráficos y conclusiones.\n",
    "\n",
    "Podrías haber también optado en usar gráficos de barras, en ese caso deberías tener en consideración de que las barras queden ordenadas por hora o día como quedan en el histograma.\n",
    "</div>\n",
    "\n",
    "<div class=\"alert alert-block alert-info\">\n",
    "<b>Comentario estudiante</b><a class=\"tocSkip\"></a>\n",
    "Me costó trabajo entender cómo preparar el dataframe antes de poder hacer la gráfica de barras, lo logré.\n",
    "</div>"
   ]
  },
  {
   "cell_type": "markdown",
   "id": "cutting-concert",
   "metadata": {
    "id": "cutting-concert"
   },
   "source": [
    "### [A4] ¿Cuánto tiempo esperan las personas hasta hacer otro pedido? Comenta sobre los valores mínimos y máximos."
   ]
  },
  {
   "cell_type": "code",
   "execution_count": 74,
   "id": "c231f523",
   "metadata": {
    "id": "c231f523"
   },
   "outputs": [
    {
     "name": "stdout",
     "output_type": "stream",
     "text": [
      "0.0\n",
      "30.0\n"
     ]
    },
    {
     "data": {
      "image/png": "[encoded data removed]",
      "text/plain": [
       "<Figure size 640x480 with 1 Axes>"
      ]
     },
     "metadata": {},
     "output_type": "display_data"
    },
    {
     "name": "stdout",
     "output_type": "stream",
     "text": [
      "        order_id  user_id  order_number  order_dow  order_hour_of_day  \\\n",
      "1        1690866   163593             5          5                 12   \n",
      "2        1454967    39980             4          5                 19   \n",
      "3        1768857    82516            56          0                 20   \n",
      "4        3007858   196724             2          4                 12   \n",
      "5        1843871    20084             5          0                 11   \n",
      "...          ...      ...           ...        ...                ...   \n",
      "478947   3210681     5617             5          1                 14   \n",
      "478948   3270802   112087             2          3                 13   \n",
      "478949    885349    82944            16          2                 11   \n",
      "478950    216274     4391             3          3                  8   \n",
      "478951   2071924     1730            18          1                 14   \n",
      "\n",
      "        days_since_prior_order  \n",
      "1                          9.0  \n",
      "2                          2.0  \n",
      "3                         10.0  \n",
      "4                         17.0  \n",
      "5                         15.0  \n",
      "...                        ...  \n",
      "478947                     7.0  \n",
      "478948                     6.0  \n",
      "478949                     6.0  \n",
      "478950                     8.0  \n",
      "478951                    15.0  \n",
      "\n",
      "[427615 rows x 6 columns]\n"
     ]
    },
    {
     "data": {
      "image/png": "[encoded data removed]",
      "text/plain": [
       "<Figure size 640x480 with 1 Axes>"
      ]
     },
     "metadata": {},
     "output_type": "display_data"
    },
    {
     "data": {
      "image/png": "[encoded data removed]",
      "text/plain": [
       "<Figure size 640x480 with 1 Axes>"
      ]
     },
     "metadata": {},
     "output_type": "display_data"
    }
   ],
   "source": [
    "#Creo un histograma que muestre el número de órdenes por día y lo imprimo\n",
    "print(df_instacart_orders['days_since_prior_order'].min())\n",
    "print(df_instacart_orders['days_since_prior_order'].max())\n",
    "days_to_order = df_instacart_orders['days_since_prior_order'].plot(kind='hist',\n",
    "                                              bins=30,\n",
    "                                              title='Days since prior order',\n",
    "                                              xlabel='Number of days',\n",
    "                                              ylabel='Number of orders',\n",
    "                                              xlim=[0,30])\n",
    "plt.show(days_to_order)\n",
    "days_to_order_no30=df_instacart_orders[df_instacart_orders['days_since_prior_order']!=30.0]\n",
    "print(days_to_order_no30)\n",
    "days_to_order_no30['days_since_prior_order'].plot(kind='hist',\n",
    "                                              bins=30,\n",
    "                                              title='Days since prior order',\n",
    "                                              xlabel='Number of days',\n",
    "                                              ylabel='Number of orders',\n",
    "                                              xlim=[0,30])\n",
    "plt.show()\n",
    "\n",
    "groupby=days_to_order_no30.groupby(by='days_since_prior_order',as_index=False).count()\n",
    "# print(groupby)\n",
    "groupby['order_id'].plot(kind='bar',                                              \n",
    "                                              x='days_since_prior_order',\n",
    "                                              title='Days since prior order',\n",
    "                                              xlabel='Number of days',\n",
    "                                              ylabel='Number of orders')\n",
    "plt.show()"
   ]
  },
  {
   "cell_type": "markdown",
   "id": "discrete-vertex",
   "metadata": {
    "id": "discrete-vertex"
   },
   "source": [
    "Escribe aquí tus conclusiones"
   ]
  },
  {
   "cell_type": "markdown",
   "id": "7cb3858c-895a-4c3a-be62-2edb829fe879",
   "metadata": {},
   "source": [
    "+ El tiempo mínimo de espera para hacer un pedido nuevo es de 0 días.\n",
    "+ El tiempo máximo de espera para hacer un pedido nuevo es de 30 días.\n",
    "+ Los tiempos de espera más usuales son 7 y 30 días."
   ]
  },
  {
   "cell_type": "markdown",
   "id": "aedea419",
   "metadata": {},
   "source": [
    "<div class=\"alert alert-block alert-success\">\n",
    "<b>Comentario del revisor </b> <a class=\"tocSkip\"></a>\n",
    "\n",
    "Bien con el hallazgo de los 7 días, indicando una compra semanal.\n",
    "</div>\n",
    "\n",
    "<div class=\"alert alert-block alert-warning\">\n",
    "<b>Comentario del revisor </b> <a class=\"tocSkip\"></a>\n",
    "\n",
    "El valor de 30 tiene el aspecto de ser un error, ya que rompe el patrón de los datos, muy probablemente luego de 30 días se registre como 30. Podrías probar de quitar este valor en el gráfico para analizar mejor los patrones.\n",
    "</div>\n",
    "<div class=\"alert alert-block alert-info\">\n",
    "<b>Comentario estudiante</b><a class=\"tocSkip\"></a>\n",
    "Agregué una nueva gráfica de barras sin los productos de 30 días.\n",
    "</div>"
   ]
  },
  {
   "cell_type": "markdown",
   "id": "tight-staff",
   "metadata": {
    "id": "tight-staff"
   },
   "source": [
    "# [B] Intermedio (deben completarse todos para aprobar)\n",
    "\n",
    "1. ¿Existe alguna diferencia entre las distribuciones `'order_hour_of_day'` de los miércoles y los sábados? Traza gráficos de barra de `'order_hour_of_day'` para ambos días en la misma figura y describe las diferencias que observes.\n",
    "2. Grafica la distribución para el número de órdenes que hacen los clientes (es decir, cuántos clientes hicieron solo 1 pedido, cuántos hicieron 2, cuántos 3, y así sucesivamente...).\n",
    "3. ¿Cuáles son los 20 principales productos que se piden con más frecuencia (muestra su identificación y nombre)?"
   ]
  },
  {
   "cell_type": "markdown",
   "id": "packed-classic",
   "metadata": {
    "id": "packed-classic"
   },
   "source": [
    "### [B1] Diferencia entre miércoles y sábados para  `'order_hour_of_day'`. Traza gráficos de barra para los dos días y describe las diferencias que veas."
   ]
  },
  {
   "cell_type": "code",
   "execution_count": 75,
   "id": "d89b8403",
   "metadata": {
    "id": "d89b8403"
   },
   "outputs": [
    {
     "data": {
      "image/png": "[encoded data removed]",
      "text/plain": [
       "<Figure size 640x480 with 1 Axes>"
      ]
     },
     "metadata": {},
     "output_type": "display_data"
    },
    {
     "name": "stdout",
     "output_type": "stream",
     "text": [
      "order_hour_of_day\n",
      "0      373\n",
      "1      215\n",
      "2      106\n",
      "3      101\n",
      "4      108\n",
      "5      170\n",
      "6      643\n",
      "7     1732\n",
      "8     3125\n",
      "9     4490\n",
      "10    5026\n",
      "11    5004\n",
      "12    4688\n",
      "13    4674\n",
      "14    4774\n",
      "15    5163\n",
      "16    4976\n",
      "17    4175\n",
      "18    3463\n",
      "19    2652\n",
      "20    1917\n",
      "21    1450\n",
      "22    1154\n",
      "23     718\n",
      "Name: order_hour_of_day, dtype: int64\n",
      "order_hour_of_day\n",
      "0      464\n",
      "1      254\n",
      "2      177\n",
      "3      125\n",
      "4      118\n",
      "5      161\n",
      "6      451\n",
      "7     1619\n",
      "8     3246\n",
      "9     4311\n",
      "10    4919\n",
      "11    5116\n",
      "12    5132\n",
      "13    5323\n",
      "14    5375\n",
      "15    5188\n",
      "16    5029\n",
      "17    4295\n",
      "18    3338\n",
      "19    2610\n",
      "20    1847\n",
      "21    1473\n",
      "22    1185\n",
      "23     893\n",
      "Name: order_hour_of_day, dtype: int64\n"
     ]
    }
   ],
   "source": [
    "#Creo un histograma que muestre el número de órdenes por cada hora del día los miércoles y lo imprimo\n",
    "df_instacart_orders[df_instacart_orders['order_dow']==3]['order_hour_of_day'].plot(kind='hist',\n",
    "                                              bins=24,\n",
    "                                              title='Orders per hour on wenesday',\n",
    "                                              xlabel='Hours',\n",
    "                                              ylabel='Number of orders',\n",
    "                                              xlim=[0,23])\n",
    "#plt.show()\n",
    "#Creo un histograma que muestre el número de órdenes por cada hora del día los sábados y lo imprimo\n",
    "df_instacart_orders[df_instacart_orders['order_dow']==6]['order_hour_of_day'].plot(kind='hist',\n",
    "                                              bins=24,\n",
    "                                              title='Orders per hour on saturday',\n",
    "                                              xlabel='Hours',\n",
    "                                              ylabel='Number of orders',\n",
    "                                              xlim=[0,23],\n",
    "                                              alpha=0.6)\n",
    "#Imprimo ambos histogramas en la misma gráfica\n",
    "plt.legend(['Wednesday','Saturday'])\n",
    "plt.show()\n",
    "\n",
    "#Imprimo el número de órdenes para el miércoles y sábado, agrupados por horas del día\n",
    "print(df_instacart_orders[df_instacart_orders['order_dow']==3].groupby(by='order_hour_of_day')['order_hour_of_day'].count())#['order_hour_of_day'].sort_values())\n",
    "print(df_instacart_orders[df_instacart_orders['order_dow']==6].groupby(by='order_hour_of_day')['order_hour_of_day'].count())#['order_hour_of_day'].sort_values())"
   ]
  },
  {
   "cell_type": "markdown",
   "id": "charitable-congo",
   "metadata": {
    "id": "charitable-congo"
   },
   "source": [
    "Escribe aquí tus conclusiones"
   ]
  },
  {
   "cell_type": "markdown",
   "id": "bf70c63e-6f20-445e-95df-529c7ffbbbfe",
   "metadata": {},
   "source": [
    "+  Sí hay diferencia en las distribuciones de órdenes de los miércoles contra los sábados aunque sólo en las horas pico entre 10 am y 1 pm. "
   ]
  },
  {
   "cell_type": "markdown",
   "id": "356c259d",
   "metadata": {},
   "source": [
    "<div class=\"alert alert-block alert-success\">\n",
    "<b>Comentario del revisor </b> <a class=\"tocSkip\"></a>\n",
    "    \n",
    "Excelente! Es un muy buen gráfico que te permite ver claramente los patrones y sacar conclusiones.\n",
    "\n",
    "</div>"
   ]
  },
  {
   "cell_type": "markdown",
   "id": "e3891143",
   "metadata": {
    "id": "e3891143"
   },
   "source": [
    "### [B2] ¿Cuál es la distribución para el número de pedidos por cliente?"
   ]
  },
  {
   "cell_type": "code",
   "execution_count": 76,
   "id": "d8c26c23",
   "metadata": {
    "id": "d8c26c23"
   },
   "outputs": [
    {
     "name": "stdout",
     "output_type": "stream",
     "text": [
      "1\n",
      "100\n"
     ]
    },
    {
     "data": {
      "image/png": "[encoded data removed]",
      "text/plain": [
       "<Figure size 640x480 with 1 Axes>"
      ]
     },
     "metadata": {},
     "output_type": "display_data"
    }
   ],
   "source": [
    "#Imprimo el mínimo número de órdenes registradas\n",
    "print(df_instacart_orders['order_number'].min())\n",
    "#Imprimo el máximo número de órdenes registradas\n",
    "print(df_instacart_orders['order_number'].max())\n",
    "#print(df_instacart_orders.groupby(by='order_number').count().sort_values(by='order_id',ascending=False))\n",
    "#Creo un histograma que muestre en cada barra el número de órdenes hechas.\n",
    "df_orders_per_client = df_instacart_orders['order_number'].plot(kind='hist',\n",
    "                                                                bins=25,\n",
    "                                                                title='Number of orders per client',\n",
    "                                                                xlabel='Ordered X times',\n",
    "                                                                ylabel='Number of clients')\n",
    "plt.show()"
   ]
  },
  {
   "cell_type": "markdown",
   "id": "d2eff7d5",
   "metadata": {
    "id": "d2eff7d5"
   },
   "source": [
    "Escribe aquí tus conclusiones"
   ]
  },
  {
   "cell_type": "markdown",
   "id": "2c8a88ec-46be-4ef3-b167-4a2b598c2bd8",
   "metadata": {},
   "source": [
    "+ La mayoría de los pedidos son de una o dos veces únicamente.\n",
    "+ El número mínimo de órdenes registradas por cliente es de 1. ¿Podría un cliente registrarse, no pedir nada y que su order_number sea 0?\n",
    "+ El número máximo de órdenes registradas por cliente es de 100. ¿Está el sistema limitado a no registrar más órdenes para un solo cliente?"
   ]
  },
  {
   "cell_type": "markdown",
   "id": "20a45e3f",
   "metadata": {},
   "source": [
    "<div class=\"alert alert-block alert-success\">\n",
    "<b>Comentario del revisor </b> <a class=\"tocSkip\"></a>\n",
    "\n",
    "Excelente gráfico! Se puede ver la forma de caida exponencial en el patrón de compras.\n",
    "</div>"
   ]
  },
  {
   "cell_type": "markdown",
   "id": "54a0319c",
   "metadata": {
    "id": "54a0319c"
   },
   "source": [
    "### [B3] ¿Cuáles son los 20 productos más populares (muestra su ID y nombre)?"
   ]
  },
  {
   "cell_type": "code",
   "execution_count": 77,
   "id": "a14a09df-3990-4b60-b9f0-9a17709837ce",
   "metadata": {},
   "outputs": [
    {
     "name": "stdout",
     "output_type": "stream",
     "text": [
      "    product_id  total_orders              product_name  aisle_id  \\\n",
      "0        24852         66050                    Banana        24   \n",
      "1        13176         53297    Bag of Organic Bananas        24   \n",
      "2        21137         37039      Organic Strawberries        24   \n",
      "3        21903         33971      Organic Baby Spinach       123   \n",
      "4        47209         29773      Organic Hass Avocado        24   \n",
      "5        47766         24689           Organic Avocado        24   \n",
      "6        47626         21495               Large Lemon        24   \n",
      "7        16797         20018              Strawberries        24   \n",
      "8        26209         19690                     Limes        24   \n",
      "9        27845         19600        Organic Whole Milk        84   \n",
      "10       27966         19197       Organic Raspberries       123   \n",
      "11       22935         15898      Organic Yellow Onion        83   \n",
      "12       24964         15292            Organic Garlic        83   \n",
      "13       45007         14584          Organic Zucchini        83   \n",
      "14       39275         13879       Organic Blueberries       123   \n",
      "15       49683         13675            Cucumber Kirby        83   \n",
      "16       28204         12544        Organic Fuji Apple        24   \n",
      "17        5876         12232             Organic Lemon        24   \n",
      "18        8277         11993  Apple Honeycrisp Organic        24   \n",
      "19       40706         11781    Organic Grape Tomatoes       123   \n",
      "\n",
      "    department_id  \n",
      "0               4  \n",
      "1               4  \n",
      "2               4  \n",
      "3               4  \n",
      "4               4  \n",
      "5               4  \n",
      "6               4  \n",
      "7               4  \n",
      "8               4  \n",
      "9              16  \n",
      "10              4  \n",
      "11              4  \n",
      "12              4  \n",
      "13              4  \n",
      "14              4  \n",
      "15              4  \n",
      "16              4  \n",
      "17              4  \n",
      "18              4  \n",
      "19              4  \n"
     ]
    }
   ],
   "source": [
    "#Agrupo por product_id y cuento el número de registros de cada uno, muestro en orden descendente los 20 elementos con más apariciones.\n",
    "product_ids1 = df_order_products.groupby(by='product_id',as_index=False).count().sort_values(by='order_id',ascending=False).head(20)\n",
    "\n",
    "# #Busco los productos del paso anterior en el dataframe que contiene los nombres de los productos y hago un merge interno\n",
    "# #Con esto muestro los nombres de los 20 productos más populares\n",
    "top_products_names = product_ids1.merge(df_products,on='product_id')\n",
    "\n",
    "#Elimino las columnas que no necesito de la tabla resultante\n",
    "top_products_names=top_products_names.drop(labels=['add_to_cart_order','reordered'],axis='columns')\n",
    "\n",
    "#Renombro una columna para que sirva como el número total de órdenes de cada producto\n",
    "top_products_names=top_products_names.rename(columns={'order_id':'total_orders'})\n",
    "print(top_products_names)"
   ]
  },
  {
   "cell_type": "markdown",
   "id": "7df00f47",
   "metadata": {
    "id": "7df00f47"
   },
   "source": [
    "Escribe aquí tus conclusiones"
   ]
  },
  {
   "cell_type": "markdown",
   "id": "b0c5d0fa-2b49-40ed-8de7-fd8b42f038aa",
   "metadata": {},
   "source": [
    "+ Los productos más populares son los del departamento 4 y en las islas de frutas y vegetales frescos, y frutas y vegetales empacados."
   ]
  },
  {
   "cell_type": "markdown",
   "id": "e083cbf2",
   "metadata": {},
   "source": [
    "<div class=\"alert alert-block alert-success\">\n",
    "<b>Comentario del revisor </b> <a class=\"tocSkip\"></a>\n",
    "\n",
    "El cálculo está bien y logras obtener el resultado de los productos más comprados. Las conlcusione también están muy bien.\n",
    "</div>\n",
    "\n",
    "<div class=\"alert alert-block alert-warning\">\n",
    "<b>Comentario del revisor </b> <a class=\"tocSkip\"></a>\n",
    "\n",
    "La forma de presentar los resultados hace que se pierda el orden de los productos más comprados. Si bien ese es el TOP 20, quedó ordenado por product_id. Una buena presentación es formar una nueva tabla, con el `product_id` el `product_name` y la cantidad de compras.\n",
    "</div>\n",
    "<div class=\"alert alert-block alert-info\">\n",
    "<b>Comentario estudiante</b><a class=\"tocSkip\"></a>\n",
    "Rehice esta parte del proyecto para poder tener las columnas que sugieres en la misma tabla al final.\n",
    "\n",
    "</div>"
   ]
  },
  {
   "cell_type": "markdown",
   "id": "gross-theme",
   "metadata": {
    "id": "gross-theme"
   },
   "source": [
    "# [C] Difícil (deben completarse todos para aprobar)\n",
    "\n",
    "1. ¿Cuántos artículos suelen comprar las personas en un pedido? ¿Cómo es la distribución?\n",
    "2. ¿Cuáles son los 20 principales artículos que vuelven a pedirse con mayor frecuencia (muestra sus nombres e IDs de los productos)?\n",
    "3. Para cada producto, ¿cuál es la tasa de repetición del pedido (número de repeticiones de pedido/total de pedidos?\n",
    "4. Para cada cliente, ¿qué proporción de los productos que pidió ya los había pedido? Calcula la tasa de repetición de pedido para cada usuario en lugar de para cada producto.\n",
    "5. ¿Cuáles son los 20 principales artículos que la gente pone primero en sus carritos (muestra las IDs de los productos, sus nombres, y el número de veces en que fueron el primer artículo en añadirse al carrito)?"
   ]
  },
  {
   "cell_type": "markdown",
   "id": "romantic-deposit",
   "metadata": {
    "id": "romantic-deposit"
   },
   "source": [
    "### [C1] ¿Cuántos artículos compran normalmente las personas en un pedido? ¿Cómo es la distribución?"
   ]
  },
  {
   "cell_type": "code",
   "execution_count": 78,
   "id": "2908bfbf-e4df-4988-ab6e-c0be85ded3e9",
   "metadata": {},
   "outputs": [
    {
     "name": "stdout",
     "output_type": "stream",
     "text": [
      "         order_id  product_id  add_to_cart_order  reordered\n",
      "2043091         4       34862                  8          1\n",
      "1420535         4       10054                  5          1\n",
      "1299531         4       32645                 12          1\n",
      "311805          4       46842                  1          0\n",
      "4107072         4       40285                  9          1\n",
      "3189411         4       25146                 11          1\n",
      "2834230         4       26434                  2          1\n",
      "3977678         4       21351                  6          1\n",
      "1295279         4       39758                  3          1\n",
      "2507695         4       17616                 10          1\n",
      "1169276         4       27761                  4          1\n",
      "2502556         4       41276                 13          1\n",
      "1172585         4       22598                  7          1\n",
      "3310901         9       31506                  8          1\n",
      "2585632         9       34203                  6          1\n",
      "order_id\n",
      "4          13\n",
      "9          15\n",
      "11          5\n",
      "19          3\n",
      "20          8\n",
      "           ..\n",
      "3421034    17\n",
      "3421053     9\n",
      "3421071     5\n",
      "3421077     4\n",
      "3421079     1\n",
      "Name: count, Length: 450046, dtype: int64\n",
      "\n",
      "count\n",
      "1      21847\n",
      "2      26292\n",
      "3      29046\n",
      "4      31054\n",
      "5      31923\n",
      "       ...  \n",
      "98         1\n",
      "104        1\n",
      "108        1\n",
      "115        1\n",
      "127        1\n",
      "Name: count, Length: 90, dtype: int64\n",
      "\n",
      "1\n",
      "31923\n",
      "count       90.000000\n",
      "mean      5000.511111\n",
      "std       9282.034169\n",
      "min          1.000000\n",
      "25%          5.250000\n",
      "50%        138.000000\n",
      "75%       4276.000000\n",
      "max      31923.000000\n",
      "Name: count, dtype: float64\n"
     ]
    },
    {
     "data": {
      "image/png": "[encoded data removed]",
      "text/plain": [
       "<Figure size 2000x500 with 1 Axes>"
      ]
     },
     "metadata": {},
     "output_type": "display_data"
    },
    {
     "name": "stdout",
     "output_type": "stream",
     "text": [
      "\n"
     ]
    }
   ],
   "source": [
    "#Imprimo las primeras 15 filas del dataframe, ordenados por order_id. \n",
    "print(df_order_products.sort_values(by='order_id').head(15))\n",
    "#Cuento el número de veces que se repite el número de cada orden en la columna 'order_id' y lo guardo en counts. Se genera una tabla que indica cada valor (order_id) de la columna y cuántas veces se repite\n",
    "counts=df_order_products['order_id'].value_counts()\n",
    "\n",
    "#Imprimo la tabla de conteo ordenada por order_id\n",
    "print(counts.sort_index())\n",
    "print()\n",
    "\n",
    "#De la tabla anterior, vuelvo a contar el número de veces que aparece cada valor, es decir, cuántas veces se han hecho pedidos de X cantidad de productos. Imprimo la nueva tabla.\n",
    "counts2=counts.value_counts().sort_index()\n",
    "print(counts2)\n",
    "print()\n",
    "\n",
    "#Imprimo los valores mínimos y máximos de la nueva tabla para comparar\n",
    "print(counts2.min())\n",
    "print(counts2.max())\n",
    "print(counts2.describe())\n",
    "\n",
    "#Creo una gráfica de barras que utiliza como entrada la tabla de conteos. Grafica en X el número de productos en un pedido, y en Y cuántos pedidos se han hecho con esa cantidad de productos\n",
    "counts2.plot(kind='bar',title='Número de productos por pedido',figsize=(20,5))\n",
    "plt.xlabel('X productos por pedido')\n",
    "plt.ylabel('Número de pedidos hechos con X cantidad de productos')\n",
    "plt.show()\n",
    "print()\n",
    "# order4=(df_order_products['order_id']==61355).sum()\n",
    "# print(order4)\n",
    "\n",
    "\n",
    "\n"
   ]
  },
  {
   "cell_type": "markdown",
   "id": "designed-mortality",
   "metadata": {
    "id": "designed-mortality"
   },
   "source": [
    "Escribe aquí tus conclusiones"
   ]
  },
  {
   "cell_type": "markdown",
   "id": "d13f3df7-a81b-4c5b-bc03-f610834222f2",
   "metadata": {},
   "source": [
    "+ El dataframe muestra una distribución asimétrica positiva.\n",
    "+ El máximo número de pedidos registrados con la misma cantidad de productos es de 31923. Se han realizado 31923 pedidos de 5 productos.\n",
    "+ La media de los datos se muestra en 5000, muy distante del máximo de 31923. La media se ve afectada por la mayoría de pedidos en los que se agregan más de 40 productos."
   ]
  },
  {
   "cell_type": "markdown",
   "id": "82959783",
   "metadata": {},
   "source": [
    "<div class=\"alert alert-block alert-success\">\n",
    "<b>Comentario del revisor </b> <a class=\"tocSkip\"></a>\n",
    "\n",
    "El cálculo y los estadísticos están muy bien.\n",
    "</div>\n",
    "\n",
    "<div class=\"alert alert-block alert-danger\">\n",
    "<b>Comentario del revisor </b> <a class=\"tocSkip\"></a>\n",
    "\n",
    "Sin embargo, el gráfico no refleja bien la distribución, ya que el eje X quedó ordenado descendentemente por tamaño, en vez de por el número de productos (observa que el 1 está en la posición 10). Realiza un ordenamiento de los datos para que se muestren bien en el gráfico.\n",
    "</div>\n",
    "<div class=\"alert alert-block alert-info\">\n",
    "<b>Comentario estudiante</b><a class=\"tocSkip\"></a>\n",
    "Reordené el índice para graficar como me indicaste\n",
    "\n",
    "</div>"
   ]
  },
  {
   "cell_type": "markdown",
   "id": "5e6b5537",
   "metadata": {
    "id": "5e6b5537"
   },
   "source": [
    "### [C2] ¿Cuáles son los 20 principales artículos que vuelven a pedirse con mayor frecuencia (muestra sus nombres e IDs de los productos)?"
   ]
  },
  {
   "cell_type": "code",
   "execution_count": 79,
   "id": "9374e55a",
   "metadata": {
    "id": "9374e55a"
   },
   "outputs": [
    {
     "name": "stdout",
     "output_type": "stream",
     "text": [
      "         order_id  product_id  add_to_cart_order  reordered\n",
      "0         2141543       11440                 17          0\n",
      "1          567889        1560                  1          1\n",
      "2         2261212       26683                  1          1\n",
      "3          491251        8670                 35          1\n",
      "4         2571142        1940                  5          1\n",
      "...           ...         ...                ...        ...\n",
      "4545002    577211       15290                 12          1\n",
      "4545003   1219554       21914                  9          0\n",
      "4545004    692640       47766                  4          1\n",
      "4545005    319435         691                  8          1\n",
      "4545006   1398151       28733                  9          0\n",
      "\n",
      "[4545007 rows x 4 columns]\n",
      "         order_id  product_id  add_to_cart_order  reordered\n",
      "1          567889        1560                  1          1\n",
      "2         2261212       26683                  1          1\n",
      "3          491251        8670                 35          1\n",
      "4         2571142        1940                  5          1\n",
      "5         2456893       21616                  4          1\n",
      "...           ...         ...                ...        ...\n",
      "4544999   1622300       24852                  1          1\n",
      "4545000   1125324       40600                  6          1\n",
      "4545002    577211       15290                 12          1\n",
      "4545004    692640       47766                  4          1\n",
      "4545005    319435         691                  8          1\n",
      "\n",
      "[2683838 rows x 4 columns]\n",
      "product_id\n",
      "24852    55763\n",
      "13176    44450\n",
      "21137    28639\n",
      "21903    26233\n",
      "47209    23629\n",
      "         ...  \n",
      "40133        1\n",
      "12061        1\n",
      "45095        1\n",
      "46185        1\n",
      "47673        1\n",
      "Name: count, Length: 36228, dtype: int64\n",
      "       product_id              product_name  count  aisle_id\n",
      "18104       24852                    Banana  55763        24\n",
      "9528        13176    Bag of Organic Bananas  44450        24\n",
      "15368       21137      Organic Strawberries  28639        24\n",
      "15936       21903      Organic Baby Spinach  26233       123\n",
      "34407       47209      Organic Hass Avocado  23629        24\n",
      "34828       47766           Organic Avocado  18743        24\n",
      "20285       27845        Organic Whole Milk  16251        84\n",
      "34725       47626               Large Lemon  15044        24\n",
      "20375       27966       Organic Raspberries  14748       123\n",
      "12193       16797              Strawberries  13945        24\n",
      "19088       26209                     Limes  13327        24\n",
      "16700       22935      Organic Yellow Onion  11145        83\n",
      "18186       24964            Organic Garlic  10411        83\n",
      "32792       45007          Organic Zucchini  10076        83\n",
      "36219       49683            Cucumber Kirby   9538        83\n",
      "20543       28204        Organic Fuji Apple   8989        24\n",
      "5978         8277  Apple Honeycrisp Organic   8836        24\n",
      "28607       39275       Organic Blueberries   8799       123\n",
      "4267         5876             Organic Lemon   8412        24\n",
      "35905       49235       Organic Half & Half   8389        53\n"
     ]
    }
   ],
   "source": [
    "#Imprimo una muestra del dataframe original\n",
    "print(df_order_products)\n",
    "#Filtro los productos que hay sido ordenados nuevamente y los guardo en el dataframe reordered\n",
    "reordered=df_order_products[df_order_products['reordered']==1]\n",
    "print(reordered)\n",
    "#Cuento el número de veces que aparece cada producto en el dataframe anterior\n",
    "reordered_counts=reordered['product_id'].value_counts()\n",
    "print(reordered_counts)\n",
    "#Busco por product_id todos estos productos en el dataframe products que contiene sus nombres\n",
    "top20=df_products.merge(reordered_counts,on='product_id')\n",
    "\n",
    "#Creo un nuevo dataframe que contenga sólo las columnas product_id, product_name y count (el número de veces que ese producto se ha ordenado\n",
    "top20clean=top20[['product_id','product_name','count','aisle_id']]\n",
    "\n",
    "#Ordeno el nuevo dataframe en orden descendente e imprimo sólo los primeros 20 elementos\n",
    "print(top20clean.sort_values(by='count',ascending=False).head(20))\n"
   ]
  },
  {
   "cell_type": "markdown",
   "id": "80e70c74",
   "metadata": {
    "id": "80e70c74"
   },
   "source": [
    "Escribe aquí tus conclusiones"
   ]
  },
  {
   "cell_type": "markdown",
   "id": "e0c1dcf3-7906-47eb-a1f8-3d8c9ee7ac0a",
   "metadata": {},
   "source": [
    "+ El top 20 de productos que se ordenan nuevamente pertenecen a los grupos de frutas y vegetales orgánicos a granel y empacados."
   ]
  },
  {
   "cell_type": "markdown",
   "id": "7671b0a5",
   "metadata": {},
   "source": [
    "<div class=\"alert alert-block alert-success\">\n",
    "<b>Comentario del revisor </b> <a class=\"tocSkip\"></a>\n",
    "\n",
    "Muy bien!\n",
    "</div>"
   ]
  },
  {
   "cell_type": "markdown",
   "id": "9d312b14",
   "metadata": {
    "id": "9d312b14"
   },
   "source": [
    "### [C3] Para cada producto, ¿cuál es la proporción de las veces que se pide y que se vuelve a pedir?"
   ]
  },
  {
   "cell_type": "code",
   "execution_count": 80,
   "id": "8ae9f4b1",
   "metadata": {
    "id": "8ae9f4b1"
   },
   "outputs": [],
   "source": [
    "# #Creo un nuevo dataframe que guarde sólo los productos que no han sido reordenados\n",
    "# df_products_first_order=df_order_products[df_order_products['reordered']==0]\n",
    "# print(df_products_first_order.sort_values(by='product_id'))\n",
    "\n",
    "# #Creo un nuevo dataframe que guarde sólo los productos que ya se han ordenado más de una vez\n",
    "# df_products_reordered=df_order_products[df_order_products['reordered']==1]\n",
    "# print(df_products_reordered.sort_values(by='product_id'))\n",
    "\n",
    "# #Cuento el número de veces que cada producto que no ha sido reordenado aparece en el dataframe y lo convierto a un nuevo dataframe\n",
    "# first_order_counts=df_products_first_order['product_id'].value_counts().to_frame()\n",
    "# print(first_order_counts.sort_index())\n",
    "\n",
    "# #Cuento el número de veces que cada producto que ya ha sido reordenado aparece en el dataframe\n",
    "# reordered_counts=df_products_reordered['product_id'].value_counts().to_frame()\n",
    "# print(reordered_counts.sort_index())\n",
    "\n",
    "# #Hago un merge interno de ambos dataframes para comparar los conteos, entre las veces que cada producto se ha ordenado por primera vez contra las veces que se ha reordenado\n",
    "# merge=first_order_counts.merge(reordered_counts, on='product_id')\n",
    "# #Modifico los nombres de las columnas para el dataframe nuevo\n",
    "# merge.rename(columns={'count_x':'first order','count_y':'reordered'},inplace=True)\n",
    "# #Calculo la proporción y la añado a una columna nueva\n",
    "# merge['ratio %']=merge['reordered']/merge['first order']*100\n",
    "# print(merge.sort_values(by='ratio %',ascending=False))\n",
    "\n",
    "# # print(df_order_products.sort_values(by='order_id').head(30))\n",
    "# # print(df_instacart_orders.sort_values(by='order_id').head(30))\n",
    "# print(df_products.loc[df_products['product_id']==44626])"
   ]
  },
  {
   "cell_type": "code",
   "execution_count": 81,
   "id": "a0e54799-ed7e-4697-890f-cf775b6a7605",
   "metadata": {},
   "outputs": [
    {
     "name": "stdout",
     "output_type": "stream",
     "text": [
      "       product_id  order_id  add_to_cart_order  reordered\n",
      "0               1       280                280        280\n",
      "1               2        11                 11         11\n",
      "2               3        42                 42         42\n",
      "3               4        49                 49         49\n",
      "4               7         2                  2          2\n",
      "...           ...       ...                ...        ...\n",
      "45568       49690         5                  5          5\n",
      "45569       49691        72                 72         72\n",
      "45570       49692        12                 12         12\n",
      "45571       49693        25                 25         25\n",
      "45572       49694         9                  9          9\n",
      "\n",
      "[45573 rows x 4 columns]\n",
      "       product_id   order_id  add_to_cart_order  reordered\n",
      "0               1  505159738               1580        158\n",
      "1               2   22291566                 96          0\n",
      "2               3   68393258                292         31\n",
      "3               4   83355604                483         25\n",
      "4               7    3355147                  8          1\n",
      "...           ...        ...                ...        ...\n",
      "45568       49690    9862618                 23          4\n",
      "45569       49691  122543181                666         31\n",
      "45570       49692   23147607                129          5\n",
      "45571       49693   35609548                212         11\n",
      "45572       49694   15435615                 52          3\n",
      "\n",
      "[45573 rows x 4 columns]\n",
      "       product_id      order_id  add_to_cart_order  reordered\n",
      "0               1  1.804142e+06           5.642857   0.564286\n",
      "1               2  2.026506e+06           8.727273   0.000000\n",
      "2               3  1.628411e+06           6.952381   0.738095\n",
      "3               4  1.701135e+06           9.857143   0.510204\n",
      "4               7  1.677574e+06           4.000000   0.500000\n",
      "...           ...           ...                ...        ...\n",
      "45568       49690  1.972524e+06           4.600000   0.800000\n",
      "45569       49691  1.701989e+06           9.250000   0.430556\n",
      "45570       49692  1.928967e+06          10.750000   0.416667\n",
      "45571       49693  1.424382e+06           8.480000   0.440000\n",
      "45572       49694  1.715068e+06           5.777778   0.333333\n",
      "\n",
      "[45573 rows x 4 columns]\n",
      "product_id             49694.0\n",
      "order_id             3420135.0\n",
      "add_to_cart_order        999.0\n",
      "reordered                  1.0\n",
      "dtype: float64\n",
      "product_id             1.0\n",
      "order_id             810.0\n",
      "add_to_cart_order      1.0\n",
      "reordered              0.0\n",
      "dtype: float64\n",
      "\n",
      "       product_id  reordered_ratio  \\\n",
      "13453       14721            100.0   \n",
      "19195       20949            100.0   \n",
      "6136         6723            100.0   \n",
      "6144         6732            100.0   \n",
      "41319       45088            100.0   \n",
      "41310       45078            100.0   \n",
      "19258       21016            100.0   \n",
      "19248       21005            100.0   \n",
      "32273       35192            100.0   \n",
      "32277       35197            100.0   \n",
      "6211         6810            100.0   \n",
      "41274       45040            100.0   \n",
      "41269       45035            100.0   \n",
      "25120       27373            100.0   \n",
      "28203       30748            100.0   \n",
      "41265       45031            100.0   \n",
      "32224       35137            100.0   \n",
      "28202       30747            100.0   \n",
      "32304       35228            100.0   \n",
      "32305       35229            100.0   \n",
      "32313       35239            100.0   \n",
      "19118       20866            100.0   \n",
      "6293         6897            100.0   \n",
      "41200       44959            100.0   \n",
      "19092       20839            100.0   \n",
      "41194       44952            100.0   \n",
      "41193       44951            100.0   \n",
      "44524       48560            100.0   \n",
      "32391       35325            100.0   \n",
      "44528       48564            100.0   \n",
      "\n",
      "                                            product_name  department_id  \n",
      "13453                            Bone Strength Take Care             11  \n",
      "19195                           Vanilla Sandwich Cookies              1  \n",
      "6136                                    Palmiers- Petite             19  \n",
      "6144                   Naturally Sparkling Mineral Water              7  \n",
      "41319  California Dill Pollen & Garlic Goat Cheese & ...             16  \n",
      "41310                                       Pomegranatea              7  \n",
      "19258       Parchment Lined 8 in x 3.75 in x 2.5 in Pans             17  \n",
      "19248                        Peanut Butter Pie Ice Cream              1  \n",
      "32273                         Chocolate Soy Milk Singles             16  \n",
      "32277  Mocha Chocolate Chip  Organic Non-Dairy Frozen...              1  \n",
      "6211                         Raspberry Goji Paleo Prints             19  \n",
      "41274                                 Head Lock Mega Gel             11  \n",
      "41269                               Coffee Flavor Yogurt             16  \n",
      "25120                                     Meat Loaf Meal              1  \n",
      "28203                           Cheese & Garlic Croutons             20  \n",
      "41265                 Sugar Free Hazelnut Coffee Creamer             16  \n",
      "32224  Superior Preference Fade-Defying Color + Shine...             11  \n",
      "28202                   Dentotape® Unflavored Waxed Tape             11  \n",
      "32304                       Marvelous Muffins Baking Mix              3  \n",
      "32305                             Bean & Cheese Burritos              1  \n",
      "32313  Tea House Organic Black Tea With Lemon & Honey...              7  \n",
      "19118                              White Corn Chip Bowls             19  \n",
      "6293                     Dolmas with Raisins & Pine Nuts             13  \n",
      "41200                      Apple Heart Thrive Energy Bar              3  \n",
      "19092                      Deluxe Shells & Cheese Dinner              9  \n",
      "41194  Uncrustables Peanut Butter & Raspberry Spread ...              1  \n",
      "41193          California Ripe Pitted Extra Large Olives             13  \n",
      "44524         Chicken Sweet Potato Snack Sticks for Dogs             19  \n",
      "32391                            Chicken a la King Sauce             15  \n",
      "44528                                          7 Up Cake              3  \n",
      "       product_id  reordered_ratio  \\\n",
      "9525        10445              0.0   \n",
      "9524        10444              0.0   \n",
      "22070       24055              0.0   \n",
      "9516        10434              0.0   \n",
      "34561       37689              0.0   \n",
      "9514        10432              0.0   \n",
      "22075       24061              0.0   \n",
      "9512        10430              0.0   \n",
      "22077       24063              0.0   \n",
      "9508        10426              0.0   \n",
      "38927       42480              0.0   \n",
      "9544        10470              0.0   \n",
      "38906       42456              0.0   \n",
      "22062       24046              0.0   \n",
      "9576        10503              0.0   \n",
      "30347       33088              0.0   \n",
      "15850       17325              0.0   \n",
      "38910       42461              0.0   \n",
      "38912       42463              0.0   \n",
      "38913       42465              0.0   \n",
      "38914       42466              0.0   \n",
      "15852       17327              0.0   \n",
      "22058       24042              0.0   \n",
      "38918       42470              0.0   \n",
      "9562        10488              0.0   \n",
      "9559        10485              0.0   \n",
      "34562       37690              0.0   \n",
      "9558        10484              0.0   \n",
      "9548        10474              0.0   \n",
      "39401       42984              0.0   \n",
      "\n",
      "                                            product_name  department_id  \n",
      "9525                   Decaffeinated French Roast Coffee             19  \n",
      "9524           Greek Yogurt Coated Toasted Coconut Chips             19  \n",
      "22070                               Sweet Potatoes Fries              1  \n",
      "9516   Extra Strong Large Drawstring 30 Gallon Trash ...             17  \n",
      "34561                          Everyday Soak Proof Bowls             17  \n",
      "9514                                             unknown             21  \n",
      "22075      All Natural French Vanilla Hand & Body Lotion             11  \n",
      "9512                        Nature's Maraschino Cherries             19  \n",
      "22077          Gluten Free Caramel Sauce Dessert Topping             19  \n",
      "9508               Vintner's Reserve Carbernet Sauvignon              5  \n",
      "38927                         Kitchen Sliced Green Beans             15  \n",
      "9544                                          B Side Red              5  \n",
      "38906           Honest Hand Sanitizer Spray Free & Clear             11  \n",
      "22062                  Nux Vomica 6C Homeopathic Pellets             11  \n",
      "9576                   U Ultra Overnight With Wings Pads             11  \n",
      "30347  Superior Touch Better Than Bouillon Vegetable ...             15  \n",
      "15850                  Multi Insect Killer 7 Insecticide             17  \n",
      "38910                        Nonpareil Decorating Decors             13  \n",
      "38912                           Watermelon Mint Iced Tea              7  \n",
      "38913                    Ponzu Citrus Seasoned Soy Sauce              6  \n",
      "38914        All Natural Hokkien Stir-Fry Noodles - 2 CT              6  \n",
      "15852                             Beet Juice With Ginger              7  \n",
      "22058                     Italian Sauce White Clam Sauce             15  \n",
      "38918             Gluten Free Personal Size Pizza Crusts              1  \n",
      "9562                         Horseradish Sauce Pub Style             13  \n",
      "9559                                   Caramel Apple Pop             19  \n",
      "34562  Calypso Fresh 2X Concentrated ScentSations 166...             17  \n",
      "9558                                  Avocado And Greens              7  \n",
      "9548                        NuStevia White Stevia Powder             13  \n",
      "39401  Salsa For All Seasons Half Guacamole Half Roas...             20  \n"
     ]
    }
   ],
   "source": [
    "#Creo una agrupación por product_id que cuente las veces que aparecen en la tabla (total de productos tanto ordenados por primera vez como vueltos a ordenar)\n",
    "groupby_total=df_order_products.groupby('product_id',as_index=False).count()\n",
    "\n",
    "#Creo una agrupación por product_id que sume los valores de cada columna (para la columna reordered, da la suma de todos los 1's que aparecen)\n",
    "groupby_reordered=df_order_products.groupby('product_id',as_index=False).sum() \n",
    "\n",
    "#Creo una agrupación por product_id que calcula la media de todas las columnas (la media en la columna reordered corresponde a dividir el valor de groupby_reordered / groupby_total, con esto compruebo que .mean() ya calculó la proporción)\n",
    "groupby_mean=df_order_products.groupby('product_id',as_index=False).mean()\n",
    "\n",
    "#Imprimo las tres agrupaciones sólo como referencia para mis comprobaciones\n",
    "print(groupby_total)\n",
    "print(groupby_reordered)\n",
    "print(groupby_mean)\n",
    "\n",
    "print(groupby_mean.max())\n",
    "print(groupby_mean.min())\n",
    "print()\n",
    "\n",
    "#Conjunto las tablas groupby_mean y df_products para obtener los nombres de los productos\n",
    "names=groupby_mean.merge(df_products,on='product_id')\n",
    "\n",
    "#ELimino las columnas que no necesito y renombro la que usaré para mostrar la proporción\n",
    "names=names.drop(labels=['order_id','add_to_cart_order','aisle_id'],axis='columns')\n",
    "names=names.rename(columns={'reordered':'reordered_ratio'})\n",
    "\n",
    "#Modifico la columna de proporción\n",
    "names['reordered_ratio']=names['reordered_ratio']*100\n",
    "print(names.sort_values(by='reordered_ratio',ascending=False).head(30))\n",
    "print(names.sort_values(by='reordered_ratio',ascending=False).tail(30))\n",
    "# names[names['reordered_ratio']==100.0]\n",
    "# names[names['product_id']==154]"
   ]
  },
  {
   "cell_type": "markdown",
   "id": "I10dEIAyldcO",
   "metadata": {
    "id": "I10dEIAyldcO"
   },
   "source": [
    "Escribe aquí tus conclusiones"
   ]
  },
  {
   "cell_type": "markdown",
   "id": "76348e9f-66fc-4528-a179-07f824903b6d",
   "metadata": {},
   "source": [
    "+ La mayor proporción que encontré fue de 100%, que corresponde a un producto que se ordenó por un solo cliente y posteriormente se ordenó por el mismo cliente 20 veces más.\n",
    "+ Hay muchos productos con una proporción de 100%, esto me sugiere que son productos populares, consumibles de poca duración, o ya tienen mucho tiempo en el catálogo.\n",
    "+ Las proporciones de 0% me sugieren que los productos son impopulares, muy duraderos, o demasiado nuevos en el catálogo."
   ]
  },
  {
   "cell_type": "markdown",
   "id": "1e2872ab",
   "metadata": {},
   "source": [
    "<div class=\"alert alert-block alert-danger\">\n",
    "<b>Comentario del revisor </b> <a class=\"tocSkip\"></a>\n",
    "\n",
    "Hay buenos criterios planteados, pero creo que no llegas al resultado por la interpretación de la pregunta. Un indicio de esto es que no debería llegar a proporciones mayores al 100%.\n",
    "    \n",
    "En este paso, considera la proporción de  productos en la tabla `df_order_products` con el flag `reordered` en 1. `reordered` es de tipo flag, significa que sólo contiene 0 y 1, donde estos valores representan sí/no.\n",
    "    \n",
    "Para esto realiza un group by por product_id, y calcula el promedio de 'reordered', esto te dará la proporción, ya que el promedio sumará a todos los 1 y los divide por la cantidad de apariciones, es decir te dará la proporción, si quieres pasar a porcentaje, luego multiplica por 100. \n",
    "    \n",
    "    \n",
    "Para obtener los nombres de los productos se requiere un merge con la tabla `df_products`.\n",
    "\n",
    "</div>\n",
    "<div class=\"alert alert-block alert-info\">\n",
    "<b>Comentario estudiante</b><a class=\"tocSkip\"></a>\n",
    "No me pasó por la mente usar .mean() como ya he hecho antes con .count() y .sum() al agrupar. Gracias. Modifiqué todo el bloque y cambié mis conclusiones.\n",
    "\n",
    "</div>\n"
   ]
  },
  {
   "cell_type": "markdown",
   "id": "subject-boxing",
   "metadata": {
    "id": "subject-boxing"
   },
   "source": [
    "### [C4] Para cada cliente, ¿qué proporción de sus productos ya los había pedido?"
   ]
  },
  {
   "cell_type": "code",
   "execution_count": 82,
   "id": "8892e4b4",
   "metadata": {
    "id": "8892e4b4"
   },
   "outputs": [],
   "source": [
    "# #Combino los dataframes de instacart_orders y order_products en un nuevo dataframe para tener todas las columnas que necesito\n",
    "# merge=df_instacart_orders.merge(df_order_products,on='order_id')\n",
    "# print()\n",
    "# #Elimino columnas innecesarias de mi nuevo dataframe\n",
    "# merge=merge.drop(labels=['order_number','order_dow','order_hour_of_day','days_since_prior_order','add_to_cart_order'],axis='columns')\n",
    "# # print(merge)\n",
    "# #Creo un nuevo dataframe para guardar todas las órdenes que se han hecho una sola vez y lo imprimo ordenado por user_id\n",
    "# merge_first_order=merge[merge['reordered']==0]\n",
    "# print(merge_first_order.sort_values(by='user_id').head(30))\n",
    "# print()\n",
    "# #Creo un nuevo dataframe para guardar todas las órdenes que se han repetido y lo imprimo ordenado por user_id\n",
    "# merge_reordered=merge[merge['reordered']==1]\n",
    "# print(merge_reordered.sort_values(by='user_id'))\n",
    "# #Creo un nuevo dataframe en el que agrupo por user_id todas las órdenes hechas una sola vez\n",
    "# first_order_groupby=merge_first_order.groupby(by='user_id',as_index=False).count()\n",
    "# print(first_order_groupby)\n",
    "# #Creo un nuevo dataframe en el que agrupo por user_id todas las órdenes hechas nuevamente\n",
    "# reordered_groupby=merge_reordered.groupby(by='user_id',as_index=False).count()\n",
    "# print(reordered_groupby)\n",
    "# #Combino los dos dataframes que acabo de crear por user_id para mantener sólo los usuarios que han hecho tanto pedidos recurrentes como pedidos de primera vez\n",
    "# ratio_merge=first_order_groupby.merge(reordered_groupby, on='user_id')\n",
    "# print(ratio_merge)\n",
    "# #Creo una columna nueva en el dataframe anterior que calcule la proporción entre el número de productos de primera vez y el número de productos que se han reordenado\n",
    "# ratio_merge['order_ratio']=ratio_merge['reordered_y']/ratio_merge['reordered_x']*100\n",
    "# #Imprimo la columna de proporciones ordenada de menor a mayor\n",
    "# print(ratio_merge['order_ratio'].sort_values())"
   ]
  },
  {
   "cell_type": "code",
   "execution_count": 83,
   "id": "97907204-122a-420b-8ffa-fb8eccdd4fb0",
   "metadata": {},
   "outputs": [
    {
     "name": "stdout",
     "output_type": "stream",
     "text": [
      "         reordered  user_id\n",
      "0                0    58454\n",
      "1                1   129474\n",
      "2                1    47476\n",
      "3                1   134505\n",
      "4                1   155995\n",
      "...            ...      ...\n",
      "4545002          1    76414\n",
      "4545003          0   163902\n",
      "4545004          1      597\n",
      "4545005          1     7124\n",
      "4545006          0    85144\n",
      "\n",
      "[4545007 rows x 2 columns]\n",
      "        user_id  reordered_ratio\n",
      "44276     61200            100.0\n",
      "42106     58187            100.0\n",
      "33811     46677            100.0\n",
      "84962    117142            100.0\n",
      "142695   196610            100.0\n",
      "113400   156486            100.0\n",
      "96122    132723            100.0\n",
      "24430     33744            100.0\n",
      "113411   156498            100.0\n",
      "84963    117145            100.0\n",
      "14673     20192            100.0\n",
      "84985    117177            100.0\n",
      "142676   196583            100.0\n",
      "113373   156453            100.0\n",
      "125272   172846            100.0\n",
      "56681     78286            100.0\n",
      "10944     14999            100.0\n",
      "135854   187301            100.0\n",
      "135853   187300            100.0\n",
      "10115     13889            100.0\n",
      "85002    117198            100.0\n",
      "33816     46682            100.0\n",
      "84996    117190            100.0\n",
      "142667   196567            100.0\n",
      "66244     91393            100.0\n",
      "69850     96349            100.0\n",
      "84993    117187            100.0\n",
      "125267   172837            100.0\n",
      "135859   187310            100.0\n",
      "25850     35706            100.0\n",
      "149626\n",
      "5.4148343202384615\n"
     ]
    }
   ],
   "source": [
    "# print(df_order_products)\n",
    "# print(df_instacart_orders)\n",
    "#Conjunto las tablas df_order_products y df_instacart_orders para poder obtener los user_id\n",
    "merge=df_order_products.merge(df_instacart_orders,on='order_id')\n",
    "\n",
    "#Elimino todas las columnas que no necesito\n",
    "merge=merge.drop(labels=['order_id','product_id','add_to_cart_order','order_number','order_dow','order_hour_of_day','days_since_prior_order'],axis='columns')\n",
    "print(merge)\n",
    "\n",
    "#Agrupo por user_id y calculo la media\n",
    "groupby_user=merge.groupby(by='user_id',as_index=False).mean()\n",
    "\n",
    "#Renombro la columna que mostrará las proporciones\n",
    "groupby_user=groupby_user.rename(columns={'reordered':'reordered_ratio'})\n",
    "\n",
    "#Modifico la columna de proporciones\n",
    "groupby_user['reordered_ratio']=groupby_user['reordered_ratio']*100\n",
    "\n",
    "\n",
    "print(groupby_user.sort_values(by='reordered_ratio').tail(30))\n",
    "users_100=groupby_user[groupby_user['reordered_ratio']==100]\n",
    "users_100_count=users_100['reordered_ratio'].count()\n",
    "total_users=groupby_user['user_id'].count()\n",
    "print(total_users)\n",
    "fidelity=users_100_count/total_users*100\n",
    "print(fidelity)"
   ]
  },
  {
   "cell_type": "markdown",
   "id": "BgJSvXDsleXz",
   "metadata": {
    "id": "BgJSvXDsleXz"
   },
   "source": [
    "Escribe aquí tus conclusiones"
   ]
  },
  {
   "cell_type": "markdown",
   "id": "6e59ba86-f919-4d25-a3d0-46778f777625",
   "metadata": {},
   "source": [
    "+ Las proporciones de 100% sugieren que esos clientes gustan de usar la plataforma para sus compras.\n",
    "+ Del total de usuarios registrados, el 5.41% tienen un 100% de proporción al reordenar productos."
   ]
  },
  {
   "cell_type": "markdown",
   "id": "b2590e40",
   "metadata": {},
   "source": [
    "<div class=\"alert alert-block alert-danger\">\n",
    "<b>Comentario del revisor </b> <a class=\"tocSkip\"></a>\n",
    "\n",
    "Aquí también como el paso anterior. Las operaciones son más sencillas. Haz una agrupación por `user_id` en `df_order_products` y calcula la media del campo `reordered`.\n",
    "</div>\n",
    "<div class=\"alert alert-block alert-info\">\n",
    "<b>Comentario estudiante</b><a class=\"tocSkip\"></a>\n",
    "Usé una estrategia similar al bloque anterior y cambié mis conclusiones\n",
    "\n",
    "</div>"
   ]
  },
  {
   "cell_type": "markdown",
   "id": "92d35137",
   "metadata": {
    "id": "92d35137"
   },
   "source": [
    "### [C5] ¿Cuáles son los 20 principales artículos que las personas ponen primero en sus carritos?"
   ]
  },
  {
   "cell_type": "code",
   "execution_count": 84,
   "id": "08e41ec2",
   "metadata": {
    "id": "08e41ec2"
   },
   "outputs": [
    {
     "name": "stdout",
     "output_type": "stream",
     "text": [
      "         order_id  product_id  add_to_cart_order  reordered\n",
      "1          567889        1560                  1          1\n",
      "2         2261212       26683                  1          1\n",
      "14        1961225       37553                  1          1\n",
      "16         639939       10017                  1          1\n",
      "23         750040        8518                  1          0\n",
      "...           ...         ...                ...        ...\n",
      "4544978   1759009       46175                  1          0\n",
      "4544989    115427       20842                  1          1\n",
      "4544990   2049780       28576                  1          1\n",
      "4544997   2300092       10017                  1          0\n",
      "4544999   1622300       24852                  1          1\n",
      "\n",
      "[450046 rows x 4 columns]\n",
      "\n",
      "       product_id  order_id  add_to_cart_order  reordered\n",
      "0               1        47                 47         47\n",
      "1               2         2                  2          2\n",
      "2               3         5                  5          5\n",
      "3               4         1                  1          1\n",
      "4               8         4                  4          4\n",
      "...           ...       ...                ...        ...\n",
      "26755       49687         1                  1          1\n",
      "26756       49688         1                  1          1\n",
      "26757       49690         2                  2          2\n",
      "26758       49691         3                  3          3\n",
      "26759       49693         3                  3          3\n",
      "\n",
      "[26760 rows x 4 columns]\n",
      "\n",
      "       product_id                                       product_name  \\\n",
      "0               1                         Chocolate Sandwich Cookies   \n",
      "1               2                                   All-Seasons Salt   \n",
      "2               3               Robust Golden Unsweetened Oolong Tea   \n",
      "3               4  Smart Ones Classic Favorites Mini Rigatoni Wit...   \n",
      "4               8                  Cut Russet Potatoes Steam N' Mash   \n",
      "...           ...                                                ...   \n",
      "26755       49687         Smartblend Healthy Metabolism Dry Cat Food   \n",
      "26756       49688                             Fresh Foaming Cleanser   \n",
      "26757       49690                      HIGH PERFORMANCE ENERGY DRINK   \n",
      "26758       49691                      ORIGINAL PANCAKE & WAFFLE MIX   \n",
      "26759       49693                             SPRING WATER BODY WASH   \n",
      "\n",
      "       aisle_id  department_id  order_id  \n",
      "0            61             19        47  \n",
      "1           104             13         2  \n",
      "2            94              7         5  \n",
      "3            38              1         1  \n",
      "4           116              1         4  \n",
      "...         ...            ...       ...  \n",
      "26755        41              8         1  \n",
      "26756        73             11         1  \n",
      "26757        64              7         2  \n",
      "26758       130             14         3  \n",
      "26759       127             11         3  \n",
      "\n",
      "[26760 rows x 5 columns]\n",
      "\n",
      "       product_id                 product_name  aisle_id  department_id  \\\n",
      "13414       24852                       Banana        24              4   \n",
      "7127        13176       Bag of Organic Bananas        24              4   \n",
      "15028       27845           Organic Whole Milk        84             16   \n",
      "11384       21137         Organic Strawberries        24              4   \n",
      "25439       47209         Organic Hass Avocado        24              4   \n",
      "11786       21903         Organic Baby Spinach       123              4   \n",
      "25732       47766              Organic Avocado        24              4   \n",
      "10622       19660                 Spring Water       115              7   \n",
      "9050        16797                 Strawberries        24              4   \n",
      "15102       27966          Organic Raspberries       123              4   \n",
      "24024       44632   Sparkling Water Grapefruit       115              7   \n",
      "26519       49235          Organic Half & Half        53             16   \n",
      "25658       47626                  Large Lemon        24              4   \n",
      "115           196                         Soda        77              7   \n",
      "20853       38689     Organic Reduced Fat Milk        84             16   \n",
      "14158       26209                        Limes        24              4   \n",
      "6660        12341                Hass Avocados        32              4   \n",
      "3153         5785  Organic Reduced Fat 2% Milk        84             16   \n",
      "14639       27086                  Half & Half        53             16   \n",
      "23335       43352                  Raspberries        32              4   \n",
      "\n",
      "       order_id  \n",
      "13414     15562  \n",
      "7127      11026  \n",
      "15028      4363  \n",
      "11384      3946  \n",
      "25439      3390  \n",
      "11786      3336  \n",
      "25732      3044  \n",
      "10622      2336  \n",
      "9050       2308  \n",
      "15102      2024  \n",
      "24024      1914  \n",
      "26519      1797  \n",
      "25658      1737  \n",
      "115        1733  \n",
      "20853      1397  \n",
      "14158      1370  \n",
      "6660       1340  \n",
      "3153       1310  \n",
      "14639      1309  \n",
      "23335      1246  \n"
     ]
    }
   ],
   "source": [
    "#Creo un nuevo dataframe que contiene sólo los productos que se añaden en primer lugar a las órdenes\n",
    "first_products=df_order_products[df_order_products['add_to_cart_order']==1]\n",
    "print(first_products)\n",
    "print()\n",
    "\n",
    "#Agrupo el dataframe anterior por product_id y cuento el número de veces que aparece cada producto\n",
    "top_products=first_products.groupby(by='product_id',as_index=False).count()\n",
    "print(top_products)\n",
    "print()\n",
    "\n",
    "#Combino el dataframe products con mi dataframe anterior para conseguir los nombres de los productos\n",
    "product_names=df_products.merge(top_products,on='product_id')\n",
    "product_names=product_names.drop(labels=['add_to_cart_order','reordered'],axis='columns')\n",
    "print(product_names)\n",
    "print()\n",
    "#Imprimo el dataframe anterior ordenado por el número de veces que apareció en mi lista, y elimino columnas que no necesito\n",
    "print(product_names.sort_values(by='order_id',ascending=False).head(20))"
   ]
  },
  {
   "cell_type": "code",
   "execution_count": 85,
   "id": "46f578c9-36fe-412a-8908-b3ccd8d8b1e8",
   "metadata": {},
   "outputs": [
    {
     "name": "stdout",
     "output_type": "stream",
     "text": [
      "     order_id  product_id  add_to_cart_order  reordered\n",
      "1      567889        1560                  1          1\n",
      "2     2261212       26683                  1          1\n",
      "14    1961225       37553                  1          1\n",
      "16     639939       10017                  1          1\n",
      "23     750040        8518                  1          0\n",
      "33    2291457       27104                  1          1\n",
      "43    3075384       28799                  1          1\n",
      "45    1787676       47672                  1          1\n",
      "54    3266094       12763                  1          1\n",
      "56    1594605       34217                  1          1\n",
      "70     450917       21436                  1          1\n",
      "90     505943       13176                  1          1\n",
      "93     286653       23115                  1          0\n",
      "108   2699857       45007                  1          1\n",
      "109   3176371       24852                  1          1\n",
      "121   1861131       47766                  1          1\n",
      "132    558229        8061                  1          1\n",
      "135   2952692       49247                  1          1\n",
      "137   2834075       47877                  1          1\n",
      "138   2645555         389                  1          0\n",
      "       product_id  order_id  add_to_cart_order  reordered\n",
      "13414       24852     15562              15562      15562\n",
      "7127        13176     11026              11026      11026\n",
      "15028       27845      4363               4363       4363\n",
      "11384       21137      3946               3946       3946\n",
      "25439       47209      3390               3390       3390\n",
      "11786       21903      3336               3336       3336\n",
      "25732       47766      3044               3044       3044\n",
      "10622       19660      2336               2336       2336\n",
      "9050        16797      2308               2308       2308\n",
      "15102       27966      2024               2024       2024\n",
      "24024       44632      1914               1914       1914\n",
      "26519       49235      1797               1797       1797\n",
      "25658       47626      1737               1737       1737\n",
      "115           196      1733               1733       1733\n",
      "20853       38689      1397               1397       1397\n",
      "14158       26209      1370               1370       1370\n",
      "6660        12341      1340               1340       1340\n",
      "3153         5785      1310               1310       1310\n",
      "14639       27086      1309               1309       1309\n",
      "23335       43352      1246               1246       1246\n"
     ]
    },
    {
     "data": {
      "text/html": [
       "<div>\n",
       "<style scoped>\n",
       "    .dataframe tbody tr th:only-of-type {\n",
       "        vertical-align: middle;\n",
       "    }\n",
       "\n",
       "    .dataframe tbody tr th {\n",
       "        vertical-align: top;\n",
       "    }\n",
       "\n",
       "    .dataframe thead th {\n",
       "        text-align: right;\n",
       "    }\n",
       "</style>\n",
       "<table border=\"1\" class=\"dataframe\">\n",
       "  <thead>\n",
       "    <tr style=\"text-align: right;\">\n",
       "      <th></th>\n",
       "      <th>product_id</th>\n",
       "      <th>product_name</th>\n",
       "      <th>aisle_id</th>\n",
       "      <th>department_id</th>\n",
       "      <th>order_id</th>\n",
       "    </tr>\n",
       "  </thead>\n",
       "  <tbody>\n",
       "    <tr>\n",
       "      <th>8</th>\n",
       "      <td>24852</td>\n",
       "      <td>Banana</td>\n",
       "      <td>24</td>\n",
       "      <td>4</td>\n",
       "      <td>15562</td>\n",
       "    </tr>\n",
       "    <tr>\n",
       "      <th>3</th>\n",
       "      <td>13176</td>\n",
       "      <td>Bag of Organic Bananas</td>\n",
       "      <td>24</td>\n",
       "      <td>4</td>\n",
       "      <td>11026</td>\n",
       "    </tr>\n",
       "    <tr>\n",
       "      <th>11</th>\n",
       "      <td>27845</td>\n",
       "      <td>Organic Whole Milk</td>\n",
       "      <td>84</td>\n",
       "      <td>16</td>\n",
       "      <td>4363</td>\n",
       "    </tr>\n",
       "    <tr>\n",
       "      <th>6</th>\n",
       "      <td>21137</td>\n",
       "      <td>Organic Strawberries</td>\n",
       "      <td>24</td>\n",
       "      <td>4</td>\n",
       "      <td>3946</td>\n",
       "    </tr>\n",
       "    <tr>\n",
       "      <th>16</th>\n",
       "      <td>47209</td>\n",
       "      <td>Organic Hass Avocado</td>\n",
       "      <td>24</td>\n",
       "      <td>4</td>\n",
       "      <td>3390</td>\n",
       "    </tr>\n",
       "    <tr>\n",
       "      <th>7</th>\n",
       "      <td>21903</td>\n",
       "      <td>Organic Baby Spinach</td>\n",
       "      <td>123</td>\n",
       "      <td>4</td>\n",
       "      <td>3336</td>\n",
       "    </tr>\n",
       "    <tr>\n",
       "      <th>18</th>\n",
       "      <td>47766</td>\n",
       "      <td>Organic Avocado</td>\n",
       "      <td>24</td>\n",
       "      <td>4</td>\n",
       "      <td>3044</td>\n",
       "    </tr>\n",
       "    <tr>\n",
       "      <th>5</th>\n",
       "      <td>19660</td>\n",
       "      <td>Spring Water</td>\n",
       "      <td>115</td>\n",
       "      <td>7</td>\n",
       "      <td>2336</td>\n",
       "    </tr>\n",
       "    <tr>\n",
       "      <th>4</th>\n",
       "      <td>16797</td>\n",
       "      <td>Strawberries</td>\n",
       "      <td>24</td>\n",
       "      <td>4</td>\n",
       "      <td>2308</td>\n",
       "    </tr>\n",
       "    <tr>\n",
       "      <th>12</th>\n",
       "      <td>27966</td>\n",
       "      <td>Organic Raspberries</td>\n",
       "      <td>123</td>\n",
       "      <td>4</td>\n",
       "      <td>2024</td>\n",
       "    </tr>\n",
       "    <tr>\n",
       "      <th>15</th>\n",
       "      <td>44632</td>\n",
       "      <td>Sparkling Water Grapefruit</td>\n",
       "      <td>115</td>\n",
       "      <td>7</td>\n",
       "      <td>1914</td>\n",
       "    </tr>\n",
       "    <tr>\n",
       "      <th>19</th>\n",
       "      <td>49235</td>\n",
       "      <td>Organic Half &amp; Half</td>\n",
       "      <td>53</td>\n",
       "      <td>16</td>\n",
       "      <td>1797</td>\n",
       "    </tr>\n",
       "    <tr>\n",
       "      <th>17</th>\n",
       "      <td>47626</td>\n",
       "      <td>Large Lemon</td>\n",
       "      <td>24</td>\n",
       "      <td>4</td>\n",
       "      <td>1737</td>\n",
       "    </tr>\n",
       "    <tr>\n",
       "      <th>0</th>\n",
       "      <td>196</td>\n",
       "      <td>Soda</td>\n",
       "      <td>77</td>\n",
       "      <td>7</td>\n",
       "      <td>1733</td>\n",
       "    </tr>\n",
       "    <tr>\n",
       "      <th>13</th>\n",
       "      <td>38689</td>\n",
       "      <td>Organic Reduced Fat Milk</td>\n",
       "      <td>84</td>\n",
       "      <td>16</td>\n",
       "      <td>1397</td>\n",
       "    </tr>\n",
       "    <tr>\n",
       "      <th>9</th>\n",
       "      <td>26209</td>\n",
       "      <td>Limes</td>\n",
       "      <td>24</td>\n",
       "      <td>4</td>\n",
       "      <td>1370</td>\n",
       "    </tr>\n",
       "    <tr>\n",
       "      <th>2</th>\n",
       "      <td>12341</td>\n",
       "      <td>Hass Avocados</td>\n",
       "      <td>32</td>\n",
       "      <td>4</td>\n",
       "      <td>1340</td>\n",
       "    </tr>\n",
       "    <tr>\n",
       "      <th>1</th>\n",
       "      <td>5785</td>\n",
       "      <td>Organic Reduced Fat 2% Milk</td>\n",
       "      <td>84</td>\n",
       "      <td>16</td>\n",
       "      <td>1310</td>\n",
       "    </tr>\n",
       "    <tr>\n",
       "      <th>10</th>\n",
       "      <td>27086</td>\n",
       "      <td>Half &amp; Half</td>\n",
       "      <td>53</td>\n",
       "      <td>16</td>\n",
       "      <td>1309</td>\n",
       "    </tr>\n",
       "    <tr>\n",
       "      <th>14</th>\n",
       "      <td>43352</td>\n",
       "      <td>Raspberries</td>\n",
       "      <td>32</td>\n",
       "      <td>4</td>\n",
       "      <td>1246</td>\n",
       "    </tr>\n",
       "  </tbody>\n",
       "</table>\n",
       "</div>"
      ],
      "text/plain": [
       "    product_id                 product_name  aisle_id  department_id  order_id\n",
       "8        24852                       Banana        24              4     15562\n",
       "3        13176       Bag of Organic Bananas        24              4     11026\n",
       "11       27845           Organic Whole Milk        84             16      4363\n",
       "6        21137         Organic Strawberries        24              4      3946\n",
       "16       47209         Organic Hass Avocado        24              4      3390\n",
       "7        21903         Organic Baby Spinach       123              4      3336\n",
       "18       47766              Organic Avocado        24              4      3044\n",
       "5        19660                 Spring Water       115              7      2336\n",
       "4        16797                 Strawberries        24              4      2308\n",
       "12       27966          Organic Raspberries       123              4      2024\n",
       "15       44632   Sparkling Water Grapefruit       115              7      1914\n",
       "19       49235          Organic Half & Half        53             16      1797\n",
       "17       47626                  Large Lemon        24              4      1737\n",
       "0          196                         Soda        77              7      1733\n",
       "13       38689     Organic Reduced Fat Milk        84             16      1397\n",
       "9        26209                        Limes        24              4      1370\n",
       "2        12341                Hass Avocados        32              4      1340\n",
       "1         5785  Organic Reduced Fat 2% Milk        84             16      1310\n",
       "10       27086                  Half & Half        53             16      1309\n",
       "14       43352                  Raspberries        32              4      1246"
      ]
     },
     "metadata": {},
     "output_type": "display_data"
    }
   ],
   "source": [
    "#Creo un nuevo dataframe que contiene sólo los productos que se añaden en primer lugar a las órdenes e imprimo 20 registros\n",
    "first_products=df_order_products[df_order_products['add_to_cart_order']==1]\n",
    "print(first_products.head(20))\n",
    "\n",
    "#Agrupo el dataframe anterior por product_id y cuento el número de veces que aparecen\n",
    "top_products=first_products.groupby(by='product_id',as_index=False).count()\n",
    "\n",
    "#Ordeno el dataframe e imprimo 20 registros\n",
    "top_products=top_products.sort_values(by='order_id',ascending=False).head(20)\n",
    "\n",
    "#*************Esta era la línea que tenía incorrecta***************************\n",
    "# top_products=top_products.head(20).sort_values(by='order_id',ascending=False)\n",
    "#******************************************************************************\n",
    "print(top_products)\n",
    "\n",
    "#Combino el dataframe products con mi dataframe anterior para conseguir los nombres de los productos\n",
    "product_names=df_products.merge(top_products,on='product_id')\n",
    "\n",
    "#Imprimo el dataframe antrior ordenado por el número de veces que apareción en mi lista, y elimino columnas que no necesito\n",
    "display(product_names.sort_values(by='order_id',ascending=False).drop(labels=['add_to_cart_order','reordered'],axis='columns'))"
   ]
  },
  {
   "cell_type": "markdown",
   "id": "28ce9872",
   "metadata": {
    "id": "28ce9872"
   },
   "source": [
    "Escribe aquí tus conclusiones"
   ]
  },
  {
   "cell_type": "markdown",
   "id": "02f7da2f-7540-4c2d-99c6-c619f7b778ec",
   "metadata": {},
   "source": [
    "+ El producto que más se añade en primer lugar son las bananas.\n",
    "+ La mayoría de los productos que se añaden primero a las órdenes pertenecen al grupo de frutas frescas."
   ]
  },
  {
   "cell_type": "markdown",
   "id": "b373cbc8",
   "metadata": {},
   "source": [
    "<div class=\"alert alert-block alert-success\">\n",
    "<b>Comentario del revisor </b> <a class=\"tocSkip\"></a>\n",
    "\n",
    "Haz utilizado las operaciones correctas, sin embargo el orden está afectando los resultados.\n",
    "\n",
    "</div>\n",
    "\n",
    "\n",
    "<div class=\"alert alert-block alert-danger\">\n",
    "<b>Comentario del revisor </b> <a class=\"tocSkip\"></a>\n",
    "\n",
    "En este paso falta hacer la agrupación por product_id y hacer el conteo, luego de esto puedes filtrar por el top 20. Así como está se muestran los primeros 20 productos que aparecen en orden en el dataset.\n",
    "\n",
    "</div>\n",
    "<div class=\"alert alert-block alert-info\">\n",
    "<b>Comentario estudiante</b><a class=\"tocSkip\"></a>\n",
    "Rehice todo el bloque y sí obtuve resultados diferentes, comparé con lo que había hecho antes y encontré el error, lo corregí y obtengo el mismo resultado con ambos procedimientos.\n",
    "Mi error anterior fue que primero filtraba 20 elementos del dataframe completo sin ordenar y después ordenaba sólo esos 20 elementos. Lo correcto es primero ordenar el dataframe completo y hasta entonces filtrar el top 20.\n",
    "\n",
    "</div>"
   ]
  },
  {
   "cell_type": "markdown",
   "id": "uITbFCEoDosC",
   "metadata": {
    "id": "uITbFCEoDosC"
   },
   "source": [
    "### Conclusion general del proyecto:"
   ]
  },
  {
   "cell_type": "markdown",
   "id": "c0f88353-75b0-4b32-b10f-d72e4395bf0b",
   "metadata": {
    "id": "Nk-4GS7mDwqY"
   },
   "source": [
    "+ No fue necesario hacer modificaciones en los nombres de columnas para los archivos csv, aunque sí hubo que especificar que el delimitador es ';' y no ','.\n",
    "+ Identifiqué y procesé los valores ausentes de todos los archivos, no se eliminó ningún registro.\n",
    "+ Había columnas cuyos valores eran de tipo punto flotante, sin embargo, durante el desarrollo del proyecto este hecho no afectó a los cálculos.\n",
    "+ Encontré productos que no tenían un nombre registrado, en total 1258.\n",
    "+ Los productos que no tienen nombre pertenecían a la isla 100 y departamento 21, cuya descripción es \"missing\". Puede que sean productos que ya no están disponibles en el catálogo de la tienda.\n",
    "+ En el archivo de registro de órdenes fatan números de orden, deberían ser consecutivos.\n",
    "+ al parecer el sistema registra como máximo 64 artículos por orden, después de eso les coloca NaN en el campo para contar en qué orden se añadieron.\n",
    "+ Había órdenes duplicadas que fueron eliminadas del análisis.\n",
    "+ Encontré que la hora pico de órdenes es a las 10 y 11 am.\n",
    "+ La mayor cantidad de órdenes se registran los domingos.\n",
    "+ El número máximo de órdenes registradas por cliente es de 100 órdenes.\n",
    "+ Los productos más populares son frutas y vegetales frescos y empacados.\n",
    "+ La media de productos agregados a una orden es de 5 productos.\n",
    "+ El top 20 de productos que más se añaden como primera opción pertenecen al grupo de frutas frescas."
   ]
  },
  {
   "cell_type": "markdown",
   "id": "317281cb",
   "metadata": {},
   "source": [
    "<div class=\"alert alert-block alert-warning\">\n",
    "<b> Revision 1 - Comentario Final  </b> <a class=\"tocSkip\"></a>\n",
    "    \n",
    "Vas muy bien con el proyecto! Destaco entre varias cosas a la interpretación y observaciones que haces, y la forma de presentar los gráficos en los análisis.\n",
    "    \n",
    "Con la corrección de los pasos marcados en rojo, tu proyecto estará aprobado.\n",
    "</div>\n",
    "<div class=\"alert alert-block alert-info\">\n",
    "<b>Comentario estudiante</b><a class=\"tocSkip\"></a>\n",
    "Muchas gracias por todas las observaciones y el tiempo que inviertes en detallarlas, me ayuda mucho.\n",
    "</div>"
   ]
  },
  {
   "cell_type": "code",
   "execution_count": null,
   "id": "a4406a7c",
   "metadata": {},
   "outputs": [],
   "source": []
  }
 ],
 "metadata": {
  "ExecuteTimeLog": [
   {
    "duration": 2258,
    "start_time": "2024-10-02T14:24:02.145Z"
   },
   {
    "duration": 565,
    "start_time": "2024-10-02T14:24:05.529Z"
   },
   {
    "duration": 67,
    "start_time": "2024-10-02T14:24:07.800Z"
   },
   {
    "duration": 60,
    "start_time": "2024-10-02T14:24:35.761Z"
   },
   {
    "duration": 184,
    "start_time": "2024-10-02T14:25:05.057Z"
   },
   {
    "duration": 82,
    "start_time": "2024-10-02T14:25:17.096Z"
   },
   {
    "duration": 943,
    "start_time": "2024-10-02T14:25:31.472Z"
   },
   {
    "duration": 16,
    "start_time": "2024-10-02T14:25:39.389Z"
   },
   {
    "duration": 15,
    "start_time": "2024-10-02T14:25:44.892Z"
   },
   {
    "duration": 195,
    "start_time": "2024-10-02T14:26:04.078Z"
   },
   {
    "duration": 250,
    "start_time": "2024-10-02T14:26:07.177Z"
   },
   {
    "duration": 9,
    "start_time": "2024-10-02T14:26:17.716Z"
   },
   {
    "duration": 47,
    "start_time": "2024-10-02T14:34:10.794Z"
   },
   {
    "duration": 7,
    "start_time": "2024-10-02T18:19:28.843Z"
   },
   {
    "duration": 4,
    "start_time": "2024-10-02T18:47:11.950Z"
   },
   {
    "duration": 154,
    "start_time": "2024-10-02T19:14:26.634Z"
   },
   {
    "duration": 2072,
    "start_time": "2024-10-02T19:14:39.274Z"
   },
   {
    "duration": 368,
    "start_time": "2024-10-02T19:14:43.241Z"
   },
   {
    "duration": 182,
    "start_time": "2024-10-02T19:14:47.356Z"
   },
   {
    "duration": 84,
    "start_time": "2024-10-02T19:14:54.649Z"
   },
   {
    "duration": 891,
    "start_time": "2024-10-02T19:15:00.016Z"
   },
   {
    "duration": 14,
    "start_time": "2024-10-02T19:15:06.297Z"
   },
   {
    "duration": 15,
    "start_time": "2024-10-02T19:15:12.920Z"
   },
   {
    "duration": 12,
    "start_time": "2024-10-02T19:15:33.847Z"
   },
   {
    "duration": 179,
    "start_time": "2024-10-02T19:15:41.199Z"
   },
   {
    "duration": 224,
    "start_time": "2024-10-02T19:15:42.552Z"
   },
   {
    "duration": 39,
    "start_time": "2024-10-02T19:15:44.737Z"
   },
   {
    "duration": 12,
    "start_time": "2024-10-02T19:15:45.981Z"
   },
   {
    "duration": 3,
    "start_time": "2024-10-02T19:15:46.146Z"
   },
   {
    "duration": 34,
    "start_time": "2024-10-02T19:15:46.328Z"
   },
   {
    "duration": 6,
    "start_time": "2024-10-02T19:15:46.526Z"
   },
   {
    "duration": 4,
    "start_time": "2024-10-02T19:15:48.590Z"
   },
   {
    "duration": 4,
    "start_time": "2024-10-02T19:15:48.903Z"
   },
   {
    "duration": 4,
    "start_time": "2024-10-02T19:15:50.273Z"
   },
   {
    "duration": 6,
    "start_time": "2024-10-02T19:15:50.467Z"
   },
   {
    "duration": 793,
    "start_time": "2024-10-02T19:15:51.971Z"
   },
   {
    "duration": 733,
    "start_time": "2024-10-02T19:15:52.766Z"
   },
   {
    "duration": 38,
    "start_time": "2024-10-02T19:15:53.501Z"
   },
   {
    "duration": 4,
    "start_time": "2024-10-02T19:15:53.813Z"
   },
   {
    "duration": 3,
    "start_time": "2024-10-02T19:15:54.409Z"
   },
   {
    "duration": 6,
    "start_time": "2024-10-02T19:15:55.154Z"
   },
   {
    "duration": 13,
    "start_time": "2024-10-02T19:15:55.941Z"
   },
   {
    "duration": 8,
    "start_time": "2024-10-02T19:15:56.884Z"
   },
   {
    "duration": 9,
    "start_time": "2024-10-02T19:15:57.089Z"
   },
   {
    "duration": 17,
    "start_time": "2024-10-02T19:15:58.057Z"
   },
   {
    "duration": 458,
    "start_time": "2024-10-02T19:15:58.265Z"
   },
   {
    "duration": 9,
    "start_time": "2024-10-02T19:15:58.835Z"
   },
   {
    "duration": 10,
    "start_time": "2024-10-02T19:15:59.010Z"
   },
   {
    "duration": 44,
    "start_time": "2024-10-02T19:15:59.988Z"
   },
   {
    "duration": 22,
    "start_time": "2024-10-02T19:16:01.833Z"
   },
   {
    "duration": 25,
    "start_time": "2024-10-02T19:16:02.035Z"
   },
   {
    "duration": 173,
    "start_time": "2024-10-02T19:16:02.846Z"
   },
   {
    "duration": 140,
    "start_time": "2024-10-02T19:16:03.844Z"
   },
   {
    "duration": 164,
    "start_time": "2024-10-02T19:16:04.904Z"
   },
   {
    "duration": 183,
    "start_time": "2024-10-02T19:16:07.031Z"
   },
   {
    "duration": 192,
    "start_time": "2024-10-02T19:16:08.692Z"
   },
   {
    "duration": 178,
    "start_time": "2024-10-02T19:16:10.522Z"
   },
   {
    "duration": 1943,
    "start_time": "2024-10-02T19:16:14.302Z"
   },
   {
    "duration": 6,
    "start_time": "2024-10-02T19:16:30.168Z"
   },
   {
    "duration": 7,
    "start_time": "2024-10-02T19:17:31.137Z"
   },
   {
    "duration": 4,
    "start_time": "2024-10-02T19:17:36.590Z"
   },
   {
    "duration": 7,
    "start_time": "2024-10-02T19:17:54.560Z"
   },
   {
    "duration": 6,
    "start_time": "2024-10-02T19:18:09.356Z"
   },
   {
    "duration": 7,
    "start_time": "2024-10-02T19:18:18.562Z"
   },
   {
    "duration": 4,
    "start_time": "2024-10-02T19:18:47.605Z"
   },
   {
    "duration": 2201,
    "start_time": "2024-10-02T23:10:40.849Z"
   },
   {
    "duration": 531,
    "start_time": "2024-10-02T23:10:43.054Z"
   },
   {
    "duration": 0,
    "start_time": "2024-10-02T23:10:43.589Z"
   },
   {
    "duration": 0,
    "start_time": "2024-10-02T23:10:43.590Z"
   },
   {
    "duration": 0,
    "start_time": "2024-10-02T23:10:43.591Z"
   },
   {
    "duration": 0,
    "start_time": "2024-10-02T23:10:43.593Z"
   },
   {
    "duration": 0,
    "start_time": "2024-10-02T23:10:43.605Z"
   },
   {
    "duration": 0,
    "start_time": "2024-10-02T23:10:43.608Z"
   },
   {
    "duration": 0,
    "start_time": "2024-10-02T23:10:43.609Z"
   },
   {
    "duration": 0,
    "start_time": "2024-10-02T23:10:43.610Z"
   },
   {
    "duration": 0,
    "start_time": "2024-10-02T23:10:43.611Z"
   },
   {
    "duration": 0,
    "start_time": "2024-10-02T23:10:43.612Z"
   },
   {
    "duration": 0,
    "start_time": "2024-10-02T23:10:43.613Z"
   },
   {
    "duration": 0,
    "start_time": "2024-10-02T23:10:43.614Z"
   },
   {
    "duration": 0,
    "start_time": "2024-10-02T23:10:43.615Z"
   },
   {
    "duration": 0,
    "start_time": "2024-10-02T23:10:43.616Z"
   },
   {
    "duration": 0,
    "start_time": "2024-10-02T23:10:43.617Z"
   },
   {
    "duration": 0,
    "start_time": "2024-10-02T23:10:43.619Z"
   },
   {
    "duration": 0,
    "start_time": "2024-10-02T23:10:43.620Z"
   },
   {
    "duration": 0,
    "start_time": "2024-10-02T23:10:43.621Z"
   },
   {
    "duration": 0,
    "start_time": "2024-10-02T23:10:43.622Z"
   },
   {
    "duration": 0,
    "start_time": "2024-10-02T23:10:43.623Z"
   },
   {
    "duration": 0,
    "start_time": "2024-10-02T23:10:43.624Z"
   },
   {
    "duration": 0,
    "start_time": "2024-10-02T23:10:43.625Z"
   },
   {
    "duration": 0,
    "start_time": "2024-10-02T23:10:43.626Z"
   },
   {
    "duration": 0,
    "start_time": "2024-10-02T23:10:43.627Z"
   },
   {
    "duration": 0,
    "start_time": "2024-10-02T23:10:43.628Z"
   },
   {
    "duration": 0,
    "start_time": "2024-10-02T23:10:43.629Z"
   },
   {
    "duration": 0,
    "start_time": "2024-10-02T23:10:43.629Z"
   },
   {
    "duration": 0,
    "start_time": "2024-10-02T23:10:43.630Z"
   },
   {
    "duration": 0,
    "start_time": "2024-10-02T23:10:43.631Z"
   },
   {
    "duration": 0,
    "start_time": "2024-10-02T23:10:43.632Z"
   },
   {
    "duration": 0,
    "start_time": "2024-10-02T23:10:43.633Z"
   },
   {
    "duration": 0,
    "start_time": "2024-10-02T23:10:43.634Z"
   },
   {
    "duration": 0,
    "start_time": "2024-10-02T23:10:43.635Z"
   },
   {
    "duration": 0,
    "start_time": "2024-10-02T23:10:43.636Z"
   },
   {
    "duration": 0,
    "start_time": "2024-10-02T23:10:43.637Z"
   },
   {
    "duration": 0,
    "start_time": "2024-10-02T23:10:43.638Z"
   },
   {
    "duration": 0,
    "start_time": "2024-10-02T23:10:43.639Z"
   },
   {
    "duration": 0,
    "start_time": "2024-10-02T23:10:43.641Z"
   },
   {
    "duration": 0,
    "start_time": "2024-10-02T23:10:43.642Z"
   },
   {
    "duration": 0,
    "start_time": "2024-10-02T23:10:43.643Z"
   },
   {
    "duration": 0,
    "start_time": "2024-10-02T23:10:43.645Z"
   },
   {
    "duration": 0,
    "start_time": "2024-10-02T23:10:43.706Z"
   }
  ],
  "colab": {
   "provenance": []
  },
  "kernelspec": {
   "display_name": "Python 3 (ipykernel)",
   "language": "python",
   "name": "python3"
  },
  "language_info": {
   "codemirror_mode": {
    "name": "ipython",
    "version": 3
   },
   "file_extension": ".py",
   "mimetype": "text/x-python",
   "name": "python",
   "nbconvert_exporter": "python",
   "pygments_lexer": "ipython3",
   "version": "3.12.4"
  },
  "toc": {
   "base_numbering": 1,
   "nav_menu": {},
   "number_sections": true,
   "sideBar": true,
   "skip_h1_title": true,
   "title_cell": "Table of Contents",
   "title_sidebar": "Contents",
   "toc_cell": false,
   "toc_position": {},
   "toc_section_display": true,
   "toc_window_display": false
  },
  "vscode": {
   "interpreter": {
    "hash": "01a7be9ec63e704a62cefc5fe7a4756944464ee731be31632bdf42a4cb4688cf"
   }
  }
 },
 "nbformat": 4,
 "nbformat_minor": 5
}
