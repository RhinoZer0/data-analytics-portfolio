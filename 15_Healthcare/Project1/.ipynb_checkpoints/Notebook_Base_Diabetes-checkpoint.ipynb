{
 "cells": [
  {
   "cell_type": "markdown",
   "id": "66eeceb4",
   "metadata": {},
   "source": [
    "# 🩺 Proyecto Diabetes — Notebook Base\n",
    "\n",
    "Este notebook incluye la estructura inicial para:\n",
    "\n",
    "- Importar datos\n",
    "- Explorar y visualizar indicadores clave\n",
    "- Preparar datos para modelado\n",
    "\n",
    "---"
   ]
  },
  {
   "cell_type": "code",
   "execution_count": null,
   "id": "8496b2a0",
   "metadata": {},
   "outputs": [],
   "source": [
    "import pandas as pd\n",
    "import numpy as np\n",
    "import matplotlib.pyplot as plt\n",
    "import seaborn as sns\n",
    "\n",
    "# Configuración de gráficos\n",
    "sns.set(style=\"whitegrid\")"
   ]
  },
  {
   "cell_type": "code",
   "execution_count": null,
   "id": "47a007a8",
   "metadata": {},
   "outputs": [],
   "source": [
    "# Cargar datos (actualizar ruta si es necesario)\n",
    "data = pd.read_csv('data/diabetes_health_indicators.csv')\n",
    "data.head()"
   ]
  },
  {
   "cell_type": "code",
   "execution_count": null,
   "id": "d89b82de",
   "metadata": {},
   "outputs": [],
   "source": [
    "# Información general\n",
    "data.info()\n",
    "data.describe()"
   ]
  },
  {
   "cell_type": "code",
   "execution_count": null,
   "id": "96a53da5",
   "metadata": {},
   "outputs": [],
   "source": [
    "# Conteo de valores nulos\n",
    "data.isnull().sum()"
   ]
  },
  {
   "cell_type": "code",
   "execution_count": null,
   "id": "27c49716",
   "metadata": {},
   "outputs": [],
   "source": [
    "# Ejemplo de gráfico: distribución de IMC\n",
    "plt.figure(figsize=(8,5))\n",
    "sns.histplot(data['BMI'], bins=30, kde=True)\n",
    "plt.title('Distribución de IMC')\n",
    "plt.show()"
   ]
  }
 ],
 "metadata": {},
 "nbformat": 4,
 "nbformat_minor": 5
}
