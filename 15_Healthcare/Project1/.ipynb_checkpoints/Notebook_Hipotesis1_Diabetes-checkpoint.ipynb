{
 "cells": [
  {
   "cell_type": "markdown",
   "id": "e43fb23e",
   "metadata": {},
   "source": [
    "# 🧪 Prueba de Hipótesis 1: IMC promedio en grupos con y sin diabetes\n",
    "\n",
    "**Objetivo:** Verificar si el IMC promedio difiere significativamente entre personas diagnosticadas con diabetes y quienes no."
   ]
  },
  {
   "cell_type": "code",
   "execution_count": null,
   "id": "e7f5f556",
   "metadata": {},
   "outputs": [],
   "source": [
    "import pandas as pd\n",
    "import numpy as np\n",
    "import matplotlib.pyplot as plt\n",
    "import seaborn as sns\n",
    "from scipy import stats\n",
    "\n",
    "sns.set(style=\"whitegrid\")"
   ]
  },
  {
   "cell_type": "code",
   "execution_count": null,
   "id": "d93f544e",
   "metadata": {},
   "outputs": [],
   "source": [
    "# Cargar datos\n",
    "data = pd.read_csv('data/diabetes_health_indicators.csv')\n",
    "data.head()"
   ]
  },
  {
   "cell_type": "code",
   "execution_count": null,
   "id": "726fec18",
   "metadata": {},
   "outputs": [],
   "source": [
    "# Revisar columnas y verificar variable objetivo y variable IMC\n",
    "data.columns"
   ]
  },
  {
   "cell_type": "code",
   "execution_count": null,
   "id": "5cdcfb53",
   "metadata": {},
   "outputs": [],
   "source": [
    "# Separar grupos\n",
    "diabetes_yes = data[data['Diabetes_012'] == 1]['BMI']\n",
    "diabetes_no = data[data['Diabetes_012'] == 0]['BMI']\n",
    "\n",
    "print(f\"N con diabetes: {len(diabetes_yes)}\")\n",
    "print(f\"N sin diabetes: {len(diabetes_no)}\")"
   ]
  },
  {
   "cell_type": "code",
   "execution_count": null,
   "id": "38e239eb",
   "metadata": {},
   "outputs": [],
   "source": [
    "# Visualización: Boxplot\n",
    "plt.figure(figsize=(8,5))\n",
    "sns.boxplot(x=data['Diabetes_012'], y=data['BMI'])\n",
    "plt.xticks([0,1], ['Sin Diabetes', 'Con Diabetes'])\n",
    "plt.title('Distribución de IMC por grupo')\n",
    "plt.show()"
   ]
  },
  {
   "cell_type": "code",
   "execution_count": null,
   "id": "82f3f59b",
   "metadata": {},
   "outputs": [],
   "source": [
    "# Prueba de normalidad\n",
    "_, p_yes = stats.shapiro(diabetes_yes.sample(500, random_state=42))\n",
    "_, p_no = stats.shapiro(diabetes_no.sample(500, random_state=42))\n",
    "\n",
    "print(f\"p-valor normalidad (con diabetes): {p_yes:.4f}\")\n",
    "print(f\"p-valor normalidad (sin diabetes): {p_no:.4f}\")"
   ]
  },
  {
   "cell_type": "code",
   "execution_count": null,
   "id": "5ba1ab94",
   "metadata": {},
   "outputs": [],
   "source": [
    "# Prueba de hipótesis: Test t de muestras independientes (varianzas iguales=False)\n",
    "t_stat, p_val = stats.ttest_ind(diabetes_yes, diabetes_no, equal_var=False)\n",
    "print(f\"Estadístico t: {t_stat:.4f}\")\n",
    "print(f\"p-valor: {p_val:.4f}\")\n",
    "\n",
    "if p_val < 0.05:\n",
    "    print(\"Se rechaza H0: Hay diferencia significativa en IMC promedio.\")\n",
    "else:\n",
    "    print(\"No se rechaza H0: No hay evidencia de diferencia significativa.\")"
   ]
  }
 ],
 "metadata": {},
 "nbformat": 4,
 "nbformat_minor": 5
}
