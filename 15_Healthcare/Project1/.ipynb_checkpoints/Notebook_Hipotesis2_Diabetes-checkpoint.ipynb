{
 "cells": [
  {
   "cell_type": "markdown",
   "id": "44096f3b",
   "metadata": {},
   "source": [
    "# 🧪 Prueba de Hipótesis 2: Proporción de Actividad Física\n",
    "\n",
    "**Objetivo:** Verificar si la proporción de personas que realizan actividad física difiere significativamente entre quienes tienen diagnóstico de diabetes y quienes no."
   ]
  },
  {
   "cell_type": "code",
   "execution_count": null,
   "id": "011c2170",
   "metadata": {},
   "outputs": [],
   "source": [
    "import pandas as pd\n",
    "import numpy as np\n",
    "import matplotlib.pyplot as plt\n",
    "import seaborn as sns\n",
    "from scipy.stats import chi2_contingency\n",
    "\n",
    "sns.set(style=\"whitegrid\")"
   ]
  },
  {
   "cell_type": "code",
   "execution_count": null,
   "id": "0ecd1f5c",
   "metadata": {},
   "outputs": [],
   "source": [
    "# Cargar datos\n",
    "data = pd.read_csv('data/diabetes_health_indicators.csv')\n",
    "data.head()"
   ]
  },
  {
   "cell_type": "code",
   "execution_count": null,
   "id": "fb21e881",
   "metadata": {},
   "outputs": [],
   "source": [
    "# Revisar columnas para identificar la variable de actividad física\n",
    "data.columns"
   ]
  },
  {
   "cell_type": "code",
   "execution_count": null,
   "id": "10b34a25",
   "metadata": {},
   "outputs": [],
   "source": [
    "# Construir tabla de contingencia\n",
    "# Se asume que la columna se llama 'PhysActivity'\n",
    "contingency = pd.crosstab(data['Diabetes_012'], data['PhysActivity'])\n",
    "print(contingency)"
   ]
  },
  {
   "cell_type": "code",
   "execution_count": null,
   "id": "7e8bb610",
   "metadata": {},
   "outputs": [],
   "source": [
    "# Visualización de proporciones\n",
    "contingency_norm = contingency.div(contingency.sum(axis=1), axis=0)\n",
    "contingency_norm.plot(kind='bar', stacked=True)\n",
    "plt.xticks([0,1], ['Sin Diabetes', 'Con Diabetes'], rotation=0)\n",
    "plt.title('Proporción de Actividad Física por Grupo')\n",
    "plt.ylabel('Proporción')\n",
    "plt.show()"
   ]
  },
  {
   "cell_type": "code",
   "execution_count": null,
   "id": "3a7b6a1f",
   "metadata": {},
   "outputs": [],
   "source": [
    "# Prueba de chi-cuadrado\n",
    "chi2, p, dof, expected = chi2_contingency(contingency)\n",
    "\n",
    "print(f\"Estadístico chi-cuadrado: {chi2:.4f}\")\n",
    "print(f\"p-valor: {p:.4f}\")\n",
    "\n",
    "if p < 0.05:\n",
    "    print(\"Se rechaza H0: Hay diferencia significativa en la proporción de actividad física.\")\n",
    "else:\n",
    "    print(\"No se rechaza H0: No hay evidencia de diferencia significativa.\")"
   ]
  }
 ],
 "metadata": {},
 "nbformat": 4,
 "nbformat_minor": 5
}
