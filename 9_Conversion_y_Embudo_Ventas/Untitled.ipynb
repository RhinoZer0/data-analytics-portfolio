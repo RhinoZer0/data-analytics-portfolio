{
 "cells": [
  {
   "cell_type": "code",
   "execution_count": null,
   "id": "402ecf69-aae9-4987-a568-53a287d158bc",
   "metadata": {},
   "outputs": [],
   "source": [
    "7:35 pm Análisis de cohortes\n",
    "1. Buscar cuándo fue la primera visita de cada usuario\n",
    "   primeras_visitas = visitas.groupby('uid')['start_ts'].min().reset_index()\n",
    "   primeras_visitas.columns=['uid','inicio_ts_primera_sesion']\n",
    "   primeras_visitas['primera_sesion_dia']=primeras_visitas['inicio_ts_primera_sesion'].dt.date\n",
    "   primeras_visitas['primera_sesion_mes']=primeras_visitas['inicio_ts_primera_sesion'].dt.month\n",
    "2. Tabla de visitas completa\n",
    "   visitas_full = pd.merge(visitas_raw,primeras_visitas,how='inner',on='uid')\n",
    "3. Calcular la edad que ha pasado desde la primera visita hasta la visita actual (primera visita contra fecha actual de visita)\n",
    "4. Hay que obtener el primer día de cada mes de la columna inicio_ts_primera_sesion\n",
    "    primeras_visitas['primera_sesion_mes'] = primeras_visitas['inicio_ts_primera_sesion'].apply(lambda fecha: pd.to_datetime(fecha.strftime('%Y-%m-01')))\n",
    "5. Calcular la edad en meses\n",
    "   visitas_full['edad_meses'] = (visitas_full['sesion_mes'] - visitas_full['primera_sesion_mes'])\n",
    "6. Calcular el número de visitas de cada usuario en el tiempo\n",
    "    visitas_full['edad_meses'] = ((visitas_full['sesion_mes'] - visitas_full['primera_sesion_mes']) / (30 * np.timedelta64(1,'D'))).round().astype('int64')\n",
    "7. Crear las cohortes\n",
    "    cohortes = visitas_full.pivot_table(\n",
    "                            index='primera_sesion_mes',\n",
    "                            columns='edad_meses',\n",
    "                            values='uid',\n",
    "                            aggfunc='nunique')\n",
    " cohortes.fillna('')\n",
    "****** Cantidad de visitantes es una métrica. La retención es un KPI\n",
    "8. Calcular la retención\n",
    "    retencion = pd.DataFrame() #Dataframe vacío\n",
    "    for edad_mes in cohortes.columns:\n",
    "        retencion = pd.concat([retencion,cohortes[edad_mes]/cohortes[0],axis=1)\n",
    "    retencion.columns = cohortes.columns\n",
    "    retencion.index = [str(fecha)[:10]for fecha in retencion.index]\n",
    "    retencion\n",
    "9. Graficas\n",
    "    plt.figure(figsize=(13,9))\n",
    "    sns.heatmap(retencion,annot=True,fmt='.1%',linewidht=1,linecolor='grey',vmax=0.1,cbar_kws={'orientation':'horizontal'})"
   ]
  },
  {
   "cell_type": "markdown",
   "id": "6547ed2f-c67a-42b6-96ea-f02964a2f25b",
   "metadata": {},
   "source": [
    "CUANDO EMPIEZA LA GENTE A COMPRAR"
   ]
  },
  {
   "cell_type": "code",
   "execution_count": null,
   "id": "761d2ce8-71a4-42eb-9e2c-837243844d74",
   "metadata": {},
   "outputs": [],
   "source": [
    "ordenes_raw.head()\n",
    "ordenes_raw['dia_compra'] = ordenes_raw['buy_ts'].dt.date\n",
    "ordenes_raw['mes_compra'] = ordenes_raw['buy_ts'].apply(lambda fecha: pd.to_datetime(fecha.strftime('%Y-%m-01')))\n",
    "primeras_compras = ordenes_raw.groupby('uid')['mes_compra'].min().reset_index()\n",
    "primeras_compras.columns=['uid','primera_compra_mes']\n",
    "primeras_compras['primera_compra_dia'] = primeras_compras['primera_compra_ts'].dt.date\n",
    "primeras_compras['primera_compra_mes'] = primeras_compras['primera_compra_dia'].apply(lambda fecha: pd.to_datetime(fecha.strftime('%Y-%m-01')))\n",
    "compradores = pd.merge(primeras_visitas,primeras_compras,how='inner',on='uid')\n",
    "compradores['dias_a_la_primera_compra'] =  (compradores['primera_compra_ts']-comrpadores['inicio_ts_primera_sesion']) / np.timedelta64(1,'D').astype('int')\n",
    "compradores['dias_a_la_primera_compra'].plot(kind='hist',bins=100,figsize=(12,7)).set(title='Dias desde la primera visita a la compra',xlabel='Dias',ylabel='frecuencia')\n",
    "plt.show()\n",
    "\n",
    "Obtener el tamaño de las cohortes\n",
    "tamano_cohortes = compradores.groupby('primera_compra_mes')['uid'].nunique().reset_index() #Con cuantos compradores inición cada cohorte\n",
    "tamano_cohortes.columns=['primera_compra_mes','total_compradores']\n",
    "\n",
    "Obtener las cohortes\n",
    "cohortes = pd.merge(ordenes_raw,compradores,how='inner',on='uid').groupby(['primera_compra_mes','orden_mes']).agg({'revenue':'count'}).reset_index() #SI AL REVENUE SE LE HACE SUM SE OBTIENE EL TOTAL DE DINERO POR COHORTE\n",
    "#LTV. Número de órdenes por usuario. Costo promedio de las órdenes. \n",
    "cohortes['edad_mes'] = ((cohortes['mes_compra']-cohortes['primera_compra_mes']) / (30 *np.timedelta64(1,'D'))).round().astype('int')\n",
    "cohortes.columns=['primer_compra_mes','mes_compra','n_ordenes','edad_mes']\n",
    "cohortes_reporte = pd.merge(tamano_cohortes,cohortes,how='inner',on='primera_compra_mes')\n",
    "\n",
    "#Metrica de ordenes por comprador\n",
    "cohortes_reporte['ordenes_por_comprador'] = cohortes_reporte['num_ordenes']/cohortes_reporte['total_compradores']\n",
    "\n",
    "#Tabla pivote para LTV\n",
    "cohortes_ltv = cohortes_reporte.pivot_table(\n",
    "                                index='primera_compra_mes',\n",
    "                                columns='edad_mes',\n",
    "                                values='ordenes_por_comprador',\n",
    "                                aggfunc='sum'\n",
    ") #Muestra el número de órdenes por comprador a través del tiempo\n",
    "\n",
    "cohortes_ltv = cohortes_reporte.pivot_table(\n",
    "                                index='primera_compra_mes',\n",
    "                                columns='edad_mes',\n",
    "                                values='ordenes_por_comprador',\n",
    "                                aggfunc='sum'\n",
    ").cumsum() #Muestra el número de órdenes por comprador acumulada a través del tiempo\n",
    "\n",
    "cohortes_ltv.round(2).fillna(0)\n",
    "cohortes_ltv.index = cohortes_ltv.index.astype(str)\n",
    "plt.figure(figsize=(13,9))\n",
    "sns.heatmap(cohortes_ltv,annot=True,fmt='.2f',linewidth=1,linecolor='grey',cbar_kws={'orientation':'horizontal'})\n",
    "plt.show()"
   ]
  },
  {
   "cell_type": "code",
   "execution_count": null,
   "id": "82ba5a61-2071-4600-b98b-5cd3d41c33ad",
   "metadata": {},
   "outputs": [],
   "source": []
  },
  {
   "cell_type": "code",
   "execution_count": null,
   "id": "c25e33b7-b0fe-46d2-9c36-2db8284521c3",
   "metadata": {},
   "outputs": [],
   "source": [
    "#Determinar la primera compra de cada usuario único\n",
    "first_buy = clean_orders.groupby('uid')['buy_ts'].min()\n",
    "#Cambio el nombre de la columna\n",
    "first_buy.name = 'first_buy_date'\n",
    "print(first_buy)\n",
    "\n",
    "#Crear un nuevo dataframe para este análisis\n",
    "first_buy_df = clean_visits[['uid','source_id','first_visit_date']].copy()\n",
    "\n",
    "#Uno ambas tablas por la izquierda buscando por uid\n",
    "first_buy_df = first_buy_df.join(first_buy,on='uid')\n",
    "display(first_buy_df)\n",
    "\n",
    "#Elimino registros con valores ausentes en la columna first_buy_date\n",
    "first_buy_df = first_buy_df.dropna(subset=['first_buy_date'])\n",
    "display(first_buy_df)\n",
    "\n",
    "#Calculo el número de días trascurridos entre la primera visita y la primera compra\n",
    "first_buy_df['conversion_time'] = (first_buy_df['first_buy_date'] - first_buy_df['first_visit_date']).dt.days\n",
    "\n",
    "display(first_buy_df)\n",
    "display(first_buy_df.dtypes)\n",
    "\n",
    "def categorize(days):\n",
    "    if days == 0:\n",
    "        return '0 days'\n",
    "    elif days == 1:\n",
    "        return '1 day'\n",
    "    elif days >= 2 and days <=60:\n",
    "        return '(2-60) days'    \n",
    "    elif days >= 61 and days <=10:\n",
    "        return '(61-120) days'    \n",
    "    elif days >= 121 and days <=180:\n",
    "        return '(121-180) days'    \n",
    "    elif days >= 181 and days <=240:\n",
    "        return '(181-210) days'    \n",
    "    elif days >= 241 and days <=300:\n",
    "        return '(241-300) days'    \n",
    "    else:\n",
    "        return '(301-364) days'\n",
    "\n",
    "# Aplicar la función a la columna\n",
    "first_buy_df['conversion_category'] = first_buy_df['conversion_time'].apply(categorize)\n",
    "\n",
    "display(first_buy_df)\n",
    "\n",
    "# first_buy_df['first_buy_day'] = first_buy_df['first_buy_date'].dt.date\n",
    "# first_buy_df['first_buy_month'] = first_buy_df['first_buy_date'].dt.month\n",
    "# first_buy_df['first_visit_month'] = first_buy_df['first_visit_date'].dt.month\n",
    "# display(first_buy_df)\n",
    "# first_buy_df.loc[mask,'conversion_time_months'] = (first_buy_df.loc[mask,'first_buy_month'] - first_buy_df.loc[mask,'first_visit_month']).astype('Int64')\n",
    "# display(first_buy_df)\n",
    "# display(first_buy_df.dtypes)"
   ]
  },
  {
   "cell_type": "code",
   "execution_count": null,
   "id": "6b81d716-6752-499a-8bd2-fd348743b7ae",
   "metadata": {},
   "outputs": [],
   "source": [
    "conversion_distribution = first_buy_df['conversion_category'].value_counts().reset_index()\n",
    "conversion_distribution.columns = ['conversion_category','count']\n",
    "display(conversion_distribution)\n",
    "# cohort_grouped = first_buy_df.groupby('conversion_time').agg({'uid':'nunique'}).reset_index()\n",
    "# display(cohort_grouped)\n",
    "# cohort_grouped.hist(column='conversion_time',bins=50)"
   ]
  },
  {
   "cell_type": "markdown",
   "id": "a24ba567-91af-4554-ac23-2d4431cc5842",
   "metadata": {},
   "source": [
    "pedidos hechos durante un periodo de tiempo"
   ]
  },
  {
   "cell_type": "code",
   "execution_count": null,
   "id": "df63d557-86a9-42aa-b38a-fefdc3ab97df",
   "metadata": {},
   "outputs": [],
   "source": [
    "#Copiar el dataframe con fechas de primera visita y primera compra.\n",
    "visits_orders = pd.merge(clean_visits,clean_orders,on='uid',how='left')\n",
    "visits_orders_clean = visits_orders.loc[:, ['uid','end_ts','start_ts','buy_ts']]\n",
    "# display(visits_orders_clean)\n",
    "visits_orders_notna = visits_orders_clean.copy()\n",
    "visits_orders_notna = visits_orders_notna.dropna(subset=['buy_ts']).reset_index(drop=True)\n",
    "display(visits_orders_notna)"
   ]
  },
  {
   "cell_type": "code",
   "execution_count": null,
   "id": "0083e09e-0c1c-4848-9cc9-31254f3b380e",
   "metadata": {},
   "outputs": [],
   "source": [
    "visits_orders_schedule = visits_orders_notna.copy()\n",
    "\n",
    "first_buy = visits_orders_schedule.groupby('uid')['buy_ts'].min().reset_index()\n",
    "first_buy.columns = ['uid','first_buy']\n",
    "display(first_buy)"
   ]
  },
  {
   "cell_type": "code",
   "execution_count": null,
   "id": "fd40c986-2896-4e1b-a779-3e4e24aeb3d3",
   "metadata": {},
   "outputs": [],
   "source": [
    "buy_dates = pd.merge(visits_orders_schedule,first_buy,on='uid',how='left')\n",
    "display(buy_dates)"
   ]
  },
  {
   "cell_type": "code",
   "execution_count": null,
   "id": "15a92933-423f-41d1-9f97-d911c419bc39",
   "metadata": {},
   "outputs": [],
   "source": [
    "buys_per_month = buy_dates.copy()\n",
    "buys_per_month['buy_ts'] = pd.to_datetime(buys_per_month['buy_ts'])\n",
    "buys_per_month['first_buy'] = pd.to_datetime(buys_per_month['first_buy'])\n",
    "buys_per_month['buy_ts_month'] = buys_per_month['buy_ts'].dt.to_period('M')\n",
    "buys_per_month['first_buy_month'] = buys_per_month['first_buy'].dt.to_period('M')\n",
    "display(buys_per_month)"
   ]
  },
  {
   "cell_type": "code",
   "execution_count": null,
   "id": "23f817bd-3125-43ac-9560-5a17194c9e59",
   "metadata": {},
   "outputs": [],
   "source": [
    "buys_cohort = buys_per_month.copy()\n",
    "\n",
    "buys_cohort['lifetime'] = (buys_cohort['buy_ts_month'] - buys_cohort['first_buy_month']).apply(lambda x: x.n)\n",
    "\n",
    "display(buys_cohort)\n",
    "\n",
    "#Número de pedidos por mes\n",
    "orders_cohort = buys_cohort.groupby(['first_buy_month','lifetime']).agg({'uid':'count'}).reset_index()\n",
    "display(orders_cohort)"
   ]
  },
  {
   "cell_type": "code",
   "execution_count": null,
   "id": "19874403-70fd-44e3-917f-ae10e8bffce2",
   "metadata": {},
   "outputs": [],
   "source": [
    "orders_cohort.rename(columns={'uid':'orders_count'},inplace=True)\n",
    "display(orders_cohort)"
   ]
  },
  {
   "cell_type": "code",
   "execution_count": null,
   "id": "da7b7880-c1f5-4b7c-8238-ddb2c9e088c3",
   "metadata": {},
   "outputs": [],
   "source": [
    "#Tabla dinámica para cohortes\n",
    "orders_cohort_pivot = orders_cohort.pivot_table(index='first_buy_month',\n",
    "                                                columns='lifetime',\n",
    "                                                values='orders_count',\n",
    "                                                aggfunc='sum')\n",
    "display(orders_cohort_pivot.fillna('-'))"
   ]
  },
  {
   "cell_type": "code",
   "execution_count": null,
   "id": "96596b33-5294-4597-89af-12837158256b",
   "metadata": {},
   "outputs": [],
   "source": []
  }
 ],
 "metadata": {
  "kernelspec": {
   "display_name": "Python 3 (ipykernel)",
   "language": "python",
   "name": "python3"
  },
  "language_info": {
   "codemirror_mode": {
    "name": "ipython",
    "version": 3
   },
   "file_extension": ".py",
   "mimetype": "text/x-python",
   "name": "python",
   "nbconvert_exporter": "python",
   "pygments_lexer": "ipython3",
   "version": "3.12.4"
  }
 },
 "nbformat": 4,
 "nbformat_minor": 5
}
