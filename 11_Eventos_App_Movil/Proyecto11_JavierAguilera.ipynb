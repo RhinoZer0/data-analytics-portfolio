{
 "cells": [
  {
   "cell_type": "code",
   "execution_count": 1,
   "id": "45f71084-ca03-4699-9fe8-78fdbe46a9f3",
   "metadata": {},
   "outputs": [],
   "source": [
    "#Importar las librerías necesarias\n",
    "import pandas as pd\n",
    "import matplotlib as plt\n",
    "import matplotlib.pyplot as plt\n",
    "import numpy as np\n",
    "from scipy import stats as st\n",
    "import seaborn as sns\n",
    "from IPython.display import display_html\n",
    "from scipy import stats\n",
    "from scipy.stats import norm\n",
    "import datetime as dt"
   ]
  },
  {
   "cell_type": "markdown",
   "id": "3bfaa15e-5632-43db-a0f1-631ebb2eb4a6",
   "metadata": {},
   "source": [
    "# 1. ABRIR EL ARCHIVO DE DATOS Y LEER LA INFORMACIÓN GENERAL"
   ]
  },
  {
   "cell_type": "code",
   "execution_count": 2,
   "id": "00150f22-40d6-4425-943c-fe8196e72292",
   "metadata": {},
   "outputs": [],
   "source": [
    "#Leer las tablas originales\n",
    "raw_logs = pd.read_csv('datasets/logs_exp_us.csv', sep='\\t')"
   ]
  },
  {
   "cell_type": "code",
   "execution_count": 3,
   "id": "91a72fe9-220c-4f1b-a5c4-5b89d6646e45",
   "metadata": {},
   "outputs": [],
   "source": [
    "#Crear función para primer vistazo de los datos\n",
    "def first_lookup (dataframe):\n",
    "    print('-----Dataframe information-----')\n",
    "    display(dataframe.info())\n",
    "    print('\\n-----Statistics-----\\n')\n",
    "    display(dataframe.describe())\n",
    "    print('\\n-----Duplicates-----\\n')\n",
    "    print(dataframe.duplicated().sum())\n",
    "    print('\\n-----Empty values-----\\n')\n",
    "    print(dataframe.isna().sum())\n",
    "    print('\\n-----Head rows-----\\n')\n",
    "    display(dataframe.head(10))    "
   ]
  },
  {
   "cell_type": "code",
   "execution_count": 4,
   "id": "1664ceb9-dd5b-4578-b349-da97e5a04c34",
   "metadata": {},
   "outputs": [
    {
     "name": "stdout",
     "output_type": "stream",
     "text": [
      "-----Dataframe information-----\n",
      "<class 'pandas.core.frame.DataFrame'>\n",
      "RangeIndex: 244126 entries, 0 to 244125\n",
      "Data columns (total 4 columns):\n",
      " #   Column          Non-Null Count   Dtype \n",
      "---  ------          --------------   ----- \n",
      " 0   EventName       244126 non-null  object\n",
      " 1   DeviceIDHash    244126 non-null  int64 \n",
      " 2   EventTimestamp  244126 non-null  int64 \n",
      " 3   ExpId           244126 non-null  int64 \n",
      "dtypes: int64(3), object(1)\n",
      "memory usage: 7.5+ MB\n"
     ]
    },
    {
     "data": {
      "text/plain": [
       "None"
      ]
     },
     "metadata": {},
     "output_type": "display_data"
    },
    {
     "name": "stdout",
     "output_type": "stream",
     "text": [
      "\n",
      "-----Statistics-----\n",
      "\n"
     ]
    },
    {
     "data": {
      "text/html": [
       "<div>\n",
       "<style scoped>\n",
       "    .dataframe tbody tr th:only-of-type {\n",
       "        vertical-align: middle;\n",
       "    }\n",
       "\n",
       "    .dataframe tbody tr th {\n",
       "        vertical-align: top;\n",
       "    }\n",
       "\n",
       "    .dataframe thead th {\n",
       "        text-align: right;\n",
       "    }\n",
       "</style>\n",
       "<table border=\"1\" class=\"dataframe\">\n",
       "  <thead>\n",
       "    <tr style=\"text-align: right;\">\n",
       "      <th></th>\n",
       "      <th>DeviceIDHash</th>\n",
       "      <th>EventTimestamp</th>\n",
       "      <th>ExpId</th>\n",
       "    </tr>\n",
       "  </thead>\n",
       "  <tbody>\n",
       "    <tr>\n",
       "      <th>count</th>\n",
       "      <td>2.441260e+05</td>\n",
       "      <td>2.441260e+05</td>\n",
       "      <td>244126.000000</td>\n",
       "    </tr>\n",
       "    <tr>\n",
       "      <th>mean</th>\n",
       "      <td>4.627568e+18</td>\n",
       "      <td>1.564914e+09</td>\n",
       "      <td>247.022296</td>\n",
       "    </tr>\n",
       "    <tr>\n",
       "      <th>std</th>\n",
       "      <td>2.642425e+18</td>\n",
       "      <td>1.771343e+05</td>\n",
       "      <td>0.824434</td>\n",
       "    </tr>\n",
       "    <tr>\n",
       "      <th>min</th>\n",
       "      <td>6.888747e+15</td>\n",
       "      <td>1.564030e+09</td>\n",
       "      <td>246.000000</td>\n",
       "    </tr>\n",
       "    <tr>\n",
       "      <th>25%</th>\n",
       "      <td>2.372212e+18</td>\n",
       "      <td>1.564757e+09</td>\n",
       "      <td>246.000000</td>\n",
       "    </tr>\n",
       "    <tr>\n",
       "      <th>50%</th>\n",
       "      <td>4.623192e+18</td>\n",
       "      <td>1.564919e+09</td>\n",
       "      <td>247.000000</td>\n",
       "    </tr>\n",
       "    <tr>\n",
       "      <th>75%</th>\n",
       "      <td>6.932517e+18</td>\n",
       "      <td>1.565075e+09</td>\n",
       "      <td>248.000000</td>\n",
       "    </tr>\n",
       "    <tr>\n",
       "      <th>max</th>\n",
       "      <td>9.222603e+18</td>\n",
       "      <td>1.565213e+09</td>\n",
       "      <td>248.000000</td>\n",
       "    </tr>\n",
       "  </tbody>\n",
       "</table>\n",
       "</div>"
      ],
      "text/plain": [
       "       DeviceIDHash  EventTimestamp          ExpId\n",
       "count  2.441260e+05    2.441260e+05  244126.000000\n",
       "mean   4.627568e+18    1.564914e+09     247.022296\n",
       "std    2.642425e+18    1.771343e+05       0.824434\n",
       "min    6.888747e+15    1.564030e+09     246.000000\n",
       "25%    2.372212e+18    1.564757e+09     246.000000\n",
       "50%    4.623192e+18    1.564919e+09     247.000000\n",
       "75%    6.932517e+18    1.565075e+09     248.000000\n",
       "max    9.222603e+18    1.565213e+09     248.000000"
      ]
     },
     "metadata": {},
     "output_type": "display_data"
    },
    {
     "name": "stdout",
     "output_type": "stream",
     "text": [
      "\n",
      "-----Duplicates-----\n",
      "\n",
      "413\n",
      "\n",
      "-----Empty values-----\n",
      "\n",
      "EventName         0\n",
      "DeviceIDHash      0\n",
      "EventTimestamp    0\n",
      "ExpId             0\n",
      "dtype: int64\n",
      "\n",
      "-----Head rows-----\n",
      "\n"
     ]
    },
    {
     "data": {
      "text/html": [
       "<div>\n",
       "<style scoped>\n",
       "    .dataframe tbody tr th:only-of-type {\n",
       "        vertical-align: middle;\n",
       "    }\n",
       "\n",
       "    .dataframe tbody tr th {\n",
       "        vertical-align: top;\n",
       "    }\n",
       "\n",
       "    .dataframe thead th {\n",
       "        text-align: right;\n",
       "    }\n",
       "</style>\n",
       "<table border=\"1\" class=\"dataframe\">\n",
       "  <thead>\n",
       "    <tr style=\"text-align: right;\">\n",
       "      <th></th>\n",
       "      <th>EventName</th>\n",
       "      <th>DeviceIDHash</th>\n",
       "      <th>EventTimestamp</th>\n",
       "      <th>ExpId</th>\n",
       "    </tr>\n",
       "  </thead>\n",
       "  <tbody>\n",
       "    <tr>\n",
       "      <th>0</th>\n",
       "      <td>MainScreenAppear</td>\n",
       "      <td>4575588528974610257</td>\n",
       "      <td>1564029816</td>\n",
       "      <td>246</td>\n",
       "    </tr>\n",
       "    <tr>\n",
       "      <th>1</th>\n",
       "      <td>MainScreenAppear</td>\n",
       "      <td>7416695313311560658</td>\n",
       "      <td>1564053102</td>\n",
       "      <td>246</td>\n",
       "    </tr>\n",
       "    <tr>\n",
       "      <th>2</th>\n",
       "      <td>PaymentScreenSuccessful</td>\n",
       "      <td>3518123091307005509</td>\n",
       "      <td>1564054127</td>\n",
       "      <td>248</td>\n",
       "    </tr>\n",
       "    <tr>\n",
       "      <th>3</th>\n",
       "      <td>CartScreenAppear</td>\n",
       "      <td>3518123091307005509</td>\n",
       "      <td>1564054127</td>\n",
       "      <td>248</td>\n",
       "    </tr>\n",
       "    <tr>\n",
       "      <th>4</th>\n",
       "      <td>PaymentScreenSuccessful</td>\n",
       "      <td>6217807653094995999</td>\n",
       "      <td>1564055322</td>\n",
       "      <td>248</td>\n",
       "    </tr>\n",
       "    <tr>\n",
       "      <th>5</th>\n",
       "      <td>CartScreenAppear</td>\n",
       "      <td>6217807653094995999</td>\n",
       "      <td>1564055323</td>\n",
       "      <td>248</td>\n",
       "    </tr>\n",
       "    <tr>\n",
       "      <th>6</th>\n",
       "      <td>OffersScreenAppear</td>\n",
       "      <td>8351860793733343758</td>\n",
       "      <td>1564066242</td>\n",
       "      <td>246</td>\n",
       "    </tr>\n",
       "    <tr>\n",
       "      <th>7</th>\n",
       "      <td>MainScreenAppear</td>\n",
       "      <td>5682100281902512875</td>\n",
       "      <td>1564085677</td>\n",
       "      <td>246</td>\n",
       "    </tr>\n",
       "    <tr>\n",
       "      <th>8</th>\n",
       "      <td>MainScreenAppear</td>\n",
       "      <td>1850981295691852772</td>\n",
       "      <td>1564086702</td>\n",
       "      <td>247</td>\n",
       "    </tr>\n",
       "    <tr>\n",
       "      <th>9</th>\n",
       "      <td>MainScreenAppear</td>\n",
       "      <td>5407636962369102641</td>\n",
       "      <td>1564112112</td>\n",
       "      <td>246</td>\n",
       "    </tr>\n",
       "  </tbody>\n",
       "</table>\n",
       "</div>"
      ],
      "text/plain": [
       "                 EventName         DeviceIDHash  EventTimestamp  ExpId\n",
       "0         MainScreenAppear  4575588528974610257      1564029816    246\n",
       "1         MainScreenAppear  7416695313311560658      1564053102    246\n",
       "2  PaymentScreenSuccessful  3518123091307005509      1564054127    248\n",
       "3         CartScreenAppear  3518123091307005509      1564054127    248\n",
       "4  PaymentScreenSuccessful  6217807653094995999      1564055322    248\n",
       "5         CartScreenAppear  6217807653094995999      1564055323    248\n",
       "6       OffersScreenAppear  8351860793733343758      1564066242    246\n",
       "7         MainScreenAppear  5682100281902512875      1564085677    246\n",
       "8         MainScreenAppear  1850981295691852772      1564086702    247\n",
       "9         MainScreenAppear  5407636962369102641      1564112112    246"
      ]
     },
     "metadata": {},
     "output_type": "display_data"
    }
   ],
   "source": [
    "#Llamada a la función para primer vistazo de la tabla de hipótesis\n",
    "first_lookup(raw_logs)"
   ]
  },
  {
   "cell_type": "markdown",
   "id": "8bd306f1-83b8-4fa6-83d0-2b1fc08d5de3",
   "metadata": {},
   "source": [
    "# 2. PREPARAR LOS DATOS PARA EL ANÁLISIS"
   ]
  },
  {
   "cell_type": "code",
   "execution_count": 5,
   "id": "39b892f5-855d-4068-8da5-9941d21133a0",
   "metadata": {},
   "outputs": [],
   "source": [
    "#Crear copias de las tablas originales\n",
    "clean_logs = raw_logs.copy()"
   ]
  },
  {
   "cell_type": "code",
   "execution_count": 6,
   "id": "3b8b2010-ad02-450f-99b1-959306b9318a",
   "metadata": {},
   "outputs": [],
   "source": [
    "#Limpiar nombres de las columnas de todas las tablas\n",
    "clean_logs.columns = [columna.lower().replace(' ','_') for columna in clean_logs.columns]"
   ]
  },
  {
   "cell_type": "code",
   "execution_count": 7,
   "id": "6b9f982c-1b11-4ee7-b4ae-04ad05330401",
   "metadata": {},
   "outputs": [],
   "source": [
    "#Cambiar tipo de datos a las columnas donde aplique\n",
    "clean_logs['deviceidhash'].astype('string')\n",
    "clean_logs['expid'].astype('string')\n",
    "# clean_logs['eventtimestamp'].pd.to_numeric(clean_logs['eventtimestamp'])\n",
    "\n",
    "clean_logs['eventtimestamp'] = pd.to_datetime(clean_logs['eventtimestamp'],unit='s')\n",
    "\n",
    "#Agregar columna de fecha\n",
    "clean_logs['date'] = clean_logs['eventtimestamp'].dt.date"
   ]
  },
  {
   "cell_type": "code",
   "execution_count": 8,
   "id": "db29e399-67aa-4d53-aac4-69c8a9833c24",
   "metadata": {},
   "outputs": [
    {
     "data": {
      "text/html": [
       "<div>\n",
       "<style scoped>\n",
       "    .dataframe tbody tr th:only-of-type {\n",
       "        vertical-align: middle;\n",
       "    }\n",
       "\n",
       "    .dataframe tbody tr th {\n",
       "        vertical-align: top;\n",
       "    }\n",
       "\n",
       "    .dataframe thead th {\n",
       "        text-align: right;\n",
       "    }\n",
       "</style>\n",
       "<table border=\"1\" class=\"dataframe\">\n",
       "  <thead>\n",
       "    <tr style=\"text-align: right;\">\n",
       "      <th></th>\n",
       "      <th>eventname</th>\n",
       "      <th>deviceidhash</th>\n",
       "      <th>eventtimestamp</th>\n",
       "      <th>expid</th>\n",
       "      <th>date</th>\n",
       "    </tr>\n",
       "  </thead>\n",
       "  <tbody>\n",
       "    <tr>\n",
       "      <th>0</th>\n",
       "      <td>MainScreenAppear</td>\n",
       "      <td>4575588528974610257</td>\n",
       "      <td>2019-07-25 04:43:36</td>\n",
       "      <td>246</td>\n",
       "      <td>2019-07-25</td>\n",
       "    </tr>\n",
       "    <tr>\n",
       "      <th>1</th>\n",
       "      <td>MainScreenAppear</td>\n",
       "      <td>7416695313311560658</td>\n",
       "      <td>2019-07-25 11:11:42</td>\n",
       "      <td>246</td>\n",
       "      <td>2019-07-25</td>\n",
       "    </tr>\n",
       "    <tr>\n",
       "      <th>2</th>\n",
       "      <td>PaymentScreenSuccessful</td>\n",
       "      <td>3518123091307005509</td>\n",
       "      <td>2019-07-25 11:28:47</td>\n",
       "      <td>248</td>\n",
       "      <td>2019-07-25</td>\n",
       "    </tr>\n",
       "    <tr>\n",
       "      <th>3</th>\n",
       "      <td>CartScreenAppear</td>\n",
       "      <td>3518123091307005509</td>\n",
       "      <td>2019-07-25 11:28:47</td>\n",
       "      <td>248</td>\n",
       "      <td>2019-07-25</td>\n",
       "    </tr>\n",
       "    <tr>\n",
       "      <th>4</th>\n",
       "      <td>PaymentScreenSuccessful</td>\n",
       "      <td>6217807653094995999</td>\n",
       "      <td>2019-07-25 11:48:42</td>\n",
       "      <td>248</td>\n",
       "      <td>2019-07-25</td>\n",
       "    </tr>\n",
       "    <tr>\n",
       "      <th>...</th>\n",
       "      <td>...</td>\n",
       "      <td>...</td>\n",
       "      <td>...</td>\n",
       "      <td>...</td>\n",
       "      <td>...</td>\n",
       "    </tr>\n",
       "    <tr>\n",
       "      <th>244121</th>\n",
       "      <td>MainScreenAppear</td>\n",
       "      <td>4599628364049201812</td>\n",
       "      <td>2019-08-07 21:12:25</td>\n",
       "      <td>247</td>\n",
       "      <td>2019-08-07</td>\n",
       "    </tr>\n",
       "    <tr>\n",
       "      <th>244122</th>\n",
       "      <td>MainScreenAppear</td>\n",
       "      <td>5849806612437486590</td>\n",
       "      <td>2019-08-07 21:13:59</td>\n",
       "      <td>246</td>\n",
       "      <td>2019-08-07</td>\n",
       "    </tr>\n",
       "    <tr>\n",
       "      <th>244123</th>\n",
       "      <td>MainScreenAppear</td>\n",
       "      <td>5746969938801999050</td>\n",
       "      <td>2019-08-07 21:14:43</td>\n",
       "      <td>246</td>\n",
       "      <td>2019-08-07</td>\n",
       "    </tr>\n",
       "    <tr>\n",
       "      <th>244124</th>\n",
       "      <td>MainScreenAppear</td>\n",
       "      <td>5746969938801999050</td>\n",
       "      <td>2019-08-07 21:14:58</td>\n",
       "      <td>246</td>\n",
       "      <td>2019-08-07</td>\n",
       "    </tr>\n",
       "    <tr>\n",
       "      <th>244125</th>\n",
       "      <td>OffersScreenAppear</td>\n",
       "      <td>5746969938801999050</td>\n",
       "      <td>2019-08-07 21:15:17</td>\n",
       "      <td>246</td>\n",
       "      <td>2019-08-07</td>\n",
       "    </tr>\n",
       "  </tbody>\n",
       "</table>\n",
       "<p>244126 rows × 5 columns</p>\n",
       "</div>"
      ],
      "text/plain": [
       "                      eventname         deviceidhash      eventtimestamp  \\\n",
       "0              MainScreenAppear  4575588528974610257 2019-07-25 04:43:36   \n",
       "1              MainScreenAppear  7416695313311560658 2019-07-25 11:11:42   \n",
       "2       PaymentScreenSuccessful  3518123091307005509 2019-07-25 11:28:47   \n",
       "3              CartScreenAppear  3518123091307005509 2019-07-25 11:28:47   \n",
       "4       PaymentScreenSuccessful  6217807653094995999 2019-07-25 11:48:42   \n",
       "...                         ...                  ...                 ...   \n",
       "244121         MainScreenAppear  4599628364049201812 2019-08-07 21:12:25   \n",
       "244122         MainScreenAppear  5849806612437486590 2019-08-07 21:13:59   \n",
       "244123         MainScreenAppear  5746969938801999050 2019-08-07 21:14:43   \n",
       "244124         MainScreenAppear  5746969938801999050 2019-08-07 21:14:58   \n",
       "244125       OffersScreenAppear  5746969938801999050 2019-08-07 21:15:17   \n",
       "\n",
       "        expid        date  \n",
       "0         246  2019-07-25  \n",
       "1         246  2019-07-25  \n",
       "2         248  2019-07-25  \n",
       "3         248  2019-07-25  \n",
       "4         248  2019-07-25  \n",
       "...       ...         ...  \n",
       "244121    247  2019-08-07  \n",
       "244122    246  2019-08-07  \n",
       "244123    246  2019-08-07  \n",
       "244124    246  2019-08-07  \n",
       "244125    246  2019-08-07  \n",
       "\n",
       "[244126 rows x 5 columns]"
      ]
     },
     "metadata": {},
     "output_type": "display_data"
    }
   ],
   "source": [
    "display(clean_logs)"
   ]
  },
  {
   "cell_type": "code",
   "execution_count": 9,
   "id": "4c7b1b0c-9d72-4016-9337-0a7bb786bd16",
   "metadata": {},
   "outputs": [
    {
     "name": "stdout",
     "output_type": "stream",
     "text": [
      "Valores ausentes eventname         0\n",
      "deviceidhash      0\n",
      "eventtimestamp    0\n",
      "expid             0\n",
      "date              0\n",
      "dtype: int64\n",
      "\n",
      "Registros duplicados 413\n"
     ]
    }
   ],
   "source": [
    "#Buscar valores ausentes y registros duplicados\n",
    "print(f'Valores ausentes {clean_logs.isna().sum()}\\n')\n",
    "print(f'Registros duplicados {clean_logs.duplicated().sum()}')"
   ]
  },
  {
   "cell_type": "code",
   "execution_count": 10,
   "id": "8e037e59-d92a-4262-96ca-76b5c1024a40",
   "metadata": {},
   "outputs": [
    {
     "name": "stdout",
     "output_type": "stream",
     "text": [
      "Registros duplicados 0\n"
     ]
    }
   ],
   "source": [
    "#Eliminar registros duplicados\n",
    "clean_logs = clean_logs.drop_duplicates().reset_index(drop=True)\n",
    "print(f'Registros duplicados {clean_logs.duplicated().sum()}')"
   ]
  },
  {
   "cell_type": "code",
   "execution_count": 11,
   "id": "649bb61b-ac5b-4794-82b9-6d061112994c",
   "metadata": {},
   "outputs": [
    {
     "data": {
      "text/html": [
       "<div>\n",
       "<style scoped>\n",
       "    .dataframe tbody tr th:only-of-type {\n",
       "        vertical-align: middle;\n",
       "    }\n",
       "\n",
       "    .dataframe tbody tr th {\n",
       "        vertical-align: top;\n",
       "    }\n",
       "\n",
       "    .dataframe thead th {\n",
       "        text-align: right;\n",
       "    }\n",
       "</style>\n",
       "<table border=\"1\" class=\"dataframe\">\n",
       "  <thead>\n",
       "    <tr style=\"text-align: right;\">\n",
       "      <th></th>\n",
       "      <th>deviceidhash</th>\n",
       "      <th>expid</th>\n",
       "    </tr>\n",
       "  </thead>\n",
       "  <tbody>\n",
       "  </tbody>\n",
       "</table>\n",
       "</div>"
      ],
      "text/plain": [
       "Empty DataFrame\n",
       "Columns: [deviceidhash, expid]\n",
       "Index: []"
      ]
     },
     "metadata": {},
     "output_type": "display_data"
    },
    {
     "data": {
      "text/html": [
       "<div>\n",
       "<style scoped>\n",
       "    .dataframe tbody tr th:only-of-type {\n",
       "        vertical-align: middle;\n",
       "    }\n",
       "\n",
       "    .dataframe tbody tr th {\n",
       "        vertical-align: top;\n",
       "    }\n",
       "\n",
       "    .dataframe thead th {\n",
       "        text-align: right;\n",
       "    }\n",
       "</style>\n",
       "<table border=\"1\" class=\"dataframe\">\n",
       "  <thead>\n",
       "    <tr style=\"text-align: right;\">\n",
       "      <th></th>\n",
       "      <th>eventtimestamp</th>\n",
       "      <th>expid</th>\n",
       "    </tr>\n",
       "  </thead>\n",
       "  <tbody>\n",
       "    <tr>\n",
       "      <th>224</th>\n",
       "      <td>2019-07-29 11:30:15</td>\n",
       "      <td>2</td>\n",
       "    </tr>\n",
       "    <tr>\n",
       "      <th>952</th>\n",
       "      <td>2019-07-31 09:58:31</td>\n",
       "      <td>2</td>\n",
       "    </tr>\n",
       "    <tr>\n",
       "      <th>983</th>\n",
       "      <td>2019-07-31 10:17:22</td>\n",
       "      <td>2</td>\n",
       "    </tr>\n",
       "    <tr>\n",
       "      <th>1013</th>\n",
       "      <td>2019-07-31 10:40:25</td>\n",
       "      <td>2</td>\n",
       "    </tr>\n",
       "    <tr>\n",
       "      <th>1028</th>\n",
       "      <td>2019-07-31 10:46:37</td>\n",
       "      <td>2</td>\n",
       "    </tr>\n",
       "    <tr>\n",
       "      <th>...</th>\n",
       "      <td>...</td>\n",
       "      <td>...</td>\n",
       "    </tr>\n",
       "    <tr>\n",
       "      <th>176499</th>\n",
       "      <td>2019-08-07 20:50:43</td>\n",
       "      <td>2</td>\n",
       "    </tr>\n",
       "    <tr>\n",
       "      <th>176526</th>\n",
       "      <td>2019-08-07 20:53:30</td>\n",
       "      <td>2</td>\n",
       "    </tr>\n",
       "    <tr>\n",
       "      <th>176544</th>\n",
       "      <td>2019-08-07 20:55:23</td>\n",
       "      <td>2</td>\n",
       "    </tr>\n",
       "    <tr>\n",
       "      <th>176558</th>\n",
       "      <td>2019-08-07 20:56:53</td>\n",
       "      <td>2</td>\n",
       "    </tr>\n",
       "    <tr>\n",
       "      <th>176573</th>\n",
       "      <td>2019-08-07 20:58:22</td>\n",
       "      <td>2</td>\n",
       "    </tr>\n",
       "  </tbody>\n",
       "</table>\n",
       "<p>26061 rows × 2 columns</p>\n",
       "</div>"
      ],
      "text/plain": [
       "            eventtimestamp  expid\n",
       "224    2019-07-29 11:30:15      2\n",
       "952    2019-07-31 09:58:31      2\n",
       "983    2019-07-31 10:17:22      2\n",
       "1013   2019-07-31 10:40:25      2\n",
       "1028   2019-07-31 10:46:37      2\n",
       "...                    ...    ...\n",
       "176499 2019-08-07 20:50:43      2\n",
       "176526 2019-08-07 20:53:30      2\n",
       "176544 2019-08-07 20:55:23      2\n",
       "176558 2019-08-07 20:56:53      2\n",
       "176573 2019-08-07 20:58:22      2\n",
       "\n",
       "[26061 rows x 2 columns]"
      ]
     },
     "metadata": {},
     "output_type": "display_data"
    }
   ],
   "source": [
    "#Buscar duplicados de deviceidhash y eventtimestamp que pudieran aparecer en ambos grupos\n",
    "duplicated_devices = clean_logs.groupby('deviceidhash')['expid'].nunique().reset_index()\n",
    "display(duplicated_devices.query('expid>1'))\n",
    "duplicated_events = clean_logs.groupby('eventtimestamp')['expid'].nunique().reset_index()\n",
    "display(duplicated_events.query('expid>1'))"
   ]
  },
  {
   "cell_type": "markdown",
   "id": "4cc8f4fb-f625-4b8b-9ec5-120819a34862",
   "metadata": {},
   "source": [
    "### NOTA\n",
    "+ Los eventos duplicados corresponden a los grupos de control A/A"
   ]
  },
  {
   "cell_type": "markdown",
   "id": "afdd6717-2d9e-4c2e-9f16-485cdab3834c",
   "metadata": {},
   "source": [
    "# 3. ESTUDIAR Y COMPROBAR LOS DATOS"
   ]
  },
  {
   "cell_type": "markdown",
   "id": "4a7a5920-788f-4932-bf40-56c4010b9de9",
   "metadata": {},
   "source": [
    "## 3.1 ¿Cuántos eventos hay en los registros?"
   ]
  },
  {
   "cell_type": "code",
   "execution_count": 12,
   "id": "28902c02-d7a3-4da1-a700-5a2837484fe0",
   "metadata": {},
   "outputs": [
    {
     "name": "stdout",
     "output_type": "stream",
     "text": [
      "['MainScreenAppear', 'PaymentScreenSuccessful', 'CartScreenAppear', 'OffersScreenAppear', 'Tutorial']\n",
      "Número de eventos únicos 5\n",
      "Número de eventos registrados 243713\n"
     ]
    }
   ],
   "source": [
    "print(clean_logs['eventname'].unique().tolist())\n",
    "print(f'Número de eventos únicos {clean_logs['eventname'].nunique()}')\n",
    "print(f'Número de eventos registrados {clean_logs['eventname'].count()}')"
   ]
  },
  {
   "cell_type": "markdown",
   "id": "b1b6d877-d251-4477-a32c-edd231712fe3",
   "metadata": {},
   "source": [
    "## 3.2 ¿Cuántos usuarios hay en los registros?"
   ]
  },
  {
   "cell_type": "code",
   "execution_count": 13,
   "id": "f903e8f1-a6b4-47ff-9415-9d1f7ebeeba6",
   "metadata": {},
   "outputs": [
    {
     "name": "stdout",
     "output_type": "stream",
     "text": [
      " Número de usuarios únicos 7551\n"
     ]
    }
   ],
   "source": [
    "total_users = clean_logs['deviceidhash'].nunique()\n",
    "print(f' Número de usuarios únicos {total_users}')"
   ]
  },
  {
   "cell_type": "markdown",
   "id": "b4fcda3b-a3bb-4825-bec5-56bf2ff82da8",
   "metadata": {},
   "source": [
    "## 3.3 ¿Cuál es el promedio de eventos por usuario?"
   ]
  },
  {
   "cell_type": "code",
   "execution_count": 14,
   "id": "c9175851-489a-4686-91a5-47dd6de5b466",
   "metadata": {},
   "outputs": [
    {
     "name": "stdout",
     "output_type": "stream",
     "text": [
      "Promedio de eventos por usuario 32.27559263673685\n"
     ]
    }
   ],
   "source": [
    "print(f'Promedio de eventos por usuario {clean_logs['eventname'].count() / clean_logs['deviceidhash'].nunique()}')"
   ]
  },
  {
   "cell_type": "markdown",
   "id": "ec91c0e0-cd2d-4266-b4fa-5813ac82364f",
   "metadata": {},
   "source": [
    "## 3.4 ¿Qué periodo de tiempo cubren los datos?"
   ]
  },
  {
   "cell_type": "code",
   "execution_count": 15,
   "id": "f1f72cf3-e80c-4e02-80b4-3ffe6b4b1dff",
   "metadata": {},
   "outputs": [
    {
     "name": "stdout",
     "output_type": "stream",
     "text": [
      "Fecha mínima 2019-07-25 04:43:36\n",
      "Fecha máxima 2019-08-07 21:15:17\n"
     ]
    },
    {
     "data": {
      "image/png": "[encoded data removed]",
      "text/plain": [
       "<Figure size 2000x500 with 1 Axes>"
      ]
     },
     "metadata": {},
     "output_type": "display_data"
    }
   ],
   "source": [
    "#Encontrar fecha mínima y máxima y trazar histograma\n",
    "print(f'Fecha mínima {clean_logs['eventtimestamp'].min()}')\n",
    "print(f'Fecha máxima {clean_logs['eventtimestamp'].max()}')\n",
    "plt.figure(figsize=(20,5))\n",
    "clean_logs['eventtimestamp'].hist(bins=200)\n",
    "plt.show()"
   ]
  },
  {
   "cell_type": "markdown",
   "id": "ab1edb89-8ac0-4b62-94f5-f6a9c8c2e4b4",
   "metadata": {},
   "source": [
    "### NOTAS\n",
    "+ Existen registros desde el 25 de julio de 2019, sin embargo, el histograma muestra una actividad mayoritaria a partis del 1 de agosto de 2019.\n",
    "+ Para este análisis voy a tomar los datos a partir del 1 de agosto de 2019"
   ]
  },
  {
   "cell_type": "code",
   "execution_count": 16,
   "id": "2df75dbc-7003-48a5-8478-58f1943ec2f2",
   "metadata": {},
   "outputs": [
    {
     "name": "stdout",
     "output_type": "stream",
     "text": [
      "eventname         2826\n",
      "deviceidhash      2826\n",
      "eventtimestamp    2826\n",
      "expid             2826\n",
      "date              2826\n",
      "dtype: int64\n"
     ]
    },
    {
     "data": {
      "text/plain": [
       "eventname         1.16\n",
       "deviceidhash      1.16\n",
       "eventtimestamp    1.16\n",
       "expid             1.16\n",
       "date              1.16\n",
       "dtype: float64"
      ]
     },
     "execution_count": 16,
     "metadata": {},
     "output_type": "execute_result"
    }
   ],
   "source": [
    "#Contar el número de registros que existen antes del 1 de agosto de 2019\n",
    "print(clean_logs.query('eventtimestamp<\"2019-08-01\"').count())\n",
    "#Obtener el porcentaje de registros que se borrarían\n",
    "(clean_logs.query('eventtimestamp<\"2019-08-01\"').count()/clean_logs.count() * 100).round(2)"
   ]
  },
  {
   "cell_type": "markdown",
   "id": "12fc4c43-540a-4d0e-8e17-40633fb83418",
   "metadata": {},
   "source": [
    "### NOTA\n",
    "+ Los registros que existen antes del 1 de agosto de 2019 representan únicamente el 1.16% del total de los datos\n",
    "  "
   ]
  },
  {
   "cell_type": "code",
   "execution_count": 17,
   "id": "06c344d6-68a1-4d41-b565-e2ad0b3cf80b",
   "metadata": {},
   "outputs": [
    {
     "data": {
      "text/html": [
       "<div>\n",
       "<style scoped>\n",
       "    .dataframe tbody tr th:only-of-type {\n",
       "        vertical-align: middle;\n",
       "    }\n",
       "\n",
       "    .dataframe tbody tr th {\n",
       "        vertical-align: top;\n",
       "    }\n",
       "\n",
       "    .dataframe thead th {\n",
       "        text-align: right;\n",
       "    }\n",
       "</style>\n",
       "<table border=\"1\" class=\"dataframe\">\n",
       "  <thead>\n",
       "    <tr style=\"text-align: right;\">\n",
       "      <th></th>\n",
       "      <th>index</th>\n",
       "      <th>eventname</th>\n",
       "      <th>deviceidhash</th>\n",
       "      <th>eventtimestamp</th>\n",
       "      <th>expid</th>\n",
       "      <th>date</th>\n",
       "    </tr>\n",
       "  </thead>\n",
       "  <tbody>\n",
       "    <tr>\n",
       "      <th>0</th>\n",
       "      <td>2826</td>\n",
       "      <td>Tutorial</td>\n",
       "      <td>3737462046622621720</td>\n",
       "      <td>2019-08-01 00:07:28</td>\n",
       "      <td>246</td>\n",
       "      <td>2019-08-01</td>\n",
       "    </tr>\n",
       "    <tr>\n",
       "      <th>1</th>\n",
       "      <td>2827</td>\n",
       "      <td>MainScreenAppear</td>\n",
       "      <td>3737462046622621720</td>\n",
       "      <td>2019-08-01 00:08:00</td>\n",
       "      <td>246</td>\n",
       "      <td>2019-08-01</td>\n",
       "    </tr>\n",
       "    <tr>\n",
       "      <th>2</th>\n",
       "      <td>2828</td>\n",
       "      <td>MainScreenAppear</td>\n",
       "      <td>3737462046622621720</td>\n",
       "      <td>2019-08-01 00:08:55</td>\n",
       "      <td>246</td>\n",
       "      <td>2019-08-01</td>\n",
       "    </tr>\n",
       "    <tr>\n",
       "      <th>3</th>\n",
       "      <td>2829</td>\n",
       "      <td>OffersScreenAppear</td>\n",
       "      <td>3737462046622621720</td>\n",
       "      <td>2019-08-01 00:08:58</td>\n",
       "      <td>246</td>\n",
       "      <td>2019-08-01</td>\n",
       "    </tr>\n",
       "    <tr>\n",
       "      <th>4</th>\n",
       "      <td>2830</td>\n",
       "      <td>MainScreenAppear</td>\n",
       "      <td>1433840883824088890</td>\n",
       "      <td>2019-08-01 00:08:59</td>\n",
       "      <td>247</td>\n",
       "      <td>2019-08-01</td>\n",
       "    </tr>\n",
       "    <tr>\n",
       "      <th>...</th>\n",
       "      <td>...</td>\n",
       "      <td>...</td>\n",
       "      <td>...</td>\n",
       "      <td>...</td>\n",
       "      <td>...</td>\n",
       "      <td>...</td>\n",
       "    </tr>\n",
       "    <tr>\n",
       "      <th>240882</th>\n",
       "      <td>243708</td>\n",
       "      <td>MainScreenAppear</td>\n",
       "      <td>4599628364049201812</td>\n",
       "      <td>2019-08-07 21:12:25</td>\n",
       "      <td>247</td>\n",
       "      <td>2019-08-07</td>\n",
       "    </tr>\n",
       "    <tr>\n",
       "      <th>240883</th>\n",
       "      <td>243709</td>\n",
       "      <td>MainScreenAppear</td>\n",
       "      <td>5849806612437486590</td>\n",
       "      <td>2019-08-07 21:13:59</td>\n",
       "      <td>246</td>\n",
       "      <td>2019-08-07</td>\n",
       "    </tr>\n",
       "    <tr>\n",
       "      <th>240884</th>\n",
       "      <td>243710</td>\n",
       "      <td>MainScreenAppear</td>\n",
       "      <td>5746969938801999050</td>\n",
       "      <td>2019-08-07 21:14:43</td>\n",
       "      <td>246</td>\n",
       "      <td>2019-08-07</td>\n",
       "    </tr>\n",
       "    <tr>\n",
       "      <th>240885</th>\n",
       "      <td>243711</td>\n",
       "      <td>MainScreenAppear</td>\n",
       "      <td>5746969938801999050</td>\n",
       "      <td>2019-08-07 21:14:58</td>\n",
       "      <td>246</td>\n",
       "      <td>2019-08-07</td>\n",
       "    </tr>\n",
       "    <tr>\n",
       "      <th>240886</th>\n",
       "      <td>243712</td>\n",
       "      <td>OffersScreenAppear</td>\n",
       "      <td>5746969938801999050</td>\n",
       "      <td>2019-08-07 21:15:17</td>\n",
       "      <td>246</td>\n",
       "      <td>2019-08-07</td>\n",
       "    </tr>\n",
       "  </tbody>\n",
       "</table>\n",
       "<p>240887 rows × 6 columns</p>\n",
       "</div>"
      ],
      "text/plain": [
       "         index           eventname         deviceidhash      eventtimestamp  \\\n",
       "0         2826            Tutorial  3737462046622621720 2019-08-01 00:07:28   \n",
       "1         2827    MainScreenAppear  3737462046622621720 2019-08-01 00:08:00   \n",
       "2         2828    MainScreenAppear  3737462046622621720 2019-08-01 00:08:55   \n",
       "3         2829  OffersScreenAppear  3737462046622621720 2019-08-01 00:08:58   \n",
       "4         2830    MainScreenAppear  1433840883824088890 2019-08-01 00:08:59   \n",
       "...        ...                 ...                  ...                 ...   \n",
       "240882  243708    MainScreenAppear  4599628364049201812 2019-08-07 21:12:25   \n",
       "240883  243709    MainScreenAppear  5849806612437486590 2019-08-07 21:13:59   \n",
       "240884  243710    MainScreenAppear  5746969938801999050 2019-08-07 21:14:43   \n",
       "240885  243711    MainScreenAppear  5746969938801999050 2019-08-07 21:14:58   \n",
       "240886  243712  OffersScreenAppear  5746969938801999050 2019-08-07 21:15:17   \n",
       "\n",
       "        expid        date  \n",
       "0         246  2019-08-01  \n",
       "1         246  2019-08-01  \n",
       "2         246  2019-08-01  \n",
       "3         246  2019-08-01  \n",
       "4         247  2019-08-01  \n",
       "...       ...         ...  \n",
       "240882    247  2019-08-07  \n",
       "240883    246  2019-08-07  \n",
       "240884    246  2019-08-07  \n",
       "240885    246  2019-08-07  \n",
       "240886    246  2019-08-07  \n",
       "\n",
       "[240887 rows x 6 columns]"
      ]
     },
     "metadata": {},
     "output_type": "display_data"
    }
   ],
   "source": [
    "#Eliminar registros de antes del 1 de agosto de 2019\n",
    "clean_logs = clean_logs.query('eventtimestamp >= \"2019-08-01\"').reset_index()\n",
    "display(clean_logs)"
   ]
  },
  {
   "cell_type": "code",
   "execution_count": 18,
   "id": "b4caccf1-9a48-46e0-a05c-6854c03a9c8f",
   "metadata": {},
   "outputs": [
    {
     "data": {
      "image/png": "[encoded data removed]",
      "text/plain": [
       "<Figure size 2000x500 with 1 Axes>"
      ]
     },
     "metadata": {},
     "output_type": "display_data"
    }
   ],
   "source": [
    "plt.figure(figsize=(20,5))\n",
    "clean_logs['eventtimestamp'].hist(bins=300)\n",
    "plt.show()"
   ]
  },
  {
   "cell_type": "code",
   "execution_count": 19,
   "id": "ba7be046-de96-46ba-9e24-7b31451c4337",
   "metadata": {},
   "outputs": [
    {
     "data": {
      "text/plain": [
       "array([246, 247, 248], dtype=int64)"
      ]
     },
     "execution_count": 19,
     "metadata": {},
     "output_type": "execute_result"
    }
   ],
   "source": [
    "clean_logs['expid'].unique()"
   ]
  },
  {
   "cell_type": "markdown",
   "id": "e13c0938-3276-4e58-8bd4-425d47370343",
   "metadata": {},
   "source": [
    "# 4. ESTUDIAR EL EMBUDO DE EVENTOS"
   ]
  },
  {
   "cell_type": "markdown",
   "id": "d21ecd76-9a5b-4096-9b67-ef4347dfef8d",
   "metadata": {},
   "source": [
    "## 4.1 Observa qué eventos hay en los registros y su frecuencia de suceso. Ordénalos por frecuencia."
   ]
  },
  {
   "cell_type": "code",
   "execution_count": 20,
   "id": "8d9bed3e-adb2-4489-a05f-fb9af184dcc9",
   "metadata": {},
   "outputs": [
    {
     "data": {
      "text/plain": [
       "array(['Tutorial', 'MainScreenAppear', 'OffersScreenAppear',\n",
       "       'CartScreenAppear', 'PaymentScreenSuccessful'], dtype=object)"
      ]
     },
     "execution_count": 20,
     "metadata": {},
     "output_type": "execute_result"
    }
   ],
   "source": [
    "#Encontrar los eventos únicos\n",
    "clean_logs['eventname'].unique()"
   ]
  },
  {
   "cell_type": "code",
   "execution_count": 21,
   "id": "a36b530a-29f9-46a8-8027-b08ad56262cf",
   "metadata": {},
   "outputs": [
    {
     "data": {
      "text/html": [
       "<div>\n",
       "<style scoped>\n",
       "    .dataframe tbody tr th:only-of-type {\n",
       "        vertical-align: middle;\n",
       "    }\n",
       "\n",
       "    .dataframe tbody tr th {\n",
       "        vertical-align: top;\n",
       "    }\n",
       "\n",
       "    .dataframe thead th {\n",
       "        text-align: right;\n",
       "    }\n",
       "</style>\n",
       "<table border=\"1\" class=\"dataframe\">\n",
       "  <thead>\n",
       "    <tr style=\"text-align: right;\">\n",
       "      <th></th>\n",
       "      <th>frequency</th>\n",
       "    </tr>\n",
       "    <tr>\n",
       "      <th>eventname</th>\n",
       "      <th></th>\n",
       "    </tr>\n",
       "  </thead>\n",
       "  <tbody>\n",
       "    <tr>\n",
       "      <th>MainScreenAppear</th>\n",
       "      <td>117328</td>\n",
       "    </tr>\n",
       "    <tr>\n",
       "      <th>OffersScreenAppear</th>\n",
       "      <td>46333</td>\n",
       "    </tr>\n",
       "    <tr>\n",
       "      <th>CartScreenAppear</th>\n",
       "      <td>42303</td>\n",
       "    </tr>\n",
       "    <tr>\n",
       "      <th>PaymentScreenSuccessful</th>\n",
       "      <td>33918</td>\n",
       "    </tr>\n",
       "    <tr>\n",
       "      <th>Tutorial</th>\n",
       "      <td>1005</td>\n",
       "    </tr>\n",
       "  </tbody>\n",
       "</table>\n",
       "</div>"
      ],
      "text/plain": [
       "                         frequency\n",
       "eventname                         \n",
       "MainScreenAppear            117328\n",
       "OffersScreenAppear           46333\n",
       "CartScreenAppear             42303\n",
       "PaymentScreenSuccessful      33918\n",
       "Tutorial                      1005"
      ]
     },
     "execution_count": 21,
     "metadata": {},
     "output_type": "execute_result"
    }
   ],
   "source": [
    "#Agrupar por eventos únicos y contar el número de eventos\n",
    "events_frequency = clean_logs.groupby('eventname').agg({'eventname':'count'})\n",
    "events_frequency.columns = ['frequency']\n",
    "events_frequency.sort_values(by='frequency',ascending=False)"
   ]
  },
  {
   "cell_type": "markdown",
   "id": "73c902e6-6e81-4a46-be76-53684aa8fd40",
   "metadata": {},
   "source": [
    "## 4.2 Encuentra la cantidad de usuarios que realizaron cada una de estas acciones. Ordena los eventos por el número de usuarios. Calcula la proporción de usuarios que realizaron la acción al menos una vez"
   ]
  },
  {
   "cell_type": "code",
   "execution_count": 22,
   "id": "560a7e86-c6a3-40a4-8e9a-85a47dc2b1ce",
   "metadata": {},
   "outputs": [
    {
     "data": {
      "text/html": [
       "<div>\n",
       "<style scoped>\n",
       "    .dataframe tbody tr th:only-of-type {\n",
       "        vertical-align: middle;\n",
       "    }\n",
       "\n",
       "    .dataframe tbody tr th {\n",
       "        vertical-align: top;\n",
       "    }\n",
       "\n",
       "    .dataframe thead th {\n",
       "        text-align: right;\n",
       "    }\n",
       "</style>\n",
       "<table border=\"1\" class=\"dataframe\">\n",
       "  <thead>\n",
       "    <tr style=\"text-align: right;\">\n",
       "      <th></th>\n",
       "      <th>deviceidhash</th>\n",
       "    </tr>\n",
       "    <tr>\n",
       "      <th>eventname</th>\n",
       "      <th></th>\n",
       "    </tr>\n",
       "  </thead>\n",
       "  <tbody>\n",
       "    <tr>\n",
       "      <th>MainScreenAppear</th>\n",
       "      <td>7419</td>\n",
       "    </tr>\n",
       "    <tr>\n",
       "      <th>OffersScreenAppear</th>\n",
       "      <td>4593</td>\n",
       "    </tr>\n",
       "    <tr>\n",
       "      <th>CartScreenAppear</th>\n",
       "      <td>3734</td>\n",
       "    </tr>\n",
       "    <tr>\n",
       "      <th>PaymentScreenSuccessful</th>\n",
       "      <td>3539</td>\n",
       "    </tr>\n",
       "    <tr>\n",
       "      <th>Tutorial</th>\n",
       "      <td>840</td>\n",
       "    </tr>\n",
       "  </tbody>\n",
       "</table>\n",
       "</div>"
      ],
      "text/plain": [
       "                         deviceidhash\n",
       "eventname                            \n",
       "MainScreenAppear                 7419\n",
       "OffersScreenAppear               4593\n",
       "CartScreenAppear                 3734\n",
       "PaymentScreenSuccessful          3539\n",
       "Tutorial                          840"
      ]
     },
     "metadata": {},
     "output_type": "display_data"
    }
   ],
   "source": [
    "#Agrupar por eventos y contar el número de usuarios\n",
    "users_per_event = clean_logs.groupby('eventname').agg({'deviceidhash':'nunique'}).sort_values(by='deviceidhash',ascending=False)\n",
    "display(users_per_event)"
   ]
  },
  {
   "cell_type": "code",
   "execution_count": 23,
   "id": "7834180e-6fc7-4116-9502-91593dcc9ec0",
   "metadata": {},
   "outputs": [
    {
     "data": {
      "text/html": [
       "<div>\n",
       "<style scoped>\n",
       "    .dataframe tbody tr th:only-of-type {\n",
       "        vertical-align: middle;\n",
       "    }\n",
       "\n",
       "    .dataframe tbody tr th {\n",
       "        vertical-align: top;\n",
       "    }\n",
       "\n",
       "    .dataframe thead th {\n",
       "        text-align: right;\n",
       "    }\n",
       "</style>\n",
       "<table border=\"1\" class=\"dataframe\">\n",
       "  <thead>\n",
       "    <tr style=\"text-align: right;\">\n",
       "      <th></th>\n",
       "      <th>deviceidhash</th>\n",
       "      <th>users_ratio %</th>\n",
       "    </tr>\n",
       "    <tr>\n",
       "      <th>eventname</th>\n",
       "      <th></th>\n",
       "      <th></th>\n",
       "    </tr>\n",
       "  </thead>\n",
       "  <tbody>\n",
       "    <tr>\n",
       "      <th>MainScreenAppear</th>\n",
       "      <td>7419</td>\n",
       "      <td>98.251887</td>\n",
       "    </tr>\n",
       "    <tr>\n",
       "      <th>OffersScreenAppear</th>\n",
       "      <td>4593</td>\n",
       "      <td>60.826381</td>\n",
       "    </tr>\n",
       "    <tr>\n",
       "      <th>CartScreenAppear</th>\n",
       "      <td>3734</td>\n",
       "      <td>49.450404</td>\n",
       "    </tr>\n",
       "    <tr>\n",
       "      <th>PaymentScreenSuccessful</th>\n",
       "      <td>3539</td>\n",
       "      <td>46.867965</td>\n",
       "    </tr>\n",
       "    <tr>\n",
       "      <th>Tutorial</th>\n",
       "      <td>840</td>\n",
       "      <td>11.124354</td>\n",
       "    </tr>\n",
       "  </tbody>\n",
       "</table>\n",
       "</div>"
      ],
      "text/plain": [
       "                         deviceidhash  users_ratio %\n",
       "eventname                                           \n",
       "MainScreenAppear                 7419      98.251887\n",
       "OffersScreenAppear               4593      60.826381\n",
       "CartScreenAppear                 3734      49.450404\n",
       "PaymentScreenSuccessful          3539      46.867965\n",
       "Tutorial                          840      11.124354"
      ]
     },
     "metadata": {},
     "output_type": "display_data"
    }
   ],
   "source": [
    "#Calcular la proporción de usuarios por evento contra el total de usuarios\n",
    "users_per_event['users_ratio %'] = users_per_event['deviceidhash'] / total_users * 100\n",
    "display(users_per_event)"
   ]
  },
  {
   "cell_type": "markdown",
   "id": "3f95d446-396d-4c93-8f1c-51309e13d0d5",
   "metadata": {},
   "source": [
    "## 4.3 ¿En qué orden crees que ocurrieron las aciones? ¿Todas son parte de una sola secuencia? No es necesario tenerlas en cuenta al calcular el embudo."
   ]
  },
  {
   "cell_type": "markdown",
   "id": "ad2613b7-722b-4d06-b0d9-fc312054b8f0",
   "metadata": {},
   "source": [
    "La secuencia que siguen los usuarios está en el orden en que aparece en la tabla anterior, excepto por el evento Tutorial, que no necesariamente forma parte de la secuencia principal, ya que habrá usuarios que sigan no sigan el tutorial, y aún así terminen comprando algo.ncipal."
   ]
  },
  {
   "cell_type": "markdown",
   "id": "4c7866c5-b064-4551-afe9-41af17314781",
   "metadata": {},
   "source": [
    "## 4.4 Utiliza el embudo de eventos para encontrar la proporción de usuarios que pasan de una etapa a la siguiente. Por ejemplo, para la secuencia de eventos A → B → C, calcula la proporción de usuarios en la etapa B a la cantidad de usuarios en la etapa A y la proporción de usuarios en la etapa C a la cantidad en la etapa B."
   ]
  },
  {
   "cell_type": "code",
   "execution_count": 24,
   "id": "f4f0acf0-abd0-40c5-909b-14901233d15a",
   "metadata": {},
   "outputs": [
    {
     "data": {
      "text/html": [
       "<div>\n",
       "<style scoped>\n",
       "    .dataframe tbody tr th:only-of-type {\n",
       "        vertical-align: middle;\n",
       "    }\n",
       "\n",
       "    .dataframe tbody tr th {\n",
       "        vertical-align: top;\n",
       "    }\n",
       "\n",
       "    .dataframe thead th {\n",
       "        text-align: right;\n",
       "    }\n",
       "</style>\n",
       "<table border=\"1\" class=\"dataframe\">\n",
       "  <thead>\n",
       "    <tr style=\"text-align: right;\">\n",
       "      <th></th>\n",
       "      <th>deviceidhash</th>\n",
       "      <th>users_ratio %</th>\n",
       "      <th>funnel_ratio %</th>\n",
       "    </tr>\n",
       "    <tr>\n",
       "      <th>eventname</th>\n",
       "      <th></th>\n",
       "      <th></th>\n",
       "      <th></th>\n",
       "    </tr>\n",
       "  </thead>\n",
       "  <tbody>\n",
       "    <tr>\n",
       "      <th>MainScreenAppear</th>\n",
       "      <td>7419</td>\n",
       "      <td>98.251887</td>\n",
       "      <td>NaN</td>\n",
       "    </tr>\n",
       "    <tr>\n",
       "      <th>OffersScreenAppear</th>\n",
       "      <td>4593</td>\n",
       "      <td>60.826381</td>\n",
       "      <td>61.908613</td>\n",
       "    </tr>\n",
       "    <tr>\n",
       "      <th>CartScreenAppear</th>\n",
       "      <td>3734</td>\n",
       "      <td>49.450404</td>\n",
       "      <td>81.297627</td>\n",
       "    </tr>\n",
       "    <tr>\n",
       "      <th>PaymentScreenSuccessful</th>\n",
       "      <td>3539</td>\n",
       "      <td>46.867965</td>\n",
       "      <td>94.777718</td>\n",
       "    </tr>\n",
       "    <tr>\n",
       "      <th>Tutorial</th>\n",
       "      <td>840</td>\n",
       "      <td>11.124354</td>\n",
       "      <td>23.735519</td>\n",
       "    </tr>\n",
       "  </tbody>\n",
       "</table>\n",
       "</div>"
      ],
      "text/plain": [
       "                         deviceidhash  users_ratio %  funnel_ratio %\n",
       "eventname                                                           \n",
       "MainScreenAppear                 7419      98.251887             NaN\n",
       "OffersScreenAppear               4593      60.826381       61.908613\n",
       "CartScreenAppear                 3734      49.450404       81.297627\n",
       "PaymentScreenSuccessful          3539      46.867965       94.777718\n",
       "Tutorial                          840      11.124354       23.735519"
      ]
     },
     "metadata": {},
     "output_type": "display_data"
    }
   ],
   "source": [
    "#Calcular proporciones entre eventos del embudo\n",
    "users_per_event['funnel_ratio %'] = (users_per_event['deviceidhash'] / users_per_event['deviceidhash'].shift()) * 100\n",
    "display(users_per_event)"
   ]
  },
  {
   "cell_type": "markdown",
   "id": "88d6e8a3-c15e-4d19-af14-15afc6c0a7e8",
   "metadata": {},
   "source": [
    "## 4.5 ¿En qué etapa pierdes más usuarios?"
   ]
  },
  {
   "cell_type": "markdown",
   "id": "d3c5bb27-c45a-4c37-bce8-936828fbd3c2",
   "metadata": {},
   "source": [
    "+ Para esta pregunta no tomo en cuenta la etapa de tutorial ni el ratio calculado.\n",
    "+ Desde la pantalla de inicio a la pantalla de ofertas sólo llegan el 61.9% de los usuarios. Es la transición con menos ratio de conversión."
   ]
  },
  {
   "cell_type": "markdown",
   "id": "1c82adda-e7d9-49ff-bca8-168008f396dc",
   "metadata": {},
   "source": [
    "## 4.6 ¿Qué porcentaje de usuarios hace todo el viaje desde su primer evento hasta el pago?"
   ]
  },
  {
   "cell_type": "code",
   "execution_count": 25,
   "id": "7960d88c-4e94-40c3-a562-3a792369ef1f",
   "metadata": {},
   "outputs": [
    {
     "data": {
      "text/html": [
       "<div>\n",
       "<style scoped>\n",
       "    .dataframe tbody tr th:only-of-type {\n",
       "        vertical-align: middle;\n",
       "    }\n",
       "\n",
       "    .dataframe tbody tr th {\n",
       "        vertical-align: top;\n",
       "    }\n",
       "\n",
       "    .dataframe thead th {\n",
       "        text-align: right;\n",
       "    }\n",
       "</style>\n",
       "<table border=\"1\" class=\"dataframe\">\n",
       "  <thead>\n",
       "    <tr style=\"text-align: right;\">\n",
       "      <th></th>\n",
       "      <th>deviceidhash</th>\n",
       "      <th>users_ratio %</th>\n",
       "      <th>funnel_ratio %</th>\n",
       "    </tr>\n",
       "    <tr>\n",
       "      <th>eventname</th>\n",
       "      <th></th>\n",
       "      <th></th>\n",
       "      <th></th>\n",
       "    </tr>\n",
       "  </thead>\n",
       "  <tbody>\n",
       "    <tr>\n",
       "      <th>MainScreenAppear</th>\n",
       "      <td>7419</td>\n",
       "      <td>98.251887</td>\n",
       "      <td>NaN</td>\n",
       "    </tr>\n",
       "    <tr>\n",
       "      <th>OffersScreenAppear</th>\n",
       "      <td>4593</td>\n",
       "      <td>60.826381</td>\n",
       "      <td>61.908613</td>\n",
       "    </tr>\n",
       "    <tr>\n",
       "      <th>CartScreenAppear</th>\n",
       "      <td>3734</td>\n",
       "      <td>49.450404</td>\n",
       "      <td>81.297627</td>\n",
       "    </tr>\n",
       "    <tr>\n",
       "      <th>PaymentScreenSuccessful</th>\n",
       "      <td>3539</td>\n",
       "      <td>46.867965</td>\n",
       "      <td>94.777718</td>\n",
       "    </tr>\n",
       "    <tr>\n",
       "      <th>Tutorial</th>\n",
       "      <td>840</td>\n",
       "      <td>11.124354</td>\n",
       "      <td>23.735519</td>\n",
       "    </tr>\n",
       "  </tbody>\n",
       "</table>\n",
       "</div>"
      ],
      "text/plain": [
       "                         deviceidhash  users_ratio %  funnel_ratio %\n",
       "eventname                                                           \n",
       "MainScreenAppear                 7419      98.251887             NaN\n",
       "OffersScreenAppear               4593      60.826381       61.908613\n",
       "CartScreenAppear                 3734      49.450404       81.297627\n",
       "PaymentScreenSuccessful          3539      46.867965       94.777718\n",
       "Tutorial                          840      11.124354       23.735519"
      ]
     },
     "metadata": {},
     "output_type": "display_data"
    },
    {
     "name": "stdout",
     "output_type": "stream",
     "text": [
      "El 47.7 % de los usuarios que llegan al Main Screen terminan en la Payment Screen\n"
     ]
    }
   ],
   "source": [
    "#Calcular la proporción entre usuarios de Main Screen contra Payment Screen\n",
    "full_funnel = users_per_event.copy()\n",
    "display(full_funnel)\n",
    "full_ratio = (full_funnel.loc['PaymentScreenSuccessful', 'deviceidhash'] / full_funnel.loc['MainScreenAppear', 'deviceidhash'] * 100).round(2)\n",
    "print(f'El {full_ratio} % de los usuarios que llegan al Main Screen terminan en la Payment Screen')"
   ]
  },
  {
   "cell_type": "markdown",
   "id": "f1f69251-ce93-4038-9f9a-e1fb2514210a",
   "metadata": {},
   "source": [
    "# 5. ESTUDIAR LOS RESULTADOS DEL EXPERIMENTO"
   ]
  },
  {
   "cell_type": "markdown",
   "id": "6d0da694-7c9d-48ee-97a0-3d1bea1cad91",
   "metadata": {},
   "source": [
    "## 5.1 ¿Cuántos usuarios hay en cada grupo?"
   ]
  },
  {
   "cell_type": "code",
   "execution_count": 26,
   "id": "347e9b0d-e2f3-44a0-a6f4-a4be6a4d7e05",
   "metadata": {},
   "outputs": [
    {
     "data": {
      "text/html": [
       "<div>\n",
       "<style scoped>\n",
       "    .dataframe tbody tr th:only-of-type {\n",
       "        vertical-align: middle;\n",
       "    }\n",
       "\n",
       "    .dataframe tbody tr th {\n",
       "        vertical-align: top;\n",
       "    }\n",
       "\n",
       "    .dataframe thead th {\n",
       "        text-align: right;\n",
       "    }\n",
       "</style>\n",
       "<table border=\"1\" class=\"dataframe\">\n",
       "  <thead>\n",
       "    <tr style=\"text-align: right;\">\n",
       "      <th></th>\n",
       "      <th>deviceidhash</th>\n",
       "    </tr>\n",
       "    <tr>\n",
       "      <th>expid</th>\n",
       "      <th></th>\n",
       "    </tr>\n",
       "  </thead>\n",
       "  <tbody>\n",
       "    <tr>\n",
       "      <th>246</th>\n",
       "      <td>2484</td>\n",
       "    </tr>\n",
       "    <tr>\n",
       "      <th>247</th>\n",
       "      <td>2513</td>\n",
       "    </tr>\n",
       "    <tr>\n",
       "      <th>248</th>\n",
       "      <td>2537</td>\n",
       "    </tr>\n",
       "  </tbody>\n",
       "</table>\n",
       "</div>"
      ],
      "text/plain": [
       "       deviceidhash\n",
       "expid              \n",
       "246            2484\n",
       "247            2513\n",
       "248            2537"
      ]
     },
     "metadata": {},
     "output_type": "display_data"
    }
   ],
   "source": [
    "#Agrupar por número de experimento y contar la cantidad de usuarios únicos en cada uno\n",
    "users_per_group = clean_logs.groupby('expid').agg({'deviceidhash':'nunique'})\n",
    "display(users_per_group)"
   ]
  },
  {
   "cell_type": "markdown",
   "id": "72bc0257-ad18-4c34-96a1-961dd4f0d607",
   "metadata": {},
   "source": [
    "## 5.2 Tenemos dos grupos de control en el test A/A, donde comprobamos nuestros mecanismos y cálculos. Observa si hay una diferencia estadísticamente significativa entre las muestras 246 y 247."
   ]
  },
  {
   "cell_type": "markdown",
   "id": "7b00cce4-a96a-4322-a885-8e71a8fd32c0",
   "metadata": {},
   "source": [
    "#### Utilizo el estadístico Z para comprobar la diferencia entre las proporciones de usuarios que llegan a la pantalla de pago en cada grupo. Si la diferencia no es estadsíticamente significativa, podemos afirmar que ambos grupos cumplen las mismas condiciones de prueba."
   ]
  },
  {
   "cell_type": "code",
   "execution_count": 27,
   "id": "88ccf216-caef-4cc0-b233-ec83a51c8693",
   "metadata": {},
   "outputs": [
    {
     "name": "stdout",
     "output_type": "stream",
     "text": [
      "Total de usuarios en el grupo 246: 2484\n",
      "Total de usuarios que llegan a la pantalla de pago en el grupo 246: 1200\n",
      "Total de usuarios en el grupo 247: 2513\n",
      "Total de usuarios que llegan a la pantalla de pago en el grupo 247: 1158\n"
     ]
    }
   ],
   "source": [
    "#Crear dataframes para cada grupo de prueba\n",
    "exp_246 = clean_logs[clean_logs['expid'] == 246]\n",
    "exp_247 = clean_logs[clean_logs['expid'] == 247]\n",
    "\n",
    "#Calcular el número de usuarios únicos que llegan a la pantalla de pago en ambos grupos\n",
    "success_screen_246 = (exp_246[exp_246['eventname'] == 'PaymentScreenSuccessful'])['deviceidhash'].nunique()\n",
    "success_screen_247 = (exp_247[exp_247['eventname'] == 'PaymentScreenSuccessful'])['deviceidhash'].nunique()\n",
    "\n",
    "#Encontrar el número total de usuarios únicos en cada grupo\n",
    "total_users_246 = exp_246['deviceidhash'].nunique()\n",
    "total_users_247 = exp_247['deviceidhash'].nunique()\n",
    "\n",
    "print(f'Total de usuarios en el grupo 246: {total_users_246}')\n",
    "print(f'Total de usuarios que llegan a la pantalla de pago en el grupo 246: {success_screen_246}')\n",
    "\n",
    "print(f'Total de usuarios en el grupo 247: {total_users_247}')\n",
    "print(f'Total de usuarios que llegan a la pantalla de pago en el grupo 247: {success_screen_247}')"
   ]
  },
  {
   "cell_type": "code",
   "execution_count": 28,
   "id": "112fcab8-5d4d-4a2c-b16a-d2b0a132284a",
   "metadata": {},
   "outputs": [],
   "source": [
    "#Establecer el nivel de significación alpha y calcular las proporciones de éxito para ambos grupos\n",
    "alpha = 0.05\n",
    "\n",
    "p246 = success_screen_246/total_users_246\n",
    "p247 = success_screen_247/total_users_247\n",
    "\n",
    "#Calcular la proporción combinada\n",
    "p_combined = (success_screen_246 + success_screen_247) / (total_users_246 + total_users_247)\n",
    "\n",
    "#Calcular la diferencia entre proporciones\n",
    "difference = p246 - p247\n",
    "\n",
    "#Calcular el error estándar\n",
    "std_error = np.sqrt(p_combined * (1 - p_combined) * (1/total_users_246 + 1/total_users_247))\n",
    "\n",
    "#Calcular es estadístico Z\n",
    "z_value = difference / std_error\n",
    "\n",
    "distr = st.norm(0,1)\n",
    "\n",
    "#Calcular el valor p bilateral\n",
    "p_value = 2 * (1 - distr.cdf(abs(z_value)))"
   ]
  },
  {
   "cell_type": "code",
   "execution_count": 29,
   "id": "12f1c0d6-6bba-4c8e-874f-d7180f1b77ea",
   "metadata": {},
   "outputs": [
    {
     "name": "stdout",
     "output_type": "stream",
     "text": [
      "No se puede rechazar la hipótesis nula: No hay suficiente evidencia estadística para concluir que las muestras 246 y 247 son significativamente diferentes.\n"
     ]
    }
   ],
   "source": [
    "if p_value < alpha:\n",
    "    print('Se rechaza la hipótesis nula: Existe una diferencia estadísticamente significativa entre las muestras de los grupos 246 y 247.')\n",
    "else:\n",
    "    print('No se puede rechazar la hipótesis nula: No hay suficiente evidencia estadística para concluir que las muestras 246 y 247 son significativamente diferentes.')"
   ]
  },
  {
   "cell_type": "markdown",
   "id": "60d94564-8c3f-488a-8d44-d11fff6c7324",
   "metadata": {},
   "source": [
    "### NOTA\n",
    "+ El cálculo del estadístico Z nos permitió determinar que las muestras de los grupos 246 y 247 son estadísticamente iguales y con ello podemos afirmar que las pruebas A/A se comportan de manera similar en los grupos de control"
   ]
  },
  {
   "cell_type": "markdown",
   "id": "6ba9e5d3-52cd-4956-be79-a0de83d4f055",
   "metadata": {},
   "source": [
    "## 5.3 Selecciona el evento más popular. En cada uno de los grupos de control, encuentra la cantidad de usuarios que realizaron esta acción. Encuentra su proporción. Comprueba si la diferencia entre los grupos es estadísticamente significativa. Repite el procedimiento para todos los demás eventos (ahorrarás tiempo si creas una función especial para esta prueba). ¿Puedes confirmar que los grupos se dividieron correctamente?"
   ]
  },
  {
   "cell_type": "code",
   "execution_count": 30,
   "id": "c9c8569f-7201-45b7-b137-d63973923477",
   "metadata": {},
   "outputs": [
    {
     "name": "stdout",
     "output_type": "stream",
     "text": [
      "Evento más popular: MainScreenAppear\n"
     ]
    }
   ],
   "source": [
    "#Encontrar el evento más popular\n",
    "high_rate_event = clean_logs.groupby('eventname')['deviceidhash'].nunique().idxmax()\n",
    "print(f\"Evento más popular: {high_rate_event}\")"
   ]
  },
  {
   "cell_type": "code",
   "execution_count": 31,
   "id": "0c65d0e5-83c6-4792-b966-27c2db820e16",
   "metadata": {},
   "outputs": [],
   "source": [
    "#Definir la función para calcular verificar las diferencias estadísticas entre grupos\n",
    "def z_value_test(dataframe, event, group1, group2, alpha=0.05):\n",
    "       \n",
    "    # Crear un dataframe para cada grupo\n",
    "    df_group1 = dataframe[dataframe['expid'] == group1]\n",
    "    df_group2 = dataframe[dataframe['expid'] == group2]\n",
    "    \n",
    "    # Calcular éxitos y totales por grupo\n",
    "    success1 = df_group1[df_group1['eventname'] == event]['deviceidhash'].nunique()\n",
    "    success2 = df_group2[df_group2['eventname'] == event]['deviceidhash'].nunique()\n",
    "    total1 = df_group1['deviceidhash'].nunique()\n",
    "    total2 = df_group2['deviceidhash'].nunique()\n",
    "    \n",
    "    # Calcular proporciones\n",
    "    p1 = success1 / total1\n",
    "    p2 = success2 / total2\n",
    "    \n",
    "    # Proporción combinada\n",
    "    p_combined = (success1 + success2) / (total1 + total2)\n",
    "    \n",
    "    # Error estándar\n",
    "    std_error = np.sqrt(p_combined * (1 - p_combined) * (1 / total1 + 1 / total2))\n",
    "    \n",
    "    # Estadístico Z\n",
    "    z_value = (p1 - p2) / std_error\n",
    "    \n",
    "    # p-valor (bilateral)\n",
    "    p_value = 2 * (1 - norm.cdf(abs(z_value)))\n",
    "    \n",
    "    # Resultados\n",
    "    print(f\"\\nEvento: {event}\")\n",
    "    print(f\"Grupo {group1}: Éxitos = {success1}, Total = {total1}, Proporción = {p1:.4f}\")\n",
    "    print(f\"Grupo {group2}: Éxitos = {success2}, Total = {total2}, Proporción = {p2:.4f}\")\n",
    "    print(f\"Diferencia entre proporciones: {p1 - p2:.4f}\")\n",
    "    print(f\"Estadístico Z: {z_value:.4f}\")\n",
    "    print(f\"Valor P: {p_value:.4f}\")\n",
    "    \n",
    "    # Conclusión\n",
    "    if p_value < alpha:\n",
    "        print(\"Rechazamos la hipótesis nula: Existe una diferencia estadísticamente significativa entre los grupos.\")\n",
    "    else:\n",
    "        print(\"No se puede rechazar la hipótesis nula: No hay suficiente evidencia estadística para concluir que los grupos son significativamente diferentes.\")"
   ]
  },
  {
   "cell_type": "code",
   "execution_count": 32,
   "id": "3f4fa45f-a535-4a83-8410-67b5407725a4",
   "metadata": {},
   "outputs": [
    {
     "name": "stdout",
     "output_type": "stream",
     "text": [
      "\n",
      "Evento: MainScreenAppear\n",
      "Grupo 246: Éxitos = 2450, Total = 2484, Proporción = 0.9863\n",
      "Grupo 247: Éxitos = 2476, Total = 2513, Proporción = 0.9853\n",
      "Diferencia entre proporciones: 0.0010\n",
      "Estadístico Z: 0.3093\n",
      "Valor P: 0.7571\n",
      "No se puede rechazar la hipótesis nula: No hay suficiente evidencia estadística para concluir que los grupos son significativamente diferentes.\n"
     ]
    }
   ],
   "source": [
    "#Calcular el estadístico Z para el evento más popular\n",
    "# Paso 3: Aplicar la prueba al evento más popular\n",
    "z_value_test(clean_logs, high_rate_event, 246, 247)"
   ]
  },
  {
   "cell_type": "code",
   "execution_count": 33,
   "id": "7fb15b89-5f14-404e-8580-39585c5c61ed",
   "metadata": {},
   "outputs": [
    {
     "name": "stdout",
     "output_type": "stream",
     "text": [
      "\n",
      "Evento: Tutorial\n",
      "Grupo 246: Éxitos = 278, Total = 2484, Proporción = 0.1119\n",
      "Grupo 247: Éxitos = 283, Total = 2513, Proporción = 0.1126\n",
      "Diferencia entre proporciones: -0.0007\n",
      "Estadístico Z: -0.0782\n",
      "Valor P: 0.9377\n",
      "No se puede rechazar la hipótesis nula: No hay suficiente evidencia estadística para concluir que los grupos son significativamente diferentes.\n",
      "\n",
      "Evento: MainScreenAppear\n",
      "Grupo 246: Éxitos = 2450, Total = 2484, Proporción = 0.9863\n",
      "Grupo 247: Éxitos = 2476, Total = 2513, Proporción = 0.9853\n",
      "Diferencia entre proporciones: 0.0010\n",
      "Estadístico Z: 0.3093\n",
      "Valor P: 0.7571\n",
      "No se puede rechazar la hipótesis nula: No hay suficiente evidencia estadística para concluir que los grupos son significativamente diferentes.\n",
      "\n",
      "Evento: OffersScreenAppear\n",
      "Grupo 246: Éxitos = 1542, Total = 2484, Proporción = 0.6208\n",
      "Grupo 247: Éxitos = 1520, Total = 2513, Proporción = 0.6049\n",
      "Diferencia entre proporciones: 0.0159\n",
      "Estadístico Z: 1.1550\n",
      "Valor P: 0.2481\n",
      "No se puede rechazar la hipótesis nula: No hay suficiente evidencia estadística para concluir que los grupos son significativamente diferentes.\n",
      "\n",
      "Evento: CartScreenAppear\n",
      "Grupo 246: Éxitos = 1266, Total = 2484, Proporción = 0.5097\n",
      "Grupo 247: Éxitos = 1238, Total = 2513, Proporción = 0.4926\n",
      "Diferencia entre proporciones: 0.0170\n",
      "Estadístico Z: 1.2034\n",
      "Valor P: 0.2288\n",
      "No se puede rechazar la hipótesis nula: No hay suficiente evidencia estadística para concluir que los grupos son significativamente diferentes.\n",
      "\n",
      "Evento: PaymentScreenSuccessful\n",
      "Grupo 246: Éxitos = 1200, Total = 2484, Proporción = 0.4831\n",
      "Grupo 247: Éxitos = 1158, Total = 2513, Proporción = 0.4608\n",
      "Diferencia entre proporciones: 0.0223\n",
      "Estadístico Z: 1.5780\n",
      "Valor P: 0.1146\n",
      "No se puede rechazar la hipótesis nula: No hay suficiente evidencia estadística para concluir que los grupos son significativamente diferentes.\n"
     ]
    }
   ],
   "source": [
    "#Aplicar la función de cálculo del estadístico Z a los demás eventos\n",
    "unique_events = clean_logs['eventname'].unique()\n",
    "for event in unique_events:\n",
    "    z_value_test(clean_logs, event, 246, 247)"
   ]
  },
  {
   "cell_type": "markdown",
   "id": "18d24de9-c64c-4ec5-b1b7-23734d131be8",
   "metadata": {},
   "source": [
    "## 5.4 Haz lo mismo para el grupo con fuentes alteradas. Compara los resultados con los de cada uno de los grupos de control para cada evento de forma aislada. Compara los resultados con los resultados combinados de los grupos de control. ¿Qué conclusiones puedes sacar del experimento?"
   ]
  },
  {
   "cell_type": "code",
   "execution_count": 34,
   "id": "2cd2d54a-bfd6-47e8-a434-74605da86287",
   "metadata": {},
   "outputs": [
    {
     "name": "stdout",
     "output_type": "stream",
     "text": [
      "\n",
      "--- Comparaciones para el grupo con fuentes alteradas (248) ---\n",
      "\n",
      "Comparación: Grupo 248 vs Grupo 246\n",
      "event: Tutorial\n",
      "Grupo 248: Éxitos = 279, Total = 2537, Proporción = 0.1100\n",
      "Grupo 246: Éxitos = 278, Total = 2484, Proporción = 0.1119\n",
      "Diferencia entre proporciones: -0.0019\n",
      "Estadístico Z: -0.2193\n",
      "P-valor: 0.8264\n",
      "No rechazamos la hipótesis nula: No hay suficiente evidencia estadística para concluir que hay diferencias significativas.\n",
      "\n",
      "Comparación: Grupo 248 vs Grupo 247\n",
      "event: Tutorial\n",
      "Grupo 248: Éxitos = 279, Total = 2537, Proporción = 0.1100\n",
      "Grupo 247: Éxitos = 283, Total = 2513, Proporción = 0.1126\n",
      "Diferencia entre proporciones: -0.0026\n",
      "Estadístico Z: -0.2985\n",
      "P-valor: 0.7653\n",
      "No rechazamos la hipótesis nula: No hay suficiente evidencia estadística para concluir que hay diferencias significativas.\n",
      "\n",
      "Comparación: Grupo 248 vs Control Combinado\n",
      "event: Tutorial\n",
      "Grupo 248: Éxitos = 279, Total = 2537, Proporción = 0.1100\n",
      "Control Combinado: Éxitos = 561, Total = 4997, Proporción = 0.1123\n",
      "Diferencia entre proporciones: -0.0023\n",
      "Estadístico Z: -0.2991\n",
      "P-valor: 0.7649\n",
      "No rechazamos la hipótesis nula: No hay suficiente evidencia estadística para concluir que hay diferencias significativas.\n",
      "\n",
      "Comparación: Grupo 248 vs Grupo 246\n",
      "event: MainScreenAppear\n",
      "Grupo 248: Éxitos = 2493, Total = 2537, Proporción = 0.9827\n",
      "Grupo 246: Éxitos = 2450, Total = 2484, Proporción = 0.9863\n",
      "Diferencia entre proporciones: -0.0037\n",
      "Estadístico Z: -1.0473\n",
      "P-valor: 0.2950\n",
      "No rechazamos la hipótesis nula: No hay suficiente evidencia estadística para concluir que hay diferencias significativas.\n",
      "\n",
      "Comparación: Grupo 248 vs Grupo 247\n",
      "event: MainScreenAppear\n",
      "Grupo 248: Éxitos = 2493, Total = 2537, Proporción = 0.9827\n",
      "Grupo 247: Éxitos = 2476, Total = 2513, Proporción = 0.9853\n",
      "Diferencia entre proporciones: -0.0026\n",
      "Estadístico Z: -0.7410\n",
      "P-valor: 0.4587\n",
      "No rechazamos la hipótesis nula: No hay suficiente evidencia estadística para concluir que hay diferencias significativas.\n",
      "\n",
      "Comparación: Grupo 248 vs Control Combinado\n",
      "event: MainScreenAppear\n",
      "Grupo 248: Éxitos = 2493, Total = 2537, Proporción = 0.9827\n",
      "Control Combinado: Éxitos = 4926, Total = 4997, Proporción = 0.9858\n",
      "Diferencia entre proporciones: -0.0031\n",
      "Estadístico Z: -1.0489\n",
      "P-valor: 0.2942\n",
      "No rechazamos la hipótesis nula: No hay suficiente evidencia estadística para concluir que hay diferencias significativas.\n",
      "\n",
      "Comparación: Grupo 248 vs Grupo 246\n",
      "event: OffersScreenAppear\n",
      "Grupo 248: Éxitos = 1531, Total = 2537, Proporción = 0.6035\n",
      "Grupo 246: Éxitos = 1542, Total = 2484, Proporción = 0.6208\n",
      "Diferencia entre proporciones: -0.0173\n",
      "Estadístico Z: -1.2581\n",
      "P-valor: 0.2084\n",
      "No rechazamos la hipótesis nula: No hay suficiente evidencia estadística para concluir que hay diferencias significativas.\n",
      "\n",
      "Comparación: Grupo 248 vs Grupo 247\n",
      "event: OffersScreenAppear\n",
      "Grupo 248: Éxitos = 1531, Total = 2537, Proporción = 0.6035\n",
      "Grupo 247: Éxitos = 1520, Total = 2513, Proporción = 0.6049\n",
      "Diferencia entre proporciones: -0.0014\n",
      "Estadístico Z: -0.1007\n",
      "P-valor: 0.9198\n",
      "No rechazamos la hipótesis nula: No hay suficiente evidencia estadística para concluir que hay diferencias significativas.\n",
      "\n",
      "Comparación: Grupo 248 vs Control Combinado\n",
      "event: OffersScreenAppear\n",
      "Grupo 248: Éxitos = 1531, Total = 2537, Proporción = 0.6035\n",
      "Control Combinado: Éxitos = 3062, Total = 4997, Proporción = 0.6128\n",
      "Diferencia entre proporciones: -0.0093\n",
      "Estadístico Z: -0.7819\n",
      "P-valor: 0.4343\n",
      "No rechazamos la hipótesis nula: No hay suficiente evidencia estadística para concluir que hay diferencias significativas.\n",
      "\n",
      "Comparación: Grupo 248 vs Grupo 246\n",
      "event: CartScreenAppear\n",
      "Grupo 248: Éxitos = 1230, Total = 2537, Proporción = 0.4848\n",
      "Grupo 246: Éxitos = 1266, Total = 2484, Proporción = 0.5097\n",
      "Diferencia entre proporciones: -0.0248\n",
      "Estadístico Z: -1.7599\n",
      "P-valor: 0.0784\n",
      "No rechazamos la hipótesis nula: No hay suficiente evidencia estadística para concluir que hay diferencias significativas.\n",
      "\n",
      "Comparación: Grupo 248 vs Grupo 247\n",
      "event: CartScreenAppear\n",
      "Grupo 248: Éxitos = 1230, Total = 2537, Proporción = 0.4848\n",
      "Grupo 247: Éxitos = 1238, Total = 2513, Proporción = 0.4926\n",
      "Diferencia entre proporciones: -0.0078\n",
      "Estadístico Z: -0.5554\n",
      "P-valor: 0.5786\n",
      "No rechazamos la hipótesis nula: No hay suficiente evidencia estadística para concluir que hay diferencias significativas.\n",
      "\n",
      "Comparación: Grupo 248 vs Control Combinado\n",
      "event: CartScreenAppear\n",
      "Grupo 248: Éxitos = 1230, Total = 2537, Proporción = 0.4848\n",
      "Control Combinado: Éxitos = 2504, Total = 4997, Proporción = 0.5011\n",
      "Diferencia entre proporciones: -0.0163\n",
      "Estadístico Z: -1.3354\n",
      "P-valor: 0.1818\n",
      "No rechazamos la hipótesis nula: No hay suficiente evidencia estadística para concluir que hay diferencias significativas.\n",
      "\n",
      "Comparación: Grupo 248 vs Grupo 246\n",
      "event: PaymentScreenSuccessful\n",
      "Grupo 248: Éxitos = 1181, Total = 2537, Proporción = 0.4655\n",
      "Grupo 246: Éxitos = 1200, Total = 2484, Proporción = 0.4831\n",
      "Diferencia entre proporciones: -0.0176\n",
      "Estadístico Z: -1.2474\n",
      "P-valor: 0.2123\n",
      "No rechazamos la hipótesis nula: No hay suficiente evidencia estadística para concluir que hay diferencias significativas.\n",
      "\n",
      "Comparación: Grupo 248 vs Grupo 247\n",
      "event: PaymentScreenSuccessful\n",
      "Grupo 248: Éxitos = 1181, Total = 2537, Proporción = 0.4655\n",
      "Grupo 247: Éxitos = 1158, Total = 2513, Proporción = 0.4608\n",
      "Diferencia entre proporciones: 0.0047\n",
      "Estadístico Z: 0.3354\n",
      "P-valor: 0.7373\n",
      "No rechazamos la hipótesis nula: No hay suficiente evidencia estadística para concluir que hay diferencias significativas.\n",
      "\n",
      "Comparación: Grupo 248 vs Control Combinado\n",
      "event: PaymentScreenSuccessful\n",
      "Grupo 248: Éxitos = 1181, Total = 2537, Proporción = 0.4655\n",
      "Control Combinado: Éxitos = 2358, Total = 4997, Proporción = 0.4719\n",
      "Diferencia entre proporciones: -0.0064\n",
      "Estadístico Z: -0.5238\n",
      "P-valor: 0.6004\n",
      "No rechazamos la hipótesis nula: No hay suficiente evidencia estadística para concluir que hay diferencias significativas.\n"
     ]
    }
   ],
   "source": [
    "# Crear el grupo combinado de control\n",
    "control_groups = clean_logs[clean_logs['expid'].isin([246, 247])]\n",
    "\n",
    "# Función extendida para comparar con varios grupos\n",
    "def extended_z_value_test(data, event, group1, group2, group1_name, group2_name, alpha=0.05):\n",
    "    \"\"\"\n",
    "    Realiza la prueba de diferencia de proporciones entre dos grupos para un event específico.\n",
    "    \"\"\"\n",
    "    # Filtrar los datos por los grupos\n",
    "    if group2 == \"control_combinado\":  # Manejo especial para el grupo combinado\n",
    "        df_group1 = data[data['expid'] == group1]\n",
    "        df_group2 = control_groups\n",
    "    else:\n",
    "        df_group1 = data[data['expid'] == group1]\n",
    "        df_group2 = data[data['expid'] == group2]\n",
    "    \n",
    "    # Calcular éxitos y totales por grupo\n",
    "    success1 = df_group1[df_group1['eventname'] == event]['deviceidhash'].nunique()\n",
    "    success2 = df_group2[df_group2['eventname'] == event]['deviceidhash'].nunique()\n",
    "    total1 = df_group1['deviceidhash'].nunique()\n",
    "    total2 = df_group2['deviceidhash'].nunique()\n",
    "    \n",
    "    # Verificar que los totales no sean cero\n",
    "    if total1 == 0 or total2 == 0:\n",
    "        print(f\"\\nevent: {event}\")\n",
    "        print(f\"No hay datos suficientes en {group1_name} o {group2_name}.\")\n",
    "        print(f\"{group1_name}: Total usuarios = {total1}\")\n",
    "        print(f\"{group2_name}: Total usuarios = {total2}\")\n",
    "        return  # Salir de la función para este event\n",
    "    \n",
    "    # Calcular proporciones\n",
    "    p1 = success1 / total1\n",
    "    p2 = success2 / total2\n",
    "    \n",
    "    # Proporción combinada\n",
    "    p_combined = (success1 + success2) / (total1 + total2)\n",
    "    \n",
    "    # Error estándar\n",
    "    std_error = np.sqrt(p_combined * (1 - p_combined) * (1 / total1 + 1 / total2))\n",
    "    \n",
    "    # Estadístico Z\n",
    "    z_value = (p1 - p2) / std_error\n",
    "    \n",
    "    # p-valor (bilateral)\n",
    "    p_value = 2 * (1 - norm.cdf(abs(z_value)))\n",
    "    \n",
    "    # Resultados\n",
    "    print(f\"\\nComparación: {group1_name} vs {group2_name}\")\n",
    "    print(f\"event: {event}\")\n",
    "    print(f\"{group1_name}: Éxitos = {success1}, Total = {total1}, Proporción = {p1:.4f}\")\n",
    "    print(f\"{group2_name}: Éxitos = {success2}, Total = {total2}, Proporción = {p2:.4f}\")\n",
    "    print(f\"Diferencia entre proporciones: {p1 - p2:.4f}\")\n",
    "    print(f\"Estadístico Z: {z_value:.4f}\")\n",
    "    print(f\"P-valor: {p_value:.4f}\")\n",
    "    \n",
    "    # Conclusión\n",
    "    if p_value < alpha:\n",
    "        print(\"Rechazamos la hipótesis nula: Existe una diferencia estadísticamente significativa.\")\n",
    "    else:\n",
    "        print(\"No rechazamos la hipótesis nula: No hay suficiente evidencia estadística para concluir que hay diferencias significativas.\")\n",
    "\n",
    "# Iterar por cada event y comparar los grupos\n",
    "unique_events = clean_logs['eventname'].unique()\n",
    "\n",
    "print(\"\\n--- Comparaciones para el grupo con fuentes alteradas (248) ---\")\n",
    "for event in unique_events:\n",
    "    # Comparar 248 vs 246\n",
    "    extended_z_value_test(clean_logs, event, 248, 246, \"Grupo 248\", \"Grupo 246\")\n",
    "    # Comparar 248 vs 247\n",
    "    extended_z_value_test(clean_logs, event, 248, 247, \"Grupo 248\", \"Grupo 247\")\n",
    "    # Comparar 248 vs grupo combinado (246 + 247)\n",
    "    extended_z_value_test(clean_logs, event, 248, \"control_combinado\", \"Grupo 248\", \"Control Combinado\", alpha=0.05)"
   ]
  },
  {
   "cell_type": "markdown",
   "id": "4cf1a876-ee5c-4cf9-8397-10a2b34c98df",
   "metadata": {},
   "source": [
    "## 5.5 ¿Qué nivel de significancia has establecido para probar las hipótesis estadísticas mencionadas anteriormente? Calcula cuántas pruebas de hipótesis estadísticas has realizado. Con un nivel de significancia estadística de 0.1, uno de cada 10 resultados podría ser falso. ¿Cuál debería ser el nivel de significancia? Si deseas cambiarlo, vuelve a ejecutar los pasos anteriores y comprueba tus conclusiones."
   ]
  },
  {
   "cell_type": "markdown",
   "id": "ab96ba22-6018-484f-9b18-b76fc6ad405e",
   "metadata": {},
   "source": [
    "   \n",
    "1. Nivel de significancia establecido\\\n",
    "En todas las pruebas de hipótesis, el nivel de significancia α (alfa) utilizado fue 0.05 (5%). Esto significa que hay un 5% de probabilidad de cometer un error tipo I (rechazar la hipótesis nula cuando es verdadera).\n",
    "\n",
    "2. Cantidad de pruebas de hipótesis realizadas\\\n",
    "   Se realizaron 15 pruebas de hipótesis con comparación de proporciones entre grupos. Estas incluyen:\n",
    "    + Comparaciones entre Grupo 246 y Grupo 247.\n",
    "    + Comparaciones entre Grupo 248 y los grupos de control (246 y 247).\n",
    "    + Comparaciones entre Grupo 248 y el grupo combinado de control (246 + 247).\n",
    "\n",
    "   Cada prueba se hizo para los siguientes eventos:\n",
    "    + MainScreenAppear\n",
    "    + OffersScreenAppear\n",
    "    + CartScreenAppear\n",
    "    + PaymentScreenSuccessful\n",
    "    + Tutorial\n",
    "\n",
    "    Dado que cada comparación se hizo entre distintos grupos, el número total de pruebas es:\\\n",
    "    3 (comparaciones) × 5 (eventos) = 15 pruebas\n",
    "\n",
    "3. Interpretación del nivel de significancia y falsos positivos\\\n",
    "Con un nivel de significancia de 0.1 (10%), se esperaría que 1 de cada 10 pruebas arroje un falso positivo. Si mantenemos 15 pruebas, podríamos esperar alrededor de 1.5 pruebas con falsos positivos en promedio. El nivel de significancia óptimo depende del riesgo que estemos dispuestos a aceptar. Si queremos minimizar los falsos positivos, podríamos reducir α(alfa) a 0.01 (1%), pero esto también aumenta el riesgo de error tipo II (no detectar una diferencia real cuando sí existe).\n",
    "\n",
    "4. ¿Cuál debería ser el nivel de significancia?\n",
    "Dado que el análisis no se encontró diferencias significativas en las pruebas ( p>0.05 en todos los casos), cambiar el nivel de significancia no afectará las conclusiones. Si queremos asegurarnos de que las diferencias sean realmente significativas, podemos reducir α a 0.01 (1%), pero en este caso, ya que no hubo diferencias estadísticamente significativas con α = 0.05 tampoco las habría con α=0.01.\n",
    "\n",
    "5. Conclusiones del análisis\\\n",
    "+ No se encontraron diferencias estadísticamente significativas entre los grupos (p-valor > 0.05 en todas las pruebas).\n",
    "+ El evento con mayor pérdida de usuarios es \"MainScreenAppear\", con un 38% de abandono.\n",
    "+ El 47.81% de los usuarios completan el embudo de compra hasta el pago. Las muestras de los grupos 246 y 247 parecen haber sido bien divididas, ya que no se encontraron diferencias significativas.\n",
    "+ El grupo 248 (con fuentes alteradas) tampoco mostró diferencias significativas respecto a los grupos de control.\n",
    "+ Recomendaciones Si deseas ser más estricto, usa α=0.01 pero los resultados seguirán sin diferencias significativas. Para mejorar la conversión, enfócate en reducir la pérdida en la pantalla principal (MainScreenAppear).\n",
    "+ Considera realizar nuevas pruebas A/B con cambios más significativos para ver si hay efectos reales en la conversión."
   ]
  }
 ],
 "metadata": {
  "kernelspec": {
   "display_name": "Python 3 (ipykernel)",
   "language": "python",
   "name": "python3"
  },
  "language_info": {
   "codemirror_mode": {
    "name": "ipython",
    "version": 3
   },
   "file_extension": ".py",
   "mimetype": "text/x-python",
   "name": "python",
   "nbconvert_exporter": "python",
   "pygments_lexer": "ipython3",
   "version": "3.12.4"
  }
 },
 "nbformat": 4,
 "nbformat_minor": 5
}
