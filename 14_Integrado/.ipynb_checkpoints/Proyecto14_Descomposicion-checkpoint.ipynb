{
 "cells": [
  {
   "cell_type": "markdown",
   "id": "7d94d9d5-0e47-4e87-867a-44b2bde6bb8f",
   "metadata": {},
   "source": [
    "# Descomposición del Proyecto: Identificar Operadores Ineficaces en CallMeMaybe"
   ]
  },
  {
   "cell_type": "markdown",
   "id": "0aade9d7-6470-40da-827d-de75dad0c512",
   "metadata": {},
   "source": [
    "El servicio de telefonía virtual CallMeMaybe está desarrollando una nueva función que brindará a los supervisores y las supervisores información sobre los operadores con oportunidades de mejora (bajo desempeño). Se considera que un operador con bajo desempeño, si tiene una gran cantidad de llamadas entrantes perdidas (internas y externas) y un tiempo de espera prolongado para las llamadas entrantes. Además, si se supone que un operador debe realizar llamadas salientes, un número reducido de ellas también será un signo de bajo desempeño."
   ]
  },
  {
   "cell_type": "markdown",
   "id": "e6ecff97-ef4c-46bf-aaab-ed2fcb90acdf",
   "metadata": {},
   "source": [
    "## 1. Definir el objetivo\n",
    "\n",
    "**¿Qué queremos conseguir y por qué?**  \n",
    "Identificar operadores ineficaces para ayudar a los supervisores a mejorar el desempeño del equipo de atención y llamadas.\n",
    "\n",
    "**¿A quién le interesa lo que produces?**  \n",
    "A los supervisores/as del servicio CallMeMaybe.\n",
    "\n",
    "**¿Qué decisiones se tomarán?**  \n",
    "Decisiones sobre capacitación, reasignación de tareas o mejora del rendimiento de los operadores.\n"
   ]
  },
  {
   "cell_type": "markdown",
   "id": "36918e92-0b93-4373-9462-6d83a141ae39",
   "metadata": {},
   "source": [
    "## 2. Especificar los detalles\n",
    "\n",
    "Un operador es ineficaz cuando:\n",
    "\n",
    "- Tiene muchas llamadas entrantes perdidas (internas o externas).\n",
    "- Tiene tiempos de espera prolongados para las llamadas entrantes.\n",
    "- Realiza pocas llamadas salientes si tiene asignada esa responsabilidad.\n",
    "\n",
    "El cliente solicita también:\n",
    "\n",
    "- Análisis exploratorio de datos.\n",
    "- Identificación de operadores ineficaces.\n",
    "- Pruebas de hipótesis estadísticas.\n",
    "- Dashboards interactivos.\n",
    "- Documentación de fuentes consultadas.\n",
    "- Presentación de resultados en PDF.\n"
   ]
  },
  {
   "cell_type": "markdown",
   "id": "44d5a7e7-5626-4c0f-bbbc-eed5ad2d0147",
   "metadata": {},
   "source": [
    "## 3. Proponer hipótesis\n",
    "\n",
    "- H1: Los operadores con una alta proporción de llamadas entrantes perdidas son menos eficaces.\n",
    "- H2: Los operadores con un tiempo de espera promedio más alto son menos eficaces.\n",
    "- H3: Los operadores que deben realizar llamadas salientes y hacen pocas son menos eficaces.\n",
    "- H4: Existen diferencias significativas entre operadores según el plan tarifario de sus cuentas.\n"
   ]
  },
  {
   "cell_type": "markdown",
   "id": "1931a0a4-5e9d-4bff-b33f-d08e808bffde",
   "metadata": {},
   "source": [
    "## 4. Convertir hipótesis en plan de acción\n",
    "\n",
    "### Carga y preprocesamiento\n",
    "- Cargar los datasets (`telecom_dataset_us.csv`, `telecom_clients_us.csv`).\n",
    "- Unirlos por `user_id`.\n",
    "- Estandarizar formatos y nombres de columnas.\n"
   ]
  },
  {
   "cell_type": "markdown",
   "id": "48d66288-aaa5-45b0-95df-1c3f7c2f832e",
   "metadata": {},
   "source": [
    "### Para H1: llamadas entrantes perdidas\n",
    "- Filtrar llamadas entrantes.\n",
    "- Calcular la tasa de llamadas perdidas por operador.\n",
    "- Establecer umbral de ineficacia (por percentil o valor absoluto).\n"
   ]
  },
  {
   "cell_type": "markdown",
   "id": "b60fdbf7-395d-407d-aa52-f6efe1713d68",
   "metadata": {},
   "source": [
    "### Para H2: tiempo de espera\n",
    "- Calcular `tiempo_espera = total_call_duration - call_duration`.\n",
    "- Obtener promedio por operador.\n",
    "- Clasificar operadores con mayor tiempo de espera.\n"
   ]
  },
  {
   "cell_type": "markdown",
   "id": "387a32bb-496d-4deb-bdad-6571eefa0c03",
   "metadata": {},
   "source": [
    "### Para H3: volumen de llamadas salientes\n",
    "- Filtrar llamadas salientes.\n",
    "- Calcular número de llamadas salientes por operador.\n",
    "- Detectar operadores con volúmenes bajos (por ejemplo, percentil 25 o mínimo absoluto).\n"
   ]
  },
  {
   "cell_type": "markdown",
   "id": "f62e72cf-4586-414e-bda7-d6871c4e3f48",
   "metadata": {},
   "source": [
    "### Para H4: comparación entre tarifas\n",
    "- Unir con dataset de tarifas.\n",
    "- Comparar volumen y rendimiento por tipo de tarifa.\n"
   ]
  },
  {
   "cell_type": "markdown",
   "id": "0e99530a-fa08-4196-b6fa-885371526553",
   "metadata": {},
   "source": [
    "## 5. Etapas obligatorias de análisis\n",
    "\n",
    "### Preprocesamiento\n",
    "- Estudiar valores nulos y decidir si eliminarlos o rellenarlos.\n",
    "- Verificar y convertir tipos de datos donde sea necesario.\n",
    "- Eliminar duplicados si es que no afectan a las métricas.\n",
    "- Renombrar columnas si es necesario.\n"
   ]
  },
  {
   "cell_type": "markdown",
   "id": "697100e0-c933-4922-8774-caef87987403",
   "metadata": {},
   "source": [
    "### Análisis exploratorio\n",
    "- Obtener las estadísticas generales de llamadas.\n",
    "- Generar un histograma de duración de llamadas.\n",
    "- Generar un pie chart de participación de llamadas internas vs externas.\n",
    "- Obener las llamadas por día.\n",
    "- Segmentar por tipo de llamada (interna, externa, entrante, saliente).\n"
   ]
  },
  {
   "cell_type": "markdown",
   "id": "95cb5867-27da-477a-9a0c-2b6d7e328fae",
   "metadata": {},
   "source": [
    "## 6. Descomposición adicional (ejemplo complementario)\n",
    "\n",
    "Inactividad reciente en llamadas salientes:\n",
    "\n",
    "- Calcular la fecha de la última llamada saliente por operador.\n",
    "- Agrupar operadores por rangos de antigüedad en llamadas.\n",
    "- Ver si los operadores ineficaces han estado inactivos recientemente.\n"
   ]
  },
  {
   "cell_type": "markdown",
   "id": "3745033d-93ae-47af-a9ec-7da436f8bc2e",
   "metadata": {},
   "source": [
    "## 7. Evaluación de la descomposición\n",
    "\n",
    "Antes de iniciar la codificación:\n",
    "\n",
    "- Validar hipótesis con el cliente\n",
    "- Confirmar la disponibilidad y calidad de los datos.\n",
    "- Asegurar que los criterios de ineficacia estén alineados con los objetivos del negocio.\n"
   ]
  }
 ],
 "metadata": {
  "kernelspec": {
   "display_name": "Python 3 (ipykernel)",
   "language": "python",
   "name": "python3"
  },
  "language_info": {
   "codemirror_mode": {
    "name": "ipython",
    "version": 3
   },
   "file_extension": ".py",
   "mimetype": "text/x-python",
   "name": "python",
   "nbconvert_exporter": "python",
   "pygments_lexer": "ipython3",
   "version": "3.12.4"
  }
 },
 "nbformat": 4,
 "nbformat_minor": 5
}
