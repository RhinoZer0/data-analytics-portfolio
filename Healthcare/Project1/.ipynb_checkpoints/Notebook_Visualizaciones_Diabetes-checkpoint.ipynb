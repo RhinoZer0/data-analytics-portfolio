{
 "cells": [
  {
   "cell_type": "markdown",
   "id": "7695c93f",
   "metadata": {},
   "source": [
    "# 📊 Visualizaciones Finales — Proyecto Diabetes\n",
    "\n",
    "**Objetivo:** Crear gráficos resumen para comunicar hallazgos clave del análisis de indicadores de salud relacionados con la diabetes."
   ]
  },
  {
   "cell_type": "code",
   "execution_count": null,
   "id": "4779db23",
   "metadata": {},
   "outputs": [],
   "source": [
    "import pandas as pd\n",
    "import numpy as np\n",
    "import matplotlib.pyplot as plt\n",
    "import seaborn as sns\n",
    "\n",
    "sns.set(style=\"whitegrid\")"
   ]
  },
  {
   "cell_type": "code",
   "execution_count": null,
   "id": "79b503f2",
   "metadata": {},
   "outputs": [],
   "source": [
    "# Cargar datos\n",
    "data = pd.read_csv('data/diabetes_health_indicators.csv')\n",
    "data.head()"
   ]
  },
  {
   "cell_type": "code",
   "execution_count": null,
   "id": "0501b4de",
   "metadata": {},
   "outputs": [],
   "source": [
    "# Distribución de IMC por grupo\n",
    "plt.figure(figsize=(10,6))\n",
    "sns.boxplot(x='Diabetes_012', y='BMI', data=data)\n",
    "plt.xticks([0,1], ['Sin Diabetes', 'Con Diabetes'])\n",
    "plt.title('Distribución de IMC por grupo')\n",
    "plt.show()"
   ]
  },
  {
   "cell_type": "code",
   "execution_count": null,
   "id": "3d490c38",
   "metadata": {},
   "outputs": [],
   "source": [
    "# Proporción de actividad física\n",
    "contingency = pd.crosstab(data['Diabetes_012'], data['PhysActivity'])\n",
    "contingency_norm = contingency.div(contingency.sum(axis=1), axis=0)\n",
    "contingency_norm.plot(kind='bar', stacked=True, figsize=(8,6))\n",
    "plt.xticks([0,1], ['Sin Diabetes', 'Con Diabetes'], rotation=0)\n",
    "plt.title('Proporción de actividad física por grupo')\n",
    "plt.ylabel('Proporción')\n",
    "plt.show()"
   ]
  },
  {
   "cell_type": "code",
   "execution_count": null,
   "id": "e6b39648",
   "metadata": {},
   "outputs": [],
   "source": [
    "# Relación de hábito de fumar\n",
    "cont_smoke = pd.crosstab(data['Diabetes_012'], data['Smoker'])\n",
    "cont_smoke_norm = cont_smoke.div(cont_smoke.sum(axis=1), axis=0)\n",
    "cont_smoke_norm.plot(kind='bar', stacked=True, figsize=(8,6))\n",
    "plt.xticks([0,1], ['Sin Diabetes', 'Con Diabetes'], rotation=0)\n",
    "plt.title('Proporción de fumadores por grupo')\n",
    "plt.ylabel('Proporción')\n",
    "plt.show()"
   ]
  },
  {
   "cell_type": "code",
   "execution_count": null,
   "id": "7a64a18b",
   "metadata": {},
   "outputs": [],
   "source": [
    "# Correlación de indicadores\n",
    "plt.figure(figsize=(12,10))\n",
    "corr = data.corr()\n",
    "sns.heatmap(corr, annot=False, cmap='coolwarm')\n",
    "plt.title('Matriz de correlación de indicadores de salud')\n",
    "plt.show()"
   ]
  }
 ],
 "metadata": {},
 "nbformat": 4,
 "nbformat_minor": 5
}
