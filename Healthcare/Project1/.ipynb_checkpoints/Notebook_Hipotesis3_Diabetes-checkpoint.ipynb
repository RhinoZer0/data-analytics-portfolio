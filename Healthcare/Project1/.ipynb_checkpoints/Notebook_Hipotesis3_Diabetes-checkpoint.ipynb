{
 "cells": [
  {
   "cell_type": "markdown",
   "id": "9421ce3e",
   "metadata": {},
   "source": [
    "# 🧪 Prueba de Hipótesis 3: Relación entre Hábito de Fumar/Beber y Diabetes\n",
    "\n",
    "**Objetivo:** Verificar si existe relación significativa entre el hábito de fumar y/o beber alcohol y la presencia de diabetes."
   ]
  },
  {
   "cell_type": "code",
   "execution_count": null,
   "id": "d58d5261",
   "metadata": {},
   "outputs": [],
   "source": [
    "import pandas as pd\n",
    "import numpy as np\n",
    "import matplotlib.pyplot as plt\n",
    "import seaborn as sns\n",
    "from scipy.stats import chi2_contingency\n",
    "\n",
    "sns.set(style=\"whitegrid\")"
   ]
  },
  {
   "cell_type": "code",
   "execution_count": null,
   "id": "f214b7ae",
   "metadata": {},
   "outputs": [],
   "source": [
    "# Cargar datos\n",
    "data = pd.read_csv('data/diabetes_health_indicators.csv')\n",
    "data.head()"
   ]
  },
  {
   "cell_type": "code",
   "execution_count": null,
   "id": "acc7235b",
   "metadata": {},
   "outputs": [],
   "source": [
    "# Revisar columnas para identificar variables de fumar y beber\n",
    "data.columns"
   ]
  },
  {
   "cell_type": "code",
   "execution_count": null,
   "id": "74c62a59",
   "metadata": {},
   "outputs": [],
   "source": [
    "# Tabla de contingencia: Fumar vs Diabetes\n",
    "cont_smoke = pd.crosstab(data['Diabetes_012'], data['Smoker'])\n",
    "print(cont_smoke)"
   ]
  },
  {
   "cell_type": "code",
   "execution_count": null,
   "id": "b8740c10",
   "metadata": {},
   "outputs": [],
   "source": [
    "# Prueba de chi-cuadrado para fumar\n",
    "chi2_smoke, p_smoke, _, _ = chi2_contingency(cont_smoke)\n",
    "print(f\"Estadístico chi-cuadrado (Fumar): {chi2_smoke:.4f}\")\n",
    "print(f\"p-valor (Fumar): {p_smoke:.4f}\")\n",
    "if p_smoke < 0.05:\n",
    "    print(\"Se rechaza H0: Hay relación significativa entre fumar y diabetes.\")\n",
    "else:\n",
    "    print(\"No se rechaza H0: No hay evidencia de relación significativa entre fumar y diabetes.\")"
   ]
  },
  {
   "cell_type": "code",
   "execution_count": null,
   "id": "a479b238",
   "metadata": {},
   "outputs": [],
   "source": [
    "# Tabla de contingencia: Beber vs Diabetes\n",
    "cont_drink = pd.crosstab(data['Diabetes_012'], data['AlcoholDrinking'])\n",
    "print(cont_drink)"
   ]
  },
  {
   "cell_type": "code",
   "execution_count": null,
   "id": "d7132187",
   "metadata": {},
   "outputs": [],
   "source": [
    "# Prueba de chi-cuadrado para beber\n",
    "chi2_drink, p_drink, _, _ = chi2_contingency(cont_drink)\n",
    "print(f\"Estadístico chi-cuadrado (Beber): {chi2_drink:.4f}\")\n",
    "print(f\"p-valor (Beber): {p_drink:.4f}\")\n",
    "if p_drink < 0.05:\n",
    "    print(\"Se rechaza H0: Hay relación significativa entre beber y diabetes.\")\n",
    "else:\n",
    "    print(\"No se rechaza H0: No hay evidencia de relación significativa entre beber y diabetes.\")"
   ]
  }
 ],
 "metadata": {},
 "nbformat": 4,
 "nbformat_minor": 5
}
